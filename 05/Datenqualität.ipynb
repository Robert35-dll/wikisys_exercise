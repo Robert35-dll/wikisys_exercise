{
 "cells": [
  {
   "cell_type": "markdown",
   "id": "15a5eb01",
   "metadata": {},
   "source": [
    "<img src=\"https://th.bing.com/th/id/R.0b9618782d4e7062573f5983d876649a?rik=7HWDbD%2feXNOe1A&pid=ImgRaw&r=0\" width=150>\n",
    "\n",
    "\n",
    "**I758 Wissens- und KI-basierte Systeme**\n",
    "\n",
    "# Explorative Datenanalyse - Teil 1: Datenqualität erkunden & korrigieren\n",
    "(c) Ricardo Knauer, Raphael Wallsberger, Christina Kratsch"
   ]
  },
  {
   "cell_type": "markdown",
   "id": "9aec1153",
   "metadata": {},
   "source": [
    "In der Realität sind Datensätze selten so gutartig wie unsere Maschinendaten aus der letzten Übung. Regelmäßig kommt es im Alltag zu \"unerwarteten\" Datenwerten. Ein guter Data Scientist verwendet deshalb einen wesentlichen Anteil seiner Zeit damit, die Qualität der Daten zu überprüfen und ggf. für die gestellte Aufgabe optimieren. Dies ist eine Wissenschaft für sich (sogenanntes *Data Engineering*), hier erhalten Sie nur einen ersten Einblick. \n",
    "\n",
    "Nehmen wir an, wir hätten nur eine deutlich schlechtere Messreihe zur Verfügung. Alles, was wir wissen, ist, dass mit den Daten etwas \"nicht in Ordnung\" ist. Wir müssen uns langsam vortasten. Die schlechte Messreihe finden Sie in einer anderen Datei:"
   ]
  },
  {
   "cell_type": "code",
   "execution_count": 1,
   "id": "5504d13a",
   "metadata": {},
   "outputs": [
    {
     "data": {
      "text/html": [
       "<div>\n",
       "<style scoped>\n",
       "    .dataframe tbody tr th:only-of-type {\n",
       "        vertical-align: middle;\n",
       "    }\n",
       "\n",
       "    .dataframe tbody tr th {\n",
       "        vertical-align: top;\n",
       "    }\n",
       "\n",
       "    .dataframe thead th {\n",
       "        text-align: right;\n",
       "    }\n",
       "</style>\n",
       "<table border=\"1\" class=\"dataframe\">\n",
       "  <thead>\n",
       "    <tr style=\"text-align: right;\">\n",
       "      <th></th>\n",
       "      <th>Maschine</th>\n",
       "      <th>Mode</th>\n",
       "      <th>Produkt</th>\n",
       "      <th>Strom / A</th>\n",
       "      <th>Drehmoment / Nm</th>\n",
       "      <th>Drehzahl / 1/min</th>\n",
       "      <th>Temp Umgebung / degC</th>\n",
       "      <th>Temp Umrichter / degC</th>\n",
       "      <th>Temp Werkzeug / degC</th>\n",
       "      <th>Bearbeitungszeit / s</th>\n",
       "    </tr>\n",
       "  </thead>\n",
       "  <tbody>\n",
       "    <tr>\n",
       "      <th>0</th>\n",
       "      <td>A</td>\n",
       "      <td>2.0</td>\n",
       "      <td>X</td>\n",
       "      <td>NaN</td>\n",
       "      <td>48,64</td>\n",
       "      <td>1463</td>\n",
       "      <td>21,5</td>\n",
       "      <td>23,3</td>\n",
       "      <td>95,1</td>\n",
       "      <td>21,4</td>\n",
       "    </tr>\n",
       "    <tr>\n",
       "      <th>1</th>\n",
       "      <td>B</td>\n",
       "      <td>2.0</td>\n",
       "      <td>Y</td>\n",
       "      <td>NaN</td>\n",
       "      <td>50,92</td>\n",
       "      <td>1462</td>\n",
       "      <td>20,9</td>\n",
       "      <td>22,8</td>\n",
       "      <td>98,2</td>\n",
       "      <td>24,8</td>\n",
       "    </tr>\n",
       "    <tr>\n",
       "      <th>2</th>\n",
       "      <td>C</td>\n",
       "      <td>2.0</td>\n",
       "      <td>X</td>\n",
       "      <td>NaN</td>\n",
       "      <td>46,85</td>\n",
       "      <td>1462</td>\n",
       "      <td>21,3</td>\n",
       "      <td>23,8</td>\n",
       "      <td>93,1</td>\n",
       "      <td>21,4</td>\n",
       "    </tr>\n",
       "    <tr>\n",
       "      <th>3</th>\n",
       "      <td>B</td>\n",
       "      <td>2.0</td>\n",
       "      <td>Y</td>\n",
       "      <td>NaN</td>\n",
       "      <td>49,69</td>\n",
       "      <td>1463</td>\n",
       "      <td>21,5</td>\n",
       "      <td>24,4</td>\n",
       "      <td>97,7</td>\n",
       "      <td>NaN</td>\n",
       "    </tr>\n",
       "    <tr>\n",
       "      <th>4</th>\n",
       "      <td>C</td>\n",
       "      <td>3.0</td>\n",
       "      <td>X</td>\n",
       "      <td>26,195</td>\n",
       "      <td>53,29</td>\n",
       "      <td>1462</td>\n",
       "      <td>NaN</td>\n",
       "      <td>25,3</td>\n",
       "      <td>104,1</td>\n",
       "      <td>19,9</td>\n",
       "    </tr>\n",
       "  </tbody>\n",
       "</table>\n",
       "</div>"
      ],
      "text/plain": [
       "  Maschine  Mode Produkt Strom / A Drehmoment / Nm  Drehzahl / 1/min  \\\n",
       "0        A   2.0       X       NaN           48,64              1463   \n",
       "1        B   2.0       Y       NaN           50,92              1462   \n",
       "2        C   2.0       X       NaN           46,85              1462   \n",
       "3        B   2.0       Y       NaN           49,69              1463   \n",
       "4        C   3.0       X    26,195           53,29              1462   \n",
       "\n",
       "  Temp Umgebung / degC Temp Umrichter / degC Temp Werkzeug / degC  \\\n",
       "0                 21,5                  23,3                 95,1   \n",
       "1                 20,9                  22,8                 98,2   \n",
       "2                 21,3                  23,8                 93,1   \n",
       "3                 21,5                  24,4                 97,7   \n",
       "4                  NaN                  25,3                104,1   \n",
       "\n",
       "  Bearbeitungszeit / s  \n",
       "0                 21,4  \n",
       "1                 24,8  \n",
       "2                 21,4  \n",
       "3                  NaN  \n",
       "4                 19,9  "
      ]
     },
     "execution_count": 1,
     "metadata": {},
     "output_type": "execute_result"
    }
   ],
   "source": [
    "import pandas as pd\n",
    "\n",
    "df = pd.read_csv(\"data/machine_data_broken.csv\", sep=\";\")\n",
    "df.head()"
   ]
  },
  {
   "cell_type": "markdown",
   "id": "15eca567",
   "metadata": {},
   "source": [
    "Der Datensatz ist deutlich kleiner - aber immerhin stimmt das Format:"
   ]
  },
  {
   "cell_type": "code",
   "execution_count": 2,
   "id": "fa1eced5",
   "metadata": {},
   "outputs": [
    {
     "data": {
      "text/plain": [
       "(299, 10)"
      ]
     },
     "execution_count": 2,
     "metadata": {},
     "output_type": "execute_result"
    }
   ],
   "source": [
    "df.shape"
   ]
  },
  {
   "cell_type": "markdown",
   "id": "fc255ca6",
   "metadata": {},
   "source": [
    "Mit ```.info()``` bekommen Sie einen Einblick in die Datentypen jeder Spalte:"
   ]
  },
  {
   "cell_type": "code",
   "execution_count": 3,
   "id": "d63cf924",
   "metadata": {},
   "outputs": [
    {
     "name": "stdout",
     "output_type": "stream",
     "text": [
      "<class 'pandas.core.frame.DataFrame'>\n",
      "RangeIndex: 299 entries, 0 to 298\n",
      "Data columns (total 10 columns):\n",
      " #   Column                 Non-Null Count  Dtype  \n",
      "---  ------                 --------------  -----  \n",
      " 0   Maschine               299 non-null    object \n",
      " 1   Mode                   298 non-null    float64\n",
      " 2   Produkt                299 non-null    object \n",
      " 3   Strom / A              285 non-null    object \n",
      " 4   Drehmoment / Nm        299 non-null    object \n",
      " 5   Drehzahl / 1/min       299 non-null    int64  \n",
      " 6   Temp Umgebung / degC   298 non-null    object \n",
      " 7   Temp Umrichter / degC  298 non-null    object \n",
      " 8   Temp Werkzeug / degC   298 non-null    object \n",
      " 9   Bearbeitungszeit / s   245 non-null    object \n",
      "dtypes: float64(1), int64(1), object(8)\n",
      "memory usage: 23.5+ KB\n"
     ]
    }
   ],
   "source": [
    "df.info()"
   ]
  },
  {
   "cell_type": "markdown",
   "id": "62088911",
   "metadata": {},
   "source": [
    "Hier zeigt sich das erste Problem: einige Werte scheinen in den Spalten zu fehlen, der ```Non-Null Count``` entspricht nämlich nicht für jede Spalte der Zeilenzahl.\n",
    "Außerdem erkennen wir einen Fehler beim Einlesen der Daten: die meisten Spalten sind vom Typ ```object```. Soll heißen: Pandas erkennt nicht, dass es sich um numerische Werte handelt. Dies lässt sich einfach erklären - wir haben beim Einlesen nicht erwähnt, dass die Zahlen nicht mit der \"deutschen\" Schreibweise mit Komma als Trennzeichen notiert sind. Eine leidige und typische Fehlerquelle im Umgang mit Daten (die sich leider meist erst durch sehr kryptische Fehler weiter unten in den Pipeline bemerkbar macht).\n",
    "\n",
    "Also nochmal - lassen Sie uns ```df``` nochmal überschreiben:"
   ]
  },
  {
   "cell_type": "code",
   "execution_count": 4,
   "id": "bfec83c8",
   "metadata": {},
   "outputs": [
    {
     "name": "stdout",
     "output_type": "stream",
     "text": [
      "<class 'pandas.core.frame.DataFrame'>\n",
      "RangeIndex: 299 entries, 0 to 298\n",
      "Data columns (total 10 columns):\n",
      " #   Column                 Non-Null Count  Dtype  \n",
      "---  ------                 --------------  -----  \n",
      " 0   Maschine               299 non-null    object \n",
      " 1   Mode                   298 non-null    float64\n",
      " 2   Produkt                299 non-null    object \n",
      " 3   Strom / A              285 non-null    float64\n",
      " 4   Drehmoment / Nm        299 non-null    float64\n",
      " 5   Drehzahl / 1/min       299 non-null    int64  \n",
      " 6   Temp Umgebung / degC   298 non-null    float64\n",
      " 7   Temp Umrichter / degC  298 non-null    float64\n",
      " 8   Temp Werkzeug / degC   298 non-null    float64\n",
      " 9   Bearbeitungszeit / s   245 non-null    float64\n",
      "dtypes: float64(7), int64(1), object(2)\n",
      "memory usage: 23.5+ KB\n"
     ]
    }
   ],
   "source": [
    "df = pd.read_csv(\"data/machine_data_broken.csv\", sep=\";\", decimal=\",\")\n",
    "df.info()"
   ]
  },
  {
   "cell_type": "markdown",
   "id": "c3747de8",
   "metadata": {},
   "source": [
    "Viel besser! Aber da ist noch das Problem mit den fehlenden Werten. die letzte Spalte (Bearbeitungszeit) und auch einige andere Spalten scheinen unter Datenfehlern zu leiden.\n",
    "\n",
    "<span style=\"color:#FF5F00\"><b>AUFGABE 1:</b></span><br>\n",
    "Wir können es uns einfach machen. Nutzen Sie die  eingebauten Funktionen ```.isnull``` und ```.sum```, um die Nullwerte zu zählen:"
   ]
  },
  {
   "cell_type": "code",
   "execution_count": 5,
   "id": "75cf25fc",
   "metadata": {},
   "outputs": [
    {
     "data": {
      "text/plain": [
       "Maschine                  0\n",
       "Mode                      1\n",
       "Produkt                   0\n",
       "Strom / A                14\n",
       "Drehmoment / Nm           0\n",
       "Drehzahl / 1/min          0\n",
       "Temp Umgebung / degC      1\n",
       "Temp Umrichter / degC     1\n",
       "Temp Werkzeug / degC      1\n",
       "Bearbeitungszeit / s     54\n",
       "dtype: int64"
      ]
     },
     "execution_count": 5,
     "metadata": {},
     "output_type": "execute_result"
    }
   ],
   "source": [
    "# Ist nicht all zu triviale Anwendung von den beiden Funktionen T_T\n",
    "df.isnull().sum()"
   ]
  },
  {
   "cell_type": "markdown",
   "id": "65baedda",
   "metadata": {},
   "source": [
    "Die Spalte *Bearbeitungszeit / s* scheint massiv von unserem Problem betroffen. Hier fehlen so viele Werte, dass wir davon ausgehen können, dass die Spalte praktisch wertlos ist. \n",
    "\n",
    "<span style=\"color:#FF5F00\"><b>AUFGABE 2:</b></span><br>\n",
    "Entfernen Sie mit `del` die Spalte aus dem Data Frame!"
   ]
  },
  {
   "cell_type": "code",
   "execution_count": 6,
   "id": "2d8da802",
   "metadata": {},
   "outputs": [],
   "source": [
    "del df[\"Bearbeitungszeit / s\"]"
   ]
  },
  {
   "cell_type": "markdown",
   "id": "4c38141c",
   "metadata": {},
   "source": [
    "Gut zu wissen: für komplizierte Verfahren gibt es die mächtige Funktion ```.dropna```, die Spalten anhand fester Qualitätskriterien entfernen kann. Die wollen wir hier aber heute **nicht** einsetzen. Führen Sie den auskommentierten Code NICHT aus."
   ]
  },
  {
   "cell_type": "code",
   "execution_count": 7,
   "id": "2f090366",
   "metadata": {},
   "outputs": [],
   "source": [
    "# Drop any rows which have any NaNs \n",
    "#df.dropna(axis=0) \n",
    "# Drop columns with over 70% non-NaNs \n",
    "#df.dropna(thresh=int(df.shape[0] * .7), axis=1)"
   ]
  },
  {
   "cell_type": "markdown",
   "id": "a1fae261",
   "metadata": {},
   "source": [
    "Die Spalte *Strom / A* ist uns wichtig - aber auch hier fehlen massiv Werte. Schauen wir uns die Spalte nochmal an:"
   ]
  },
  {
   "cell_type": "code",
   "execution_count": 8,
   "id": "a7fdf22c",
   "metadata": {},
   "outputs": [
    {
     "data": {
      "text/plain": [
       "0         NaN\n",
       "1         NaN\n",
       "2         NaN\n",
       "3         NaN\n",
       "4      26.195\n",
       "        ...  \n",
       "294    22.472\n",
       "295    20.123\n",
       "296    23.154\n",
       "297    22.347\n",
       "298    23.761\n",
       "Name: Strom / A, Length: 299, dtype: float64"
      ]
     },
     "execution_count": 8,
     "metadata": {},
     "output_type": "execute_result"
    }
   ],
   "source": [
    "df[\"Strom / A\"]"
   ]
  },
  {
   "cell_type": "markdown",
   "id": "9c7522d0",
   "metadata": {},
   "source": [
    "Pandas bietet die Funktion ```.fillna```, mit der leere Werte gefunden und neu gesetzt werden können. Zum Beispiel auf 0:"
   ]
  },
  {
   "cell_type": "code",
   "execution_count": 9,
   "id": "d5edbec3",
   "metadata": {},
   "outputs": [
    {
     "data": {
      "text/plain": [
       "0       0.000\n",
       "1       0.000\n",
       "2       0.000\n",
       "3       0.000\n",
       "4      26.195\n",
       "        ...  \n",
       "294    22.472\n",
       "295    20.123\n",
       "296    23.154\n",
       "297    22.347\n",
       "298    23.761\n",
       "Name: Strom / A, Length: 299, dtype: float64"
      ]
     },
     "execution_count": 9,
     "metadata": {},
     "output_type": "execute_result"
    }
   ],
   "source": [
    "df['Strom / A'].fillna(0.0)"
   ]
  },
  {
   "cell_type": "markdown",
   "id": "f242a97b",
   "metadata": {},
   "source": [
    "<span style=\"color:#FF5F00\"><b>AUFGABE 3:</b></span><br>\n",
    "Achtung: achten Sie nochmal auf den Code der letzten Zeile, und dann schauen Sie sich nochmal die Werte in ```df``` an. Fällt Ihnen etwas auf? Wie hat sich ```df``` verändert?"
   ]
  },
  {
   "cell_type": "code",
   "execution_count": 10,
   "id": "b41dd107",
   "metadata": {},
   "outputs": [
    {
     "data": {
      "text/html": [
       "<div>\n",
       "<style scoped>\n",
       "    .dataframe tbody tr th:only-of-type {\n",
       "        vertical-align: middle;\n",
       "    }\n",
       "\n",
       "    .dataframe tbody tr th {\n",
       "        vertical-align: top;\n",
       "    }\n",
       "\n",
       "    .dataframe thead th {\n",
       "        text-align: right;\n",
       "    }\n",
       "</style>\n",
       "<table border=\"1\" class=\"dataframe\">\n",
       "  <thead>\n",
       "    <tr style=\"text-align: right;\">\n",
       "      <th></th>\n",
       "      <th>Maschine</th>\n",
       "      <th>Mode</th>\n",
       "      <th>Produkt</th>\n",
       "      <th>Strom / A</th>\n",
       "      <th>Drehmoment / Nm</th>\n",
       "      <th>Drehzahl / 1/min</th>\n",
       "      <th>Temp Umgebung / degC</th>\n",
       "      <th>Temp Umrichter / degC</th>\n",
       "      <th>Temp Werkzeug / degC</th>\n",
       "    </tr>\n",
       "  </thead>\n",
       "  <tbody>\n",
       "    <tr>\n",
       "      <th>0</th>\n",
       "      <td>A</td>\n",
       "      <td>2.0</td>\n",
       "      <td>X</td>\n",
       "      <td>NaN</td>\n",
       "      <td>48.64</td>\n",
       "      <td>1463</td>\n",
       "      <td>21.5</td>\n",
       "      <td>23.3</td>\n",
       "      <td>95.1</td>\n",
       "    </tr>\n",
       "    <tr>\n",
       "      <th>1</th>\n",
       "      <td>B</td>\n",
       "      <td>2.0</td>\n",
       "      <td>Y</td>\n",
       "      <td>NaN</td>\n",
       "      <td>50.92</td>\n",
       "      <td>1462</td>\n",
       "      <td>20.9</td>\n",
       "      <td>22.8</td>\n",
       "      <td>98.2</td>\n",
       "    </tr>\n",
       "    <tr>\n",
       "      <th>2</th>\n",
       "      <td>C</td>\n",
       "      <td>2.0</td>\n",
       "      <td>X</td>\n",
       "      <td>NaN</td>\n",
       "      <td>46.85</td>\n",
       "      <td>1462</td>\n",
       "      <td>21.3</td>\n",
       "      <td>23.8</td>\n",
       "      <td>93.1</td>\n",
       "    </tr>\n",
       "    <tr>\n",
       "      <th>3</th>\n",
       "      <td>B</td>\n",
       "      <td>2.0</td>\n",
       "      <td>Y</td>\n",
       "      <td>NaN</td>\n",
       "      <td>49.69</td>\n",
       "      <td>1463</td>\n",
       "      <td>21.5</td>\n",
       "      <td>24.4</td>\n",
       "      <td>97.7</td>\n",
       "    </tr>\n",
       "    <tr>\n",
       "      <th>4</th>\n",
       "      <td>C</td>\n",
       "      <td>3.0</td>\n",
       "      <td>X</td>\n",
       "      <td>26.195</td>\n",
       "      <td>53.29</td>\n",
       "      <td>1462</td>\n",
       "      <td>NaN</td>\n",
       "      <td>25.3</td>\n",
       "      <td>104.1</td>\n",
       "    </tr>\n",
       "    <tr>\n",
       "      <th>...</th>\n",
       "      <td>...</td>\n",
       "      <td>...</td>\n",
       "      <td>...</td>\n",
       "      <td>...</td>\n",
       "      <td>...</td>\n",
       "      <td>...</td>\n",
       "      <td>...</td>\n",
       "      <td>...</td>\n",
       "      <td>...</td>\n",
       "    </tr>\n",
       "    <tr>\n",
       "      <th>294</th>\n",
       "      <td>B</td>\n",
       "      <td>2.0</td>\n",
       "      <td>Y</td>\n",
       "      <td>22.472</td>\n",
       "      <td>50.24</td>\n",
       "      <td>1461</td>\n",
       "      <td>20.6</td>\n",
       "      <td>23.9</td>\n",
       "      <td>97.5</td>\n",
       "    </tr>\n",
       "    <tr>\n",
       "      <th>295</th>\n",
       "      <td>A</td>\n",
       "      <td>1.0</td>\n",
       "      <td>Y</td>\n",
       "      <td>20.123</td>\n",
       "      <td>45.67</td>\n",
       "      <td>1463</td>\n",
       "      <td>21.3</td>\n",
       "      <td>22.6</td>\n",
       "      <td>90.0</td>\n",
       "    </tr>\n",
       "    <tr>\n",
       "      <th>296</th>\n",
       "      <td>C</td>\n",
       "      <td>2.0</td>\n",
       "      <td>X</td>\n",
       "      <td>23.154</td>\n",
       "      <td>47.19</td>\n",
       "      <td>1460</td>\n",
       "      <td>20.6</td>\n",
       "      <td>24.5</td>\n",
       "      <td>93.8</td>\n",
       "    </tr>\n",
       "    <tr>\n",
       "      <th>297</th>\n",
       "      <td>B</td>\n",
       "      <td>2.0</td>\n",
       "      <td>Y</td>\n",
       "      <td>22.347</td>\n",
       "      <td>49.99</td>\n",
       "      <td>1460</td>\n",
       "      <td>19.6</td>\n",
       "      <td>23.8</td>\n",
       "      <td>97.5</td>\n",
       "    </tr>\n",
       "    <tr>\n",
       "      <th>298</th>\n",
       "      <td>C</td>\n",
       "      <td>2.0</td>\n",
       "      <td>X</td>\n",
       "      <td>23.761</td>\n",
       "      <td>48.43</td>\n",
       "      <td>1460</td>\n",
       "      <td>19.6</td>\n",
       "      <td>22.8</td>\n",
       "      <td>94.0</td>\n",
       "    </tr>\n",
       "  </tbody>\n",
       "</table>\n",
       "<p>299 rows × 9 columns</p>\n",
       "</div>"
      ],
      "text/plain": [
       "    Maschine  Mode Produkt  Strom / A  Drehmoment / Nm  Drehzahl / 1/min  \\\n",
       "0          A   2.0       X        NaN            48.64              1463   \n",
       "1          B   2.0       Y        NaN            50.92              1462   \n",
       "2          C   2.0       X        NaN            46.85              1462   \n",
       "3          B   2.0       Y        NaN            49.69              1463   \n",
       "4          C   3.0       X     26.195            53.29              1462   \n",
       "..       ...   ...     ...        ...              ...               ...   \n",
       "294        B   2.0       Y     22.472            50.24              1461   \n",
       "295        A   1.0       Y     20.123            45.67              1463   \n",
       "296        C   2.0       X     23.154            47.19              1460   \n",
       "297        B   2.0       Y     22.347            49.99              1460   \n",
       "298        C   2.0       X     23.761            48.43              1460   \n",
       "\n",
       "     Temp Umgebung / degC  Temp Umrichter / degC  Temp Werkzeug / degC  \n",
       "0                    21.5                   23.3                  95.1  \n",
       "1                    20.9                   22.8                  98.2  \n",
       "2                    21.3                   23.8                  93.1  \n",
       "3                    21.5                   24.4                  97.7  \n",
       "4                     NaN                   25.3                 104.1  \n",
       "..                    ...                    ...                   ...  \n",
       "294                  20.6                   23.9                  97.5  \n",
       "295                  21.3                   22.6                  90.0  \n",
       "296                  20.6                   24.5                  93.8  \n",
       "297                  19.6                   23.8                  97.5  \n",
       "298                  19.6                   22.8                  94.0  \n",
       "\n",
       "[299 rows x 9 columns]"
      ]
     },
     "execution_count": 10,
     "metadata": {},
     "output_type": "execute_result"
    }
   ],
   "source": [
    "df"
   ]
  },
  {
   "cell_type": "markdown",
   "id": "f293a7a0",
   "metadata": {},
   "source": [
    "<span style=\"color:green\"><b>Antwort zu AUFGABE 3:</b></span><br>\n",
    "\n",
    "Obwohl die vorherige Zeile offensichtlich die null-Werte ersetzt hat, sind diese im `df` Objekt trotzdem in Originalform enthalten. Es ist meiner Meinung nach sehr praktisch, wenn die Originaldaten nicht jedes Mal aus der Datei neu gelesen werden müssen :D"
   ]
  },
  {
   "cell_type": "markdown",
   "id": "0c8a301c",
   "metadata": {},
   "source": [
    "<span style=\"color:#FF5F00\"><b>AUFGABE 4:</b></span><br>\n",
    "Noch mehr Aufgaben für Sie: wie sicher fühlen Sie sich mit Data Science? Versuchen Sie doch mal, die fehlenden Werte nicht durch 0.0, sondern durch etwas intelligenteres zu ersetzen, zum Beispiel den Mittelwert oder den Median. Schreiben sie die Spalte jetzt auch wieder in den Data Frame zurück, damit sich `df` tatsächlich ändert:"
   ]
  },
  {
   "cell_type": "code",
   "execution_count": 11,
   "id": "8f6bcd2e",
   "metadata": {},
   "outputs": [],
   "source": [
    "# Ersetze die Werte durch einfache Zuweisung\n",
    "# Entweder durch den Mittelwert\n",
    "df[\"Strom / A\"] = df[\"Strom / A\"].fillna(df[\"Strom / A\"].mean())\n",
    "\n",
    "# oder durch Median\n",
    "# df[\"Strom / A\"] = df[\"Strom / A\"].fillna(df[\"Strom / A\"].median())"
   ]
  },
  {
   "cell_type": "markdown",
   "id": "ff417da0",
   "metadata": {},
   "source": [
    "<span style=\"color:#FF5F00\"><b>AUFGABE 5:</b></span><br>\n",
    "Plotten Sie nun zum Abschluss ihre Daten nochmal, zum Beispiel als Scatter Plot zwischen Strom und Drehmoment und betrachten Sie das Ergebnis Ihrer Arbeit. Vielleicht fällt Ihnen ja noch ein drittes Problem in unserem Datensatz auf? Schauen Sie mal in die \"Ecken\" des Plots!"
   ]
  },
  {
   "cell_type": "code",
   "execution_count": 12,
   "id": "ad9642ef",
   "metadata": {},
   "outputs": [
    {
     "data": {
      "text/plain": [
       "<Axes: title={'center': 'Korrelationdiagramm zwischen Strom und Drehmoment'}, xlabel='Strom / A', ylabel='Drehmoment / Nm'>"
      ]
     },
     "execution_count": 15,
     "metadata": {},
     "output_type": "execute_result"
    },
    {
     "data": {
      "image/png": "[encoded data removed]",
      "text/plain": [
       "<Figure size 640x480 with 1 Axes>"
      ]
     },
     "metadata": {},
     "output_type": "display_data"
    }
   ],
   "source": [
    "df.plot(kind=\"scatter\", x=\"Strom / A\", y=\"Drehmoment / Nm\", title=\"Korrelationdiagramm zwischen Strom und Drehmoment\")"
   ]
  },
  {
   "cell_type": "markdown",
   "id": "045d30e6",
   "metadata": {},
   "source": [
    "<span style=\"color:green\"><b>Antwort zu AUFGABE 5:</b></span><br>\n",
    "\n",
    "Auf dem Plot werden einige Sachen auffällig:\n",
    "\n",
    "1. Die Ausreisser an den Grenzen vom Wertebereich, sowie ein in der Mitte\n",
    "2. Wertenlücke bei Strom = 24 A und Drehmoment = 50 Nm\n",
    "3. Die ersetzte null-Werte zeigen sich deutlich als vertikale Linie in der Mitte"
   ]
  },
  {
   "cell_type": "markdown",
   "id": "2b50a972",
   "metadata": {},
   "source": [
    "# Explorative Datenanalyse - Teil 2: Daten skalieren und verarbeiten mit `scikit learn`\n",
    "(c) Christina Kratsch"
   ]
  },
  {
   "cell_type": "markdown",
   "id": "a79f7ea4",
   "metadata": {},
   "source": [
    "Viele Machine Learning Algorithmen machen Annahmen über ihre Daten, z.B. über die zugrundeliegende statistische Verteilung, den Wertebereich oder den Datentyp. Die Data Science Bibliothek `scikit learn` bietet neben einer extrem umfangreichen Sammlung an Algorithemn (und einer exzellenten Dokumentation) auch mit `sklearn.preprocessing` eine Bibliothek zur Vorverarbeitung von Daten."
   ]
  },
  {
   "cell_type": "markdown",
   "id": "28ae3633",
   "metadata": {},
   "source": [
    "## Skalieren und Normalisieren\n",
    "\n",
    "Zuerst importieren wir die notwendigen Bibliotheken und laden unsere Daten."
   ]
  },
  {
   "cell_type": "code",
   "execution_count": 16,
   "id": "bf531768",
   "metadata": {},
   "outputs": [],
   "source": [
    "import numpy as np\n",
    "# Das Package heisst scikit-learn (anaconda + pip)\n",
    "from sklearn import preprocessing\n",
    "\n",
    "# Angenommen, dies sind unsere Daten\n",
    "X_train = np.array([[1., -1., 2.],\n",
    "                    [2., 0., 0.],\n",
    "                    [0., 1., -1.]])"
   ]
  },
  {
   "cell_type": "markdown",
   "id": "30eeb5f7",
   "metadata": {},
   "source": [
    "Die Standardisierung von Datensätzen ist eine gängige Anforderung für viele Machine-Learning-Schätzer. Sie könnten sich schlecht verhalten, wenn die einzelnen Merkmale nicht mehr oder weniger wie standardnormalverteilte Daten aussehen: Gaussian mit Null-Mittelwert und Einheitsvarianz.\n",
    "\n",
    "<span style=\"color:#FF5F00\"><b>AUFGABE 6:</b></span><br>\n",
    "Überlegen Sie einen Moment, was ein Grund sein könnte, warum die Syntax des `StandardScaler` so umständlich ist. Schauen Sie ggf. auch in der [Dokumentation](https://scikit-learn.org/stable/modules/preprocessing.html) nach!"
   ]
  },
  {
   "cell_type": "code",
   "execution_count": 17,
   "id": "7bcb7ce8",
   "metadata": {},
   "outputs": [
    {
     "name": "stdout",
     "output_type": "stream",
     "text": [
      "[[ 0.         -1.22474487  1.33630621]\n",
      " [ 1.22474487  0.         -0.26726124]\n",
      " [-1.22474487  1.22474487 -1.06904497]]\n"
     ]
    }
   ],
   "source": [
    "scaler = preprocessing.StandardScaler().fit(X_train)\n",
    "X_scaled = scaler.transform(X_train)\n",
    "print(X_scaled)"
   ]
  },
  {
   "cell_type": "markdown",
   "id": "a00ce278",
   "metadata": {},
   "source": [
    "<span style=\"color:green\"><b>Antwort zu AUFGABE 6:</b></span><br>\n",
    "\n",
    "Meinen Programmierungskenntnissen nach ist der Syntax nicht allzu umständlich. Zuerst erstellt man einen Skalierer anhand der Daten und mit seiner Hilfe skaliert diese, um sie anscheinend zu standartisieren.\n",
    "Da ich kein Statistiker bin, verlange ich mich weiter auf die Dokumentation vom `scikit`. Der Dokumentation nach muss ein Skalierer zuerst den Mittelwert und die Varianz der Datenreihen berechnen, um später damit Daten standartisieren zu können. Nach der Standartisierung werden der Mittelwert gleich Null und die Varianz gleich Eins."
   ]
  },
  {
   "cell_type": "markdown",
   "id": "74627641",
   "metadata": {},
   "source": [
    "<span style=\"color:#FF5F00\"><b>AUFGABE 7:</b></span><br>\n",
    "Legen Sie eine Kopie `df_num` Ihres Data Frames an. Nutzen Sie den StandardScaler, um alle Werte darin zu normalisieren. Funktioniert das? Was fällt Ihnen auf? Korrigieren Sie ggf. `df_num` entsprechend. Wie gehen Sie mit der Spalte `mode` um?"
   ]
  },
  {
   "cell_type": "code",
   "execution_count": null,
   "id": "16af3e68",
   "metadata": {},
   "outputs": [
    {
     "name": "stdout",
     "output_type": "stream",
     "text": [
      "     Mode     Strom / A  Drehmoment / Nm  Drehzahl / 1/min  \\\n",
      "0     2.0  1.400319e-15        -0.061467          1.084738   \n",
      "1     2.0  1.400319e-15         0.261140          0.572358   \n",
      "2     2.0  1.400319e-15        -0.314742          0.572358   \n",
      "3     2.0  1.400319e-15         0.087102          1.084738   \n",
      "4     3.0  1.416910e+00         0.596481          0.572358   \n",
      "..    ...           ...              ...               ...   \n",
      "294   2.0 -5.052787e-02         0.164924          0.059978   \n",
      "295   1.0 -9.763973e-01        -0.481705          1.084738   \n",
      "296   2.0  2.182857e-01        -0.266634         -0.452402   \n",
      "297   2.0 -9.979721e-02         0.129550         -0.452402   \n",
      "298   2.0  4.575376e-01        -0.091181         -0.452402   \n",
      "\n",
      "     Temp Umgebung / degC  Temp Umrichter / degC  Temp Werkzeug / degC  \n",
      "0                0.401101              -0.435613             -0.063162  \n",
      "1               -0.038071              -0.897580              0.462504  \n",
      "2                0.254710               0.026354             -0.402301  \n",
      "3                0.401101               0.580714              0.377719  \n",
      "4                     NaN               1.412255              1.462964  \n",
      "..                    ...                    ...                   ...  \n",
      "294             -0.257657               0.118747              0.343805  \n",
      "295              0.254710              -1.082367             -0.927967  \n",
      "296             -0.257657               0.673108             -0.283602  \n",
      "297             -0.989611               0.026354              0.343805  \n",
      "298             -0.989611              -0.897580             -0.249688  \n",
      "\n",
      "[299 rows x 7 columns]\n"
     ]
    }
   ],
   "source": [
    "# Zur Sicherheit kopiere die Daten\n",
    "df_num = df.copy()\n",
    "# und entferne die nicht konvertierbare Merkmale :)\n",
    "del df_num[\"Maschine\"]\n",
    "del df_num[\"Produkt\"]\n",
    "\n",
    "# Fuer jeden Merkmal:\n",
    "for feature in df_num:\n",
    "    # Lasse die Mode spalte unverändert,\n",
    "    # damit sie noch verständlich bleibt\n",
    "    if feature == \"Mode\":\n",
    "        continue\n",
    "    \n",
    "    # Nehme einen Merkmal als DataFrame (notwendig für den Skalierer)\n",
    "    feature_df = pd.DataFrame(df_num[feature])\n",
    "    # Berechne die Mittelwerte und Varianzen\n",
    "    scaler = preprocessing.StandardScaler().fit(feature_df)\n",
    "    # und standartisiere die Daten\n",
    "    df_num[feature] = scaler.transform(feature_df)\n",
    "\n",
    "print(df_num)"
   ]
  },
  {
   "cell_type": "markdown",
   "id": "4b3f9667",
   "metadata": {},
   "source": [
    "<span style=\"color:green\"><b>Antwort zu AUFGABE 7:</b></span><br>\n",
    "\n",
    "Zuerst hat es nicht funktioniert, weil die Merkmale `Maschine` und `Produkt` nicht konvertierbar sind. Die einfachste Lösung ist, diese außer Betracht zu lassen (_alternativ könnte man sie duch Zahlen ersetzen_).\n",
    "Um den DataFrame in einer nachvollziebaren Form zu behalten, bin ich jeden Merkmal durchgegangen und habe diese separat standartisiert. Da der `NormalScaler` keine Reihen akzeptiert, musste ich jeden dieser Merkmale erst als neuen DataFrame darstellen.\n",
    "\n",
    "Im Endeffekt sieht man, dass alle Werte in Gleitkommazahlen verwandelt wurden. Die Reihe vom `Strom` hat die kleinsten (negativen) Graden von Exponenten.\n",
    "\n",
    "Die Spalte `Mode` habe ich unverändert gelassen, weil ich ihre Standartisierung nicht optimal finde (_kann mich auch irren_). "
   ]
  },
  {
   "cell_type": "markdown",
   "id": "2449bf01",
   "metadata": {},
   "source": [
    "Manchmal möchte man Daten in einem bestimmten Wertebereich (z.B. [0, 1]) haben, z.B. um sie als Wahrscheinlichkeiten interpretieren zu können. Auch dafür bietet `sklearn.preprocessing` Möglichkeiten:"
   ]
  },
  {
   "cell_type": "code",
   "execution_count": 31,
   "id": "8ace5a42",
   "metadata": {},
   "outputs": [
    {
     "data": {
      "text/plain": [
       "array([[0.5       , 0.        , 1.        ],\n",
       "       [1.        , 0.5       , 0.33333333],\n",
       "       [0.        , 1.        , 0.        ]])"
      ]
     },
     "execution_count": 31,
     "metadata": {},
     "output_type": "execute_result"
    }
   ],
   "source": [
    "X_train = np.array([[1., -1., 2.],\n",
    "                    [2., 0., 0.],\n",
    "                    [0., 1., -1.]])\n",
    "\n",
    "min_max_scaler = preprocessing.MinMaxScaler()\n",
    "X_train_minmax = min_max_scaler.fit_transform(X_train)\n",
    "X_train_minmax"
   ]
  },
  {
   "cell_type": "markdown",
   "id": "447e0aaa",
   "metadata": {},
   "source": [
    "<span style=\"color:#FF5F00\"><b>AUFGABE 8:</b></span><br>Skalieren Sie die Einträge in `df_num` auf den Wertebereich [-3, 3]!"
   ]
  },
  {
   "cell_type": "code",
   "execution_count": null,
   "id": "c181bd16",
   "metadata": {},
   "outputs": [
    {
     "name": "stdout",
     "output_type": "stream",
     "text": [
      "     Mode  Strom / A  Drehmoment / Nm  Drehzahl / 1/min  Temp Umgebung / degC  \\\n",
      "0     2.0  -0.634361        -2.608188          0.818182             -0.214286   \n",
      "1     2.0  -0.634361        -2.484286          0.272727             -0.642857   \n",
      "2     2.0  -0.634361        -2.705461          0.272727             -0.357143   \n",
      "3     2.0  -0.634361        -2.551128          0.818182             -0.214286   \n",
      "4     3.0   1.307554        -2.355493          0.272727                   NaN   \n",
      "..    ...        ...              ...               ...                   ...   \n",
      "294   2.0  -0.703610        -2.521239         -0.272727             -0.857143   \n",
      "295   1.0  -1.972540        -2.769586          0.818182             -0.357143   \n",
      "296   2.0  -0.335194        -2.686985         -0.818182             -0.857143   \n",
      "297   2.0  -0.771135        -2.534825         -0.818182             -1.571429   \n",
      "298   2.0  -0.007293        -2.619600         -0.818182             -1.571429   \n",
      "\n",
      "     Temp Umrichter / degC  Temp Werkzeug / degC  \n",
      "0                 -0.84375             -0.551839  \n",
      "1                 -1.31250              0.070234  \n",
      "2                 -0.37500             -0.953177  \n",
      "3                  0.18750             -0.030100  \n",
      "4                  1.03125              1.254181  \n",
      "..                     ...                   ...  \n",
      "294               -0.28125             -0.070234  \n",
      "295               -1.50000             -1.575251  \n",
      "296                0.28125             -0.812709  \n",
      "297               -0.37500             -0.070234  \n",
      "298               -1.31250             -0.772575  \n",
      "\n",
      "[299 rows x 7 columns]\n"
     ]
    }
   ],
   "source": [
    "# Skaliere die Daten analog zum Code aus der Aufgabe vorher\n",
    "for feature in df_num:\n",
    "    if feature == \"Mode\":\n",
    "        continue\n",
    "    \n",
    "    feature_df = pd.DataFrame(df_num[feature])\n",
    "    df_num[feature] = preprocessing.MinMaxScaler(\n",
    "                                        feature_range=(-3, 3)\n",
    "                                    ).fit_transform(feature_df)\n",
    "\n",
    "print(df_num)"
   ]
  },
  {
   "cell_type": "markdown",
   "id": "6b83fe7e",
   "metadata": {},
   "source": [
    "## Umgang mit kategorischen Variablen"
   ]
  },
  {
   "cell_type": "markdown",
   "id": "8adff7d8",
   "metadata": {},
   "source": [
    "Wir haben noch einige Spalten in unseren Maschinendaten, die wir nicht adressiert haben: die kategorischen Werte wie z.B. die Produkt-Klasse. Manche ML-Verfahren können aber grundsätzlich nur mit numerischen Werten umgehen. "
   ]
  },
  {
   "cell_type": "markdown",
   "id": "21d2e66f",
   "metadata": {},
   "source": [
    "Die einfachste Möglichkeit, Kategorien in Zahlen umzuwandeln, ist, diese einfach zu \"übersetzen\", wie es im folgenden Beispiel mit drei Variablen passiert:"
   ]
  },
  {
   "cell_type": "code",
   "execution_count": 12,
   "id": "6c414247",
   "metadata": {},
   "outputs": [
    {
     "data": {
      "text/plain": [
       "array([[0., 1., 1.]])"
      ]
     },
     "execution_count": 12,
     "metadata": {},
     "output_type": "execute_result"
    }
   ],
   "source": [
    "enc = preprocessing.OrdinalEncoder()\n",
    "X = [['male', 'from US', 'uses Safari'], ['female', 'from Europe', 'uses Firefox']]\n",
    "enc.fit(X)\n",
    "enc.transform([['female', 'from US', 'uses Safari']])"
   ]
  },
  {
   "cell_type": "markdown",
   "id": "46553819",
   "metadata": {},
   "source": [
    "<span style=\"color:#FF5F00\"><b>AUFGABE 9:</b></span><br>\n",
    "Erweitern Sie das Beispiel um weitere Belegungen (zum Beispiel das Geschlecht _non_binary_ oder die Herkunft _from Korea_) und kodieren Sie eine Beispiel-Belegung."
   ]
  },
  {
   "cell_type": "code",
   "execution_count": null,
   "id": "1554ea66",
   "metadata": {},
   "outputs": [],
   "source": [
    "# schrieben sie hier Ihren Code"
   ]
  },
  {
   "cell_type": "markdown",
   "id": "8a65bc33",
   "metadata": {},
   "source": [
    "<span style=\"color:#FF5F00\"><b>AUFGABE 10:</b></span><br>\n",
    "Was passiert, wenn einer der Werte nicht definiert ist (nutzen Sie `np.nan`)? Was macht die Belegung  `encoded_missing_value`?"
   ]
  },
  {
   "cell_type": "code",
   "execution_count": null,
   "id": "d78871fb",
   "metadata": {},
   "outputs": [
    {
     "data": {
      "text/plain": [
       "array([[ 1.],\n",
       "       [ 0.],\n",
       "       [nan],\n",
       "       [ 0.]])"
      ]
     },
     "execution_count": 14,
     "metadata": {},
     "output_type": "execute_result"
    }
   ],
   "source": [
    "# schreiben sie hier Ihren Code"
   ]
  },
  {
   "cell_type": "markdown",
   "id": "77b8c8d5",
   "metadata": {},
   "source": [
    "<span style=\"color:green\"><b>schreiben sie nachfolgend Ihre Antwort zu AUFGABE 10:</b></span><br>"
   ]
  },
  {
   "cell_type": "markdown",
   "id": "25bbd053",
   "metadata": {},
   "source": [
    "<span style=\"color:#FF5F00\"><b>AUFGABE 11:</b></span><br>Zum Schluss wird es nochmal kniffelig. Informieren Sie sich, was ein [OneHotEncoder](https://scikit-learn.org/stable/modules/generated/sklearn.preprocessing.OneHotEncoder.html#sklearn.preprocessing.OneHotEncoder) macht und kodieren Sie eine kategorische Spalte unseres Maschinendatensatzes (`df`). Achten Sie, wenn möglich, auch darauf, was mit fehlenden Werten passiert!"
   ]
  },
  {
   "cell_type": "code",
   "execution_count": null,
   "id": "a2775f78",
   "metadata": {},
   "outputs": [],
   "source": []
  },
  {
   "cell_type": "markdown",
   "id": "ce695794",
   "metadata": {},
   "source": [
    "<span style=\"color:green\"><b>schreiben sie nachfolgend Ihre Antwort zu AUFGABE 11:</b></span><br>"
   ]
  },
  {
   "cell_type": "markdown",
   "id": "7924e050",
   "metadata": {},
   "source": [
    "Klasse! Sie haben jetzt einen grundlegenden Überblick über die Möglichkeiten zur Manipulation von Daten gewonnen. Nicht alle Methoden erscheinen Ihnen vielleicht jetzt bereits umfassend sinnvoll - wenn wir weiter voranschreiten, werden Sie aber viele ML-Algorithmen kennenlernen, die auf den hier genannten Verfahren aufbauen. Wenn die Qualität Ihres ML-Tools einmal nicht gut ist, kehren Sie in dieses Tutorial zurück und überlegen Sie, wie Sie vielleicht die Ausgangsdaten \"optimieren\" können!"
   ]
  }
 ],
 "metadata": {
  "kernelspec": {
   "display_name": "wikisy",
   "language": "python",
   "name": "python3"
  },
  "language_info": {
   "codemirror_mode": {
    "name": "ipython",
    "version": 3
   },
   "file_extension": ".py",
   "mimetype": "text/x-python",
   "name": "python",
   "nbconvert_exporter": "python",
   "pygments_lexer": "ipython3",
   "version": "3.10.18"
  }
 },
 "nbformat": 4,
 "nbformat_minor": 5
}
