{
 "cells": [
  {
   "cell_type": "markdown",
   "id": "88504c11",
   "metadata": {},
   "source": [
    "<img src=\"https://th.bing.com/th/id/R.0b9618782d4e7062573f5983d876649a?rik=7HWDbD%2feXNOe1A&pid=ImgRaw&r=0\" width=150>\n",
    "\n",
    "\n",
    "**I758 Wissens- und KI-basierte Systeme**\n",
    "\n",
    "# Explorative Datenanalyse: Verteilungen und Zusammenhänge\n",
    "(c) Ricardo Knauer, Raphael Wallsberger, Christina Kratsch\n",
    "Bearbeitet von Robert Koch (591432)"
   ]
  },
  {
   "cell_type": "markdown",
   "id": "2dc431ed",
   "metadata": {},
   "source": [
    "Willkommen bei der ersten praktischen Übung zum Thema explorative Datenanalyse! Wir haben uns während der Vorlesung bereits mit einigen Verfahren beschäftigt, mit denen man einen Datensatz erkunden kann. Im Folgenden wollen wir diese Verfahren auch praktisch anwenden. Zum Glück ist die explorative Analyse von Daten so weit verbreitet, dass es bereits eine Vielzahl an Bibliotheken für genau diesen Zweck gibt. Wir werden für unsere Analyse eine der bekanntesten Bibliotheken verwenden, um interaktive Diagramme zu erstellen: Plotly. Plotly verfügt über Schnittstellen zu einer ganzen Reihe an Programmiersprachen, darunter auch [Python](https://plotly.com/python/). Mit der ersten praktischen Übung verfolgen wir folgende Lernziele:\n",
    "\n",
    "- Sie sollen lernen, wie Sie Daten mithilfe von Säulen- oder Balkendiagrammen, Histogrammen, Streudiagrammen und Heatmaps in Plotly visualisieren können.\n",
    "- Sie sollen den Wert von Funktionsargumenten zur Visualisierung sach- und zweckorientiert anpassen können.\n",
    "- Sie sollen lernen, wie man eigene Hypothesen über einen Datensatz aufstellen und diese im Rahmen einer explorativen Analyse testen kann.\n",
    "\n",
    "Voraussichtlich werden Sie für diese Übung maximal 2h benötigen."
   ]
  },
  {
   "cell_type": "markdown",
   "id": "74448a5a",
   "metadata": {},
   "source": [
    "## Der Datensatz"
   ]
  },
  {
   "cell_type": "markdown",
   "id": "c1c5752e",
   "metadata": {},
   "source": [
    "Für die explorative Analyse von Daten braucht man als Ausgangspunkt erst einmal eins: Daten. Für unsere praktischen Übungen werden wir einen Datensatz verwenden, der uns freundlicherweise von [Prof. Dr. Stephan Matzka](https://www.htw-berlin.de/hochschule/personen/person/?eid=11248) zur Verfügung gestellt wurde. Der Datensatz befasst sich mit einer Fertigungszelle, in der drei Maschinen Produkte herstellen. Unser Datensatz ```machine_data.csv``` liegt im sogenannten csv-Format vor (englisch für _comma-separated values_). Das ist ein gängiges Format zum Speichern strukturierter Daten, bei dem einzelne Werte durch Kommas oder andere Trennzeichen separiert sind. Wenn wir uns die Datei anschauen, erkennen wir, dass die Trennzeichen in unserem Fall Semikolons sind und dass Floats ein Komma anstelle eines Punktes als Dezimaltrennzeichen aufweisen. Um den Datensatz einzulesen, nutzen wir die [pandas](https://pandas.pydata.org/)-Bibliothek - die erste Wahl bei der Arbeit mit tabellarischen Daten in Python. Eine kleine Anmerkung: Unter diesem Textabschnitt finden Sie einen Codeblock. Codeblöcke wie diesen können Sie ausführen, indem Sie auf den Block klicken und danach gleichzeitig SHIFT und ENTER auf der Tastatur drücken. Die entsprechende Ausgabe erscheint gegebenenfalls unter dem Block. Codeblöcke, die Sie zwischen den Texten in dieser Übung sehen, sollten Sie in der vorgegebenen Reihenfolge ausführen. Bei leeren Codeblöcken müssen Sie zuvor noch Ihren eigenen Code ergänzen."
   ]
  },
  {
   "cell_type": "code",
   "execution_count": 83,
   "id": "f326048e",
   "metadata": {},
   "outputs": [],
   "source": [
    "import pandas as pd\n",
    "\n",
    "df = pd.read_csv(\"data/machine_data.csv\", delimiter=\";\", decimal=\",\")"
   ]
  },
  {
   "cell_type": "markdown",
   "id": "eaa72f47",
   "metadata": {},
   "source": [
    "Sie sehen, dass wir zuerst die pandas-Bibliothek importieren. Um bei Funktionsaufrufen aus dieser Bibliothek nicht jedes Mal ```pandas``` ausschreiben zu müssen, lassen wir Python wissen, dass wir das Kürzel ```pd``` anstelle von ```pandas``` benutzen möchten. Unseren csv-Datensatz können wir einlesen, indem wir einfach den Befehl ```pd.read_csv()``` ausführen. Dabei müssen wir der Funktion natürlich mitteilen, wo sich unsere Daten befinden und dass wir ```;``` als Trennzeichen sowie ```,``` als Dezimaltrennzeichen verwenden möchten. Der Datensatz wird abschließend in der Variable ```df``` in Form einer Tabelle gespeichert. Schauen wir uns die ersten paar Zeilen dieser Tabelle an. Dazu benutzen wir pandas' ```head()```-Funktion:"
   ]
  },
  {
   "cell_type": "code",
   "execution_count": 84,
   "id": "01eb3677",
   "metadata": {},
   "outputs": [
    {
     "data": {
      "text/html": [
       "<div>\n",
       "<style scoped>\n",
       "    .dataframe tbody tr th:only-of-type {\n",
       "        vertical-align: middle;\n",
       "    }\n",
       "\n",
       "    .dataframe tbody tr th {\n",
       "        vertical-align: top;\n",
       "    }\n",
       "\n",
       "    .dataframe thead th {\n",
       "        text-align: right;\n",
       "    }\n",
       "</style>\n",
       "<table border=\"1\" class=\"dataframe\">\n",
       "  <thead>\n",
       "    <tr style=\"text-align: right;\">\n",
       "      <th></th>\n",
       "      <th>Maschine</th>\n",
       "      <th>Mode</th>\n",
       "      <th>Produkt</th>\n",
       "      <th>Strom / A</th>\n",
       "      <th>Drehmoment / Nm</th>\n",
       "      <th>Drehzahl / 1/min</th>\n",
       "      <th>Temp Umgebung / degC</th>\n",
       "      <th>Temp Umrichter / degC</th>\n",
       "      <th>Temp Werkzeug / degC</th>\n",
       "      <th>Bearbeitungszeit / s</th>\n",
       "    </tr>\n",
       "  </thead>\n",
       "  <tbody>\n",
       "    <tr>\n",
       "      <th>0</th>\n",
       "      <td>A</td>\n",
       "      <td>2.0</td>\n",
       "      <td>Y</td>\n",
       "      <td>22.782</td>\n",
       "      <td>51.79</td>\n",
       "      <td>1461</td>\n",
       "      <td>18.7</td>\n",
       "      <td>23.1</td>\n",
       "      <td>98.7</td>\n",
       "      <td>23.8</td>\n",
       "    </tr>\n",
       "    <tr>\n",
       "      <th>1</th>\n",
       "      <td>A</td>\n",
       "      <td>1.0</td>\n",
       "      <td>Y</td>\n",
       "      <td>19.793</td>\n",
       "      <td>45.03</td>\n",
       "      <td>1460</td>\n",
       "      <td>21.0</td>\n",
       "      <td>21.5</td>\n",
       "      <td>87.5</td>\n",
       "      <td>25.3</td>\n",
       "    </tr>\n",
       "    <tr>\n",
       "      <th>2</th>\n",
       "      <td>C</td>\n",
       "      <td>3.0</td>\n",
       "      <td>X</td>\n",
       "      <td>25.581</td>\n",
       "      <td>52.00</td>\n",
       "      <td>1463</td>\n",
       "      <td>19.9</td>\n",
       "      <td>21.8</td>\n",
       "      <td>98.1</td>\n",
       "      <td>19.9</td>\n",
       "    </tr>\n",
       "    <tr>\n",
       "      <th>3</th>\n",
       "      <td>C</td>\n",
       "      <td>3.0</td>\n",
       "      <td>Y</td>\n",
       "      <td>28.145</td>\n",
       "      <td>57.30</td>\n",
       "      <td>1461</td>\n",
       "      <td>20.7</td>\n",
       "      <td>25.4</td>\n",
       "      <td>109.7</td>\n",
       "      <td>22.3</td>\n",
       "    </tr>\n",
       "    <tr>\n",
       "      <th>4</th>\n",
       "      <td>C</td>\n",
       "      <td>2.0</td>\n",
       "      <td>Y</td>\n",
       "      <td>25.544</td>\n",
       "      <td>51.84</td>\n",
       "      <td>1466</td>\n",
       "      <td>19.0</td>\n",
       "      <td>24.1</td>\n",
       "      <td>100.8</td>\n",
       "      <td>23.8</td>\n",
       "    </tr>\n",
       "    <tr>\n",
       "      <th>5</th>\n",
       "      <td>A</td>\n",
       "      <td>2.0</td>\n",
       "      <td>X</td>\n",
       "      <td>21.426</td>\n",
       "      <td>48.64</td>\n",
       "      <td>1463</td>\n",
       "      <td>21.5</td>\n",
       "      <td>23.3</td>\n",
       "      <td>95.1</td>\n",
       "      <td>21.4</td>\n",
       "    </tr>\n",
       "    <tr>\n",
       "      <th>6</th>\n",
       "      <td>B</td>\n",
       "      <td>2.0</td>\n",
       "      <td>Y</td>\n",
       "      <td>22.786</td>\n",
       "      <td>50.92</td>\n",
       "      <td>1462</td>\n",
       "      <td>20.9</td>\n",
       "      <td>22.8</td>\n",
       "      <td>98.2</td>\n",
       "      <td>24.8</td>\n",
       "    </tr>\n",
       "    <tr>\n",
       "      <th>7</th>\n",
       "      <td>C</td>\n",
       "      <td>2.0</td>\n",
       "      <td>X</td>\n",
       "      <td>23.021</td>\n",
       "      <td>46.85</td>\n",
       "      <td>1462</td>\n",
       "      <td>21.3</td>\n",
       "      <td>23.8</td>\n",
       "      <td>93.1</td>\n",
       "      <td>21.4</td>\n",
       "    </tr>\n",
       "    <tr>\n",
       "      <th>8</th>\n",
       "      <td>B</td>\n",
       "      <td>2.0</td>\n",
       "      <td>Y</td>\n",
       "      <td>22.255</td>\n",
       "      <td>49.69</td>\n",
       "      <td>1463</td>\n",
       "      <td>21.5</td>\n",
       "      <td>24.4</td>\n",
       "      <td>97.7</td>\n",
       "      <td>24.8</td>\n",
       "    </tr>\n",
       "    <tr>\n",
       "      <th>9</th>\n",
       "      <td>C</td>\n",
       "      <td>3.0</td>\n",
       "      <td>X</td>\n",
       "      <td>26.195</td>\n",
       "      <td>53.29</td>\n",
       "      <td>1462</td>\n",
       "      <td>21.9</td>\n",
       "      <td>25.3</td>\n",
       "      <td>104.1</td>\n",
       "      <td>19.9</td>\n",
       "    </tr>\n",
       "  </tbody>\n",
       "</table>\n",
       "</div>"
      ],
      "text/plain": [
       "  Maschine  Mode Produkt  Strom / A  Drehmoment / Nm  Drehzahl / 1/min  \\\n",
       "0        A   2.0       Y     22.782            51.79              1461   \n",
       "1        A   1.0       Y     19.793            45.03              1460   \n",
       "2        C   3.0       X     25.581            52.00              1463   \n",
       "3        C   3.0       Y     28.145            57.30              1461   \n",
       "4        C   2.0       Y     25.544            51.84              1466   \n",
       "5        A   2.0       X     21.426            48.64              1463   \n",
       "6        B   2.0       Y     22.786            50.92              1462   \n",
       "7        C   2.0       X     23.021            46.85              1462   \n",
       "8        B   2.0       Y     22.255            49.69              1463   \n",
       "9        C   3.0       X     26.195            53.29              1462   \n",
       "\n",
       "   Temp Umgebung / degC  Temp Umrichter / degC  Temp Werkzeug / degC  \\\n",
       "0                  18.7                   23.1                  98.7   \n",
       "1                  21.0                   21.5                  87.5   \n",
       "2                  19.9                   21.8                  98.1   \n",
       "3                  20.7                   25.4                 109.7   \n",
       "4                  19.0                   24.1                 100.8   \n",
       "5                  21.5                   23.3                  95.1   \n",
       "6                  20.9                   22.8                  98.2   \n",
       "7                  21.3                   23.8                  93.1   \n",
       "8                  21.5                   24.4                  97.7   \n",
       "9                  21.9                   25.3                 104.1   \n",
       "\n",
       "   Bearbeitungszeit / s  \n",
       "0                  23.8  \n",
       "1                  25.3  \n",
       "2                  19.9  \n",
       "3                  22.3  \n",
       "4                  23.8  \n",
       "5                  21.4  \n",
       "6                  24.8  \n",
       "7                  21.4  \n",
       "8                  24.8  \n",
       "9                  19.9  "
      ]
     },
     "execution_count": 84,
     "metadata": {},
     "output_type": "execute_result"
    }
   ],
   "source": [
    "df.head(10)"
   ]
  },
  {
   "cell_type": "markdown",
   "id": "717167cb",
   "metadata": {},
   "source": [
    "Die ersten drei Merkmale scheinen in Kategorien eingeteilt zu sein, bei den anderen Merkmalen handelt es sich anscheinend um Floats oder Integers. ```Maschine``` und ```Produkt``` sind offensichtlich nominale Merkmale; ```Mode``` ist hingegen ein ordinales Merkmal, da Energiesparbetrieb (```1.0```), Normalbetrieb (```2.0```) und Hochleistungsbetrieb (```3.0```) eine Rangordnung aufweisen. pandas verfügt natürlich nicht über diese Information aus der Dokumentation, daher müssen wir den ersten drei Merkmalen noch den passenden Datentyp zuweisen. Hierzu nutzen wir pandas' ```Categorical()```-Funktion:"
   ]
  },
  {
   "cell_type": "code",
   "execution_count": 85,
   "id": "70e04251",
   "metadata": {},
   "outputs": [],
   "source": [
    "df[\"Maschine\"] = pd.Categorical(df[\"Maschine\"])\n",
    "df[\"Produkt\"] = pd.Categorical(df[\"Produkt\"])\n",
    "df[\"Mode\"] = pd.Categorical(df[\"Mode\"], ordered=True)"
   ]
  },
  {
   "cell_type": "markdown",
   "id": "a4144d79",
   "metadata": {},
   "source": [
    "Wie man in dem oberen Codeblock erkennen kann, kann man auf Spalten der Tabelle zugreifen, indem man den Namen der Spalte (als String) zwischen zwei eckige Klammern schreibt. Um pandas mitzuteilen, ob es sich bei einem Merkmal um ein nominales oder um ein ordinales Merkmal handelt, benutzt man in der ```Categorical()```-Funktion das Argument ```ordered```. Das Argument ist standardmäßig auf ```False``` gesetzt. Bei ordinalen Merkmalen muss man der Funktion daher explizit den Wert ```True``` mitgeben. Nachdem wir unseren Merkmalen in der Tabelle also nun die richtigen Datentypen zugewiesen haben, können wir uns endlich den Visualisierungen zuwenden."
   ]
  },
  {
   "cell_type": "markdown",
   "id": "0e7a0c67",
   "metadata": {},
   "source": [
    "<h5>Ein Merkmal, ein Diagramm, viele Kenngrößen</h5>"
   ]
  },
  {
   "cell_type": "markdown",
   "id": "26425961",
   "metadata": {},
   "source": [
    "Sie haben in der Vorlesung bereits erfahren, dass es bei der explorativen Analyse zuerst meist sinnvoll ist, sich anzuschauen, wie oft die verschiedenen Werte in jedem Merkmal vorkommen. Bei nominalen und ordinalen Merkmalen bieten sich Säulen- oder Balkendiagramme zur Visualisierung an, bei metrischen Merkmalen Histogramme. Um interaktive Diagramme zu erstellen, können wir pandas ganz einfach mit Plotly kombinieren. Dazu setzen wir das sogenannte Backend zur Darstellung von Diagrammen auf ```\"plotly\"```:"
   ]
  },
  {
   "cell_type": "code",
   "execution_count": 86,
   "id": "2630f91c",
   "metadata": {},
   "outputs": [],
   "source": [
    "pd.options.plotting.backend = \"plotly\""
   ]
  },
  {
   "cell_type": "markdown",
   "id": "90302cdd",
   "metadata": {},
   "source": [
    "Ein [Säulendiagramm](https://plotly.github.io/plotly.py-docs/generated/plotly.express.bar.html) können wir darstellen, indem wir die Anzahl der Werte pro Kategorie mit der ```value_counts()```-Funktion zählen und danach ```plot(kind=\"bar\")``` aufrufen. Für das nominale Merkmal ```Maschine``` sähe das wie folgt aus:"
   ]
  },
  {
   "cell_type": "code",
   "execution_count": 87,
   "id": "a29e5b03",
   "metadata": {},
   "outputs": [
    {
     "data": {
      "application/vnd.plotly.v1+json": {
       "config": {
        "plotlyServerURL": "https://plot.ly"
       },
       "data": [
        {
         "hovertemplate": "variable=count<br>Maschine=%{x}<br>value=%{y}<extra></extra>",
         "legendgroup": "count",
         "marker": {
          "color": "#636efa",
          "pattern": {
           "shape": ""
          }
         },
         "name": "count",
         "orientation": "v",
         "showlegend": true,
         "textposition": "auto",
         "type": "bar",
         "x": [
          "C",
          "A",
          "B"
         ],
         "xaxis": "x",
         "y": {
          "bdata": "oAGRAbcA",
          "dtype": "i2"
         },
         "yaxis": "y"
        }
       ],
       "layout": {
        "barmode": "relative",
        "legend": {
         "title": {
          "text": "variable"
         },
         "tracegroupgap": 0
        },
        "margin": {
         "t": 60
        },
        "template": {
         "data": {
          "bar": [
           {
            "error_x": {
             "color": "#2a3f5f"
            },
            "error_y": {
             "color": "#2a3f5f"
            },
            "marker": {
             "line": {
              "color": "#E5ECF6",
              "width": 0.5
             },
             "pattern": {
              "fillmode": "overlay",
              "size": 10,
              "solidity": 0.2
             }
            },
            "type": "bar"
           }
          ],
          "barpolar": [
           {
            "marker": {
             "line": {
              "color": "#E5ECF6",
              "width": 0.5
             },
             "pattern": {
              "fillmode": "overlay",
              "size": 10,
              "solidity": 0.2
             }
            },
            "type": "barpolar"
           }
          ],
          "carpet": [
           {
            "aaxis": {
             "endlinecolor": "#2a3f5f",
             "gridcolor": "white",
             "linecolor": "white",
             "minorgridcolor": "white",
             "startlinecolor": "#2a3f5f"
            },
            "baxis": {
             "endlinecolor": "#2a3f5f",
             "gridcolor": "white",
             "linecolor": "white",
             "minorgridcolor": "white",
             "startlinecolor": "#2a3f5f"
            },
            "type": "carpet"
           }
          ],
          "choropleth": [
           {
            "colorbar": {
             "outlinewidth": 0,
             "ticks": ""
            },
            "type": "choropleth"
           }
          ],
          "contour": [
           {
            "colorbar": {
             "outlinewidth": 0,
             "ticks": ""
            },
            "colorscale": [
             [
              0,
              "#0d0887"
             ],
             [
              0.1111111111111111,
              "#46039f"
             ],
             [
              0.2222222222222222,
              "#7201a8"
             ],
             [
              0.3333333333333333,
              "#9c179e"
             ],
             [
              0.4444444444444444,
              "#bd3786"
             ],
             [
              0.5555555555555556,
              "#d8576b"
             ],
             [
              0.6666666666666666,
              "#ed7953"
             ],
             [
              0.7777777777777778,
              "#fb9f3a"
             ],
             [
              0.8888888888888888,
              "#fdca26"
             ],
             [
              1,
              "#f0f921"
             ]
            ],
            "type": "contour"
           }
          ],
          "contourcarpet": [
           {
            "colorbar": {
             "outlinewidth": 0,
             "ticks": ""
            },
            "type": "contourcarpet"
           }
          ],
          "heatmap": [
           {
            "colorbar": {
             "outlinewidth": 0,
             "ticks": ""
            },
            "colorscale": [
             [
              0,
              "#0d0887"
             ],
             [
              0.1111111111111111,
              "#46039f"
             ],
             [
              0.2222222222222222,
              "#7201a8"
             ],
             [
              0.3333333333333333,
              "#9c179e"
             ],
             [
              0.4444444444444444,
              "#bd3786"
             ],
             [
              0.5555555555555556,
              "#d8576b"
             ],
             [
              0.6666666666666666,
              "#ed7953"
             ],
             [
              0.7777777777777778,
              "#fb9f3a"
             ],
             [
              0.8888888888888888,
              "#fdca26"
             ],
             [
              1,
              "#f0f921"
             ]
            ],
            "type": "heatmap"
           }
          ],
          "histogram": [
           {
            "marker": {
             "pattern": {
              "fillmode": "overlay",
              "size": 10,
              "solidity": 0.2
             }
            },
            "type": "histogram"
           }
          ],
          "histogram2d": [
           {
            "colorbar": {
             "outlinewidth": 0,
             "ticks": ""
            },
            "colorscale": [
             [
              0,
              "#0d0887"
             ],
             [
              0.1111111111111111,
              "#46039f"
             ],
             [
              0.2222222222222222,
              "#7201a8"
             ],
             [
              0.3333333333333333,
              "#9c179e"
             ],
             [
              0.4444444444444444,
              "#bd3786"
             ],
             [
              0.5555555555555556,
              "#d8576b"
             ],
             [
              0.6666666666666666,
              "#ed7953"
             ],
             [
              0.7777777777777778,
              "#fb9f3a"
             ],
             [
              0.8888888888888888,
              "#fdca26"
             ],
             [
              1,
              "#f0f921"
             ]
            ],
            "type": "histogram2d"
           }
          ],
          "histogram2dcontour": [
           {
            "colorbar": {
             "outlinewidth": 0,
             "ticks": ""
            },
            "colorscale": [
             [
              0,
              "#0d0887"
             ],
             [
              0.1111111111111111,
              "#46039f"
             ],
             [
              0.2222222222222222,
              "#7201a8"
             ],
             [
              0.3333333333333333,
              "#9c179e"
             ],
             [
              0.4444444444444444,
              "#bd3786"
             ],
             [
              0.5555555555555556,
              "#d8576b"
             ],
             [
              0.6666666666666666,
              "#ed7953"
             ],
             [
              0.7777777777777778,
              "#fb9f3a"
             ],
             [
              0.8888888888888888,
              "#fdca26"
             ],
             [
              1,
              "#f0f921"
             ]
            ],
            "type": "histogram2dcontour"
           }
          ],
          "mesh3d": [
           {
            "colorbar": {
             "outlinewidth": 0,
             "ticks": ""
            },
            "type": "mesh3d"
           }
          ],
          "parcoords": [
           {
            "line": {
             "colorbar": {
              "outlinewidth": 0,
              "ticks": ""
             }
            },
            "type": "parcoords"
           }
          ],
          "pie": [
           {
            "automargin": true,
            "type": "pie"
           }
          ],
          "scatter": [
           {
            "fillpattern": {
             "fillmode": "overlay",
             "size": 10,
             "solidity": 0.2
            },
            "type": "scatter"
           }
          ],
          "scatter3d": [
           {
            "line": {
             "colorbar": {
              "outlinewidth": 0,
              "ticks": ""
             }
            },
            "marker": {
             "colorbar": {
              "outlinewidth": 0,
              "ticks": ""
             }
            },
            "type": "scatter3d"
           }
          ],
          "scattercarpet": [
           {
            "marker": {
             "colorbar": {
              "outlinewidth": 0,
              "ticks": ""
             }
            },
            "type": "scattercarpet"
           }
          ],
          "scattergeo": [
           {
            "marker": {
             "colorbar": {
              "outlinewidth": 0,
              "ticks": ""
             }
            },
            "type": "scattergeo"
           }
          ],
          "scattergl": [
           {
            "marker": {
             "colorbar": {
              "outlinewidth": 0,
              "ticks": ""
             }
            },
            "type": "scattergl"
           }
          ],
          "scattermap": [
           {
            "marker": {
             "colorbar": {
              "outlinewidth": 0,
              "ticks": ""
             }
            },
            "type": "scattermap"
           }
          ],
          "scattermapbox": [
           {
            "marker": {
             "colorbar": {
              "outlinewidth": 0,
              "ticks": ""
             }
            },
            "type": "scattermapbox"
           }
          ],
          "scatterpolar": [
           {
            "marker": {
             "colorbar": {
              "outlinewidth": 0,
              "ticks": ""
             }
            },
            "type": "scatterpolar"
           }
          ],
          "scatterpolargl": [
           {
            "marker": {
             "colorbar": {
              "outlinewidth": 0,
              "ticks": ""
             }
            },
            "type": "scatterpolargl"
           }
          ],
          "scatterternary": [
           {
            "marker": {
             "colorbar": {
              "outlinewidth": 0,
              "ticks": ""
             }
            },
            "type": "scatterternary"
           }
          ],
          "surface": [
           {
            "colorbar": {
             "outlinewidth": 0,
             "ticks": ""
            },
            "colorscale": [
             [
              0,
              "#0d0887"
             ],
             [
              0.1111111111111111,
              "#46039f"
             ],
             [
              0.2222222222222222,
              "#7201a8"
             ],
             [
              0.3333333333333333,
              "#9c179e"
             ],
             [
              0.4444444444444444,
              "#bd3786"
             ],
             [
              0.5555555555555556,
              "#d8576b"
             ],
             [
              0.6666666666666666,
              "#ed7953"
             ],
             [
              0.7777777777777778,
              "#fb9f3a"
             ],
             [
              0.8888888888888888,
              "#fdca26"
             ],
             [
              1,
              "#f0f921"
             ]
            ],
            "type": "surface"
           }
          ],
          "table": [
           {
            "cells": {
             "fill": {
              "color": "#EBF0F8"
             },
             "line": {
              "color": "white"
             }
            },
            "header": {
             "fill": {
              "color": "#C8D4E3"
             },
             "line": {
              "color": "white"
             }
            },
            "type": "table"
           }
          ]
         },
         "layout": {
          "annotationdefaults": {
           "arrowcolor": "#2a3f5f",
           "arrowhead": 0,
           "arrowwidth": 1
          },
          "autotypenumbers": "strict",
          "coloraxis": {
           "colorbar": {
            "outlinewidth": 0,
            "ticks": ""
           }
          },
          "colorscale": {
           "diverging": [
            [
             0,
             "#8e0152"
            ],
            [
             0.1,
             "#c51b7d"
            ],
            [
             0.2,
             "#de77ae"
            ],
            [
             0.3,
             "#f1b6da"
            ],
            [
             0.4,
             "#fde0ef"
            ],
            [
             0.5,
             "#f7f7f7"
            ],
            [
             0.6,
             "#e6f5d0"
            ],
            [
             0.7,
             "#b8e186"
            ],
            [
             0.8,
             "#7fbc41"
            ],
            [
             0.9,
             "#4d9221"
            ],
            [
             1,
             "#276419"
            ]
           ],
           "sequential": [
            [
             0,
             "#0d0887"
            ],
            [
             0.1111111111111111,
             "#46039f"
            ],
            [
             0.2222222222222222,
             "#7201a8"
            ],
            [
             0.3333333333333333,
             "#9c179e"
            ],
            [
             0.4444444444444444,
             "#bd3786"
            ],
            [
             0.5555555555555556,
             "#d8576b"
            ],
            [
             0.6666666666666666,
             "#ed7953"
            ],
            [
             0.7777777777777778,
             "#fb9f3a"
            ],
            [
             0.8888888888888888,
             "#fdca26"
            ],
            [
             1,
             "#f0f921"
            ]
           ],
           "sequentialminus": [
            [
             0,
             "#0d0887"
            ],
            [
             0.1111111111111111,
             "#46039f"
            ],
            [
             0.2222222222222222,
             "#7201a8"
            ],
            [
             0.3333333333333333,
             "#9c179e"
            ],
            [
             0.4444444444444444,
             "#bd3786"
            ],
            [
             0.5555555555555556,
             "#d8576b"
            ],
            [
             0.6666666666666666,
             "#ed7953"
            ],
            [
             0.7777777777777778,
             "#fb9f3a"
            ],
            [
             0.8888888888888888,
             "#fdca26"
            ],
            [
             1,
             "#f0f921"
            ]
           ]
          },
          "colorway": [
           "#636efa",
           "#EF553B",
           "#00cc96",
           "#ab63fa",
           "#FFA15A",
           "#19d3f3",
           "#FF6692",
           "#B6E880",
           "#FF97FF",
           "#FECB52"
          ],
          "font": {
           "color": "#2a3f5f"
          },
          "geo": {
           "bgcolor": "white",
           "lakecolor": "white",
           "landcolor": "#E5ECF6",
           "showlakes": true,
           "showland": true,
           "subunitcolor": "white"
          },
          "hoverlabel": {
           "align": "left"
          },
          "hovermode": "closest",
          "mapbox": {
           "style": "light"
          },
          "paper_bgcolor": "white",
          "plot_bgcolor": "#E5ECF6",
          "polar": {
           "angularaxis": {
            "gridcolor": "white",
            "linecolor": "white",
            "ticks": ""
           },
           "bgcolor": "#E5ECF6",
           "radialaxis": {
            "gridcolor": "white",
            "linecolor": "white",
            "ticks": ""
           }
          },
          "scene": {
           "xaxis": {
            "backgroundcolor": "#E5ECF6",
            "gridcolor": "white",
            "gridwidth": 2,
            "linecolor": "white",
            "showbackground": true,
            "ticks": "",
            "zerolinecolor": "white"
           },
           "yaxis": {
            "backgroundcolor": "#E5ECF6",
            "gridcolor": "white",
            "gridwidth": 2,
            "linecolor": "white",
            "showbackground": true,
            "ticks": "",
            "zerolinecolor": "white"
           },
           "zaxis": {
            "backgroundcolor": "#E5ECF6",
            "gridcolor": "white",
            "gridwidth": 2,
            "linecolor": "white",
            "showbackground": true,
            "ticks": "",
            "zerolinecolor": "white"
           }
          },
          "shapedefaults": {
           "line": {
            "color": "#2a3f5f"
           }
          },
          "ternary": {
           "aaxis": {
            "gridcolor": "white",
            "linecolor": "white",
            "ticks": ""
           },
           "baxis": {
            "gridcolor": "white",
            "linecolor": "white",
            "ticks": ""
           },
           "bgcolor": "#E5ECF6",
           "caxis": {
            "gridcolor": "white",
            "linecolor": "white",
            "ticks": ""
           }
          },
          "title": {
           "x": 0.05
          },
          "xaxis": {
           "automargin": true,
           "gridcolor": "white",
           "linecolor": "white",
           "ticks": "",
           "title": {
            "standoff": 15
           },
           "zerolinecolor": "white",
           "zerolinewidth": 2
          },
          "yaxis": {
           "automargin": true,
           "gridcolor": "white",
           "linecolor": "white",
           "ticks": "",
           "title": {
            "standoff": 15
           },
           "zerolinecolor": "white",
           "zerolinewidth": 2
          }
         }
        },
        "xaxis": {
         "anchor": "y",
         "domain": [
          0,
          1
         ],
         "title": {
          "text": "Maschine"
         }
        },
        "yaxis": {
         "anchor": "x",
         "domain": [
          0,
          1
         ],
         "title": {
          "text": "value"
         }
        }
       }
      }
     },
     "metadata": {},
     "output_type": "display_data"
    }
   ],
   "source": [
    "df[\"Maschine\"].value_counts().plot(kind=\"bar\")"
   ]
  },
  {
   "cell_type": "markdown",
   "id": "3169bcd7",
   "metadata": {},
   "source": [
    "Das entsprechende [Balkendiagramm](https://plotly.github.io/plotly.py-docs/generated/plotly.express.bar.html) sähe so aus:"
   ]
  },
  {
   "cell_type": "code",
   "execution_count": 90,
   "id": "c5d57da4",
   "metadata": {},
   "outputs": [
    {
     "data": {
      "application/vnd.plotly.v1+json": {
       "config": {
        "plotlyServerURL": "https://plot.ly"
       },
       "data": [
        {
         "hovertemplate": "variable=count<br>value=%{x}<br>Maschine=%{y}<extra></extra>",
         "legendgroup": "count",
         "marker": {
          "color": "#636efa",
          "pattern": {
           "shape": ""
          }
         },
         "name": "count",
         "orientation": "h",
         "showlegend": true,
         "textposition": "auto",
         "type": "bar",
         "x": {
          "bdata": "oAGRAbcA",
          "dtype": "i2"
         },
         "xaxis": "x",
         "y": [
          "C",
          "A",
          "B"
         ],
         "yaxis": "y"
        }
       ],
       "layout": {
        "barmode": "relative",
        "legend": {
         "title": {
          "text": "variable"
         },
         "tracegroupgap": 0
        },
        "margin": {
         "t": 60
        },
        "template": {
         "data": {
          "bar": [
           {
            "error_x": {
             "color": "#2a3f5f"
            },
            "error_y": {
             "color": "#2a3f5f"
            },
            "marker": {
             "line": {
              "color": "#E5ECF6",
              "width": 0.5
             },
             "pattern": {
              "fillmode": "overlay",
              "size": 10,
              "solidity": 0.2
             }
            },
            "type": "bar"
           }
          ],
          "barpolar": [
           {
            "marker": {
             "line": {
              "color": "#E5ECF6",
              "width": 0.5
             },
             "pattern": {
              "fillmode": "overlay",
              "size": 10,
              "solidity": 0.2
             }
            },
            "type": "barpolar"
           }
          ],
          "carpet": [
           {
            "aaxis": {
             "endlinecolor": "#2a3f5f",
             "gridcolor": "white",
             "linecolor": "white",
             "minorgridcolor": "white",
             "startlinecolor": "#2a3f5f"
            },
            "baxis": {
             "endlinecolor": "#2a3f5f",
             "gridcolor": "white",
             "linecolor": "white",
             "minorgridcolor": "white",
             "startlinecolor": "#2a3f5f"
            },
            "type": "carpet"
           }
          ],
          "choropleth": [
           {
            "colorbar": {
             "outlinewidth": 0,
             "ticks": ""
            },
            "type": "choropleth"
           }
          ],
          "contour": [
           {
            "colorbar": {
             "outlinewidth": 0,
             "ticks": ""
            },
            "colorscale": [
             [
              0,
              "#0d0887"
             ],
             [
              0.1111111111111111,
              "#46039f"
             ],
             [
              0.2222222222222222,
              "#7201a8"
             ],
             [
              0.3333333333333333,
              "#9c179e"
             ],
             [
              0.4444444444444444,
              "#bd3786"
             ],
             [
              0.5555555555555556,
              "#d8576b"
             ],
             [
              0.6666666666666666,
              "#ed7953"
             ],
             [
              0.7777777777777778,
              "#fb9f3a"
             ],
             [
              0.8888888888888888,
              "#fdca26"
             ],
             [
              1,
              "#f0f921"
             ]
            ],
            "type": "contour"
           }
          ],
          "contourcarpet": [
           {
            "colorbar": {
             "outlinewidth": 0,
             "ticks": ""
            },
            "type": "contourcarpet"
           }
          ],
          "heatmap": [
           {
            "colorbar": {
             "outlinewidth": 0,
             "ticks": ""
            },
            "colorscale": [
             [
              0,
              "#0d0887"
             ],
             [
              0.1111111111111111,
              "#46039f"
             ],
             [
              0.2222222222222222,
              "#7201a8"
             ],
             [
              0.3333333333333333,
              "#9c179e"
             ],
             [
              0.4444444444444444,
              "#bd3786"
             ],
             [
              0.5555555555555556,
              "#d8576b"
             ],
             [
              0.6666666666666666,
              "#ed7953"
             ],
             [
              0.7777777777777778,
              "#fb9f3a"
             ],
             [
              0.8888888888888888,
              "#fdca26"
             ],
             [
              1,
              "#f0f921"
             ]
            ],
            "type": "heatmap"
           }
          ],
          "histogram": [
           {
            "marker": {
             "pattern": {
              "fillmode": "overlay",
              "size": 10,
              "solidity": 0.2
             }
            },
            "type": "histogram"
           }
          ],
          "histogram2d": [
           {
            "colorbar": {
             "outlinewidth": 0,
             "ticks": ""
            },
            "colorscale": [
             [
              0,
              "#0d0887"
             ],
             [
              0.1111111111111111,
              "#46039f"
             ],
             [
              0.2222222222222222,
              "#7201a8"
             ],
             [
              0.3333333333333333,
              "#9c179e"
             ],
             [
              0.4444444444444444,
              "#bd3786"
             ],
             [
              0.5555555555555556,
              "#d8576b"
             ],
             [
              0.6666666666666666,
              "#ed7953"
             ],
             [
              0.7777777777777778,
              "#fb9f3a"
             ],
             [
              0.8888888888888888,
              "#fdca26"
             ],
             [
              1,
              "#f0f921"
             ]
            ],
            "type": "histogram2d"
           }
          ],
          "histogram2dcontour": [
           {
            "colorbar": {
             "outlinewidth": 0,
             "ticks": ""
            },
            "colorscale": [
             [
              0,
              "#0d0887"
             ],
             [
              0.1111111111111111,
              "#46039f"
             ],
             [
              0.2222222222222222,
              "#7201a8"
             ],
             [
              0.3333333333333333,
              "#9c179e"
             ],
             [
              0.4444444444444444,
              "#bd3786"
             ],
             [
              0.5555555555555556,
              "#d8576b"
             ],
             [
              0.6666666666666666,
              "#ed7953"
             ],
             [
              0.7777777777777778,
              "#fb9f3a"
             ],
             [
              0.8888888888888888,
              "#fdca26"
             ],
             [
              1,
              "#f0f921"
             ]
            ],
            "type": "histogram2dcontour"
           }
          ],
          "mesh3d": [
           {
            "colorbar": {
             "outlinewidth": 0,
             "ticks": ""
            },
            "type": "mesh3d"
           }
          ],
          "parcoords": [
           {
            "line": {
             "colorbar": {
              "outlinewidth": 0,
              "ticks": ""
             }
            },
            "type": "parcoords"
           }
          ],
          "pie": [
           {
            "automargin": true,
            "type": "pie"
           }
          ],
          "scatter": [
           {
            "fillpattern": {
             "fillmode": "overlay",
             "size": 10,
             "solidity": 0.2
            },
            "type": "scatter"
           }
          ],
          "scatter3d": [
           {
            "line": {
             "colorbar": {
              "outlinewidth": 0,
              "ticks": ""
             }
            },
            "marker": {
             "colorbar": {
              "outlinewidth": 0,
              "ticks": ""
             }
            },
            "type": "scatter3d"
           }
          ],
          "scattercarpet": [
           {
            "marker": {
             "colorbar": {
              "outlinewidth": 0,
              "ticks": ""
             }
            },
            "type": "scattercarpet"
           }
          ],
          "scattergeo": [
           {
            "marker": {
             "colorbar": {
              "outlinewidth": 0,
              "ticks": ""
             }
            },
            "type": "scattergeo"
           }
          ],
          "scattergl": [
           {
            "marker": {
             "colorbar": {
              "outlinewidth": 0,
              "ticks": ""
             }
            },
            "type": "scattergl"
           }
          ],
          "scattermap": [
           {
            "marker": {
             "colorbar": {
              "outlinewidth": 0,
              "ticks": ""
             }
            },
            "type": "scattermap"
           }
          ],
          "scattermapbox": [
           {
            "marker": {
             "colorbar": {
              "outlinewidth": 0,
              "ticks": ""
             }
            },
            "type": "scattermapbox"
           }
          ],
          "scatterpolar": [
           {
            "marker": {
             "colorbar": {
              "outlinewidth": 0,
              "ticks": ""
             }
            },
            "type": "scatterpolar"
           }
          ],
          "scatterpolargl": [
           {
            "marker": {
             "colorbar": {
              "outlinewidth": 0,
              "ticks": ""
             }
            },
            "type": "scatterpolargl"
           }
          ],
          "scatterternary": [
           {
            "marker": {
             "colorbar": {
              "outlinewidth": 0,
              "ticks": ""
             }
            },
            "type": "scatterternary"
           }
          ],
          "surface": [
           {
            "colorbar": {
             "outlinewidth": 0,
             "ticks": ""
            },
            "colorscale": [
             [
              0,
              "#0d0887"
             ],
             [
              0.1111111111111111,
              "#46039f"
             ],
             [
              0.2222222222222222,
              "#7201a8"
             ],
             [
              0.3333333333333333,
              "#9c179e"
             ],
             [
              0.4444444444444444,
              "#bd3786"
             ],
             [
              0.5555555555555556,
              "#d8576b"
             ],
             [
              0.6666666666666666,
              "#ed7953"
             ],
             [
              0.7777777777777778,
              "#fb9f3a"
             ],
             [
              0.8888888888888888,
              "#fdca26"
             ],
             [
              1,
              "#f0f921"
             ]
            ],
            "type": "surface"
           }
          ],
          "table": [
           {
            "cells": {
             "fill": {
              "color": "#EBF0F8"
             },
             "line": {
              "color": "white"
             }
            },
            "header": {
             "fill": {
              "color": "#C8D4E3"
             },
             "line": {
              "color": "white"
             }
            },
            "type": "table"
           }
          ]
         },
         "layout": {
          "annotationdefaults": {
           "arrowcolor": "#2a3f5f",
           "arrowhead": 0,
           "arrowwidth": 1
          },
          "autotypenumbers": "strict",
          "coloraxis": {
           "colorbar": {
            "outlinewidth": 0,
            "ticks": ""
           }
          },
          "colorscale": {
           "diverging": [
            [
             0,
             "#8e0152"
            ],
            [
             0.1,
             "#c51b7d"
            ],
            [
             0.2,
             "#de77ae"
            ],
            [
             0.3,
             "#f1b6da"
            ],
            [
             0.4,
             "#fde0ef"
            ],
            [
             0.5,
             "#f7f7f7"
            ],
            [
             0.6,
             "#e6f5d0"
            ],
            [
             0.7,
             "#b8e186"
            ],
            [
             0.8,
             "#7fbc41"
            ],
            [
             0.9,
             "#4d9221"
            ],
            [
             1,
             "#276419"
            ]
           ],
           "sequential": [
            [
             0,
             "#0d0887"
            ],
            [
             0.1111111111111111,
             "#46039f"
            ],
            [
             0.2222222222222222,
             "#7201a8"
            ],
            [
             0.3333333333333333,
             "#9c179e"
            ],
            [
             0.4444444444444444,
             "#bd3786"
            ],
            [
             0.5555555555555556,
             "#d8576b"
            ],
            [
             0.6666666666666666,
             "#ed7953"
            ],
            [
             0.7777777777777778,
             "#fb9f3a"
            ],
            [
             0.8888888888888888,
             "#fdca26"
            ],
            [
             1,
             "#f0f921"
            ]
           ],
           "sequentialminus": [
            [
             0,
             "#0d0887"
            ],
            [
             0.1111111111111111,
             "#46039f"
            ],
            [
             0.2222222222222222,
             "#7201a8"
            ],
            [
             0.3333333333333333,
             "#9c179e"
            ],
            [
             0.4444444444444444,
             "#bd3786"
            ],
            [
             0.5555555555555556,
             "#d8576b"
            ],
            [
             0.6666666666666666,
             "#ed7953"
            ],
            [
             0.7777777777777778,
             "#fb9f3a"
            ],
            [
             0.8888888888888888,
             "#fdca26"
            ],
            [
             1,
             "#f0f921"
            ]
           ]
          },
          "colorway": [
           "#636efa",
           "#EF553B",
           "#00cc96",
           "#ab63fa",
           "#FFA15A",
           "#19d3f3",
           "#FF6692",
           "#B6E880",
           "#FF97FF",
           "#FECB52"
          ],
          "font": {
           "color": "#2a3f5f"
          },
          "geo": {
           "bgcolor": "white",
           "lakecolor": "white",
           "landcolor": "#E5ECF6",
           "showlakes": true,
           "showland": true,
           "subunitcolor": "white"
          },
          "hoverlabel": {
           "align": "left"
          },
          "hovermode": "closest",
          "mapbox": {
           "style": "light"
          },
          "paper_bgcolor": "white",
          "plot_bgcolor": "#E5ECF6",
          "polar": {
           "angularaxis": {
            "gridcolor": "white",
            "linecolor": "white",
            "ticks": ""
           },
           "bgcolor": "#E5ECF6",
           "radialaxis": {
            "gridcolor": "white",
            "linecolor": "white",
            "ticks": ""
           }
          },
          "scene": {
           "xaxis": {
            "backgroundcolor": "#E5ECF6",
            "gridcolor": "white",
            "gridwidth": 2,
            "linecolor": "white",
            "showbackground": true,
            "ticks": "",
            "zerolinecolor": "white"
           },
           "yaxis": {
            "backgroundcolor": "#E5ECF6",
            "gridcolor": "white",
            "gridwidth": 2,
            "linecolor": "white",
            "showbackground": true,
            "ticks": "",
            "zerolinecolor": "white"
           },
           "zaxis": {
            "backgroundcolor": "#E5ECF6",
            "gridcolor": "white",
            "gridwidth": 2,
            "linecolor": "white",
            "showbackground": true,
            "ticks": "",
            "zerolinecolor": "white"
           }
          },
          "shapedefaults": {
           "line": {
            "color": "#2a3f5f"
           }
          },
          "ternary": {
           "aaxis": {
            "gridcolor": "white",
            "linecolor": "white",
            "ticks": ""
           },
           "baxis": {
            "gridcolor": "white",
            "linecolor": "white",
            "ticks": ""
           },
           "bgcolor": "#E5ECF6",
           "caxis": {
            "gridcolor": "white",
            "linecolor": "white",
            "ticks": ""
           }
          },
          "title": {
           "x": 0.05
          },
          "xaxis": {
           "automargin": true,
           "gridcolor": "white",
           "linecolor": "white",
           "ticks": "",
           "title": {
            "standoff": 15
           },
           "zerolinecolor": "white",
           "zerolinewidth": 2
          },
          "yaxis": {
           "automargin": true,
           "gridcolor": "white",
           "linecolor": "white",
           "ticks": "",
           "title": {
            "standoff": 15
           },
           "zerolinecolor": "white",
           "zerolinewidth": 2
          }
         }
        },
        "xaxis": {
         "anchor": "y",
         "domain": [
          0,
          1
         ],
         "title": {
          "text": "value"
         }
        },
        "yaxis": {
         "anchor": "x",
         "domain": [
          0,
          1
         ],
         "title": {
          "text": "Maschine"
         }
        }
       }
      }
     },
     "metadata": {},
     "output_type": "display_data"
    }
   ],
   "source": [
    "df[\"Maschine\"].value_counts().plot(kind=\"bar\", orientation=\"h\")"
   ]
  },
  {
   "cell_type": "markdown",
   "id": "ba23320c",
   "metadata": {},
   "source": [
    "<span style=\"color:#FF5F00\"><b>AUFGABE:</b></span><br>\n",
    "Stellen Sie selbstständig ein Säulen- oder Balkendiagramm für das nominale Merkmal ```Produkt``` dar. Was fällt Ihnen auf?"
   ]
  },
  {
   "cell_type": "code",
   "execution_count": null,
   "id": "eb0e4c66",
   "metadata": {},
   "outputs": [
    {
     "data": {
      "application/vnd.plotly.v1+json": {
       "config": {
        "plotlyServerURL": "https://plot.ly"
       },
       "data": [
        {
         "hovertemplate": "variable=count<br>Produkt=%{x}<br>value=%{y}<extra></extra>",
         "legendgroup": "count",
         "marker": {
          "color": "#636efa",
          "pattern": {
           "shape": ""
          }
         },
         "name": "count",
         "orientation": "v",
         "showlegend": true,
         "textposition": "auto",
         "type": "bar",
         "x": [
          "Y",
          "X",
          "Z"
         ],
         "xaxis": "x",
         "y": {
          "bdata": "HQLKAQEA",
          "dtype": "i2"
         },
         "yaxis": "y"
        }
       ],
       "layout": {
        "barmode": "relative",
        "legend": {
         "title": {
          "text": "variable"
         },
         "tracegroupgap": 0
        },
        "template": {
         "data": {
          "bar": [
           {
            "error_x": {
             "color": "#2a3f5f"
            },
            "error_y": {
             "color": "#2a3f5f"
            },
            "marker": {
             "line": {
              "color": "#E5ECF6",
              "width": 0.5
             },
             "pattern": {
              "fillmode": "overlay",
              "size": 10,
              "solidity": 0.2
             }
            },
            "type": "bar"
           }
          ],
          "barpolar": [
           {
            "marker": {
             "line": {
              "color": "#E5ECF6",
              "width": 0.5
             },
             "pattern": {
              "fillmode": "overlay",
              "size": 10,
              "solidity": 0.2
             }
            },
            "type": "barpolar"
           }
          ],
          "carpet": [
           {
            "aaxis": {
             "endlinecolor": "#2a3f5f",
             "gridcolor": "white",
             "linecolor": "white",
             "minorgridcolor": "white",
             "startlinecolor": "#2a3f5f"
            },
            "baxis": {
             "endlinecolor": "#2a3f5f",
             "gridcolor": "white",
             "linecolor": "white",
             "minorgridcolor": "white",
             "startlinecolor": "#2a3f5f"
            },
            "type": "carpet"
           }
          ],
          "choropleth": [
           {
            "colorbar": {
             "outlinewidth": 0,
             "ticks": ""
            },
            "type": "choropleth"
           }
          ],
          "contour": [
           {
            "colorbar": {
             "outlinewidth": 0,
             "ticks": ""
            },
            "colorscale": [
             [
              0,
              "#0d0887"
             ],
             [
              0.1111111111111111,
              "#46039f"
             ],
             [
              0.2222222222222222,
              "#7201a8"
             ],
             [
              0.3333333333333333,
              "#9c179e"
             ],
             [
              0.4444444444444444,
              "#bd3786"
             ],
             [
              0.5555555555555556,
              "#d8576b"
             ],
             [
              0.6666666666666666,
              "#ed7953"
             ],
             [
              0.7777777777777778,
              "#fb9f3a"
             ],
             [
              0.8888888888888888,
              "#fdca26"
             ],
             [
              1,
              "#f0f921"
             ]
            ],
            "type": "contour"
           }
          ],
          "contourcarpet": [
           {
            "colorbar": {
             "outlinewidth": 0,
             "ticks": ""
            },
            "type": "contourcarpet"
           }
          ],
          "heatmap": [
           {
            "colorbar": {
             "outlinewidth": 0,
             "ticks": ""
            },
            "colorscale": [
             [
              0,
              "#0d0887"
             ],
             [
              0.1111111111111111,
              "#46039f"
             ],
             [
              0.2222222222222222,
              "#7201a8"
             ],
             [
              0.3333333333333333,
              "#9c179e"
             ],
             [
              0.4444444444444444,
              "#bd3786"
             ],
             [
              0.5555555555555556,
              "#d8576b"
             ],
             [
              0.6666666666666666,
              "#ed7953"
             ],
             [
              0.7777777777777778,
              "#fb9f3a"
             ],
             [
              0.8888888888888888,
              "#fdca26"
             ],
             [
              1,
              "#f0f921"
             ]
            ],
            "type": "heatmap"
           }
          ],
          "histogram": [
           {
            "marker": {
             "pattern": {
              "fillmode": "overlay",
              "size": 10,
              "solidity": 0.2
             }
            },
            "type": "histogram"
           }
          ],
          "histogram2d": [
           {
            "colorbar": {
             "outlinewidth": 0,
             "ticks": ""
            },
            "colorscale": [
             [
              0,
              "#0d0887"
             ],
             [
              0.1111111111111111,
              "#46039f"
             ],
             [
              0.2222222222222222,
              "#7201a8"
             ],
             [
              0.3333333333333333,
              "#9c179e"
             ],
             [
              0.4444444444444444,
              "#bd3786"
             ],
             [
              0.5555555555555556,
              "#d8576b"
             ],
             [
              0.6666666666666666,
              "#ed7953"
             ],
             [
              0.7777777777777778,
              "#fb9f3a"
             ],
             [
              0.8888888888888888,
              "#fdca26"
             ],
             [
              1,
              "#f0f921"
             ]
            ],
            "type": "histogram2d"
           }
          ],
          "histogram2dcontour": [
           {
            "colorbar": {
             "outlinewidth": 0,
             "ticks": ""
            },
            "colorscale": [
             [
              0,
              "#0d0887"
             ],
             [
              0.1111111111111111,
              "#46039f"
             ],
             [
              0.2222222222222222,
              "#7201a8"
             ],
             [
              0.3333333333333333,
              "#9c179e"
             ],
             [
              0.4444444444444444,
              "#bd3786"
             ],
             [
              0.5555555555555556,
              "#d8576b"
             ],
             [
              0.6666666666666666,
              "#ed7953"
             ],
             [
              0.7777777777777778,
              "#fb9f3a"
             ],
             [
              0.8888888888888888,
              "#fdca26"
             ],
             [
              1,
              "#f0f921"
             ]
            ],
            "type": "histogram2dcontour"
           }
          ],
          "mesh3d": [
           {
            "colorbar": {
             "outlinewidth": 0,
             "ticks": ""
            },
            "type": "mesh3d"
           }
          ],
          "parcoords": [
           {
            "line": {
             "colorbar": {
              "outlinewidth": 0,
              "ticks": ""
             }
            },
            "type": "parcoords"
           }
          ],
          "pie": [
           {
            "automargin": true,
            "type": "pie"
           }
          ],
          "scatter": [
           {
            "fillpattern": {
             "fillmode": "overlay",
             "size": 10,
             "solidity": 0.2
            },
            "type": "scatter"
           }
          ],
          "scatter3d": [
           {
            "line": {
             "colorbar": {
              "outlinewidth": 0,
              "ticks": ""
             }
            },
            "marker": {
             "colorbar": {
              "outlinewidth": 0,
              "ticks": ""
             }
            },
            "type": "scatter3d"
           }
          ],
          "scattercarpet": [
           {
            "marker": {
             "colorbar": {
              "outlinewidth": 0,
              "ticks": ""
             }
            },
            "type": "scattercarpet"
           }
          ],
          "scattergeo": [
           {
            "marker": {
             "colorbar": {
              "outlinewidth": 0,
              "ticks": ""
             }
            },
            "type": "scattergeo"
           }
          ],
          "scattergl": [
           {
            "marker": {
             "colorbar": {
              "outlinewidth": 0,
              "ticks": ""
             }
            },
            "type": "scattergl"
           }
          ],
          "scattermap": [
           {
            "marker": {
             "colorbar": {
              "outlinewidth": 0,
              "ticks": ""
             }
            },
            "type": "scattermap"
           }
          ],
          "scattermapbox": [
           {
            "marker": {
             "colorbar": {
              "outlinewidth": 0,
              "ticks": ""
             }
            },
            "type": "scattermapbox"
           }
          ],
          "scatterpolar": [
           {
            "marker": {
             "colorbar": {
              "outlinewidth": 0,
              "ticks": ""
             }
            },
            "type": "scatterpolar"
           }
          ],
          "scatterpolargl": [
           {
            "marker": {
             "colorbar": {
              "outlinewidth": 0,
              "ticks": ""
             }
            },
            "type": "scatterpolargl"
           }
          ],
          "scatterternary": [
           {
            "marker": {
             "colorbar": {
              "outlinewidth": 0,
              "ticks": ""
             }
            },
            "type": "scatterternary"
           }
          ],
          "surface": [
           {
            "colorbar": {
             "outlinewidth": 0,
             "ticks": ""
            },
            "colorscale": [
             [
              0,
              "#0d0887"
             ],
             [
              0.1111111111111111,
              "#46039f"
             ],
             [
              0.2222222222222222,
              "#7201a8"
             ],
             [
              0.3333333333333333,
              "#9c179e"
             ],
             [
              0.4444444444444444,
              "#bd3786"
             ],
             [
              0.5555555555555556,
              "#d8576b"
             ],
             [
              0.6666666666666666,
              "#ed7953"
             ],
             [
              0.7777777777777778,
              "#fb9f3a"
             ],
             [
              0.8888888888888888,
              "#fdca26"
             ],
             [
              1,
              "#f0f921"
             ]
            ],
            "type": "surface"
           }
          ],
          "table": [
           {
            "cells": {
             "fill": {
              "color": "#EBF0F8"
             },
             "line": {
              "color": "white"
             }
            },
            "header": {
             "fill": {
              "color": "#C8D4E3"
             },
             "line": {
              "color": "white"
             }
            },
            "type": "table"
           }
          ]
         },
         "layout": {
          "annotationdefaults": {
           "arrowcolor": "#2a3f5f",
           "arrowhead": 0,
           "arrowwidth": 1
          },
          "autotypenumbers": "strict",
          "coloraxis": {
           "colorbar": {
            "outlinewidth": 0,
            "ticks": ""
           }
          },
          "colorscale": {
           "diverging": [
            [
             0,
             "#8e0152"
            ],
            [
             0.1,
             "#c51b7d"
            ],
            [
             0.2,
             "#de77ae"
            ],
            [
             0.3,
             "#f1b6da"
            ],
            [
             0.4,
             "#fde0ef"
            ],
            [
             0.5,
             "#f7f7f7"
            ],
            [
             0.6,
             "#e6f5d0"
            ],
            [
             0.7,
             "#b8e186"
            ],
            [
             0.8,
             "#7fbc41"
            ],
            [
             0.9,
             "#4d9221"
            ],
            [
             1,
             "#276419"
            ]
           ],
           "sequential": [
            [
             0,
             "#0d0887"
            ],
            [
             0.1111111111111111,
             "#46039f"
            ],
            [
             0.2222222222222222,
             "#7201a8"
            ],
            [
             0.3333333333333333,
             "#9c179e"
            ],
            [
             0.4444444444444444,
             "#bd3786"
            ],
            [
             0.5555555555555556,
             "#d8576b"
            ],
            [
             0.6666666666666666,
             "#ed7953"
            ],
            [
             0.7777777777777778,
             "#fb9f3a"
            ],
            [
             0.8888888888888888,
             "#fdca26"
            ],
            [
             1,
             "#f0f921"
            ]
           ],
           "sequentialminus": [
            [
             0,
             "#0d0887"
            ],
            [
             0.1111111111111111,
             "#46039f"
            ],
            [
             0.2222222222222222,
             "#7201a8"
            ],
            [
             0.3333333333333333,
             "#9c179e"
            ],
            [
             0.4444444444444444,
             "#bd3786"
            ],
            [
             0.5555555555555556,
             "#d8576b"
            ],
            [
             0.6666666666666666,
             "#ed7953"
            ],
            [
             0.7777777777777778,
             "#fb9f3a"
            ],
            [
             0.8888888888888888,
             "#fdca26"
            ],
            [
             1,
             "#f0f921"
            ]
           ]
          },
          "colorway": [
           "#636efa",
           "#EF553B",
           "#00cc96",
           "#ab63fa",
           "#FFA15A",
           "#19d3f3",
           "#FF6692",
           "#B6E880",
           "#FF97FF",
           "#FECB52"
          ],
          "font": {
           "color": "#2a3f5f"
          },
          "geo": {
           "bgcolor": "white",
           "lakecolor": "white",
           "landcolor": "#E5ECF6",
           "showlakes": true,
           "showland": true,
           "subunitcolor": "white"
          },
          "hoverlabel": {
           "align": "left"
          },
          "hovermode": "closest",
          "mapbox": {
           "style": "light"
          },
          "paper_bgcolor": "white",
          "plot_bgcolor": "#E5ECF6",
          "polar": {
           "angularaxis": {
            "gridcolor": "white",
            "linecolor": "white",
            "ticks": ""
           },
           "bgcolor": "#E5ECF6",
           "radialaxis": {
            "gridcolor": "white",
            "linecolor": "white",
            "ticks": ""
           }
          },
          "scene": {
           "xaxis": {
            "backgroundcolor": "#E5ECF6",
            "gridcolor": "white",
            "gridwidth": 2,
            "linecolor": "white",
            "showbackground": true,
            "ticks": "",
            "zerolinecolor": "white"
           },
           "yaxis": {
            "backgroundcolor": "#E5ECF6",
            "gridcolor": "white",
            "gridwidth": 2,
            "linecolor": "white",
            "showbackground": true,
            "ticks": "",
            "zerolinecolor": "white"
           },
           "zaxis": {
            "backgroundcolor": "#E5ECF6",
            "gridcolor": "white",
            "gridwidth": 2,
            "linecolor": "white",
            "showbackground": true,
            "ticks": "",
            "zerolinecolor": "white"
           }
          },
          "shapedefaults": {
           "line": {
            "color": "#2a3f5f"
           }
          },
          "ternary": {
           "aaxis": {
            "gridcolor": "white",
            "linecolor": "white",
            "ticks": ""
           },
           "baxis": {
            "gridcolor": "white",
            "linecolor": "white",
            "ticks": ""
           },
           "bgcolor": "#E5ECF6",
           "caxis": {
            "gridcolor": "white",
            "linecolor": "white",
            "ticks": ""
           }
          },
          "title": {
           "x": 0.05
          },
          "xaxis": {
           "automargin": true,
           "gridcolor": "white",
           "linecolor": "white",
           "ticks": "",
           "title": {
            "standoff": 15
           },
           "zerolinecolor": "white",
           "zerolinewidth": 2
          },
          "yaxis": {
           "automargin": true,
           "gridcolor": "white",
           "linecolor": "white",
           "ticks": "",
           "title": {
            "standoff": 15
           },
           "zerolinecolor": "white",
           "zerolinewidth": 2
          }
         }
        },
        "title": {
         "text": "Anzahl von Produkten"
        },
        "xaxis": {
         "anchor": "y",
         "domain": [
          0,
          1
         ],
         "title": {
          "text": "Produkt"
         }
        },
        "yaxis": {
         "anchor": "x",
         "domain": [
          0,
          1
         ],
         "title": {
          "text": "Anzahl"
         }
        }
       }
      }
     },
     "metadata": {},
     "output_type": "display_data"
    }
   ],
   "source": [
    "# Erstelle Diagramm von Produkten analog zu den oberen Beispielen\n",
    "plot = df[\"Produkt\"].value_counts().plot(kind=\"bar\", title=\"Anzahl von Produkten (absolute Häufigkeit)\")\n",
    "#* Note: Die Achsen müssen explizit umbenannt werden\n",
    "plot.update_layout(xaxis_title=\"Produkt\", yaxis_title=\"Anzahl\")"
   ]
  },
  {
   "cell_type": "markdown",
   "id": "b9e91c1b",
   "metadata": {},
   "source": [
    "<span style=\"color:#FF5F00\"><b>Stimmt was nicht?</b></span><br>\n",
    "\n",
    "Anders als beim Diagramm mit Maschinen, ist die Verteilung unter Produkten ziemlich ungleich. Das liegt hauptsächlich daran, dass es nur ein Datensatz für `Z`-Produkte gibt."
   ]
  },
  {
   "cell_type": "markdown",
   "id": "568fa645",
   "metadata": {},
   "source": [
    "Widmen wir uns als nächstes den metrischen Merkmalen. Metrische Merkmale kann man in Wertebereiche (englisch _bins_) einteilen und in einem [Histogramm](https://plotly.github.io/plotly.py-docs/generated/plotly.express.histogram.html) visualisieren. Ein Histogramm stellt eine Häufigkeitsverteilung dar, die man mit einigen Eigenschaften charakterisieren kann. Eventuell möchten Sie auf Wikipedia kurz nachschauen, was ein Mittelwert, eine Standardabweichung, ein Median sowie Quantile sind."
   ]
  },
  {
   "cell_type": "markdown",
   "id": "699d8cb3",
   "metadata": {},
   "source": [
    "Ein Histogramm lässt sich mit Plotly ganz einfach darstellen, zum Beispiel für die Drehzahl pro Minute:"
   ]
  },
  {
   "cell_type": "code",
   "execution_count": null,
   "id": "1a72846e",
   "metadata": {},
   "outputs": [
    {
     "data": {
      "application/vnd.plotly.v1+json": {
       "config": {
        "plotlyServerURL": "https://plot.ly"
       },
       "data": [
        {
         "bingroup": "x",
         "hovertemplate": "variable=Drehzahl / 1/min<br>value=%{x}<br>count=%{y}<extra></extra>",
         "legendgroup": "Drehzahl / 1/min",
         "marker": {
          "color": "#636efa",
          "pattern": {
           "shape": ""
          }
         },
         "name": "Drehzahl / 1/min",
         "orientation": "v",
         "showlegend": true,
         "type": "histogram",
         "x": {
          "bdata": "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",
          "dtype": "i2"
         },
         "xaxis": "x",
         "yaxis": "y"
        }
       ],
       "layout": {
        "barmode": "relative",
        "legend": {
         "title": {
          "text": "variable"
         },
         "tracegroupgap": 0
        },
        "margin": {
         "t": 60
        },
        "template": {
         "data": {
          "bar": [
           {
            "error_x": {
             "color": "#2a3f5f"
            },
            "error_y": {
             "color": "#2a3f5f"
            },
            "marker": {
             "line": {
              "color": "#E5ECF6",
              "width": 0.5
             },
             "pattern": {
              "fillmode": "overlay",
              "size": 10,
              "solidity": 0.2
             }
            },
            "type": "bar"
           }
          ],
          "barpolar": [
           {
            "marker": {
             "line": {
              "color": "#E5ECF6",
              "width": 0.5
             },
             "pattern": {
              "fillmode": "overlay",
              "size": 10,
              "solidity": 0.2
             }
            },
            "type": "barpolar"
           }
          ],
          "carpet": [
           {
            "aaxis": {
             "endlinecolor": "#2a3f5f",
             "gridcolor": "white",
             "linecolor": "white",
             "minorgridcolor": "white",
             "startlinecolor": "#2a3f5f"
            },
            "baxis": {
             "endlinecolor": "#2a3f5f",
             "gridcolor": "white",
             "linecolor": "white",
             "minorgridcolor": "white",
             "startlinecolor": "#2a3f5f"
            },
            "type": "carpet"
           }
          ],
          "choropleth": [
           {
            "colorbar": {
             "outlinewidth": 0,
             "ticks": ""
            },
            "type": "choropleth"
           }
          ],
          "contour": [
           {
            "colorbar": {
             "outlinewidth": 0,
             "ticks": ""
            },
            "colorscale": [
             [
              0,
              "#0d0887"
             ],
             [
              0.1111111111111111,
              "#46039f"
             ],
             [
              0.2222222222222222,
              "#7201a8"
             ],
             [
              0.3333333333333333,
              "#9c179e"
             ],
             [
              0.4444444444444444,
              "#bd3786"
             ],
             [
              0.5555555555555556,
              "#d8576b"
             ],
             [
              0.6666666666666666,
              "#ed7953"
             ],
             [
              0.7777777777777778,
              "#fb9f3a"
             ],
             [
              0.8888888888888888,
              "#fdca26"
             ],
             [
              1,
              "#f0f921"
             ]
            ],
            "type": "contour"
           }
          ],
          "contourcarpet": [
           {
            "colorbar": {
             "outlinewidth": 0,
             "ticks": ""
            },
            "type": "contourcarpet"
           }
          ],
          "heatmap": [
           {
            "colorbar": {
             "outlinewidth": 0,
             "ticks": ""
            },
            "colorscale": [
             [
              0,
              "#0d0887"
             ],
             [
              0.1111111111111111,
              "#46039f"
             ],
             [
              0.2222222222222222,
              "#7201a8"
             ],
             [
              0.3333333333333333,
              "#9c179e"
             ],
             [
              0.4444444444444444,
              "#bd3786"
             ],
             [
              0.5555555555555556,
              "#d8576b"
             ],
             [
              0.6666666666666666,
              "#ed7953"
             ],
             [
              0.7777777777777778,
              "#fb9f3a"
             ],
             [
              0.8888888888888888,
              "#fdca26"
             ],
             [
              1,
              "#f0f921"
             ]
            ],
            "type": "heatmap"
           }
          ],
          "histogram": [
           {
            "marker": {
             "pattern": {
              "fillmode": "overlay",
              "size": 10,
              "solidity": 0.2
             }
            },
            "type": "histogram"
           }
          ],
          "histogram2d": [
           {
            "colorbar": {
             "outlinewidth": 0,
             "ticks": ""
            },
            "colorscale": [
             [
              0,
              "#0d0887"
             ],
             [
              0.1111111111111111,
              "#46039f"
             ],
             [
              0.2222222222222222,
              "#7201a8"
             ],
             [
              0.3333333333333333,
              "#9c179e"
             ],
             [
              0.4444444444444444,
              "#bd3786"
             ],
             [
              0.5555555555555556,
              "#d8576b"
             ],
             [
              0.6666666666666666,
              "#ed7953"
             ],
             [
              0.7777777777777778,
              "#fb9f3a"
             ],
             [
              0.8888888888888888,
              "#fdca26"
             ],
             [
              1,
              "#f0f921"
             ]
            ],
            "type": "histogram2d"
           }
          ],
          "histogram2dcontour": [
           {
            "colorbar": {
             "outlinewidth": 0,
             "ticks": ""
            },
            "colorscale": [
             [
              0,
              "#0d0887"
             ],
             [
              0.1111111111111111,
              "#46039f"
             ],
             [
              0.2222222222222222,
              "#7201a8"
             ],
             [
              0.3333333333333333,
              "#9c179e"
             ],
             [
              0.4444444444444444,
              "#bd3786"
             ],
             [
              0.5555555555555556,
              "#d8576b"
             ],
             [
              0.6666666666666666,
              "#ed7953"
             ],
             [
              0.7777777777777778,
              "#fb9f3a"
             ],
             [
              0.8888888888888888,
              "#fdca26"
             ],
             [
              1,
              "#f0f921"
             ]
            ],
            "type": "histogram2dcontour"
           }
          ],
          "mesh3d": [
           {
            "colorbar": {
             "outlinewidth": 0,
             "ticks": ""
            },
            "type": "mesh3d"
           }
          ],
          "parcoords": [
           {
            "line": {
             "colorbar": {
              "outlinewidth": 0,
              "ticks": ""
             }
            },
            "type": "parcoords"
           }
          ],
          "pie": [
           {
            "automargin": true,
            "type": "pie"
           }
          ],
          "scatter": [
           {
            "fillpattern": {
             "fillmode": "overlay",
             "size": 10,
             "solidity": 0.2
            },
            "type": "scatter"
           }
          ],
          "scatter3d": [
           {
            "line": {
             "colorbar": {
              "outlinewidth": 0,
              "ticks": ""
             }
            },
            "marker": {
             "colorbar": {
              "outlinewidth": 0,
              "ticks": ""
             }
            },
            "type": "scatter3d"
           }
          ],
          "scattercarpet": [
           {
            "marker": {
             "colorbar": {
              "outlinewidth": 0,
              "ticks": ""
             }
            },
            "type": "scattercarpet"
           }
          ],
          "scattergeo": [
           {
            "marker": {
             "colorbar": {
              "outlinewidth": 0,
              "ticks": ""
             }
            },
            "type": "scattergeo"
           }
          ],
          "scattergl": [
           {
            "marker": {
             "colorbar": {
              "outlinewidth": 0,
              "ticks": ""
             }
            },
            "type": "scattergl"
           }
          ],
          "scattermap": [
           {
            "marker": {
             "colorbar": {
              "outlinewidth": 0,
              "ticks": ""
             }
            },
            "type": "scattermap"
           }
          ],
          "scattermapbox": [
           {
            "marker": {
             "colorbar": {
              "outlinewidth": 0,
              "ticks": ""
             }
            },
            "type": "scattermapbox"
           }
          ],
          "scatterpolar": [
           {
            "marker": {
             "colorbar": {
              "outlinewidth": 0,
              "ticks": ""
             }
            },
            "type": "scatterpolar"
           }
          ],
          "scatterpolargl": [
           {
            "marker": {
             "colorbar": {
              "outlinewidth": 0,
              "ticks": ""
             }
            },
            "type": "scatterpolargl"
           }
          ],
          "scatterternary": [
           {
            "marker": {
             "colorbar": {
              "outlinewidth": 0,
              "ticks": ""
             }
            },
            "type": "scatterternary"
           }
          ],
          "surface": [
           {
            "colorbar": {
             "outlinewidth": 0,
             "ticks": ""
            },
            "colorscale": [
             [
              0,
              "#0d0887"
             ],
             [
              0.1111111111111111,
              "#46039f"
             ],
             [
              0.2222222222222222,
              "#7201a8"
             ],
             [
              0.3333333333333333,
              "#9c179e"
             ],
             [
              0.4444444444444444,
              "#bd3786"
             ],
             [
              0.5555555555555556,
              "#d8576b"
             ],
             [
              0.6666666666666666,
              "#ed7953"
             ],
             [
              0.7777777777777778,
              "#fb9f3a"
             ],
             [
              0.8888888888888888,
              "#fdca26"
             ],
             [
              1,
              "#f0f921"
             ]
            ],
            "type": "surface"
           }
          ],
          "table": [
           {
            "cells": {
             "fill": {
              "color": "#EBF0F8"
             },
             "line": {
              "color": "white"
             }
            },
            "header": {
             "fill": {
              "color": "#C8D4E3"
             },
             "line": {
              "color": "white"
             }
            },
            "type": "table"
           }
          ]
         },
         "layout": {
          "annotationdefaults": {
           "arrowcolor": "#2a3f5f",
           "arrowhead": 0,
           "arrowwidth": 1
          },
          "autotypenumbers": "strict",
          "coloraxis": {
           "colorbar": {
            "outlinewidth": 0,
            "ticks": ""
           }
          },
          "colorscale": {
           "diverging": [
            [
             0,
             "#8e0152"
            ],
            [
             0.1,
             "#c51b7d"
            ],
            [
             0.2,
             "#de77ae"
            ],
            [
             0.3,
             "#f1b6da"
            ],
            [
             0.4,
             "#fde0ef"
            ],
            [
             0.5,
             "#f7f7f7"
            ],
            [
             0.6,
             "#e6f5d0"
            ],
            [
             0.7,
             "#b8e186"
            ],
            [
             0.8,
             "#7fbc41"
            ],
            [
             0.9,
             "#4d9221"
            ],
            [
             1,
             "#276419"
            ]
           ],
           "sequential": [
            [
             0,
             "#0d0887"
            ],
            [
             0.1111111111111111,
             "#46039f"
            ],
            [
             0.2222222222222222,
             "#7201a8"
            ],
            [
             0.3333333333333333,
             "#9c179e"
            ],
            [
             0.4444444444444444,
             "#bd3786"
            ],
            [
             0.5555555555555556,
             "#d8576b"
            ],
            [
             0.6666666666666666,
             "#ed7953"
            ],
            [
             0.7777777777777778,
             "#fb9f3a"
            ],
            [
             0.8888888888888888,
             "#fdca26"
            ],
            [
             1,
             "#f0f921"
            ]
           ],
           "sequentialminus": [
            [
             0,
             "#0d0887"
            ],
            [
             0.1111111111111111,
             "#46039f"
            ],
            [
             0.2222222222222222,
             "#7201a8"
            ],
            [
             0.3333333333333333,
             "#9c179e"
            ],
            [
             0.4444444444444444,
             "#bd3786"
            ],
            [
             0.5555555555555556,
             "#d8576b"
            ],
            [
             0.6666666666666666,
             "#ed7953"
            ],
            [
             0.7777777777777778,
             "#fb9f3a"
            ],
            [
             0.8888888888888888,
             "#fdca26"
            ],
            [
             1,
             "#f0f921"
            ]
           ]
          },
          "colorway": [
           "#636efa",
           "#EF553B",
           "#00cc96",
           "#ab63fa",
           "#FFA15A",
           "#19d3f3",
           "#FF6692",
           "#B6E880",
           "#FF97FF",
           "#FECB52"
          ],
          "font": {
           "color": "#2a3f5f"
          },
          "geo": {
           "bgcolor": "white",
           "lakecolor": "white",
           "landcolor": "#E5ECF6",
           "showlakes": true,
           "showland": true,
           "subunitcolor": "white"
          },
          "hoverlabel": {
           "align": "left"
          },
          "hovermode": "closest",
          "mapbox": {
           "style": "light"
          },
          "paper_bgcolor": "white",
          "plot_bgcolor": "#E5ECF6",
          "polar": {
           "angularaxis": {
            "gridcolor": "white",
            "linecolor": "white",
            "ticks": ""
           },
           "bgcolor": "#E5ECF6",
           "radialaxis": {
            "gridcolor": "white",
            "linecolor": "white",
            "ticks": ""
           }
          },
          "scene": {
           "xaxis": {
            "backgroundcolor": "#E5ECF6",
            "gridcolor": "white",
            "gridwidth": 2,
            "linecolor": "white",
            "showbackground": true,
            "ticks": "",
            "zerolinecolor": "white"
           },
           "yaxis": {
            "backgroundcolor": "#E5ECF6",
            "gridcolor": "white",
            "gridwidth": 2,
            "linecolor": "white",
            "showbackground": true,
            "ticks": "",
            "zerolinecolor": "white"
           },
           "zaxis": {
            "backgroundcolor": "#E5ECF6",
            "gridcolor": "white",
            "gridwidth": 2,
            "linecolor": "white",
            "showbackground": true,
            "ticks": "",
            "zerolinecolor": "white"
           }
          },
          "shapedefaults": {
           "line": {
            "color": "#2a3f5f"
           }
          },
          "ternary": {
           "aaxis": {
            "gridcolor": "white",
            "linecolor": "white",
            "ticks": ""
           },
           "baxis": {
            "gridcolor": "white",
            "linecolor": "white",
            "ticks": ""
           },
           "bgcolor": "#E5ECF6",
           "caxis": {
            "gridcolor": "white",
            "linecolor": "white",
            "ticks": ""
           }
          },
          "title": {
           "x": 0.05
          },
          "xaxis": {
           "automargin": true,
           "gridcolor": "white",
           "linecolor": "white",
           "ticks": "",
           "title": {
            "standoff": 15
           },
           "zerolinecolor": "white",
           "zerolinewidth": 2
          },
          "yaxis": {
           "automargin": true,
           "gridcolor": "white",
           "linecolor": "white",
           "ticks": "",
           "title": {
            "standoff": 15
           },
           "zerolinecolor": "white",
           "zerolinewidth": 2
          }
         }
        },
        "xaxis": {
         "anchor": "y",
         "domain": [
          0,
          1
         ],
         "title": {
          "text": "value"
         }
        },
        "yaxis": {
         "anchor": "x",
         "domain": [
          0,
          1
         ],
         "title": {
          "text": "count"
         }
        }
       }
      }
     },
     "metadata": {},
     "output_type": "display_data"
    }
   ],
   "source": [
    "df[\"Drehzahl / 1/min\"].plot(kind=\"histogram\")"
   ]
  },
  {
   "cell_type": "markdown",
   "id": "3f111abe",
   "metadata": {},
   "source": [
    "<span style=\"color:#FF5F00\"><b>AUFGABE:</b></span><br>\n",
    "Versuchen Sie, mit der Histogramm-Funktion zu spielen: stellen Sie selbständig ein Histogramm von der Stromaufnahme in Ampere dar. Was fällt Ihnen an dieser Verteilung auf?"
   ]
  },
  {
   "cell_type": "code",
   "execution_count": null,
   "id": "24a76cf1",
   "metadata": {},
   "outputs": [
    {
     "data": {
      "application/vnd.plotly.v1+json": {
       "config": {
        "plotlyServerURL": "https://plot.ly"
       },
       "data": [
        {
         "bingroup": "x",
         "hovertemplate": "variable=Strom / A<br>value=%{x}<br>count=%{y}<extra></extra>",
         "legendgroup": "Strom / A",
         "marker": {
          "color": "#636efa",
          "pattern": {
           "shape": ""
          }
         },
         "name": "Strom / A",
         "orientation": "v",
         "showlegend": true,
         "type": "histogram",
         "x": {
          "bdata": "1XjpJjHINkBeukkMAsszQNv5fmq8lDlAhetRuB4lPEAlBoGVQ4s5QJMYBFYObTVA8KfGSzfJNkBMN4lBYAU3QOF6FK5HQTZAUrgehesxOkBGtvP91NgzQKAaL90khjRAf2q8dJM4OkASg8DKoUU6QDMzMzMzczVAJQaBlUNrNkAzMzMzMzM5QI2XbhKDwDNAw/UoXI9iM0ACK4cW2a45QNejcD0KlzNAJQaBlUPrNEDRItv5foo0QAisHFpkWzVAi2zn+6nxOUB7FK5H4bo7QESLbOf7STlARIts5/tJNUAGgZVDiww6QHWTGARWrjRAYhBYObToNEAdWmQ73881QJHtfD81HjZAH4XrUbg+NUBGtvP91Pg0QIPAyqFFNjVARIts5/spOkDHSzeJQSA3QKrx0k1i0DRAkxgEVg7tO0BSuB6F67E3QBSuR+F6lDZAvp8aL91ENUB3vp8aL300QIXrUbgexTRATmIQWDkUOUCmm8QgsDIzQPp+arx0czRAZDvfT43XNkBoke18PzU0QH0/NV66aTRAx0s3iUFgN0CBlUOLbKc1QEjhehSuJzNArkfhehSOM0CgGi/dJGY0QB1aZDvfTzpASgwCK4dWNECsHFpkO986QIXrUbgehTZAbef7qfGyOkCiRbbz/fQ7QM3MzMzMjDZAfT81XroJOUDJdr6fGo83QEw3iUFghTpA8tJNYhA4NUDXo3A9Ctc1QFYOLbKd7zRAKVyPwvWoOECWQ4ts59s2QMHKoUW2czpA8tJNYhDYNEAUrkfhevQzQGiR7Xw/NTRAVOOlm8QgNUAtsp3vp8Y2QKjGSzeJgTVARrbz/dQYOkAAAAAAAAAzQIcW2c738zlAZmZmZmYGN0DNzMzMzIw2QLbz/dR4yThA9P3UeOnmM0BQjZduEuMzQNEi2/l+yjNAAiuHFtkON0D6fmq8dHMzQBkEVg4t0jlANV66SQyiM0B56SYxCAw1QNNNYhBYWTZAL90kBoF1NkC0yHa+n3o1QJzEILBySDNAHVpkO9+PNkD6fmq8dDM7QClcj8L1iDNASgwCK4d2NkAGgZVDiyw1QFyPwvUoXDpAukkMAivnMkBMN4lBYKU0QC/dJAaBVTZAhetRuB6FM0A9CtejcP05QFg5tMh2PjZADAIrhxa5M0ArhxbZztc2QKAaL90kxjRAUrgeheuxOEDfT42XblI0QC2yne+nZjNA+n5qvHQzN0C6SQwCK8c2QMP1KFyPIjlAXI/C9Sh8M0DZzvdT42U0QLByaJHtPDRAppvEILBSN0AUrkfhelQ6QGDl0CLbmTZAoBov3STGM0Cmm8QgsLI5QF66SQwCizRA4XoUrkdhNkAzMzMzMzM7QLx0kxgE9jZAGy/dJAbhNUB56SYxCMw1QCuHFtnONzZArBxaZDvfOUBvEoPAyiE1QGQ730+NVzdAUI2XbhIDNkDHSzeJQcA2QL6fGi/dZDpA30+Nl26yOEAbL90kBiE9QNv5fmq8dDRA9P3UeOmGOUB1kxgEVo40QDm0yHa+vzlALbKd76emM0AMAiuHFhkzQFYOLbKdTzdAI9v5fmqcNkBI4XoUrmc0QNV46SYxqDNAH4XrUbi+NkAOLbKd7yc2QClcj8L1aDVA30+Nl25SNEAdWmQ73y88QO58PzVeejlAeekmMQjMM0CTGARWDg01QF66SQwC6zVANV66SQwCNEBkO99Pjbc8QBBYObTINjpAAAAAAAAgNEA9CtejcF01QNejcD0KdzZAAAAAAADgNkA1XrpJDOI1QBkEVg4t8jxAi2zn+6lRNECYbhKDwEo5QPLSTWIQODlALbKd76emO0ArhxbZzvc5QM3MzMzMrDhAXI/C9SjcMkAhsHJokS00QM/3U+OlezVA7FG4HoULNUBMN4lBYCU1QN0kBoGVgzlAPQrXo3BdNECDwMqhRbYzQCUGgZVDizdAWDm0yHY+N0DLoUW28101QLTIdr6fWjNA9ihcj8LVMkCoxks3iWE3QMP1KFyPYjZA4XoUrkchNECiRbbz/dQ2QIts5/upcTRAwcqhRbZTOEDdJAaBlaM6QMl2vp8aLzlAJzEIrBxaOUDRItv5fso0QFg5tMh2/jRAke18PzU+NUAIrBxaZDs0QFg5tMh2fjVARIts5/tpNEB3vp8aL50zQCuHFtnOVzpAnMQgsHJIM0BCYOXQIrszQDVeukkMYjVA1XjpJjFoNkAQWDm0yLY6QHWTGARWbjVARrbz/dR4OUDZzvdT44UzQAwCK4cW+TVA0SLb+X4qOkDy0k1iEDg6QOkmMQisHDVAJQaBlUOLN0D0/dR46aY3QMdLN4lBoDdAFK5H4Xp0OUAOLbKd7wc1QI/C9ShcDzdAokW28/1UNkDLoUW28z02QIXrUbgeRTNAz/dT46WbM0BU46WbxAA5QA4tsp3vhzRA1XjpJjGINECiRbbz/fQzQGZmZmZmpjNAx0s3iUGgM0DTTWIQWBk1QAaBlUOLrDRA8tJNYhAYOkAtsp3vp2Y3QN0kBoGVIzNA+FPjpZvENEB3vp8aL/05QG3n+6nxUjxAPQrXo3BdOEC+nxov3SQ3QCuHFtnO1zNAMzMzMzPzM0AUrkfhelQ2QG3n+6nxkjNAVOOlm8QgN0CF61G4HgU1QIlBYOXQgjZAokW28/10M0Cmm8QgsPI1QM/3U+OlezRAke18PzXeMkAGgZVDi8w0QLKd76fG6zRAO99PjZcuNUD+1HjpJtE2QI/C9ShcDzZAN4lBYOUQOUBCYOXQItszQEoMAiuHtjZADi2yne8HNUCWQ4ts57s2QAwCK4cWuThACtejcD2KOUAAAAAAAAD4f8UgsHJocTZAGQRWDi3yNkBI4XoUrkczQIPAyqFFFjRAsHJoke2cM0AxCKwcWuQ2QG3n+6nxsjZA3SQGgZXjMkAAAAAAACA2QL6fGi/dRDVAz/dT46V7NUCDwMqhRXY0QO58PzVe2jNAjZduEoNgNUCDwMqhRXY0QIPAyqFFljNAvp8aL91kNEC6SQwCK8c2QLKd76fGqztANV66SQwiNkDLoUW28x02QIts5/upUTNAoBov3SSmOUBU46WbxKA0QKAaL90khjpAnMQgsHLoOEAlBoGVQ8szQNNNYhBYWTpAEFg5tMi2MkDhehSuRyE3QCGwcmiRjTZAEoPAyqGFNkD4U+Olm6Q6QG3n+6nxEjRAuB6F61G4OkCR7Xw/Nb40QCuHFtnOdzlAMQisHFokOkACK4cW2e42QMl2vp8arzZACtejcD1qOUCWQ4ts59s0QKabxCCw8jNAL90kBoE1OkD+1HjpJvE4QDMzMzMzMzVA2c73U+MFN0AX2c73U+MzQPyp8dJN4jVAAAAAAADgNEAbL90kBmE2QAwCK4cWOTpARIts5/vJPEDy0k1iENg5QGIQWDm0aDZAN4lBYOVwOkBI4XoUrqczQEjhehSuhz1AJQaBlUMrNUA5tMh2vh81QNEi2/l+yjZAyXa+nxovPEDZzvdT40U4QLTIdr6fOjdAAiuHFtkONUCwcmiR7Zw0QJ7vp8ZLVzNAz/dT46W7M0AX2c73U2M5QFCNl24SAzdAvp8aL90kNUCiRbbz/TQ2QFpkO99P7ThAx0s3iUFANEB3vp8aLz03QM/3U+Ol+zNAH4XrUbg+M0Cq8dJNYlAzQEoMAiuH9jhAAAAAAACAM0CTGARWDg01QHe+nxovHTRAAAAAAADANEAzMzMzM9M4QAAAAAAA4DVApHA9CtfDNEBkO99Pjdc2QARWDi2ynTZAmpmZmZl5OkBkO99Pjdc5QJMYBFYObTxAK4cW2c63NkDVeOkmMeg3QP7UeOkm8TNAqvHSTWKwO0AbL90kBiE1QB1aZDvfLzVAXrpJDAILOUBmZmZmZiY1QMUgsHJocTRA8KfGSzdJOUCq8dJNYlA0QLgehetReDRACKwcWmT7NkBCYOXQIrs2QL6fGi/dhDRAj8L1KFwvOkBU46WbxCA1QPp+arx08zNAyXa+nxrPM0BmZmZmZuYzQDm0yHa+vzZA/tR46SaRNUA5tMh2vp82QBfZzvdTYzlAO99PjZcONUCe76fGSzc5QAwCK4cWuTNAbxKDwMpBNkCPwvUoXM87QD81XrpJDDpAppvEILDyNUAX2c73U4M3QOxRuB6FazVAaJHtfD81NkBGtvP91FgzQD81XrpJzDlAmG4Sg8BqM0BEi2zn+4kzQKjGSzeJYTNAWmQ730/NM0DFILByaHEzQEjhehSuRzVARIts5/vJM0AAAAAAAGA5QFCNl24SwzlA30+Nl25SM0ArhxbZzhc3QDEIrBxa5DlAXI/C9Sh8OUCsHFpkOx83QIcW2c730zNAzczMzMzsNkC+nxov3cQ5QGIQWDm0aDlAbef7qfHyNUC6SQwCKyc3QEw3iUFg5TNAwcqhRbbTNUDByqFFtlM1QM/3U+Ol+zVA+FPjpZuENUAAAAAAAEA5QFpkO99PzTVAL90kBoE1OkDjpZvEIJA1QJZDi2znWzdADAIrhxa5NECJQWDl0EI5QDEIrBxapDNAGQRWDi2yNkACK4cW2Q41QNNNYhBYWTZAfT81XrrpNUASg8DKocUzQI/C9Shc7zRAKVyPwvVoM0Bcj8L1KJw5QEjhehSu5zZA3SQGgZUDN0BxPQrXo/A0QD0K16NwPTZA4XoUrkcBNEDb+X5qvFQ0QARWDi2yvThAc2iR7XyfM0CgGi/dJMYyQJzEILByCDNA6SYxCKzcNUAEVg4tsv00QC2yne+nRjVAYhBYObRINkCYbhKDwCo6QL6fGi/dpDNAg8DKoUW2MkCuR+F6FM4yQD81XrpJLDdAHVpkO9/vOUCkcD0K16M0QFTjpZvEwDlAAiuHFtlOM0Boke18P5U8QGIQWDm06DJAN4lBYOWwNEAzMzMzM1M0QOf7qfHSTTNAXI/C9Sj8OUB9PzVeugk4QOOlm8QgEDpAaJHtfD81OkCDwMqhRRY1QKrx0k1i8DRAc2iR7XyfM0Bg5dAi2/k0QLpJDAIrRzhAzczMzMysPEBOYhBYORQ9QKRwPQrXozNABoGVQ4usNEBqvHSTGGQ2QA4tsp3vZzlAObTIdr5/OEDZzvdT42U2QJzEILByCDpATDeJQWDlOUDl0CLb+V40QLKd76fGSzRAnu+nxktXNkCDwMqhRZY2QCuHFtnO9zVADi2yne9nNkCyne+nxss3QArXo3A96jlAc2iR7Xx/N0DZzvdT48U0QKrx0k1i8DZACKwcWmQbNED8qfHSTcI5QNejcD0KlzlAPzVeuklMNkCBlUOLbMc1QFK4HoXrUTpATmIQWDlUM0C6SQwCK0c8QESLbOf7KTVAg8DKoUVWNUDD9Shcj2I0QGZmZmZmhjNAi2zn+6kROkAMAiuHFlkzQMUgsHJocTZA8tJNYhC4NEBxPQrXo7A1QAwCK4cWmTNAPzVeukkMN0DRItv5fqozQPCnxks36TZAd76fGi+dO0BCYOXQIlszQH9qvHSTODVAMzMzMzOTOEC8dJMYBFYzQDVeukkMAjZAhxbZzvdzNkCyne+nxis3QIcW2c73UzNAtMh2vp8aNUApXI/C9cg2QN0kBoGVIzRAi2zn+6nxOECsHFpkO582QE5iEFg51DNAmpmZmZn5O0CLbOf7qfE3QKabxCCwkjhABoGVQ4tMNUApXI/C9Sg0QAisHFpkWzRAbef7qfHSNUCPwvUoXO80QHsUrkfh+jlAVg4tsp1PPEDdJAaBleMzQIts5/upMTdACtejcD0KOkCwcmiR7Vw2QN0kBoGVgzRA2c73U+OFNkAX2c73U4M3QDvfT42X7jJAmpmZmZk5NUCyne+nxos5QJqZmZmZ2TlAqMZLN4nBM0A5tMh2vr87QOF6FK5HoTZAYhBYObQoM0DLoUW28x03QOXQItv5HjdAgZVDi2xnNkBg5dAi27k0QHWTGARWLjdAg8DKoUWWNUDXo3A9Cjc2QCuHFtnOlzVAVOOlm8RANECkcD0K10M6QOXQItv5njRAUI2XbhKDNkAzMzMzM7MzQC/dJAaBFTVA9ihcj8I1NEBaZDvfT602QAisHFpkGzVAexSuR+E6M0BYObTIdh44QFpkO99PLTpAEFg5tMg2OkCoxks3iSE0QNnO91Pj5TNAbxKDwMqhNkCiRbbz/dQ4QBSuR+F69DNABFYOLbJ9N0DdJAaBlYM2QIlBYOXQojdAtvP91HgJNkA5tMh2vp83QDEIrBxapDRAnu+nxkvXNEAAAAAAAOA4QFTjpZvEYDVASgwCK4c2NkA9CtejcJ03QPT91Hjp5jhAvHSTGARWNkCkcD0K12M1QCUGgZVDizlA001iEFiZNkD0/dR46WY4QI2XbhKD4DVAJzEIrBwaNkAxCKwcWoQzQC/dJAaBVTpA16NwPQqXNEDb+X5qvBQ0QGQ730+NlzRAvHSTGARWNEAIrBxaZJs2QMdLN4lBADdAFK5H4XqUNEAtsp3vp0YzQBfZzvdT4zNAcT0K16NQNEDl0CLb+V4zQP7UeOkm0TlAvHSTGAT2NkDjpZvEIPA7QNnO91PjZTZAQmDl0CLbNEAAAAAAAKA8QIcW2c73EzZAppvEILDSNEBxPQrXo9A0QBKDwMqh5TZADi2yne9HN0BGtvP91Fg2QEjhehSuBzpAEFg5tMgWM0CsHFpkO182QB1aZDvfrzVA4XoUrkehM0CLbOf7qXE2QCPb+X5qfDRAGy/dJAbBPEDNzMzMzIw1QA4tsp3vhzVAdZMYBFYOO0BxPQrXo5AzQO58PzVeujlAGQRWDi2yNkBeukkMAus5QC/dJAaBFTNAWDm0yHZeN0DLoUW28/00QAaBlUOLTDZAMQisHFqEM0DhehSuRwE6QDVeukkMQjpA0SLb+X4KNUBSuB6F63E1QMuhRbbzHTVA8tJNYhD4OUAfhetRuN41QHnpJjEIbDlArkfhehRuNEB/arx0kzgzQHWTGARW7jZA5dAi2/leNECF61G4HuU5QNv5fmq81DlA8KfGSzdJNEC8dJMYBNY3QCGwcmiRjTlAMzMzMzOzOUA730+Nl441QHe+nxovHTVA1XjpJjGIN0Ce76fGS5czQNNNYhBYeTRAwcqhRbYTNkDFILByaPEzQGIQWDm0KDdAnu+nxkt3NEAlBoGVQws6QHe+nxovnTlArBxaZDtfOUC4HoXrUTg1QA4tsp3vBzVA2c73U+PlOED+1HjpJnE6QP7UeOkmMTdAbxKDwMpBN0C28/3UeIk1QIXrUbgeZThAoBov3SSmOUCkcD0K14M5QNv5fmq81DNA5dAi2/leNkBWDi2ynU83QIGVQ4tsRzdAmG4Sg8CqNkAlBoGVQ0s1QH0/NV66aTRAGQRWDi3SNEAhsHJokQ02QAaBlUOLLDNAjZduEoOANUAhsHJokQ03QGiR7Xw/VTdAVg4tsp2POUB1kxgEVk43QOF6FK5HoTdAiUFg5dBCOUBU46WbxOAzQPLSTWIQ2DNAy6FFtvO9NUD8qfHSTQI0QBBYObTIdjRAXI/C9Si8NkBqvHSTGIQ0QBfZzvdTIzZATmIQWDnUOED2KFyPwnUzQLKd76fGSzNA2c73U+OFM0DXo3A9Cpc2QPT91HjpZjNARrbz/dRYN0Db+X5qvPQ0QC2yne+nJjVAN4lBYOVwNEAbL90kBuE0QO58PzVeujJAAAAAAACgM0CuR+F6FO4zQEw3iUFgBTRA1XjpJjHIN0AfhetRuN45QH9qvHSTODpAPzVeukkMNkD8qfHSTaI0QMuhRbbzvTtAVg4tsp1vN0Cmm8QgsNI5QN0kBoGVAzlAeekmMQgsNUBoke18P1U6QKjGSzeJgTlACKwcWmQ7N0BaZDvfT+07QKRwPQrXQzVA16NwPQoXM0DsUbgehaszQKabxCCwMjRAwcqhRbZzNUB7FK5H4Ro6QIcW2c738zlAtMh2vp/6MkBEi2zn+4k1QDMzMzMz0zRA8tJNYhBYOUD4U+OlmyQ5QB+F61G4HjNARIts5/spOkApXI/C9ag0QJHtfD81HjpA2/l+arzUNkC8dJMYBJY5QKJFtvP99DRAN4lBYOWwM0BSuB6F69E0QGIQWDm0qDVAYOXQItv5OUBMN4lBYMUzQIcW2c73szNAxSCwcmjRM0BGtvP91Jg2QJzEILByaDRAAAAAAADANkDdJAaBlaMzQPp+arx0UzZAtMh2vp+6NkBeukkMAssyQAAAAAAAoDVACtejcD1KN0DByqFFtvM1QKrx0k1i0DRAIbByaJFtN0CNl24Sg2AzQG8Sg8DK4TlACtejcD2KOUC8dJMYBDY2QMHKoUW2kzNAtvP91HiJNkB7FK5H4Zo0QEw3iUFgJTdAlkOLbOcbNEBI4XoUrgc1QL6fGi/d5DVADAIrhxa5M0DFILByaLE5QG8Sg8DKoTNAF9nO91PjM0Bg5dAi23k1QI2XbhKDoDlAMzMzMzPTM0DTTWIQWJk5QG8Sg8DKgTNAxSCwcmgxOkD8qfHSTeI0QKJFtvP91DdAPzVeuknMOUBoke18P1U3QPYoXI/CFTlAgZVDi2yHOEBiEFg5tIg2QFyPwvUo/DlACKwcWmTbNkAj2/l+ahw2QJzEILBySDRAZmZmZmZGN0BYObTIdr40QD81XrpJzDVACtejcD3qNEB3vp8aL70zQAwCK4cW+TpAgZVDi2wnO0Dwp8ZLN+k5QF66SQwCqzlAL90kBoFVOkD4U+Olm0Q1QBKDwMqhJTlAWmQ7309NPEDpJjEIrDw0QPLSTWIQeDlAJQaBlUMLOkDD9Shcj+I7QOf7qfHSjTdA7nw/NV66OUDByqFFtnM0QCcxCKwc2jlAsp3vp8brNEDjpZvEIFA8QLKd76fGqzZA+FPjpZvEMkDl0CLb+f44QKjGSzeJYTRAsHJoke38NECsHFpkO78zQN9PjZducjNAukkMAivnM0BmZmZmZqY1QKRwPQrXAzVA8tJNYhD4NUBEi2zn+2k5QLKd76fGCzZA7FG4HoXrOUCuR+F6FC4zQHE9CtejEDZAexSuR+FaNkAMAiuHFlk1QARWDi2yvTRAd76fGi+dNkBCYOXQIjs1QM/3U+OluzZA/tR46SZxM0CJQWDl0OIzQHe+nxovXTdA5dAi2/leNEDy0k1iEHg6QHe+nxovHT1A+FPjpZsENkAfhetRuN40QA4tsp3vpzNAK4cW2c53NECPwvUoXA82QGiR7Xw/dTNAuB6F61HYNUD0/dR46cY2QM/3U+Ol2zNAy6FFtvM9NED2KFyPwpU1QD0K16NwXTdAXrpJDAIrNkD2KFyPwjU6QOXQItv5njVAEFg5tMi2M0CBlUOLbAc2QI/C9ShcLzpAKVyPwvWIOkCHFtnO97MyQHE9Ctej8DNAHVpkO99vNkBWDi2ync80QM3MzMzMDDRA2/l+ary0NEDLoUW2830zQBsv3SQGYTNAi2zn+6mRNkCwcmiR7TwzQH0/NV66STZARrbz/dS4M0B56SYxCKw5QHsUrkfhmjZAjZduEoPgNEAfhetRuL45QMl2vp8arzRA5dAi2/m+NkAUrkfhenQ3QKjGSzeJITNAi2zn+6nRNEAdWmQ73482QE5iEFg5FDRAhxbZzvdTPUDP91PjpTs3QNejcD0KlzlAmG4Sg8DqM0D0/dR46QY3QDeJQWDlMDRAbxKDwMqBN0AnMQisHLo2QGDl0CLb+ThAVOOlm8RgNEBt5/up8TI1QPhT46WbZDpAO99PjZfONUDsUbgehcs5QFK4HoXrkTRAkxgEVg7NNkAEVg4tsh01QPYoXI/CFTxA/Knx0k3iM0DdJAaBlYM0QLKd76fGizVAN4lBYOXwM0AfhetRuB43QIPAyqFFljZArBxaZDsfOkCiRbbz/ZQ6QI/C9ShcrzNAy6FFtvNdM0B56SYxCMw5QNEi2/l+CjdAxSCwcmiRM0DJdr6fGs80QE5iEFg5FDRAJzEIrBy6OUBU46WbxMA1QEoMAiuH9jZAyXa+nxpvNkBEi2zn++k6QKAaL90kpjRA9ihcj8I1N0BqvHSTGAQ5QPLSTWIQuDZAUI2XbhLjNUD2KFyPwnU6QBfZzvdTgzpA8tJNYhC4OEDwp8ZLN+k1QDeJQWDlUDlA/Knx0k1CO0CF61G4HmU8QH9qvHSTODJACtejcD1qNUAQWDm0yFY2QFYOLbKdrzpAUI2XbhJDM0Bt5/up8ZI6QGZmZmZmxjZAObTIdr4fM0AhsHJokY02QGiR7Xw/tTRAPQrXo3BdOkAbL90kBiE5QEw3iUFgBTpAwcqhRbaTM0A730+Nly43QNejcD0KdzNACtejcD3KNkDwp8ZLN6k4QLKd76fGKzRALbKd76fGM0D0/dR46YY7QLgehetRODRAZDvfT42XNkCR7Xw/NV40QD0K16NwHTVAF9nO91NjNkCq8dJNYrA2QIts5/upMTRAkxgEVg4tNkC0yHa+n3o6QGIQWDm06DJAmpmZmZl5M0D8qfHSTQI1QEoMAiuHdjRAKVyPwvWoNEAnMQisHBo0QD0K16NwnTNA3SQGgZWDOED2KFyPwlU6QAaBlUOLjDlAhetRuB4FN0C0yHa+nxo7QEa28/3UeDZAc2iR7XwfNECBlUOLbCc3QEa28/3UWDZAiUFg5dDCN0AbL90kBuE1QD81XrpJbDxAgZVDi2xnM0A=",
          "dtype": "f8"
         },
         "xaxis": "x",
         "yaxis": "y"
        }
       ],
       "layout": {
        "barmode": "relative",
        "legend": {
         "title": {
          "text": "variable"
         },
         "tracegroupgap": 0
        },
        "template": {
         "data": {
          "bar": [
           {
            "error_x": {
             "color": "#2a3f5f"
            },
            "error_y": {
             "color": "#2a3f5f"
            },
            "marker": {
             "line": {
              "color": "#E5ECF6",
              "width": 0.5
             },
             "pattern": {
              "fillmode": "overlay",
              "size": 10,
              "solidity": 0.2
             }
            },
            "type": "bar"
           }
          ],
          "barpolar": [
           {
            "marker": {
             "line": {
              "color": "#E5ECF6",
              "width": 0.5
             },
             "pattern": {
              "fillmode": "overlay",
              "size": 10,
              "solidity": 0.2
             }
            },
            "type": "barpolar"
           }
          ],
          "carpet": [
           {
            "aaxis": {
             "endlinecolor": "#2a3f5f",
             "gridcolor": "white",
             "linecolor": "white",
             "minorgridcolor": "white",
             "startlinecolor": "#2a3f5f"
            },
            "baxis": {
             "endlinecolor": "#2a3f5f",
             "gridcolor": "white",
             "linecolor": "white",
             "minorgridcolor": "white",
             "startlinecolor": "#2a3f5f"
            },
            "type": "carpet"
           }
          ],
          "choropleth": [
           {
            "colorbar": {
             "outlinewidth": 0,
             "ticks": ""
            },
            "type": "choropleth"
           }
          ],
          "contour": [
           {
            "colorbar": {
             "outlinewidth": 0,
             "ticks": ""
            },
            "colorscale": [
             [
              0,
              "#0d0887"
             ],
             [
              0.1111111111111111,
              "#46039f"
             ],
             [
              0.2222222222222222,
              "#7201a8"
             ],
             [
              0.3333333333333333,
              "#9c179e"
             ],
             [
              0.4444444444444444,
              "#bd3786"
             ],
             [
              0.5555555555555556,
              "#d8576b"
             ],
             [
              0.6666666666666666,
              "#ed7953"
             ],
             [
              0.7777777777777778,
              "#fb9f3a"
             ],
             [
              0.8888888888888888,
              "#fdca26"
             ],
             [
              1,
              "#f0f921"
             ]
            ],
            "type": "contour"
           }
          ],
          "contourcarpet": [
           {
            "colorbar": {
             "outlinewidth": 0,
             "ticks": ""
            },
            "type": "contourcarpet"
           }
          ],
          "heatmap": [
           {
            "colorbar": {
             "outlinewidth": 0,
             "ticks": ""
            },
            "colorscale": [
             [
              0,
              "#0d0887"
             ],
             [
              0.1111111111111111,
              "#46039f"
             ],
             [
              0.2222222222222222,
              "#7201a8"
             ],
             [
              0.3333333333333333,
              "#9c179e"
             ],
             [
              0.4444444444444444,
              "#bd3786"
             ],
             [
              0.5555555555555556,
              "#d8576b"
             ],
             [
              0.6666666666666666,
              "#ed7953"
             ],
             [
              0.7777777777777778,
              "#fb9f3a"
             ],
             [
              0.8888888888888888,
              "#fdca26"
             ],
             [
              1,
              "#f0f921"
             ]
            ],
            "type": "heatmap"
           }
          ],
          "histogram": [
           {
            "marker": {
             "pattern": {
              "fillmode": "overlay",
              "size": 10,
              "solidity": 0.2
             }
            },
            "type": "histogram"
           }
          ],
          "histogram2d": [
           {
            "colorbar": {
             "outlinewidth": 0,
             "ticks": ""
            },
            "colorscale": [
             [
              0,
              "#0d0887"
             ],
             [
              0.1111111111111111,
              "#46039f"
             ],
             [
              0.2222222222222222,
              "#7201a8"
             ],
             [
              0.3333333333333333,
              "#9c179e"
             ],
             [
              0.4444444444444444,
              "#bd3786"
             ],
             [
              0.5555555555555556,
              "#d8576b"
             ],
             [
              0.6666666666666666,
              "#ed7953"
             ],
             [
              0.7777777777777778,
              "#fb9f3a"
             ],
             [
              0.8888888888888888,
              "#fdca26"
             ],
             [
              1,
              "#f0f921"
             ]
            ],
            "type": "histogram2d"
           }
          ],
          "histogram2dcontour": [
           {
            "colorbar": {
             "outlinewidth": 0,
             "ticks": ""
            },
            "colorscale": [
             [
              0,
              "#0d0887"
             ],
             [
              0.1111111111111111,
              "#46039f"
             ],
             [
              0.2222222222222222,
              "#7201a8"
             ],
             [
              0.3333333333333333,
              "#9c179e"
             ],
             [
              0.4444444444444444,
              "#bd3786"
             ],
             [
              0.5555555555555556,
              "#d8576b"
             ],
             [
              0.6666666666666666,
              "#ed7953"
             ],
             [
              0.7777777777777778,
              "#fb9f3a"
             ],
             [
              0.8888888888888888,
              "#fdca26"
             ],
             [
              1,
              "#f0f921"
             ]
            ],
            "type": "histogram2dcontour"
           }
          ],
          "mesh3d": [
           {
            "colorbar": {
             "outlinewidth": 0,
             "ticks": ""
            },
            "type": "mesh3d"
           }
          ],
          "parcoords": [
           {
            "line": {
             "colorbar": {
              "outlinewidth": 0,
              "ticks": ""
             }
            },
            "type": "parcoords"
           }
          ],
          "pie": [
           {
            "automargin": true,
            "type": "pie"
           }
          ],
          "scatter": [
           {
            "fillpattern": {
             "fillmode": "overlay",
             "size": 10,
             "solidity": 0.2
            },
            "type": "scatter"
           }
          ],
          "scatter3d": [
           {
            "line": {
             "colorbar": {
              "outlinewidth": 0,
              "ticks": ""
             }
            },
            "marker": {
             "colorbar": {
              "outlinewidth": 0,
              "ticks": ""
             }
            },
            "type": "scatter3d"
           }
          ],
          "scattercarpet": [
           {
            "marker": {
             "colorbar": {
              "outlinewidth": 0,
              "ticks": ""
             }
            },
            "type": "scattercarpet"
           }
          ],
          "scattergeo": [
           {
            "marker": {
             "colorbar": {
              "outlinewidth": 0,
              "ticks": ""
             }
            },
            "type": "scattergeo"
           }
          ],
          "scattergl": [
           {
            "marker": {
             "colorbar": {
              "outlinewidth": 0,
              "ticks": ""
             }
            },
            "type": "scattergl"
           }
          ],
          "scattermap": [
           {
            "marker": {
             "colorbar": {
              "outlinewidth": 0,
              "ticks": ""
             }
            },
            "type": "scattermap"
           }
          ],
          "scattermapbox": [
           {
            "marker": {
             "colorbar": {
              "outlinewidth": 0,
              "ticks": ""
             }
            },
            "type": "scattermapbox"
           }
          ],
          "scatterpolar": [
           {
            "marker": {
             "colorbar": {
              "outlinewidth": 0,
              "ticks": ""
             }
            },
            "type": "scatterpolar"
           }
          ],
          "scatterpolargl": [
           {
            "marker": {
             "colorbar": {
              "outlinewidth": 0,
              "ticks": ""
             }
            },
            "type": "scatterpolargl"
           }
          ],
          "scatterternary": [
           {
            "marker": {
             "colorbar": {
              "outlinewidth": 0,
              "ticks": ""
             }
            },
            "type": "scatterternary"
           }
          ],
          "surface": [
           {
            "colorbar": {
             "outlinewidth": 0,
             "ticks": ""
            },
            "colorscale": [
             [
              0,
              "#0d0887"
             ],
             [
              0.1111111111111111,
              "#46039f"
             ],
             [
              0.2222222222222222,
              "#7201a8"
             ],
             [
              0.3333333333333333,
              "#9c179e"
             ],
             [
              0.4444444444444444,
              "#bd3786"
             ],
             [
              0.5555555555555556,
              "#d8576b"
             ],
             [
              0.6666666666666666,
              "#ed7953"
             ],
             [
              0.7777777777777778,
              "#fb9f3a"
             ],
             [
              0.8888888888888888,
              "#fdca26"
             ],
             [
              1,
              "#f0f921"
             ]
            ],
            "type": "surface"
           }
          ],
          "table": [
           {
            "cells": {
             "fill": {
              "color": "#EBF0F8"
             },
             "line": {
              "color": "white"
             }
            },
            "header": {
             "fill": {
              "color": "#C8D4E3"
             },
             "line": {
              "color": "white"
             }
            },
            "type": "table"
           }
          ]
         },
         "layout": {
          "annotationdefaults": {
           "arrowcolor": "#2a3f5f",
           "arrowhead": 0,
           "arrowwidth": 1
          },
          "autotypenumbers": "strict",
          "coloraxis": {
           "colorbar": {
            "outlinewidth": 0,
            "ticks": ""
           }
          },
          "colorscale": {
           "diverging": [
            [
             0,
             "#8e0152"
            ],
            [
             0.1,
             "#c51b7d"
            ],
            [
             0.2,
             "#de77ae"
            ],
            [
             0.3,
             "#f1b6da"
            ],
            [
             0.4,
             "#fde0ef"
            ],
            [
             0.5,
             "#f7f7f7"
            ],
            [
             0.6,
             "#e6f5d0"
            ],
            [
             0.7,
             "#b8e186"
            ],
            [
             0.8,
             "#7fbc41"
            ],
            [
             0.9,
             "#4d9221"
            ],
            [
             1,
             "#276419"
            ]
           ],
           "sequential": [
            [
             0,
             "#0d0887"
            ],
            [
             0.1111111111111111,
             "#46039f"
            ],
            [
             0.2222222222222222,
             "#7201a8"
            ],
            [
             0.3333333333333333,
             "#9c179e"
            ],
            [
             0.4444444444444444,
             "#bd3786"
            ],
            [
             0.5555555555555556,
             "#d8576b"
            ],
            [
             0.6666666666666666,
             "#ed7953"
            ],
            [
             0.7777777777777778,
             "#fb9f3a"
            ],
            [
             0.8888888888888888,
             "#fdca26"
            ],
            [
             1,
             "#f0f921"
            ]
           ],
           "sequentialminus": [
            [
             0,
             "#0d0887"
            ],
            [
             0.1111111111111111,
             "#46039f"
            ],
            [
             0.2222222222222222,
             "#7201a8"
            ],
            [
             0.3333333333333333,
             "#9c179e"
            ],
            [
             0.4444444444444444,
             "#bd3786"
            ],
            [
             0.5555555555555556,
             "#d8576b"
            ],
            [
             0.6666666666666666,
             "#ed7953"
            ],
            [
             0.7777777777777778,
             "#fb9f3a"
            ],
            [
             0.8888888888888888,
             "#fdca26"
            ],
            [
             1,
             "#f0f921"
            ]
           ]
          },
          "colorway": [
           "#636efa",
           "#EF553B",
           "#00cc96",
           "#ab63fa",
           "#FFA15A",
           "#19d3f3",
           "#FF6692",
           "#B6E880",
           "#FF97FF",
           "#FECB52"
          ],
          "font": {
           "color": "#2a3f5f"
          },
          "geo": {
           "bgcolor": "white",
           "lakecolor": "white",
           "landcolor": "#E5ECF6",
           "showlakes": true,
           "showland": true,
           "subunitcolor": "white"
          },
          "hoverlabel": {
           "align": "left"
          },
          "hovermode": "closest",
          "mapbox": {
           "style": "light"
          },
          "paper_bgcolor": "white",
          "plot_bgcolor": "#E5ECF6",
          "polar": {
           "angularaxis": {
            "gridcolor": "white",
            "linecolor": "white",
            "ticks": ""
           },
           "bgcolor": "#E5ECF6",
           "radialaxis": {
            "gridcolor": "white",
            "linecolor": "white",
            "ticks": ""
           }
          },
          "scene": {
           "xaxis": {
            "backgroundcolor": "#E5ECF6",
            "gridcolor": "white",
            "gridwidth": 2,
            "linecolor": "white",
            "showbackground": true,
            "ticks": "",
            "zerolinecolor": "white"
           },
           "yaxis": {
            "backgroundcolor": "#E5ECF6",
            "gridcolor": "white",
            "gridwidth": 2,
            "linecolor": "white",
            "showbackground": true,
            "ticks": "",
            "zerolinecolor": "white"
           },
           "zaxis": {
            "backgroundcolor": "#E5ECF6",
            "gridcolor": "white",
            "gridwidth": 2,
            "linecolor": "white",
            "showbackground": true,
            "ticks": "",
            "zerolinecolor": "white"
           }
          },
          "shapedefaults": {
           "line": {
            "color": "#2a3f5f"
           }
          },
          "ternary": {
           "aaxis": {
            "gridcolor": "white",
            "linecolor": "white",
            "ticks": ""
           },
           "baxis": {
            "gridcolor": "white",
            "linecolor": "white",
            "ticks": ""
           },
           "bgcolor": "#E5ECF6",
           "caxis": {
            "gridcolor": "white",
            "linecolor": "white",
            "ticks": ""
           }
          },
          "title": {
           "x": 0.05
          },
          "xaxis": {
           "automargin": true,
           "gridcolor": "white",
           "linecolor": "white",
           "ticks": "",
           "title": {
            "standoff": 15
           },
           "zerolinecolor": "white",
           "zerolinewidth": 2
          },
          "yaxis": {
           "automargin": true,
           "gridcolor": "white",
           "linecolor": "white",
           "ticks": "",
           "title": {
            "standoff": 15
           },
           "zerolinecolor": "white",
           "zerolinewidth": 2
          }
         }
        },
        "title": {
         "text": "Anzahl von Strömen"
        },
        "xaxis": {
         "anchor": "y",
         "domain": [
          0,
          1
         ],
         "title": {
          "text": "Stromwert"
         }
        },
        "yaxis": {
         "anchor": "x",
         "domain": [
          0,
          1
         ],
         "title": {
          "text": "Anzahl"
         }
        }
       }
      }
     },
     "metadata": {},
     "output_type": "display_data"
    }
   ],
   "source": [
    "# Erstelle Diagramm von Produkten wieder analog zu dem oberen Beispiel\n",
    "plot = df[\"Strom / A\"].plot(kind=\"histogram\", title=\"Anzahl von Stromwerten (absolute Häufigkeit)\")\n",
    "plot.update_layout(xaxis_title=\"Stromwert\", yaxis_title=\"Anzahl\")"
   ]
  },
  {
   "cell_type": "markdown",
   "id": "e6cedb33",
   "metadata": {},
   "source": [
    "Vielleicht ist Ihnen aufgefallen, dass sich die Anzahl der Wertebereiche zwischen den beiden Histogrammen unterscheidet. Im Histogramm zur Drehzahl pro Minute gibt es 12 solcher Bereiche, im Histogramm zur Stromaufname in Ampere 24. In Plotly gibt es einen Algorithmus, der die optimale Anzahl und Breite der Wertebereiche automatisch festlegt. Man kann allerdings über das ```nbins```-Argument zumindest die maximale Anzahl der Wertebereiche bestimmen. \n",
    "\n",
    "<span style=\"color:#FF5F00\"><b>AUFGABE:</b></span><br>\n",
    "Setzen Sie das ```nbins```-Argument auf ```100``` und beobachten Sie, wie sich das Histogramm verändert. Fällt Ihnen bei der Häufigkeitsverteilung etwas auf, das Ihnen bei einer kleineren Anzahl von Wertebereichen vielleicht nicht aufgefallen wäre (Stichwort: Ausreißer)? Lohnt sich das Testen einer größeren Anzahl von Wertebereichen oder genügt die Standardeinstellung?"
   ]
  },
  {
   "cell_type": "code",
   "execution_count": null,
   "id": "ee5dbb7a",
   "metadata": {},
   "outputs": [
    {
     "data": {
      "application/vnd.plotly.v1+json": {
       "config": {
        "plotlyServerURL": "https://plot.ly"
       },
       "data": [
        {
         "bingroup": "x",
         "hovertemplate": "variable=Strom / A<br>value=%{x}<br>count=%{y}<extra></extra>",
         "legendgroup": "Strom / A",
         "marker": {
          "color": "#636efa",
          "pattern": {
           "shape": ""
          }
         },
         "name": "Strom / A",
         "nbinsx": 100,
         "orientation": "v",
         "showlegend": true,
         "type": "histogram",
         "x": {
          "bdata": "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",
          "dtype": "f8"
         },
         "xaxis": "x",
         "yaxis": "y"
        }
       ],
       "layout": {
        "barmode": "relative",
        "legend": {
         "title": {
          "text": "variable"
         },
         "tracegroupgap": 0
        },
        "template": {
         "data": {
          "bar": [
           {
            "error_x": {
             "color": "#2a3f5f"
            },
            "error_y": {
             "color": "#2a3f5f"
            },
            "marker": {
             "line": {
              "color": "#E5ECF6",
              "width": 0.5
             },
             "pattern": {
              "fillmode": "overlay",
              "size": 10,
              "solidity": 0.2
             }
            },
            "type": "bar"
           }
          ],
          "barpolar": [
           {
            "marker": {
             "line": {
              "color": "#E5ECF6",
              "width": 0.5
             },
             "pattern": {
              "fillmode": "overlay",
              "size": 10,
              "solidity": 0.2
             }
            },
            "type": "barpolar"
           }
          ],
          "carpet": [
           {
            "aaxis": {
             "endlinecolor": "#2a3f5f",
             "gridcolor": "white",
             "linecolor": "white",
             "minorgridcolor": "white",
             "startlinecolor": "#2a3f5f"
            },
            "baxis": {
             "endlinecolor": "#2a3f5f",
             "gridcolor": "white",
             "linecolor": "white",
             "minorgridcolor": "white",
             "startlinecolor": "#2a3f5f"
            },
            "type": "carpet"
           }
          ],
          "choropleth": [
           {
            "colorbar": {
             "outlinewidth": 0,
             "ticks": ""
            },
            "type": "choropleth"
           }
          ],
          "contour": [
           {
            "colorbar": {
             "outlinewidth": 0,
             "ticks": ""
            },
            "colorscale": [
             [
              0,
              "#0d0887"
             ],
             [
              0.1111111111111111,
              "#46039f"
             ],
             [
              0.2222222222222222,
              "#7201a8"
             ],
             [
              0.3333333333333333,
              "#9c179e"
             ],
             [
              0.4444444444444444,
              "#bd3786"
             ],
             [
              0.5555555555555556,
              "#d8576b"
             ],
             [
              0.6666666666666666,
              "#ed7953"
             ],
             [
              0.7777777777777778,
              "#fb9f3a"
             ],
             [
              0.8888888888888888,
              "#fdca26"
             ],
             [
              1,
              "#f0f921"
             ]
            ],
            "type": "contour"
           }
          ],
          "contourcarpet": [
           {
            "colorbar": {
             "outlinewidth": 0,
             "ticks": ""
            },
            "type": "contourcarpet"
           }
          ],
          "heatmap": [
           {
            "colorbar": {
             "outlinewidth": 0,
             "ticks": ""
            },
            "colorscale": [
             [
              0,
              "#0d0887"
             ],
             [
              0.1111111111111111,
              "#46039f"
             ],
             [
              0.2222222222222222,
              "#7201a8"
             ],
             [
              0.3333333333333333,
              "#9c179e"
             ],
             [
              0.4444444444444444,
              "#bd3786"
             ],
             [
              0.5555555555555556,
              "#d8576b"
             ],
             [
              0.6666666666666666,
              "#ed7953"
             ],
             [
              0.7777777777777778,
              "#fb9f3a"
             ],
             [
              0.8888888888888888,
              "#fdca26"
             ],
             [
              1,
              "#f0f921"
             ]
            ],
            "type": "heatmap"
           }
          ],
          "histogram": [
           {
            "marker": {
             "pattern": {
              "fillmode": "overlay",
              "size": 10,
              "solidity": 0.2
             }
            },
            "type": "histogram"
           }
          ],
          "histogram2d": [
           {
            "colorbar": {
             "outlinewidth": 0,
             "ticks": ""
            },
            "colorscale": [
             [
              0,
              "#0d0887"
             ],
             [
              0.1111111111111111,
              "#46039f"
             ],
             [
              0.2222222222222222,
              "#7201a8"
             ],
             [
              0.3333333333333333,
              "#9c179e"
             ],
             [
              0.4444444444444444,
              "#bd3786"
             ],
             [
              0.5555555555555556,
              "#d8576b"
             ],
             [
              0.6666666666666666,
              "#ed7953"
             ],
             [
              0.7777777777777778,
              "#fb9f3a"
             ],
             [
              0.8888888888888888,
              "#fdca26"
             ],
             [
              1,
              "#f0f921"
             ]
            ],
            "type": "histogram2d"
           }
          ],
          "histogram2dcontour": [
           {
            "colorbar": {
             "outlinewidth": 0,
             "ticks": ""
            },
            "colorscale": [
             [
              0,
              "#0d0887"
             ],
             [
              0.1111111111111111,
              "#46039f"
             ],
             [
              0.2222222222222222,
              "#7201a8"
             ],
             [
              0.3333333333333333,
              "#9c179e"
             ],
             [
              0.4444444444444444,
              "#bd3786"
             ],
             [
              0.5555555555555556,
              "#d8576b"
             ],
             [
              0.6666666666666666,
              "#ed7953"
             ],
             [
              0.7777777777777778,
              "#fb9f3a"
             ],
             [
              0.8888888888888888,
              "#fdca26"
             ],
             [
              1,
              "#f0f921"
             ]
            ],
            "type": "histogram2dcontour"
           }
          ],
          "mesh3d": [
           {
            "colorbar": {
             "outlinewidth": 0,
             "ticks": ""
            },
            "type": "mesh3d"
           }
          ],
          "parcoords": [
           {
            "line": {
             "colorbar": {
              "outlinewidth": 0,
              "ticks": ""
             }
            },
            "type": "parcoords"
           }
          ],
          "pie": [
           {
            "automargin": true,
            "type": "pie"
           }
          ],
          "scatter": [
           {
            "fillpattern": {
             "fillmode": "overlay",
             "size": 10,
             "solidity": 0.2
            },
            "type": "scatter"
           }
          ],
          "scatter3d": [
           {
            "line": {
             "colorbar": {
              "outlinewidth": 0,
              "ticks": ""
             }
            },
            "marker": {
             "colorbar": {
              "outlinewidth": 0,
              "ticks": ""
             }
            },
            "type": "scatter3d"
           }
          ],
          "scattercarpet": [
           {
            "marker": {
             "colorbar": {
              "outlinewidth": 0,
              "ticks": ""
             }
            },
            "type": "scattercarpet"
           }
          ],
          "scattergeo": [
           {
            "marker": {
             "colorbar": {
              "outlinewidth": 0,
              "ticks": ""
             }
            },
            "type": "scattergeo"
           }
          ],
          "scattergl": [
           {
            "marker": {
             "colorbar": {
              "outlinewidth": 0,
              "ticks": ""
             }
            },
            "type": "scattergl"
           }
          ],
          "scattermap": [
           {
            "marker": {
             "colorbar": {
              "outlinewidth": 0,
              "ticks": ""
             }
            },
            "type": "scattermap"
           }
          ],
          "scattermapbox": [
           {
            "marker": {
             "colorbar": {
              "outlinewidth": 0,
              "ticks": ""
             }
            },
            "type": "scattermapbox"
           }
          ],
          "scatterpolar": [
           {
            "marker": {
             "colorbar": {
              "outlinewidth": 0,
              "ticks": ""
             }
            },
            "type": "scatterpolar"
           }
          ],
          "scatterpolargl": [
           {
            "marker": {
             "colorbar": {
              "outlinewidth": 0,
              "ticks": ""
             }
            },
            "type": "scatterpolargl"
           }
          ],
          "scatterternary": [
           {
            "marker": {
             "colorbar": {
              "outlinewidth": 0,
              "ticks": ""
             }
            },
            "type": "scatterternary"
           }
          ],
          "surface": [
           {
            "colorbar": {
             "outlinewidth": 0,
             "ticks": ""
            },
            "colorscale": [
             [
              0,
              "#0d0887"
             ],
             [
              0.1111111111111111,
              "#46039f"
             ],
             [
              0.2222222222222222,
              "#7201a8"
             ],
             [
              0.3333333333333333,
              "#9c179e"
             ],
             [
              0.4444444444444444,
              "#bd3786"
             ],
             [
              0.5555555555555556,
              "#d8576b"
             ],
             [
              0.6666666666666666,
              "#ed7953"
             ],
             [
              0.7777777777777778,
              "#fb9f3a"
             ],
             [
              0.8888888888888888,
              "#fdca26"
             ],
             [
              1,
              "#f0f921"
             ]
            ],
            "type": "surface"
           }
          ],
          "table": [
           {
            "cells": {
             "fill": {
              "color": "#EBF0F8"
             },
             "line": {
              "color": "white"
             }
            },
            "header": {
             "fill": {
              "color": "#C8D4E3"
             },
             "line": {
              "color": "white"
             }
            },
            "type": "table"
           }
          ]
         },
         "layout": {
          "annotationdefaults": {
           "arrowcolor": "#2a3f5f",
           "arrowhead": 0,
           "arrowwidth": 1
          },
          "autotypenumbers": "strict",
          "coloraxis": {
           "colorbar": {
            "outlinewidth": 0,
            "ticks": ""
           }
          },
          "colorscale": {
           "diverging": [
            [
             0,
             "#8e0152"
            ],
            [
             0.1,
             "#c51b7d"
            ],
            [
             0.2,
             "#de77ae"
            ],
            [
             0.3,
             "#f1b6da"
            ],
            [
             0.4,
             "#fde0ef"
            ],
            [
             0.5,
             "#f7f7f7"
            ],
            [
             0.6,
             "#e6f5d0"
            ],
            [
             0.7,
             "#b8e186"
            ],
            [
             0.8,
             "#7fbc41"
            ],
            [
             0.9,
             "#4d9221"
            ],
            [
             1,
             "#276419"
            ]
           ],
           "sequential": [
            [
             0,
             "#0d0887"
            ],
            [
             0.1111111111111111,
             "#46039f"
            ],
            [
             0.2222222222222222,
             "#7201a8"
            ],
            [
             0.3333333333333333,
             "#9c179e"
            ],
            [
             0.4444444444444444,
             "#bd3786"
            ],
            [
             0.5555555555555556,
             "#d8576b"
            ],
            [
             0.6666666666666666,
             "#ed7953"
            ],
            [
             0.7777777777777778,
             "#fb9f3a"
            ],
            [
             0.8888888888888888,
             "#fdca26"
            ],
            [
             1,
             "#f0f921"
            ]
           ],
           "sequentialminus": [
            [
             0,
             "#0d0887"
            ],
            [
             0.1111111111111111,
             "#46039f"
            ],
            [
             0.2222222222222222,
             "#7201a8"
            ],
            [
             0.3333333333333333,
             "#9c179e"
            ],
            [
             0.4444444444444444,
             "#bd3786"
            ],
            [
             0.5555555555555556,
             "#d8576b"
            ],
            [
             0.6666666666666666,
             "#ed7953"
            ],
            [
             0.7777777777777778,
             "#fb9f3a"
            ],
            [
             0.8888888888888888,
             "#fdca26"
            ],
            [
             1,
             "#f0f921"
            ]
           ]
          },
          "colorway": [
           "#636efa",
           "#EF553B",
           "#00cc96",
           "#ab63fa",
           "#FFA15A",
           "#19d3f3",
           "#FF6692",
           "#B6E880",
           "#FF97FF",
           "#FECB52"
          ],
          "font": {
           "color": "#2a3f5f"
          },
          "geo": {
           "bgcolor": "white",
           "lakecolor": "white",
           "landcolor": "#E5ECF6",
           "showlakes": true,
           "showland": true,
           "subunitcolor": "white"
          },
          "hoverlabel": {
           "align": "left"
          },
          "hovermode": "closest",
          "mapbox": {
           "style": "light"
          },
          "paper_bgcolor": "white",
          "plot_bgcolor": "#E5ECF6",
          "polar": {
           "angularaxis": {
            "gridcolor": "white",
            "linecolor": "white",
            "ticks": ""
           },
           "bgcolor": "#E5ECF6",
           "radialaxis": {
            "gridcolor": "white",
            "linecolor": "white",
            "ticks": ""
           }
          },
          "scene": {
           "xaxis": {
            "backgroundcolor": "#E5ECF6",
            "gridcolor": "white",
            "gridwidth": 2,
            "linecolor": "white",
            "showbackground": true,
            "ticks": "",
            "zerolinecolor": "white"
           },
           "yaxis": {
            "backgroundcolor": "#E5ECF6",
            "gridcolor": "white",
            "gridwidth": 2,
            "linecolor": "white",
            "showbackground": true,
            "ticks": "",
            "zerolinecolor": "white"
           },
           "zaxis": {
            "backgroundcolor": "#E5ECF6",
            "gridcolor": "white",
            "gridwidth": 2,
            "linecolor": "white",
            "showbackground": true,
            "ticks": "",
            "zerolinecolor": "white"
           }
          },
          "shapedefaults": {
           "line": {
            "color": "#2a3f5f"
           }
          },
          "ternary": {
           "aaxis": {
            "gridcolor": "white",
            "linecolor": "white",
            "ticks": ""
           },
           "baxis": {
            "gridcolor": "white",
            "linecolor": "white",
            "ticks": ""
           },
           "bgcolor": "#E5ECF6",
           "caxis": {
            "gridcolor": "white",
            "linecolor": "white",
            "ticks": ""
           }
          },
          "title": {
           "x": 0.05
          },
          "xaxis": {
           "automargin": true,
           "gridcolor": "white",
           "linecolor": "white",
           "ticks": "",
           "title": {
            "standoff": 15
           },
           "zerolinecolor": "white",
           "zerolinewidth": 2
          },
          "yaxis": {
           "automargin": true,
           "gridcolor": "white",
           "linecolor": "white",
           "ticks": "",
           "title": {
            "standoff": 15
           },
           "zerolinecolor": "white",
           "zerolinewidth": 2
          }
         }
        },
        "title": {
         "text": "Anzahl von Strömen"
        },
        "xaxis": {
         "anchor": "y",
         "domain": [
          0,
          1
         ],
         "title": {
          "text": "Stromwert"
         }
        },
        "yaxis": {
         "anchor": "x",
         "domain": [
          0,
          1
         ],
         "title": {
          "text": "Anzahl"
         }
        }
       }
      }
     },
     "metadata": {},
     "output_type": "display_data"
    }
   ],
   "source": [
    "plot = df[\"Strom / A\"].plot(kind=\"histogram\", title=\"Anzahl von Stromwerten (absolute Häufigkeit)\", nbins=100)\n",
    "plot.update_layout(xaxis_title=\"Stromwert\", yaxis_title=\"Anzahl\")"
   ]
  },
  {
   "cell_type": "markdown",
   "id": "a562cd55",
   "metadata": {},
   "source": [
    "<span style=\"color:#FF5F00\"><b>Stimmt was nicht?</b></span><br>\n",
    "\n",
    "Das Diagramm zeigt natürlicherweise eine feinere Verteilung von Stromwerten. Dabei wird es auch auffällig, dass in Bereichen mit relativ konstanten Werten doch Wertspitzen oder Ausreißer gibt. Ob diese für weitere Analyse verwendet werden sollen, hängt eigentlich davon ab, wie genau der Überblick über die Messwerte sein soll. In diesem Fall sind die Ausreißer anscheinend nicht extrem beeinflussend, wenn sie erst bei relativ großer Anzahl von Buckets vorkommen."
   ]
  },
  {
   "cell_type": "markdown",
   "id": "14e91bc7",
   "metadata": {},
   "source": [
    "<span style=\"color:#FF5F00\"><b>AUFGABE:</b></span><br>\n",
    "Zuletzt wollen wir uns noch anschauen, wie wir relative anstatt absolute Häufigkeiten angeben können. Nutzen Sie hierfür das ```histnorm```-Argument und setzen es auf ```\"probability\"```:"
   ]
  },
  {
   "cell_type": "code",
   "execution_count": 15,
   "id": "e043711f",
   "metadata": {},
   "outputs": [
    {
     "data": {
      "application/vnd.plotly.v1+json": {
       "config": {
        "plotlyServerURL": "https://plot.ly"
       },
       "data": [
        {
         "bingroup": "x",
         "histnorm": "probability",
         "hovertemplate": "variable=Strom / A<br>value=%{x}<br>probability=%{y}<extra></extra>",
         "legendgroup": "Strom / A",
         "marker": {
          "color": "#636efa",
          "pattern": {
           "shape": ""
          }
         },
         "name": "Strom / A",
         "nbinsx": 100,
         "orientation": "v",
         "showlegend": true,
         "type": "histogram",
         "x": {
          "bdata": "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",
          "dtype": "f8"
         },
         "xaxis": "x",
         "yaxis": "y"
        }
       ],
       "layout": {
        "barmode": "relative",
        "legend": {
         "title": {
          "text": "variable"
         },
         "tracegroupgap": 0
        },
        "template": {
         "data": {
          "bar": [
           {
            "error_x": {
             "color": "#2a3f5f"
            },
            "error_y": {
             "color": "#2a3f5f"
            },
            "marker": {
             "line": {
              "color": "#E5ECF6",
              "width": 0.5
             },
             "pattern": {
              "fillmode": "overlay",
              "size": 10,
              "solidity": 0.2
             }
            },
            "type": "bar"
           }
          ],
          "barpolar": [
           {
            "marker": {
             "line": {
              "color": "#E5ECF6",
              "width": 0.5
             },
             "pattern": {
              "fillmode": "overlay",
              "size": 10,
              "solidity": 0.2
             }
            },
            "type": "barpolar"
           }
          ],
          "carpet": [
           {
            "aaxis": {
             "endlinecolor": "#2a3f5f",
             "gridcolor": "white",
             "linecolor": "white",
             "minorgridcolor": "white",
             "startlinecolor": "#2a3f5f"
            },
            "baxis": {
             "endlinecolor": "#2a3f5f",
             "gridcolor": "white",
             "linecolor": "white",
             "minorgridcolor": "white",
             "startlinecolor": "#2a3f5f"
            },
            "type": "carpet"
           }
          ],
          "choropleth": [
           {
            "colorbar": {
             "outlinewidth": 0,
             "ticks": ""
            },
            "type": "choropleth"
           }
          ],
          "contour": [
           {
            "colorbar": {
             "outlinewidth": 0,
             "ticks": ""
            },
            "colorscale": [
             [
              0,
              "#0d0887"
             ],
             [
              0.1111111111111111,
              "#46039f"
             ],
             [
              0.2222222222222222,
              "#7201a8"
             ],
             [
              0.3333333333333333,
              "#9c179e"
             ],
             [
              0.4444444444444444,
              "#bd3786"
             ],
             [
              0.5555555555555556,
              "#d8576b"
             ],
             [
              0.6666666666666666,
              "#ed7953"
             ],
             [
              0.7777777777777778,
              "#fb9f3a"
             ],
             [
              0.8888888888888888,
              "#fdca26"
             ],
             [
              1,
              "#f0f921"
             ]
            ],
            "type": "contour"
           }
          ],
          "contourcarpet": [
           {
            "colorbar": {
             "outlinewidth": 0,
             "ticks": ""
            },
            "type": "contourcarpet"
           }
          ],
          "heatmap": [
           {
            "colorbar": {
             "outlinewidth": 0,
             "ticks": ""
            },
            "colorscale": [
             [
              0,
              "#0d0887"
             ],
             [
              0.1111111111111111,
              "#46039f"
             ],
             [
              0.2222222222222222,
              "#7201a8"
             ],
             [
              0.3333333333333333,
              "#9c179e"
             ],
             [
              0.4444444444444444,
              "#bd3786"
             ],
             [
              0.5555555555555556,
              "#d8576b"
             ],
             [
              0.6666666666666666,
              "#ed7953"
             ],
             [
              0.7777777777777778,
              "#fb9f3a"
             ],
             [
              0.8888888888888888,
              "#fdca26"
             ],
             [
              1,
              "#f0f921"
             ]
            ],
            "type": "heatmap"
           }
          ],
          "histogram": [
           {
            "marker": {
             "pattern": {
              "fillmode": "overlay",
              "size": 10,
              "solidity": 0.2
             }
            },
            "type": "histogram"
           }
          ],
          "histogram2d": [
           {
            "colorbar": {
             "outlinewidth": 0,
             "ticks": ""
            },
            "colorscale": [
             [
              0,
              "#0d0887"
             ],
             [
              0.1111111111111111,
              "#46039f"
             ],
             [
              0.2222222222222222,
              "#7201a8"
             ],
             [
              0.3333333333333333,
              "#9c179e"
             ],
             [
              0.4444444444444444,
              "#bd3786"
             ],
             [
              0.5555555555555556,
              "#d8576b"
             ],
             [
              0.6666666666666666,
              "#ed7953"
             ],
             [
              0.7777777777777778,
              "#fb9f3a"
             ],
             [
              0.8888888888888888,
              "#fdca26"
             ],
             [
              1,
              "#f0f921"
             ]
            ],
            "type": "histogram2d"
           }
          ],
          "histogram2dcontour": [
           {
            "colorbar": {
             "outlinewidth": 0,
             "ticks": ""
            },
            "colorscale": [
             [
              0,
              "#0d0887"
             ],
             [
              0.1111111111111111,
              "#46039f"
             ],
             [
              0.2222222222222222,
              "#7201a8"
             ],
             [
              0.3333333333333333,
              "#9c179e"
             ],
             [
              0.4444444444444444,
              "#bd3786"
             ],
             [
              0.5555555555555556,
              "#d8576b"
             ],
             [
              0.6666666666666666,
              "#ed7953"
             ],
             [
              0.7777777777777778,
              "#fb9f3a"
             ],
             [
              0.8888888888888888,
              "#fdca26"
             ],
             [
              1,
              "#f0f921"
             ]
            ],
            "type": "histogram2dcontour"
           }
          ],
          "mesh3d": [
           {
            "colorbar": {
             "outlinewidth": 0,
             "ticks": ""
            },
            "type": "mesh3d"
           }
          ],
          "parcoords": [
           {
            "line": {
             "colorbar": {
              "outlinewidth": 0,
              "ticks": ""
             }
            },
            "type": "parcoords"
           }
          ],
          "pie": [
           {
            "automargin": true,
            "type": "pie"
           }
          ],
          "scatter": [
           {
            "fillpattern": {
             "fillmode": "overlay",
             "size": 10,
             "solidity": 0.2
            },
            "type": "scatter"
           }
          ],
          "scatter3d": [
           {
            "line": {
             "colorbar": {
              "outlinewidth": 0,
              "ticks": ""
             }
            },
            "marker": {
             "colorbar": {
              "outlinewidth": 0,
              "ticks": ""
             }
            },
            "type": "scatter3d"
           }
          ],
          "scattercarpet": [
           {
            "marker": {
             "colorbar": {
              "outlinewidth": 0,
              "ticks": ""
             }
            },
            "type": "scattercarpet"
           }
          ],
          "scattergeo": [
           {
            "marker": {
             "colorbar": {
              "outlinewidth": 0,
              "ticks": ""
             }
            },
            "type": "scattergeo"
           }
          ],
          "scattergl": [
           {
            "marker": {
             "colorbar": {
              "outlinewidth": 0,
              "ticks": ""
             }
            },
            "type": "scattergl"
           }
          ],
          "scattermap": [
           {
            "marker": {
             "colorbar": {
              "outlinewidth": 0,
              "ticks": ""
             }
            },
            "type": "scattermap"
           }
          ],
          "scattermapbox": [
           {
            "marker": {
             "colorbar": {
              "outlinewidth": 0,
              "ticks": ""
             }
            },
            "type": "scattermapbox"
           }
          ],
          "scatterpolar": [
           {
            "marker": {
             "colorbar": {
              "outlinewidth": 0,
              "ticks": ""
             }
            },
            "type": "scatterpolar"
           }
          ],
          "scatterpolargl": [
           {
            "marker": {
             "colorbar": {
              "outlinewidth": 0,
              "ticks": ""
             }
            },
            "type": "scatterpolargl"
           }
          ],
          "scatterternary": [
           {
            "marker": {
             "colorbar": {
              "outlinewidth": 0,
              "ticks": ""
             }
            },
            "type": "scatterternary"
           }
          ],
          "surface": [
           {
            "colorbar": {
             "outlinewidth": 0,
             "ticks": ""
            },
            "colorscale": [
             [
              0,
              "#0d0887"
             ],
             [
              0.1111111111111111,
              "#46039f"
             ],
             [
              0.2222222222222222,
              "#7201a8"
             ],
             [
              0.3333333333333333,
              "#9c179e"
             ],
             [
              0.4444444444444444,
              "#bd3786"
             ],
             [
              0.5555555555555556,
              "#d8576b"
             ],
             [
              0.6666666666666666,
              "#ed7953"
             ],
             [
              0.7777777777777778,
              "#fb9f3a"
             ],
             [
              0.8888888888888888,
              "#fdca26"
             ],
             [
              1,
              "#f0f921"
             ]
            ],
            "type": "surface"
           }
          ],
          "table": [
           {
            "cells": {
             "fill": {
              "color": "#EBF0F8"
             },
             "line": {
              "color": "white"
             }
            },
            "header": {
             "fill": {
              "color": "#C8D4E3"
             },
             "line": {
              "color": "white"
             }
            },
            "type": "table"
           }
          ]
         },
         "layout": {
          "annotationdefaults": {
           "arrowcolor": "#2a3f5f",
           "arrowhead": 0,
           "arrowwidth": 1
          },
          "autotypenumbers": "strict",
          "coloraxis": {
           "colorbar": {
            "outlinewidth": 0,
            "ticks": ""
           }
          },
          "colorscale": {
           "diverging": [
            [
             0,
             "#8e0152"
            ],
            [
             0.1,
             "#c51b7d"
            ],
            [
             0.2,
             "#de77ae"
            ],
            [
             0.3,
             "#f1b6da"
            ],
            [
             0.4,
             "#fde0ef"
            ],
            [
             0.5,
             "#f7f7f7"
            ],
            [
             0.6,
             "#e6f5d0"
            ],
            [
             0.7,
             "#b8e186"
            ],
            [
             0.8,
             "#7fbc41"
            ],
            [
             0.9,
             "#4d9221"
            ],
            [
             1,
             "#276419"
            ]
           ],
           "sequential": [
            [
             0,
             "#0d0887"
            ],
            [
             0.1111111111111111,
             "#46039f"
            ],
            [
             0.2222222222222222,
             "#7201a8"
            ],
            [
             0.3333333333333333,
             "#9c179e"
            ],
            [
             0.4444444444444444,
             "#bd3786"
            ],
            [
             0.5555555555555556,
             "#d8576b"
            ],
            [
             0.6666666666666666,
             "#ed7953"
            ],
            [
             0.7777777777777778,
             "#fb9f3a"
            ],
            [
             0.8888888888888888,
             "#fdca26"
            ],
            [
             1,
             "#f0f921"
            ]
           ],
           "sequentialminus": [
            [
             0,
             "#0d0887"
            ],
            [
             0.1111111111111111,
             "#46039f"
            ],
            [
             0.2222222222222222,
             "#7201a8"
            ],
            [
             0.3333333333333333,
             "#9c179e"
            ],
            [
             0.4444444444444444,
             "#bd3786"
            ],
            [
             0.5555555555555556,
             "#d8576b"
            ],
            [
             0.6666666666666666,
             "#ed7953"
            ],
            [
             0.7777777777777778,
             "#fb9f3a"
            ],
            [
             0.8888888888888888,
             "#fdca26"
            ],
            [
             1,
             "#f0f921"
            ]
           ]
          },
          "colorway": [
           "#636efa",
           "#EF553B",
           "#00cc96",
           "#ab63fa",
           "#FFA15A",
           "#19d3f3",
           "#FF6692",
           "#B6E880",
           "#FF97FF",
           "#FECB52"
          ],
          "font": {
           "color": "#2a3f5f"
          },
          "geo": {
           "bgcolor": "white",
           "lakecolor": "white",
           "landcolor": "#E5ECF6",
           "showlakes": true,
           "showland": true,
           "subunitcolor": "white"
          },
          "hoverlabel": {
           "align": "left"
          },
          "hovermode": "closest",
          "mapbox": {
           "style": "light"
          },
          "paper_bgcolor": "white",
          "plot_bgcolor": "#E5ECF6",
          "polar": {
           "angularaxis": {
            "gridcolor": "white",
            "linecolor": "white",
            "ticks": ""
           },
           "bgcolor": "#E5ECF6",
           "radialaxis": {
            "gridcolor": "white",
            "linecolor": "white",
            "ticks": ""
           }
          },
          "scene": {
           "xaxis": {
            "backgroundcolor": "#E5ECF6",
            "gridcolor": "white",
            "gridwidth": 2,
            "linecolor": "white",
            "showbackground": true,
            "ticks": "",
            "zerolinecolor": "white"
           },
           "yaxis": {
            "backgroundcolor": "#E5ECF6",
            "gridcolor": "white",
            "gridwidth": 2,
            "linecolor": "white",
            "showbackground": true,
            "ticks": "",
            "zerolinecolor": "white"
           },
           "zaxis": {
            "backgroundcolor": "#E5ECF6",
            "gridcolor": "white",
            "gridwidth": 2,
            "linecolor": "white",
            "showbackground": true,
            "ticks": "",
            "zerolinecolor": "white"
           }
          },
          "shapedefaults": {
           "line": {
            "color": "#2a3f5f"
           }
          },
          "ternary": {
           "aaxis": {
            "gridcolor": "white",
            "linecolor": "white",
            "ticks": ""
           },
           "baxis": {
            "gridcolor": "white",
            "linecolor": "white",
            "ticks": ""
           },
           "bgcolor": "#E5ECF6",
           "caxis": {
            "gridcolor": "white",
            "linecolor": "white",
            "ticks": ""
           }
          },
          "title": {
           "x": 0.05
          },
          "xaxis": {
           "automargin": true,
           "gridcolor": "white",
           "linecolor": "white",
           "ticks": "",
           "title": {
            "standoff": 15
           },
           "zerolinecolor": "white",
           "zerolinewidth": 2
          },
          "yaxis": {
           "automargin": true,
           "gridcolor": "white",
           "linecolor": "white",
           "ticks": "",
           "title": {
            "standoff": 15
           },
           "zerolinecolor": "white",
           "zerolinewidth": 2
          }
         }
        },
        "title": {
         "text": "Wahrscheinlichkeiten von Stromwerten (relative Häufigkeit)"
        },
        "xaxis": {
         "anchor": "y",
         "domain": [
          0,
          1
         ],
         "title": {
          "text": "Stromwert"
         }
        },
        "yaxis": {
         "anchor": "x",
         "domain": [
          0,
          1
         ],
         "title": {
          "text": "Wahrscheinlichkeit"
         }
        }
       }
      }
     },
     "metadata": {},
     "output_type": "display_data"
    }
   ],
   "source": [
    "plot = df[\"Strom / A\"].plot(kind=\"histogram\", title=\"Wahrscheinlichkeiten von Stromwerten (relative Häufigkeit)\", nbins=100, histnorm=\"probability\")\n",
    "plot.update_layout(xaxis_title=\"Stromwert\", yaxis_title=\"Wahrscheinlichkeit\")"
   ]
  },
  {
   "cell_type": "markdown",
   "id": "10fb24fe",
   "metadata": {},
   "source": [
    "Natürlich ergibt es noch Sinn, die anderen Merkmale zu visualisieren. Da Ihnen die Funktionsaufrufe hierfür aber nun bekannt sein sollten, möchten wir an dieser Stelle darauf verzichten. Stattdessen wollen wir unsere Häufigkeitsverteilungen in einigen Kenngrößen zusammenzufassen. Dafür nutzen wir pandas' ```describe()```-Funktion und setzen ```include``` auf ```\"all\"```:"
   ]
  },
  {
   "cell_type": "code",
   "execution_count": 125,
   "id": "ae3ffcab",
   "metadata": {},
   "outputs": [
    {
     "data": {
      "text/html": [
       "<div>\n",
       "<style scoped>\n",
       "    .dataframe tbody tr th:only-of-type {\n",
       "        vertical-align: middle;\n",
       "    }\n",
       "\n",
       "    .dataframe tbody tr th {\n",
       "        vertical-align: top;\n",
       "    }\n",
       "\n",
       "    .dataframe thead th {\n",
       "        text-align: right;\n",
       "    }\n",
       "</style>\n",
       "<table border=\"1\" class=\"dataframe\">\n",
       "  <thead>\n",
       "    <tr style=\"text-align: right;\">\n",
       "      <th></th>\n",
       "      <th>Maschine</th>\n",
       "      <th>Mode</th>\n",
       "      <th>Produkt</th>\n",
       "      <th>Strom / A</th>\n",
       "      <th>Drehmoment / Nm</th>\n",
       "      <th>Drehzahl / 1/min</th>\n",
       "      <th>Temp Umgebung / degC</th>\n",
       "      <th>Temp Umrichter / degC</th>\n",
       "      <th>Temp Werkzeug / degC</th>\n",
       "      <th>Bearbeitungszeit / s</th>\n",
       "    </tr>\n",
       "  </thead>\n",
       "  <tbody>\n",
       "    <tr>\n",
       "      <th>count</th>\n",
       "      <td>1000</td>\n",
       "      <td>999.0</td>\n",
       "      <td>1000</td>\n",
       "      <td>999.000000</td>\n",
       "      <td>1000.000000</td>\n",
       "      <td>1000.000000</td>\n",
       "      <td>1000.000000</td>\n",
       "      <td>1000.000000</td>\n",
       "      <td>1000.000000</td>\n",
       "      <td>1000.000000</td>\n",
       "    </tr>\n",
       "    <tr>\n",
       "      <th>unique</th>\n",
       "      <td>3</td>\n",
       "      <td>3.0</td>\n",
       "      <td>3</td>\n",
       "      <td>NaN</td>\n",
       "      <td>NaN</td>\n",
       "      <td>NaN</td>\n",
       "      <td>NaN</td>\n",
       "      <td>NaN</td>\n",
       "      <td>NaN</td>\n",
       "      <td>NaN</td>\n",
       "    </tr>\n",
       "    <tr>\n",
       "      <th>top</th>\n",
       "      <td>C</td>\n",
       "      <td>2.0</td>\n",
       "      <td>Y</td>\n",
       "      <td>NaN</td>\n",
       "      <td>NaN</td>\n",
       "      <td>NaN</td>\n",
       "      <td>NaN</td>\n",
       "      <td>NaN</td>\n",
       "      <td>NaN</td>\n",
       "      <td>NaN</td>\n",
       "    </tr>\n",
       "    <tr>\n",
       "      <th>freq</th>\n",
       "      <td>416</td>\n",
       "      <td>518.0</td>\n",
       "      <td>541</td>\n",
       "      <td>NaN</td>\n",
       "      <td>NaN</td>\n",
       "      <td>NaN</td>\n",
       "      <td>NaN</td>\n",
       "      <td>NaN</td>\n",
       "      <td>NaN</td>\n",
       "      <td>NaN</td>\n",
       "    </tr>\n",
       "    <tr>\n",
       "      <th>mean</th>\n",
       "      <td>NaN</td>\n",
       "      <td>NaN</td>\n",
       "      <td>NaN</td>\n",
       "      <td>22.501915</td>\n",
       "      <td>48.555380</td>\n",
       "      <td>1460.945000</td>\n",
       "      <td>20.984700</td>\n",
       "      <td>23.750500</td>\n",
       "      <td>95.196400</td>\n",
       "      <td>23.008900</td>\n",
       "    </tr>\n",
       "    <tr>\n",
       "      <th>std</th>\n",
       "      <td>NaN</td>\n",
       "      <td>NaN</td>\n",
       "      <td>NaN</td>\n",
       "      <td>2.520593</td>\n",
       "      <td>3.692908</td>\n",
       "      <td>1.916154</td>\n",
       "      <td>1.374695</td>\n",
       "      <td>1.040876</td>\n",
       "      <td>5.688506</td>\n",
       "      <td>1.970897</td>\n",
       "    </tr>\n",
       "    <tr>\n",
       "      <th>min</th>\n",
       "      <td>NaN</td>\n",
       "      <td>NaN</td>\n",
       "      <td>NaN</td>\n",
       "      <td>18.221000</td>\n",
       "      <td>41.430000</td>\n",
       "      <td>1456.000000</td>\n",
       "      <td>17.300000</td>\n",
       "      <td>20.300000</td>\n",
       "      <td>82.900000</td>\n",
       "      <td>19.900000</td>\n",
       "    </tr>\n",
       "    <tr>\n",
       "      <th>25%</th>\n",
       "      <td>NaN</td>\n",
       "      <td>NaN</td>\n",
       "      <td>NaN</td>\n",
       "      <td>20.435500</td>\n",
       "      <td>45.527500</td>\n",
       "      <td>1460.000000</td>\n",
       "      <td>20.100000</td>\n",
       "      <td>23.075000</td>\n",
       "      <td>90.600000</td>\n",
       "      <td>21.400000</td>\n",
       "    </tr>\n",
       "    <tr>\n",
       "      <th>50%</th>\n",
       "      <td>NaN</td>\n",
       "      <td>NaN</td>\n",
       "      <td>NaN</td>\n",
       "      <td>22.102000</td>\n",
       "      <td>47.515000</td>\n",
       "      <td>1461.000000</td>\n",
       "      <td>21.000000</td>\n",
       "      <td>23.700000</td>\n",
       "      <td>94.000000</td>\n",
       "      <td>22.400000</td>\n",
       "    </tr>\n",
       "    <tr>\n",
       "      <th>75%</th>\n",
       "      <td>NaN</td>\n",
       "      <td>NaN</td>\n",
       "      <td>NaN</td>\n",
       "      <td>24.668000</td>\n",
       "      <td>51.602500</td>\n",
       "      <td>1462.000000</td>\n",
       "      <td>21.900000</td>\n",
       "      <td>24.400000</td>\n",
       "      <td>99.800000</td>\n",
       "      <td>25.300000</td>\n",
       "    </tr>\n",
       "    <tr>\n",
       "      <th>max</th>\n",
       "      <td>NaN</td>\n",
       "      <td>NaN</td>\n",
       "      <td>NaN</td>\n",
       "      <td>29.530000</td>\n",
       "      <td>60.110000</td>\n",
       "      <td>1467.000000</td>\n",
       "      <td>26.000000</td>\n",
       "      <td>27.400000</td>\n",
       "      <td>113.100000</td>\n",
       "      <td>25.300000</td>\n",
       "    </tr>\n",
       "  </tbody>\n",
       "</table>\n",
       "</div>"
      ],
      "text/plain": [
       "       Maschine   Mode Produkt   Strom / A  Drehmoment / Nm  Drehzahl / 1/min  \\\n",
       "count      1000  999.0    1000  999.000000      1000.000000       1000.000000   \n",
       "unique        3    3.0       3         NaN              NaN               NaN   \n",
       "top           C    2.0       Y         NaN              NaN               NaN   \n",
       "freq        416  518.0     541         NaN              NaN               NaN   \n",
       "mean        NaN    NaN     NaN   22.501915        48.555380       1460.945000   \n",
       "std         NaN    NaN     NaN    2.520593         3.692908          1.916154   \n",
       "min         NaN    NaN     NaN   18.221000        41.430000       1456.000000   \n",
       "25%         NaN    NaN     NaN   20.435500        45.527500       1460.000000   \n",
       "50%         NaN    NaN     NaN   22.102000        47.515000       1461.000000   \n",
       "75%         NaN    NaN     NaN   24.668000        51.602500       1462.000000   \n",
       "max         NaN    NaN     NaN   29.530000        60.110000       1467.000000   \n",
       "\n",
       "        Temp Umgebung / degC  Temp Umrichter / degC  Temp Werkzeug / degC  \\\n",
       "count            1000.000000            1000.000000           1000.000000   \n",
       "unique                   NaN                    NaN                   NaN   \n",
       "top                      NaN                    NaN                   NaN   \n",
       "freq                     NaN                    NaN                   NaN   \n",
       "mean               20.984700              23.750500             95.196400   \n",
       "std                 1.374695               1.040876              5.688506   \n",
       "min                17.300000              20.300000             82.900000   \n",
       "25%                20.100000              23.075000             90.600000   \n",
       "50%                21.000000              23.700000             94.000000   \n",
       "75%                21.900000              24.400000             99.800000   \n",
       "max                26.000000              27.400000            113.100000   \n",
       "\n",
       "        Bearbeitungszeit / s  \n",
       "count            1000.000000  \n",
       "unique                   NaN  \n",
       "top                      NaN  \n",
       "freq                     NaN  \n",
       "mean               23.008900  \n",
       "std                 1.970897  \n",
       "min                19.900000  \n",
       "25%                21.400000  \n",
       "50%                22.400000  \n",
       "75%                25.300000  \n",
       "max                25.300000  "
      ]
     },
     "execution_count": 125,
     "metadata": {},
     "output_type": "execute_result"
    }
   ],
   "source": [
    "df.describe(include=\"all\")"
   ]
  },
  {
   "cell_type": "markdown",
   "id": "bfa834d6",
   "metadata": {},
   "source": [
    "Durch diesen Funktionsaufruf werden eine ganze Menge Kenngrößen ausgegeben. Unter ```count``` wird die Anzahl von nicht-fehlenden Werten angegeben (also von Werten, die nicht \"not a number\" bzw. ```NaN``` sind), unter ```unique``` wird die Anzahl der Kategorien bei nominalen und ordinalen Daten angegeben, unter ```top``` der Modus und unter ```freq``` die Häufigkeit des Modus. Während uns ```count``` einen Aufschluss über die Datenqualität gibt, liefern uns ```unique```, ```top``` und ```freq``` eigentlich keine zusätzliche Information im Vergleich zu unserer interaktiven Visualisierung. Interessanter ist die Angabe des arithmetischen Mittels ```mean```, der Standardabweichung ```std```, des Minimums ```min```, des unteren Quartils ```25%```, des mittleres Quartils bzw. Medians ```50%```, des oberen Quartils ```75%``` sowie des Maximums ```max```. Weitere Streuungsmaße wie die Varianz, die Spannweite oder der Interquartilsabstand können bei Bedarf aus diesen Kenngrößen einfach berechnet werden. Sie erinnern sich, dass jedes dieser Lage- und Streuungsmaße bestimmte Vor- und Nachteile aufweist. Eine allgemeine Empfehlung, welches Maß zu bevorzugen ist, kann man daher nicht abgeben."
   ]
  },
  {
   "cell_type": "markdown",
   "id": "b76a53a5",
   "metadata": {},
   "source": [
    "<span style=\"color:#FF5F00\"><b>AUFGABE:</b></span><br>\n",
    "Wählen Sie nun ein metrisches Merkmal aus, bei dem es einen Unterschied ≥ 1 zwischen dem arithmetischen Mittel und dem Median gibt. Überlegen Sie sich, was Gründe für den Unterschied sein könnten. Überprüfen Sie Ihre Vermutungen dann durch eine passende Visualisierung!"
   ]
  },
  {
   "cell_type": "code",
   "execution_count": null,
   "id": "28dbe3d9",
   "metadata": {},
   "outputs": [],
   "source": []
  },
  {
   "cell_type": "markdown",
   "id": "1932789a",
   "metadata": {},
   "source": [
    "## Korrelationen untersuchen"
   ]
  },
  {
   "cell_type": "markdown",
   "id": "97d3c87f",
   "metadata": {},
   "source": [
    "Wir hoffen, dass wir Sie bereits von den Fähigkeiten von pandas und Plotly für die explorative Datenanalyse überzeugen konnten. Sie haben gesehen, dass es für die Darstellung eines Säulen- oder Balkendiagramms oder eines Histogramms jeweils nur einer einzigen Zeile Code bedarf; auch Lage- und Streuungsmaße können mit nur einer einzigen Zeile Code ausgegeben werden (bzw. drei Zeilen Code, wenn man auch unsere Implementierung für ordinale Merkmale verwenden möchte). Richtig interessant wird es oft aber erst, wenn wir nach weiteren Mustern und Zusammenhängen in den Daten suchen. Dazu müssen wir uns mehr als nur ein Merkmal zur gleichen Zeit anschauen. Wir gehen im Folgenden davon aus, dass wir nach unserer explorativen Analyse noch eine gezielte Analyse zu interessanten Muster und Zusammenhängen planen. Um Aussagen über unsere Stichprobe hinaus treffen zu können, müssen wir unsere Erkenntnisse später auf einem unabhängigen Datensatz testen können und daher an dieser Stelle unsere Daten in einen Explorations- und einen Testdatensatz aufteilen. Wir nutzen dazu eine einfache Randomisierung. Wir wählen also mit der ```sample()```-Funktion einen bestimmten Bruchteil unserer Daten zufällig zum Explorieren aus, zum Beispiel 75% bzw. ```0.75```. Um eine reproduzierbare Aufteilung zu erhalten, fixieren wir zudem den [Startwert des Zufallszahlengenerators](https://de.wikipedia.org/wiki/Seed_key), zum Beispiel auf ```42```:"
   ]
  },
  {
   "cell_type": "code",
   "execution_count": null,
   "id": "85d45340",
   "metadata": {},
   "outputs": [],
   "source": [
    "import pandas as pd\n",
    "\n",
    "df = pd.read_csv(\"data/machine_data.csv\", delimiter=\";\", decimal=\",\")\n",
    "df[\"Maschine\"] = pd.Categorical(df[\"Maschine\"])\n",
    "df[\"Produkt\"] = pd.Categorical(df[\"Produkt\"])\n",
    "df[\"Mode\"] = pd.Categorical(df[\"Mode\"], ordered=True)\n",
    "\n",
    "exploration_data = df.sample(frac=0.75, random_state=42)\n",
    "exploration_data"
   ]
  },
  {
   "cell_type": "markdown",
   "id": "34488870",
   "metadata": {},
   "source": [
    "### Zusammenhang von Merkmalen\n",
    "\n",
    "Nachdem wir nun einen Explorationsdatensatz erstellt haben, können wir uns den Zusammenhang von Merkmalen für diesen Datensatz anschauen. Hierzu erstellen wir ein [Streudiagramm](https://plotly.github.io/plotly.py-docs/generated/plotly.express.scatter.html), zum Beispiel für die Stromaufnahme in Ampere und das Drehmoment in Newtonmeter:"
   ]
  },
  {
   "cell_type": "code",
   "execution_count": null,
   "id": "93e46ad5",
   "metadata": {},
   "outputs": [],
   "source": [
    "exploration_data.plot(kind=\"scatter\", x=\"Strom / A\", y=\"Drehmoment / Nm\")"
   ]
  },
  {
   "cell_type": "markdown",
   "id": "3b894e69",
   "metadata": {},
   "source": [
    "Für die Maschinen müssen wir den Code etwas umständlicher formulieren, da sich die Plot-Funktion mit kategorischen Variablen etwas schwer tun kann..."
   ]
  },
  {
   "cell_type": "code",
   "execution_count": null,
   "id": "2b890af8",
   "metadata": {},
   "outputs": [],
   "source": [
    "import matplotlib.pyplot as plt\n",
    "groups = exploration_data.groupby('Maschine')\n",
    "\n",
    "fig, ax = plt.subplots()\n",
    "for name, group in groups:\n",
    "    ax.plot(group['Strom / A'], group['Drehmoment / Nm'], marker='o', linestyle='', ms=12, label=name)\n",
    "_ = ax.legend()"
   ]
  },
  {
   "cell_type": "markdown",
   "id": "8c52b2ed",
   "metadata": {},
   "source": [
    "<span style=\"color:#FF5F00\"><b>AUFGABE:</b></span><br>Die beiden Streudiagramme zeigen, dass sich die drei geraden Linien durch die verschiedenen Maschinen ergeben. Testen Sie als nächstes den Zusammenhang zwischen der Stromaufnahme in Ampere und der Werkzeug-Temperatur in °Celsius. Was können Sie erkennen?"
   ]
  },
  {
   "cell_type": "code",
   "execution_count": null,
   "id": "aa3e5496",
   "metadata": {},
   "outputs": [],
   "source": []
  },
  {
   "cell_type": "markdown",
   "id": "4ce78555",
   "metadata": {},
   "source": [
    "Um Ihnen eine bessere Intuition über die Größe und Richtung eines Zusammenhangs zu geben, haben wir eine Auswahl an Streudiagrammen mit unterschiedlichen Zusammenhängen zusammengestellt. Versuchen Sie, die unten aufgeführten Zusammenhänge einzuschätzen. Ist der folgende Zusammenhang groß oder klein, positiv oder negativ?\n",
    "\n",
    "<img src=\"./img/corr_10.svg\" height=200>"
   ]
  },
  {
   "cell_type": "markdown",
   "id": "b4b7d7a6",
   "metadata": {},
   "source": [
    "Wie sieht es bei dem nächsten Zusammenhang aus?\n",
    "\n",
    "<img src=\"./img/corr_-10.svg\" height=200>"
   ]
  },
  {
   "cell_type": "markdown",
   "id": "5cc03013",
   "metadata": {},
   "source": [
    "Überlegen Sie, wie ein Streudiagramm aussehen würde, wenn es keinen Zusammenhang zwischen den Merkmalen gäbe. Beschreiben Sie dann den folgenden Zusammenhang:\n",
    "\n",
    "<img src=\"./img/corr_00.svg\" height=200>"
   ]
  },
  {
   "cell_type": "markdown",
   "id": "010ce112",
   "metadata": {},
   "source": [
    "Schätzen Sie zum Schluss noch diesen Zusammenhang ein:\n",
    "\n",
    "<img src=\"./img/corr_08.svg\" height=200>"
   ]
  },
  {
   "cell_type": "markdown",
   "id": "72e07aba",
   "metadata": {},
   "source": [
    "Möchten Sie Ihre Intuition über die Größe von Zusammenhängen (mit dem Korrelationskoeffizienten nach Pearson) noch weiter ausbauen, empfehlen wir Ihnen das Online-Spiel [Guess the Correlation](http://guessthecorrelation.com/). "
   ]
  },
  {
   "cell_type": "markdown",
   "id": "ca6434ad",
   "metadata": {},
   "source": [
    "## Korrelationen und Transformationen"
   ]
  },
  {
   "cell_type": "markdown",
   "id": "f11af625",
   "metadata": {},
   "source": [
    "Mit dem besseren Verständnis über die Stärke und Richtung von Zusammenhängen können wir uns nun direkt die Korrelationskoeffizienten nach Pearson für unsere metrischen Merkmale anschauen. Dazu benutzen wir die ```corr()```-Funktion (zur Bestimmung der Korrelationen) in Verbindung mit ```\"plt.imshow\"``` (kurz für _image show_) und passenden Farben (```\"RdBu_r\"```) zur Erstellung einer [Heatmap](https://plotly.github.io/plotly.py-docs/generated/plotly.express.imshow.html). Versuchen Sie, sich anhand der Farben und Ihrem Wissen über den Pearsons Correlation einen Reim aus der Matrix zu machen:"
   ]
  },
  {
   "cell_type": "code",
   "execution_count": null,
   "id": "6276737b",
   "metadata": {},
   "outputs": [],
   "source": [
    "corr = exploration_data.corr()\n",
    "plt.imshow(corr, cmap=\"RdBu\")\n",
    "# plt.xticks(range(len(corr)), corr.columns)\n",
    "_ = plt.yticks(range(len(corr)), corr.index)"
   ]
  },
  {
   "cell_type": "markdown",
   "id": "f5dfd8b3",
   "metadata": {},
   "source": [
    "Die Matrix ist etwas schwer zu lesen und es ist mühsam, die Label ordentlich an die Achsen zu schreiben. Dankenswerterweise gibt es unzählige Möglichkeiten, mit ```pandas``` und den zugehörigen Visualisierungsbibliotheken wie z.B. ```plotly```, ```matplotlib``` und ```seaborn``` ansprechende Visualisierungen zu gestalten. Die Kunst liegt vor allem darin, die Bibliotheken auseinander zu halten und die richtige auszuwählen, z.B. um eine geclusterte Heatmap zu erzeugen:"
   ]
  },
  {
   "cell_type": "code",
   "execution_count": null,
   "id": "967b2c7a",
   "metadata": {},
   "outputs": [],
   "source": [
    "corr.style.background_gradient(cmap ='coolwarm')"
   ]
  },
  {
   "cell_type": "markdown",
   "id": "95bfe4d6",
   "metadata": {},
   "source": [
    "Deckt sich die berechnete Korrelation mit Ihren Erkenntnissen aus den Streudiagrammen? Fallen Ihnen noch weitere interessante Zusammenhänge auf? Manchmal ergeben sich interessante Zusammenhänge erst, wenn man verschiedene Merkmale miteinander kombiniert. So können wir zum Beispiel die Spannung aus der Drehzahl, dem Drehmoment und der Stromstärke [berechnen](https://en.wikipedia.org/wiki/Electric_motor). Lassen Sie uns hierzu eine neue Spalte in unserer Tabelle anlegen:"
   ]
  },
  {
   "cell_type": "code",
   "execution_count": null,
   "id": "c24fd3f2",
   "metadata": {},
   "outputs": [],
   "source": [
    "exploration_data[\"Spannung / V\"] = (2 * 3.14 / 60 * exploration_data[\"Drehzahl / 1/min\"] *\n",
    "exploration_data[\"Drehmoment / Nm\"] / exploration_data[\"Strom / A\"])"
   ]
  },
  {
   "cell_type": "markdown",
   "id": "828a1941",
   "metadata": {},
   "source": [
    "Nun können wir die Korrelationskoeffizienten nach Pearson für unser neues Merkmal noch einmal darstellen:"
   ]
  },
  {
   "cell_type": "code",
   "execution_count": null,
   "id": "7dcddf9d",
   "metadata": {},
   "outputs": [],
   "source": [
    "corr = exploration_data.corr()\n",
    "corr.style.background_gradient(cmap ='coolwarm')"
   ]
  },
  {
   "cell_type": "markdown",
   "id": "57ae4acc",
   "metadata": {},
   "source": [
    "Ergeben sich durch unser neues Merkmal neue interessante Zusammenhänge? Versuchen Sie nun selbst, eine Hypothese darüber aufzustellen, welche Merkmalskombination interessante Zusammenhänge zeigen könnte. Ohne Wissen über mechatronische Systeme erwarten wir natürlich nicht, dass Ihre Hypothese plausibel ist. Für unsere Zwecke würde daher auch die Hypothese genügen, dass sich durch die Multiplikation oder Division zweier beliebiger Merkmale möglicherweise ein neues interessantes Merkmal ergeben könnte. \n",
    "\n",
    "<span style=\"color:#FF5F00\"><b>AUFGABE:</b></span><br>\n",
    "Legen Sie in der Tabelle dann eine neue Spalte für Ihr Merkmal an und lassen Sie sich die Korrelationskoeffizienten nach Pearson in einer Heatmap ausgeben. Nicht-benötige Spalten können Sie bei Bedarf mit ```del exploration_data[\"...\"]``` löschen, indem sie ```...``` durch den Spaltennamen ersetzen. Achtung - solche Befehle können Sie offensichtlich nicht wiederholt ausfüllen."
   ]
  },
  {
   "cell_type": "code",
   "execution_count": null,
   "id": "e6df38f6",
   "metadata": {},
   "outputs": [],
   "source": [
    "# del exploration_data[\"Spannung / V\"]"
   ]
  },
  {
   "cell_type": "markdown",
   "id": "02993568",
   "metadata": {},
   "source": [
    "**Prima!**\n",
    "Sie haben mit dieser Übung einiges erreicht. Sie können nun sowohl Säulen- oder Balkendiagramme, Histogramme, Streudiagramme als auch Heatmaps in Plotly visualisieren, um einen Datensatz zu erkunden - alles in jeweils nur einer einzigen Zeile Code. Sie haben zudem die wichtigsten Funktionsargumente kennengelernt und haben einige davon auch selbst angepasst. Dass Sie auch eigene Hypothesen aufstellen und testen können, eröffnet Ihnen die Möglichkeit, Ihre eigenen Annahmen auch ohne eine gezielte Datenanalyse auf die Probe zu stellen. "
   ]
  }
 ],
 "metadata": {
  "kernelspec": {
   "display_name": "wikisy",
   "language": "python",
   "name": "python3"
  },
  "language_info": {
   "codemirror_mode": {
    "name": "ipython",
    "version": 3
   },
   "file_extension": ".py",
   "mimetype": "text/x-python",
   "name": "python",
   "nbconvert_exporter": "python",
   "pygments_lexer": "ipython3",
   "version": "3.10.18"
  }
 },
 "nbformat": 4,
 "nbformat_minor": 5
}
