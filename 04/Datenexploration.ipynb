{
 "cells": [
  {
   "cell_type": "markdown",
   "id": "88504c11",
   "metadata": {},
   "source": [
    "<img src=\"https://th.bing.com/th/id/R.0b9618782d4e7062573f5983d876649a?rik=7HWDbD%2feXNOe1A&pid=ImgRaw&r=0\" width=150>\n",
    "\n",
    "\n",
    "**I758 Wissens- und KI-basierte Systeme**\n",
    "\n",
    "# Explorative Datenanalyse: Verteilungen und Zusammenhänge\n",
    "(c) Ricardo Knauer, Raphael Wallsberger, Christina Kratsch\n",
    "Bearbeitet von Robert Koch (591432)"
   ]
  },
  {
   "cell_type": "markdown",
   "id": "2dc431ed",
   "metadata": {},
   "source": [
    "Willkommen bei der ersten praktischen Übung zum Thema explorative Datenanalyse! Wir haben uns während der Vorlesung bereits mit einigen Verfahren beschäftigt, mit denen man einen Datensatz erkunden kann. Im Folgenden wollen wir diese Verfahren auch praktisch anwenden. Zum Glück ist die explorative Analyse von Daten so weit verbreitet, dass es bereits eine Vielzahl an Bibliotheken für genau diesen Zweck gibt. Wir werden für unsere Analyse eine der bekanntesten Bibliotheken verwenden, um interaktive Diagramme zu erstellen: Plotly. Plotly verfügt über Schnittstellen zu einer ganzen Reihe an Programmiersprachen, darunter auch [Python](https://plotly.com/python/). Mit der ersten praktischen Übung verfolgen wir folgende Lernziele:\n",
    "\n",
    "- Sie sollen lernen, wie Sie Daten mithilfe von Säulen- oder Balkendiagrammen, Histogrammen, Streudiagrammen und Heatmaps in Plotly visualisieren können.\n",
    "- Sie sollen den Wert von Funktionsargumenten zur Visualisierung sach- und zweckorientiert anpassen können.\n",
    "- Sie sollen lernen, wie man eigene Hypothesen über einen Datensatz aufstellen und diese im Rahmen einer explorativen Analyse testen kann.\n",
    "\n",
    "Voraussichtlich werden Sie für diese Übung maximal 2h benötigen."
   ]
  },
  {
   "cell_type": "markdown",
   "id": "74448a5a",
   "metadata": {},
   "source": [
    "## Der Datensatz"
   ]
  },
  {
   "cell_type": "markdown",
   "id": "c1c5752e",
   "metadata": {},
   "source": [
    "Für die explorative Analyse von Daten braucht man als Ausgangspunkt erst einmal eins: Daten. Für unsere praktischen Übungen werden wir einen Datensatz verwenden, der uns freundlicherweise von [Prof. Dr. Stephan Matzka](https://www.htw-berlin.de/hochschule/personen/person/?eid=11248) zur Verfügung gestellt wurde. Der Datensatz befasst sich mit einer Fertigungszelle, in der drei Maschinen Produkte herstellen. Unser Datensatz ```machine_data.csv``` liegt im sogenannten csv-Format vor (englisch für _comma-separated values_). Das ist ein gängiges Format zum Speichern strukturierter Daten, bei dem einzelne Werte durch Kommas oder andere Trennzeichen separiert sind. Wenn wir uns die Datei anschauen, erkennen wir, dass die Trennzeichen in unserem Fall Semikolons sind und dass Floats ein Komma anstelle eines Punktes als Dezimaltrennzeichen aufweisen. Um den Datensatz einzulesen, nutzen wir die [pandas](https://pandas.pydata.org/)-Bibliothek - die erste Wahl bei der Arbeit mit tabellarischen Daten in Python. Eine kleine Anmerkung: Unter diesem Textabschnitt finden Sie einen Codeblock. Codeblöcke wie diesen können Sie ausführen, indem Sie auf den Block klicken und danach gleichzeitig SHIFT und ENTER auf der Tastatur drücken. Die entsprechende Ausgabe erscheint gegebenenfalls unter dem Block. Codeblöcke, die Sie zwischen den Texten in dieser Übung sehen, sollten Sie in der vorgegebenen Reihenfolge ausführen. Bei leeren Codeblöcken müssen Sie zuvor noch Ihren eigenen Code ergänzen."
   ]
  },
  {
   "cell_type": "code",
   "execution_count": 126,
   "id": "f326048e",
   "metadata": {},
   "outputs": [],
   "source": [
    "import pandas as pd\n",
    "\n",
    "df = pd.read_csv(\"data/machine_data.csv\", delimiter=\";\", decimal=\",\")"
   ]
  },
  {
   "cell_type": "markdown",
   "id": "eaa72f47",
   "metadata": {},
   "source": [
    "Sie sehen, dass wir zuerst die pandas-Bibliothek importieren. Um bei Funktionsaufrufen aus dieser Bibliothek nicht jedes Mal ```pandas``` ausschreiben zu müssen, lassen wir Python wissen, dass wir das Kürzel ```pd``` anstelle von ```pandas``` benutzen möchten. Unseren csv-Datensatz können wir einlesen, indem wir einfach den Befehl ```pd.read_csv()``` ausführen. Dabei müssen wir der Funktion natürlich mitteilen, wo sich unsere Daten befinden und dass wir ```;``` als Trennzeichen sowie ```,``` als Dezimaltrennzeichen verwenden möchten. Der Datensatz wird abschließend in der Variable ```df``` in Form einer Tabelle gespeichert. Schauen wir uns die ersten paar Zeilen dieser Tabelle an. Dazu benutzen wir pandas' ```head()```-Funktion:"
   ]
  },
  {
   "cell_type": "code",
   "execution_count": 127,
   "id": "01eb3677",
   "metadata": {},
   "outputs": [
    {
     "data": {
      "text/html": [
       "<div>\n",
       "<style scoped>\n",
       "    .dataframe tbody tr th:only-of-type {\n",
       "        vertical-align: middle;\n",
       "    }\n",
       "\n",
       "    .dataframe tbody tr th {\n",
       "        vertical-align: top;\n",
       "    }\n",
       "\n",
       "    .dataframe thead th {\n",
       "        text-align: right;\n",
       "    }\n",
       "</style>\n",
       "<table border=\"1\" class=\"dataframe\">\n",
       "  <thead>\n",
       "    <tr style=\"text-align: right;\">\n",
       "      <th></th>\n",
       "      <th>Maschine</th>\n",
       "      <th>Mode</th>\n",
       "      <th>Produkt</th>\n",
       "      <th>Strom / A</th>\n",
       "      <th>Drehmoment / Nm</th>\n",
       "      <th>Drehzahl / 1/min</th>\n",
       "      <th>Temp Umgebung / degC</th>\n",
       "      <th>Temp Umrichter / degC</th>\n",
       "      <th>Temp Werkzeug / degC</th>\n",
       "      <th>Bearbeitungszeit / s</th>\n",
       "    </tr>\n",
       "  </thead>\n",
       "  <tbody>\n",
       "    <tr>\n",
       "      <th>0</th>\n",
       "      <td>A</td>\n",
       "      <td>2.0</td>\n",
       "      <td>Y</td>\n",
       "      <td>22.782</td>\n",
       "      <td>51.79</td>\n",
       "      <td>1461</td>\n",
       "      <td>18.7</td>\n",
       "      <td>23.1</td>\n",
       "      <td>98.7</td>\n",
       "      <td>23.8</td>\n",
       "    </tr>\n",
       "    <tr>\n",
       "      <th>1</th>\n",
       "      <td>A</td>\n",
       "      <td>1.0</td>\n",
       "      <td>Y</td>\n",
       "      <td>19.793</td>\n",
       "      <td>45.03</td>\n",
       "      <td>1460</td>\n",
       "      <td>21.0</td>\n",
       "      <td>21.5</td>\n",
       "      <td>87.5</td>\n",
       "      <td>25.3</td>\n",
       "    </tr>\n",
       "    <tr>\n",
       "      <th>2</th>\n",
       "      <td>C</td>\n",
       "      <td>3.0</td>\n",
       "      <td>X</td>\n",
       "      <td>25.581</td>\n",
       "      <td>52.00</td>\n",
       "      <td>1463</td>\n",
       "      <td>19.9</td>\n",
       "      <td>21.8</td>\n",
       "      <td>98.1</td>\n",
       "      <td>19.9</td>\n",
       "    </tr>\n",
       "    <tr>\n",
       "      <th>3</th>\n",
       "      <td>C</td>\n",
       "      <td>3.0</td>\n",
       "      <td>Y</td>\n",
       "      <td>28.145</td>\n",
       "      <td>57.30</td>\n",
       "      <td>1461</td>\n",
       "      <td>20.7</td>\n",
       "      <td>25.4</td>\n",
       "      <td>109.7</td>\n",
       "      <td>22.3</td>\n",
       "    </tr>\n",
       "    <tr>\n",
       "      <th>4</th>\n",
       "      <td>C</td>\n",
       "      <td>2.0</td>\n",
       "      <td>Y</td>\n",
       "      <td>25.544</td>\n",
       "      <td>51.84</td>\n",
       "      <td>1466</td>\n",
       "      <td>19.0</td>\n",
       "      <td>24.1</td>\n",
       "      <td>100.8</td>\n",
       "      <td>23.8</td>\n",
       "    </tr>\n",
       "    <tr>\n",
       "      <th>5</th>\n",
       "      <td>A</td>\n",
       "      <td>2.0</td>\n",
       "      <td>X</td>\n",
       "      <td>21.426</td>\n",
       "      <td>48.64</td>\n",
       "      <td>1463</td>\n",
       "      <td>21.5</td>\n",
       "      <td>23.3</td>\n",
       "      <td>95.1</td>\n",
       "      <td>21.4</td>\n",
       "    </tr>\n",
       "    <tr>\n",
       "      <th>6</th>\n",
       "      <td>B</td>\n",
       "      <td>2.0</td>\n",
       "      <td>Y</td>\n",
       "      <td>22.786</td>\n",
       "      <td>50.92</td>\n",
       "      <td>1462</td>\n",
       "      <td>20.9</td>\n",
       "      <td>22.8</td>\n",
       "      <td>98.2</td>\n",
       "      <td>24.8</td>\n",
       "    </tr>\n",
       "    <tr>\n",
       "      <th>7</th>\n",
       "      <td>C</td>\n",
       "      <td>2.0</td>\n",
       "      <td>X</td>\n",
       "      <td>23.021</td>\n",
       "      <td>46.85</td>\n",
       "      <td>1462</td>\n",
       "      <td>21.3</td>\n",
       "      <td>23.8</td>\n",
       "      <td>93.1</td>\n",
       "      <td>21.4</td>\n",
       "    </tr>\n",
       "    <tr>\n",
       "      <th>8</th>\n",
       "      <td>B</td>\n",
       "      <td>2.0</td>\n",
       "      <td>Y</td>\n",
       "      <td>22.255</td>\n",
       "      <td>49.69</td>\n",
       "      <td>1463</td>\n",
       "      <td>21.5</td>\n",
       "      <td>24.4</td>\n",
       "      <td>97.7</td>\n",
       "      <td>24.8</td>\n",
       "    </tr>\n",
       "    <tr>\n",
       "      <th>9</th>\n",
       "      <td>C</td>\n",
       "      <td>3.0</td>\n",
       "      <td>X</td>\n",
       "      <td>26.195</td>\n",
       "      <td>53.29</td>\n",
       "      <td>1462</td>\n",
       "      <td>21.9</td>\n",
       "      <td>25.3</td>\n",
       "      <td>104.1</td>\n",
       "      <td>19.9</td>\n",
       "    </tr>\n",
       "  </tbody>\n",
       "</table>\n",
       "</div>"
      ],
      "text/plain": [
       "  Maschine  Mode Produkt  Strom / A  Drehmoment / Nm  Drehzahl / 1/min  \\\n",
       "0        A   2.0       Y     22.782            51.79              1461   \n",
       "1        A   1.0       Y     19.793            45.03              1460   \n",
       "2        C   3.0       X     25.581            52.00              1463   \n",
       "3        C   3.0       Y     28.145            57.30              1461   \n",
       "4        C   2.0       Y     25.544            51.84              1466   \n",
       "5        A   2.0       X     21.426            48.64              1463   \n",
       "6        B   2.0       Y     22.786            50.92              1462   \n",
       "7        C   2.0       X     23.021            46.85              1462   \n",
       "8        B   2.0       Y     22.255            49.69              1463   \n",
       "9        C   3.0       X     26.195            53.29              1462   \n",
       "\n",
       "   Temp Umgebung / degC  Temp Umrichter / degC  Temp Werkzeug / degC  \\\n",
       "0                  18.7                   23.1                  98.7   \n",
       "1                  21.0                   21.5                  87.5   \n",
       "2                  19.9                   21.8                  98.1   \n",
       "3                  20.7                   25.4                 109.7   \n",
       "4                  19.0                   24.1                 100.8   \n",
       "5                  21.5                   23.3                  95.1   \n",
       "6                  20.9                   22.8                  98.2   \n",
       "7                  21.3                   23.8                  93.1   \n",
       "8                  21.5                   24.4                  97.7   \n",
       "9                  21.9                   25.3                 104.1   \n",
       "\n",
       "   Bearbeitungszeit / s  \n",
       "0                  23.8  \n",
       "1                  25.3  \n",
       "2                  19.9  \n",
       "3                  22.3  \n",
       "4                  23.8  \n",
       "5                  21.4  \n",
       "6                  24.8  \n",
       "7                  21.4  \n",
       "8                  24.8  \n",
       "9                  19.9  "
      ]
     },
     "execution_count": 127,
     "metadata": {},
     "output_type": "execute_result"
    }
   ],
   "source": [
    "df.head(10)"
   ]
  },
  {
   "cell_type": "markdown",
   "id": "717167cb",
   "metadata": {},
   "source": [
    "Die ersten drei Merkmale scheinen in Kategorien eingeteilt zu sein, bei den anderen Merkmalen handelt es sich anscheinend um Floats oder Integers. ```Maschine``` und ```Produkt``` sind offensichtlich nominale Merkmale; ```Mode``` ist hingegen ein ordinales Merkmal, da Energiesparbetrieb (```1.0```), Normalbetrieb (```2.0```) und Hochleistungsbetrieb (```3.0```) eine Rangordnung aufweisen. pandas verfügt natürlich nicht über diese Information aus der Dokumentation, daher müssen wir den ersten drei Merkmalen noch den passenden Datentyp zuweisen. Hierzu nutzen wir pandas' ```Categorical()```-Funktion:"
   ]
  },
  {
   "cell_type": "code",
   "execution_count": 128,
   "id": "70e04251",
   "metadata": {},
   "outputs": [],
   "source": [
    "df[\"Maschine\"] = pd.Categorical(df[\"Maschine\"])\n",
    "df[\"Produkt\"] = pd.Categorical(df[\"Produkt\"])\n",
    "df[\"Mode\"] = pd.Categorical(df[\"Mode\"], ordered=True)"
   ]
  },
  {
   "cell_type": "markdown",
   "id": "a4144d79",
   "metadata": {},
   "source": [
    "Wie man in dem oberen Codeblock erkennen kann, kann man auf Spalten der Tabelle zugreifen, indem man den Namen der Spalte (als String) zwischen zwei eckige Klammern schreibt. Um pandas mitzuteilen, ob es sich bei einem Merkmal um ein nominales oder um ein ordinales Merkmal handelt, benutzt man in der ```Categorical()```-Funktion das Argument ```ordered```. Das Argument ist standardmäßig auf ```False``` gesetzt. Bei ordinalen Merkmalen muss man der Funktion daher explizit den Wert ```True``` mitgeben. Nachdem wir unseren Merkmalen in der Tabelle also nun die richtigen Datentypen zugewiesen haben, können wir uns endlich den Visualisierungen zuwenden."
   ]
  },
  {
   "cell_type": "markdown",
   "id": "0e7a0c67",
   "metadata": {},
   "source": [
    "<h5>Ein Merkmal, ein Diagramm, viele Kenngrößen</h5>"
   ]
  },
  {
   "cell_type": "markdown",
   "id": "26425961",
   "metadata": {},
   "source": [
    "Sie haben in der Vorlesung bereits erfahren, dass es bei der explorativen Analyse zuerst meist sinnvoll ist, sich anzuschauen, wie oft die verschiedenen Werte in jedem Merkmal vorkommen. Bei nominalen und ordinalen Merkmalen bieten sich Säulen- oder Balkendiagramme zur Visualisierung an, bei metrischen Merkmalen Histogramme. Um interaktive Diagramme zu erstellen, können wir pandas ganz einfach mit Plotly kombinieren. Dazu setzen wir das sogenannte Backend zur Darstellung von Diagrammen auf ```\"plotly\"```:"
   ]
  },
  {
   "cell_type": "code",
   "execution_count": 129,
   "id": "2630f91c",
   "metadata": {},
   "outputs": [],
   "source": [
    "pd.options.plotting.backend = \"plotly\""
   ]
  },
  {
   "cell_type": "markdown",
   "id": "90302cdd",
   "metadata": {},
   "source": [
    "Ein [Säulendiagramm](https://plotly.github.io/plotly.py-docs/generated/plotly.express.bar.html) können wir darstellen, indem wir die Anzahl der Werte pro Kategorie mit der ```value_counts()```-Funktion zählen und danach ```plot(kind=\"bar\")``` aufrufen. Für das nominale Merkmal ```Maschine``` sähe das wie folgt aus:"
   ]
  },
  {
   "cell_type": "code",
   "execution_count": 130,
   "id": "a29e5b03",
   "metadata": {},
   "outputs": [
    {
     "data": {
      "application/vnd.plotly.v1+json": {
       "config": {
        "plotlyServerURL": "https://plot.ly"
       },
       "data": [
        {
         "hovertemplate": "variable=count<br>Maschine=%{x}<br>value=%{y}<extra></extra>",
         "legendgroup": "count",
         "marker": {
          "color": "#636efa",
          "pattern": {
           "shape": ""
          }
         },
         "name": "count",
         "orientation": "v",
         "showlegend": true,
         "textposition": "auto",
         "type": "bar",
         "x": [
          "C",
          "A",
          "B"
         ],
         "xaxis": "x",
         "y": {
          "bdata": "oAGRAbcA",
          "dtype": "i2"
         },
         "yaxis": "y"
        }
       ],
       "layout": {
        "barmode": "relative",
        "legend": {
         "title": {
          "text": "variable"
         },
         "tracegroupgap": 0
        },
        "margin": {
         "t": 60
        },
        "template": {
         "data": {
          "bar": [
           {
            "error_x": {
             "color": "#2a3f5f"
            },
            "error_y": {
             "color": "#2a3f5f"
            },
            "marker": {
             "line": {
              "color": "#E5ECF6",
              "width": 0.5
             },
             "pattern": {
              "fillmode": "overlay",
              "size": 10,
              "solidity": 0.2
             }
            },
            "type": "bar"
           }
          ],
          "barpolar": [
           {
            "marker": {
             "line": {
              "color": "#E5ECF6",
              "width": 0.5
             },
             "pattern": {
              "fillmode": "overlay",
              "size": 10,
              "solidity": 0.2
             }
            },
            "type": "barpolar"
           }
          ],
          "carpet": [
           {
            "aaxis": {
             "endlinecolor": "#2a3f5f",
             "gridcolor": "white",
             "linecolor": "white",
             "minorgridcolor": "white",
             "startlinecolor": "#2a3f5f"
            },
            "baxis": {
             "endlinecolor": "#2a3f5f",
             "gridcolor": "white",
             "linecolor": "white",
             "minorgridcolor": "white",
             "startlinecolor": "#2a3f5f"
            },
            "type": "carpet"
           }
          ],
          "choropleth": [
           {
            "colorbar": {
             "outlinewidth": 0,
             "ticks": ""
            },
            "type": "choropleth"
           }
          ],
          "contour": [
           {
            "colorbar": {
             "outlinewidth": 0,
             "ticks": ""
            },
            "colorscale": [
             [
              0,
              "#0d0887"
             ],
             [
              0.1111111111111111,
              "#46039f"
             ],
             [
              0.2222222222222222,
              "#7201a8"
             ],
             [
              0.3333333333333333,
              "#9c179e"
             ],
             [
              0.4444444444444444,
              "#bd3786"
             ],
             [
              0.5555555555555556,
              "#d8576b"
             ],
             [
              0.6666666666666666,
              "#ed7953"
             ],
             [
              0.7777777777777778,
              "#fb9f3a"
             ],
             [
              0.8888888888888888,
              "#fdca26"
             ],
             [
              1,
              "#f0f921"
             ]
            ],
            "type": "contour"
           }
          ],
          "contourcarpet": [
           {
            "colorbar": {
             "outlinewidth": 0,
             "ticks": ""
            },
            "type": "contourcarpet"
           }
          ],
          "heatmap": [
           {
            "colorbar": {
             "outlinewidth": 0,
             "ticks": ""
            },
            "colorscale": [
             [
              0,
              "#0d0887"
             ],
             [
              0.1111111111111111,
              "#46039f"
             ],
             [
              0.2222222222222222,
              "#7201a8"
             ],
             [
              0.3333333333333333,
              "#9c179e"
             ],
             [
              0.4444444444444444,
              "#bd3786"
             ],
             [
              0.5555555555555556,
              "#d8576b"
             ],
             [
              0.6666666666666666,
              "#ed7953"
             ],
             [
              0.7777777777777778,
              "#fb9f3a"
             ],
             [
              0.8888888888888888,
              "#fdca26"
             ],
             [
              1,
              "#f0f921"
             ]
            ],
            "type": "heatmap"
           }
          ],
          "histogram": [
           {
            "marker": {
             "pattern": {
              "fillmode": "overlay",
              "size": 10,
              "solidity": 0.2
             }
            },
            "type": "histogram"
           }
          ],
          "histogram2d": [
           {
            "colorbar": {
             "outlinewidth": 0,
             "ticks": ""
            },
            "colorscale": [
             [
              0,
              "#0d0887"
             ],
             [
              0.1111111111111111,
              "#46039f"
             ],
             [
              0.2222222222222222,
              "#7201a8"
             ],
             [
              0.3333333333333333,
              "#9c179e"
             ],
             [
              0.4444444444444444,
              "#bd3786"
             ],
             [
              0.5555555555555556,
              "#d8576b"
             ],
             [
              0.6666666666666666,
              "#ed7953"
             ],
             [
              0.7777777777777778,
              "#fb9f3a"
             ],
             [
              0.8888888888888888,
              "#fdca26"
             ],
             [
              1,
              "#f0f921"
             ]
            ],
            "type": "histogram2d"
           }
          ],
          "histogram2dcontour": [
           {
            "colorbar": {
             "outlinewidth": 0,
             "ticks": ""
            },
            "colorscale": [
             [
              0,
              "#0d0887"
             ],
             [
              0.1111111111111111,
              "#46039f"
             ],
             [
              0.2222222222222222,
              "#7201a8"
             ],
             [
              0.3333333333333333,
              "#9c179e"
             ],
             [
              0.4444444444444444,
              "#bd3786"
             ],
             [
              0.5555555555555556,
              "#d8576b"
             ],
             [
              0.6666666666666666,
              "#ed7953"
             ],
             [
              0.7777777777777778,
              "#fb9f3a"
             ],
             [
              0.8888888888888888,
              "#fdca26"
             ],
             [
              1,
              "#f0f921"
             ]
            ],
            "type": "histogram2dcontour"
           }
          ],
          "mesh3d": [
           {
            "colorbar": {
             "outlinewidth": 0,
             "ticks": ""
            },
            "type": "mesh3d"
           }
          ],
          "parcoords": [
           {
            "line": {
             "colorbar": {
              "outlinewidth": 0,
              "ticks": ""
             }
            },
            "type": "parcoords"
           }
          ],
          "pie": [
           {
            "automargin": true,
            "type": "pie"
           }
          ],
          "scatter": [
           {
            "fillpattern": {
             "fillmode": "overlay",
             "size": 10,
             "solidity": 0.2
            },
            "type": "scatter"
           }
          ],
          "scatter3d": [
           {
            "line": {
             "colorbar": {
              "outlinewidth": 0,
              "ticks": ""
             }
            },
            "marker": {
             "colorbar": {
              "outlinewidth": 0,
              "ticks": ""
             }
            },
            "type": "scatter3d"
           }
          ],
          "scattercarpet": [
           {
            "marker": {
             "colorbar": {
              "outlinewidth": 0,
              "ticks": ""
             }
            },
            "type": "scattercarpet"
           }
          ],
          "scattergeo": [
           {
            "marker": {
             "colorbar": {
              "outlinewidth": 0,
              "ticks": ""
             }
            },
            "type": "scattergeo"
           }
          ],
          "scattergl": [
           {
            "marker": {
             "colorbar": {
              "outlinewidth": 0,
              "ticks": ""
             }
            },
            "type": "scattergl"
           }
          ],
          "scattermap": [
           {
            "marker": {
             "colorbar": {
              "outlinewidth": 0,
              "ticks": ""
             }
            },
            "type": "scattermap"
           }
          ],
          "scattermapbox": [
           {
            "marker": {
             "colorbar": {
              "outlinewidth": 0,
              "ticks": ""
             }
            },
            "type": "scattermapbox"
           }
          ],
          "scatterpolar": [
           {
            "marker": {
             "colorbar": {
              "outlinewidth": 0,
              "ticks": ""
             }
            },
            "type": "scatterpolar"
           }
          ],
          "scatterpolargl": [
           {
            "marker": {
             "colorbar": {
              "outlinewidth": 0,
              "ticks": ""
             }
            },
            "type": "scatterpolargl"
           }
          ],
          "scatterternary": [
           {
            "marker": {
             "colorbar": {
              "outlinewidth": 0,
              "ticks": ""
             }
            },
            "type": "scatterternary"
           }
          ],
          "surface": [
           {
            "colorbar": {
             "outlinewidth": 0,
             "ticks": ""
            },
            "colorscale": [
             [
              0,
              "#0d0887"
             ],
             [
              0.1111111111111111,
              "#46039f"
             ],
             [
              0.2222222222222222,
              "#7201a8"
             ],
             [
              0.3333333333333333,
              "#9c179e"
             ],
             [
              0.4444444444444444,
              "#bd3786"
             ],
             [
              0.5555555555555556,
              "#d8576b"
             ],
             [
              0.6666666666666666,
              "#ed7953"
             ],
             [
              0.7777777777777778,
              "#fb9f3a"
             ],
             [
              0.8888888888888888,
              "#fdca26"
             ],
             [
              1,
              "#f0f921"
             ]
            ],
            "type": "surface"
           }
          ],
          "table": [
           {
            "cells": {
             "fill": {
              "color": "#EBF0F8"
             },
             "line": {
              "color": "white"
             }
            },
            "header": {
             "fill": {
              "color": "#C8D4E3"
             },
             "line": {
              "color": "white"
             }
            },
            "type": "table"
           }
          ]
         },
         "layout": {
          "annotationdefaults": {
           "arrowcolor": "#2a3f5f",
           "arrowhead": 0,
           "arrowwidth": 1
          },
          "autotypenumbers": "strict",
          "coloraxis": {
           "colorbar": {
            "outlinewidth": 0,
            "ticks": ""
           }
          },
          "colorscale": {
           "diverging": [
            [
             0,
             "#8e0152"
            ],
            [
             0.1,
             "#c51b7d"
            ],
            [
             0.2,
             "#de77ae"
            ],
            [
             0.3,
             "#f1b6da"
            ],
            [
             0.4,
             "#fde0ef"
            ],
            [
             0.5,
             "#f7f7f7"
            ],
            [
             0.6,
             "#e6f5d0"
            ],
            [
             0.7,
             "#b8e186"
            ],
            [
             0.8,
             "#7fbc41"
            ],
            [
             0.9,
             "#4d9221"
            ],
            [
             1,
             "#276419"
            ]
           ],
           "sequential": [
            [
             0,
             "#0d0887"
            ],
            [
             0.1111111111111111,
             "#46039f"
            ],
            [
             0.2222222222222222,
             "#7201a8"
            ],
            [
             0.3333333333333333,
             "#9c179e"
            ],
            [
             0.4444444444444444,
             "#bd3786"
            ],
            [
             0.5555555555555556,
             "#d8576b"
            ],
            [
             0.6666666666666666,
             "#ed7953"
            ],
            [
             0.7777777777777778,
             "#fb9f3a"
            ],
            [
             0.8888888888888888,
             "#fdca26"
            ],
            [
             1,
             "#f0f921"
            ]
           ],
           "sequentialminus": [
            [
             0,
             "#0d0887"
            ],
            [
             0.1111111111111111,
             "#46039f"
            ],
            [
             0.2222222222222222,
             "#7201a8"
            ],
            [
             0.3333333333333333,
             "#9c179e"
            ],
            [
             0.4444444444444444,
             "#bd3786"
            ],
            [
             0.5555555555555556,
             "#d8576b"
            ],
            [
             0.6666666666666666,
             "#ed7953"
            ],
            [
             0.7777777777777778,
             "#fb9f3a"
            ],
            [
             0.8888888888888888,
             "#fdca26"
            ],
            [
             1,
             "#f0f921"
            ]
           ]
          },
          "colorway": [
           "#636efa",
           "#EF553B",
           "#00cc96",
           "#ab63fa",
           "#FFA15A",
           "#19d3f3",
           "#FF6692",
           "#B6E880",
           "#FF97FF",
           "#FECB52"
          ],
          "font": {
           "color": "#2a3f5f"
          },
          "geo": {
           "bgcolor": "white",
           "lakecolor": "white",
           "landcolor": "#E5ECF6",
           "showlakes": true,
           "showland": true,
           "subunitcolor": "white"
          },
          "hoverlabel": {
           "align": "left"
          },
          "hovermode": "closest",
          "mapbox": {
           "style": "light"
          },
          "paper_bgcolor": "white",
          "plot_bgcolor": "#E5ECF6",
          "polar": {
           "angularaxis": {
            "gridcolor": "white",
            "linecolor": "white",
            "ticks": ""
           },
           "bgcolor": "#E5ECF6",
           "radialaxis": {
            "gridcolor": "white",
            "linecolor": "white",
            "ticks": ""
           }
          },
          "scene": {
           "xaxis": {
            "backgroundcolor": "#E5ECF6",
            "gridcolor": "white",
            "gridwidth": 2,
            "linecolor": "white",
            "showbackground": true,
            "ticks": "",
            "zerolinecolor": "white"
           },
           "yaxis": {
            "backgroundcolor": "#E5ECF6",
            "gridcolor": "white",
            "gridwidth": 2,
            "linecolor": "white",
            "showbackground": true,
            "ticks": "",
            "zerolinecolor": "white"
           },
           "zaxis": {
            "backgroundcolor": "#E5ECF6",
            "gridcolor": "white",
            "gridwidth": 2,
            "linecolor": "white",
            "showbackground": true,
            "ticks": "",
            "zerolinecolor": "white"
           }
          },
          "shapedefaults": {
           "line": {
            "color": "#2a3f5f"
           }
          },
          "ternary": {
           "aaxis": {
            "gridcolor": "white",
            "linecolor": "white",
            "ticks": ""
           },
           "baxis": {
            "gridcolor": "white",
            "linecolor": "white",
            "ticks": ""
           },
           "bgcolor": "#E5ECF6",
           "caxis": {
            "gridcolor": "white",
            "linecolor": "white",
            "ticks": ""
           }
          },
          "title": {
           "x": 0.05
          },
          "xaxis": {
           "automargin": true,
           "gridcolor": "white",
           "linecolor": "white",
           "ticks": "",
           "title": {
            "standoff": 15
           },
           "zerolinecolor": "white",
           "zerolinewidth": 2
          },
          "yaxis": {
           "automargin": true,
           "gridcolor": "white",
           "linecolor": "white",
           "ticks": "",
           "title": {
            "standoff": 15
           },
           "zerolinecolor": "white",
           "zerolinewidth": 2
          }
         }
        },
        "xaxis": {
         "anchor": "y",
         "domain": [
          0,
          1
         ],
         "title": {
          "text": "Maschine"
         }
        },
        "yaxis": {
         "anchor": "x",
         "domain": [
          0,
          1
         ],
         "title": {
          "text": "value"
         }
        }
       }
      }
     },
     "metadata": {},
     "output_type": "display_data"
    }
   ],
   "source": [
    "df[\"Maschine\"].value_counts().plot(kind=\"bar\")"
   ]
  },
  {
   "cell_type": "markdown",
   "id": "3169bcd7",
   "metadata": {},
   "source": [
    "Das entsprechende [Balkendiagramm](https://plotly.github.io/plotly.py-docs/generated/plotly.express.bar.html) sähe so aus:"
   ]
  },
  {
   "cell_type": "code",
   "execution_count": 131,
   "id": "c5d57da4",
   "metadata": {},
   "outputs": [
    {
     "data": {
      "application/vnd.plotly.v1+json": {
       "config": {
        "plotlyServerURL": "https://plot.ly"
       },
       "data": [
        {
         "hovertemplate": "variable=count<br>value=%{x}<br>Maschine=%{y}<extra></extra>",
         "legendgroup": "count",
         "marker": {
          "color": "#636efa",
          "pattern": {
           "shape": ""
          }
         },
         "name": "count",
         "orientation": "h",
         "showlegend": true,
         "textposition": "auto",
         "type": "bar",
         "x": {
          "bdata": "oAGRAbcA",
          "dtype": "i2"
         },
         "xaxis": "x",
         "y": [
          "C",
          "A",
          "B"
         ],
         "yaxis": "y"
        }
       ],
       "layout": {
        "barmode": "relative",
        "legend": {
         "title": {
          "text": "variable"
         },
         "tracegroupgap": 0
        },
        "margin": {
         "t": 60
        },
        "template": {
         "data": {
          "bar": [
           {
            "error_x": {
             "color": "#2a3f5f"
            },
            "error_y": {
             "color": "#2a3f5f"
            },
            "marker": {
             "line": {
              "color": "#E5ECF6",
              "width": 0.5
             },
             "pattern": {
              "fillmode": "overlay",
              "size": 10,
              "solidity": 0.2
             }
            },
            "type": "bar"
           }
          ],
          "barpolar": [
           {
            "marker": {
             "line": {
              "color": "#E5ECF6",
              "width": 0.5
             },
             "pattern": {
              "fillmode": "overlay",
              "size": 10,
              "solidity": 0.2
             }
            },
            "type": "barpolar"
           }
          ],
          "carpet": [
           {
            "aaxis": {
             "endlinecolor": "#2a3f5f",
             "gridcolor": "white",
             "linecolor": "white",
             "minorgridcolor": "white",
             "startlinecolor": "#2a3f5f"
            },
            "baxis": {
             "endlinecolor": "#2a3f5f",
             "gridcolor": "white",
             "linecolor": "white",
             "minorgridcolor": "white",
             "startlinecolor": "#2a3f5f"
            },
            "type": "carpet"
           }
          ],
          "choropleth": [
           {
            "colorbar": {
             "outlinewidth": 0,
             "ticks": ""
            },
            "type": "choropleth"
           }
          ],
          "contour": [
           {
            "colorbar": {
             "outlinewidth": 0,
             "ticks": ""
            },
            "colorscale": [
             [
              0,
              "#0d0887"
             ],
             [
              0.1111111111111111,
              "#46039f"
             ],
             [
              0.2222222222222222,
              "#7201a8"
             ],
             [
              0.3333333333333333,
              "#9c179e"
             ],
             [
              0.4444444444444444,
              "#bd3786"
             ],
             [
              0.5555555555555556,
              "#d8576b"
             ],
             [
              0.6666666666666666,
              "#ed7953"
             ],
             [
              0.7777777777777778,
              "#fb9f3a"
             ],
             [
              0.8888888888888888,
              "#fdca26"
             ],
             [
              1,
              "#f0f921"
             ]
            ],
            "type": "contour"
           }
          ],
          "contourcarpet": [
           {
            "colorbar": {
             "outlinewidth": 0,
             "ticks": ""
            },
            "type": "contourcarpet"
           }
          ],
          "heatmap": [
           {
            "colorbar": {
             "outlinewidth": 0,
             "ticks": ""
            },
            "colorscale": [
             [
              0,
              "#0d0887"
             ],
             [
              0.1111111111111111,
              "#46039f"
             ],
             [
              0.2222222222222222,
              "#7201a8"
             ],
             [
              0.3333333333333333,
              "#9c179e"
             ],
             [
              0.4444444444444444,
              "#bd3786"
             ],
             [
              0.5555555555555556,
              "#d8576b"
             ],
             [
              0.6666666666666666,
              "#ed7953"
             ],
             [
              0.7777777777777778,
              "#fb9f3a"
             ],
             [
              0.8888888888888888,
              "#fdca26"
             ],
             [
              1,
              "#f0f921"
             ]
            ],
            "type": "heatmap"
           }
          ],
          "histogram": [
           {
            "marker": {
             "pattern": {
              "fillmode": "overlay",
              "size": 10,
              "solidity": 0.2
             }
            },
            "type": "histogram"
           }
          ],
          "histogram2d": [
           {
            "colorbar": {
             "outlinewidth": 0,
             "ticks": ""
            },
            "colorscale": [
             [
              0,
              "#0d0887"
             ],
             [
              0.1111111111111111,
              "#46039f"
             ],
             [
              0.2222222222222222,
              "#7201a8"
             ],
             [
              0.3333333333333333,
              "#9c179e"
             ],
             [
              0.4444444444444444,
              "#bd3786"
             ],
             [
              0.5555555555555556,
              "#d8576b"
             ],
             [
              0.6666666666666666,
              "#ed7953"
             ],
             [
              0.7777777777777778,
              "#fb9f3a"
             ],
             [
              0.8888888888888888,
              "#fdca26"
             ],
             [
              1,
              "#f0f921"
             ]
            ],
            "type": "histogram2d"
           }
          ],
          "histogram2dcontour": [
           {
            "colorbar": {
             "outlinewidth": 0,
             "ticks": ""
            },
            "colorscale": [
             [
              0,
              "#0d0887"
             ],
             [
              0.1111111111111111,
              "#46039f"
             ],
             [
              0.2222222222222222,
              "#7201a8"
             ],
             [
              0.3333333333333333,
              "#9c179e"
             ],
             [
              0.4444444444444444,
              "#bd3786"
             ],
             [
              0.5555555555555556,
              "#d8576b"
             ],
             [
              0.6666666666666666,
              "#ed7953"
             ],
             [
              0.7777777777777778,
              "#fb9f3a"
             ],
             [
              0.8888888888888888,
              "#fdca26"
             ],
             [
              1,
              "#f0f921"
             ]
            ],
            "type": "histogram2dcontour"
           }
          ],
          "mesh3d": [
           {
            "colorbar": {
             "outlinewidth": 0,
             "ticks": ""
            },
            "type": "mesh3d"
           }
          ],
          "parcoords": [
           {
            "line": {
             "colorbar": {
              "outlinewidth": 0,
              "ticks": ""
             }
            },
            "type": "parcoords"
           }
          ],
          "pie": [
           {
            "automargin": true,
            "type": "pie"
           }
          ],
          "scatter": [
           {
            "fillpattern": {
             "fillmode": "overlay",
             "size": 10,
             "solidity": 0.2
            },
            "type": "scatter"
           }
          ],
          "scatter3d": [
           {
            "line": {
             "colorbar": {
              "outlinewidth": 0,
              "ticks": ""
             }
            },
            "marker": {
             "colorbar": {
              "outlinewidth": 0,
              "ticks": ""
             }
            },
            "type": "scatter3d"
           }
          ],
          "scattercarpet": [
           {
            "marker": {
             "colorbar": {
              "outlinewidth": 0,
              "ticks": ""
             }
            },
            "type": "scattercarpet"
           }
          ],
          "scattergeo": [
           {
            "marker": {
             "colorbar": {
              "outlinewidth": 0,
              "ticks": ""
             }
            },
            "type": "scattergeo"
           }
          ],
          "scattergl": [
           {
            "marker": {
             "colorbar": {
              "outlinewidth": 0,
              "ticks": ""
             }
            },
            "type": "scattergl"
           }
          ],
          "scattermap": [
           {
            "marker": {
             "colorbar": {
              "outlinewidth": 0,
              "ticks": ""
             }
            },
            "type": "scattermap"
           }
          ],
          "scattermapbox": [
           {
            "marker": {
             "colorbar": {
              "outlinewidth": 0,
              "ticks": ""
             }
            },
            "type": "scattermapbox"
           }
          ],
          "scatterpolar": [
           {
            "marker": {
             "colorbar": {
              "outlinewidth": 0,
              "ticks": ""
             }
            },
            "type": "scatterpolar"
           }
          ],
          "scatterpolargl": [
           {
            "marker": {
             "colorbar": {
              "outlinewidth": 0,
              "ticks": ""
             }
            },
            "type": "scatterpolargl"
           }
          ],
          "scatterternary": [
           {
            "marker": {
             "colorbar": {
              "outlinewidth": 0,
              "ticks": ""
             }
            },
            "type": "scatterternary"
           }
          ],
          "surface": [
           {
            "colorbar": {
             "outlinewidth": 0,
             "ticks": ""
            },
            "colorscale": [
             [
              0,
              "#0d0887"
             ],
             [
              0.1111111111111111,
              "#46039f"
             ],
             [
              0.2222222222222222,
              "#7201a8"
             ],
             [
              0.3333333333333333,
              "#9c179e"
             ],
             [
              0.4444444444444444,
              "#bd3786"
             ],
             [
              0.5555555555555556,
              "#d8576b"
             ],
             [
              0.6666666666666666,
              "#ed7953"
             ],
             [
              0.7777777777777778,
              "#fb9f3a"
             ],
             [
              0.8888888888888888,
              "#fdca26"
             ],
             [
              1,
              "#f0f921"
             ]
            ],
            "type": "surface"
           }
          ],
          "table": [
           {
            "cells": {
             "fill": {
              "color": "#EBF0F8"
             },
             "line": {
              "color": "white"
             }
            },
            "header": {
             "fill": {
              "color": "#C8D4E3"
             },
             "line": {
              "color": "white"
             }
            },
            "type": "table"
           }
          ]
         },
         "layout": {
          "annotationdefaults": {
           "arrowcolor": "#2a3f5f",
           "arrowhead": 0,
           "arrowwidth": 1
          },
          "autotypenumbers": "strict",
          "coloraxis": {
           "colorbar": {
            "outlinewidth": 0,
            "ticks": ""
           }
          },
          "colorscale": {
           "diverging": [
            [
             0,
             "#8e0152"
            ],
            [
             0.1,
             "#c51b7d"
            ],
            [
             0.2,
             "#de77ae"
            ],
            [
             0.3,
             "#f1b6da"
            ],
            [
             0.4,
             "#fde0ef"
            ],
            [
             0.5,
             "#f7f7f7"
            ],
            [
             0.6,
             "#e6f5d0"
            ],
            [
             0.7,
             "#b8e186"
            ],
            [
             0.8,
             "#7fbc41"
            ],
            [
             0.9,
             "#4d9221"
            ],
            [
             1,
             "#276419"
            ]
           ],
           "sequential": [
            [
             0,
             "#0d0887"
            ],
            [
             0.1111111111111111,
             "#46039f"
            ],
            [
             0.2222222222222222,
             "#7201a8"
            ],
            [
             0.3333333333333333,
             "#9c179e"
            ],
            [
             0.4444444444444444,
             "#bd3786"
            ],
            [
             0.5555555555555556,
             "#d8576b"
            ],
            [
             0.6666666666666666,
             "#ed7953"
            ],
            [
             0.7777777777777778,
             "#fb9f3a"
            ],
            [
             0.8888888888888888,
             "#fdca26"
            ],
            [
             1,
             "#f0f921"
            ]
           ],
           "sequentialminus": [
            [
             0,
             "#0d0887"
            ],
            [
             0.1111111111111111,
             "#46039f"
            ],
            [
             0.2222222222222222,
             "#7201a8"
            ],
            [
             0.3333333333333333,
             "#9c179e"
            ],
            [
             0.4444444444444444,
             "#bd3786"
            ],
            [
             0.5555555555555556,
             "#d8576b"
            ],
            [
             0.6666666666666666,
             "#ed7953"
            ],
            [
             0.7777777777777778,
             "#fb9f3a"
            ],
            [
             0.8888888888888888,
             "#fdca26"
            ],
            [
             1,
             "#f0f921"
            ]
           ]
          },
          "colorway": [
           "#636efa",
           "#EF553B",
           "#00cc96",
           "#ab63fa",
           "#FFA15A",
           "#19d3f3",
           "#FF6692",
           "#B6E880",
           "#FF97FF",
           "#FECB52"
          ],
          "font": {
           "color": "#2a3f5f"
          },
          "geo": {
           "bgcolor": "white",
           "lakecolor": "white",
           "landcolor": "#E5ECF6",
           "showlakes": true,
           "showland": true,
           "subunitcolor": "white"
          },
          "hoverlabel": {
           "align": "left"
          },
          "hovermode": "closest",
          "mapbox": {
           "style": "light"
          },
          "paper_bgcolor": "white",
          "plot_bgcolor": "#E5ECF6",
          "polar": {
           "angularaxis": {
            "gridcolor": "white",
            "linecolor": "white",
            "ticks": ""
           },
           "bgcolor": "#E5ECF6",
           "radialaxis": {
            "gridcolor": "white",
            "linecolor": "white",
            "ticks": ""
           }
          },
          "scene": {
           "xaxis": {
            "backgroundcolor": "#E5ECF6",
            "gridcolor": "white",
            "gridwidth": 2,
            "linecolor": "white",
            "showbackground": true,
            "ticks": "",
            "zerolinecolor": "white"
           },
           "yaxis": {
            "backgroundcolor": "#E5ECF6",
            "gridcolor": "white",
            "gridwidth": 2,
            "linecolor": "white",
            "showbackground": true,
            "ticks": "",
            "zerolinecolor": "white"
           },
           "zaxis": {
            "backgroundcolor": "#E5ECF6",
            "gridcolor": "white",
            "gridwidth": 2,
            "linecolor": "white",
            "showbackground": true,
            "ticks": "",
            "zerolinecolor": "white"
           }
          },
          "shapedefaults": {
           "line": {
            "color": "#2a3f5f"
           }
          },
          "ternary": {
           "aaxis": {
            "gridcolor": "white",
            "linecolor": "white",
            "ticks": ""
           },
           "baxis": {
            "gridcolor": "white",
            "linecolor": "white",
            "ticks": ""
           },
           "bgcolor": "#E5ECF6",
           "caxis": {
            "gridcolor": "white",
            "linecolor": "white",
            "ticks": ""
           }
          },
          "title": {
           "x": 0.05
          },
          "xaxis": {
           "automargin": true,
           "gridcolor": "white",
           "linecolor": "white",
           "ticks": "",
           "title": {
            "standoff": 15
           },
           "zerolinecolor": "white",
           "zerolinewidth": 2
          },
          "yaxis": {
           "automargin": true,
           "gridcolor": "white",
           "linecolor": "white",
           "ticks": "",
           "title": {
            "standoff": 15
           },
           "zerolinecolor": "white",
           "zerolinewidth": 2
          }
         }
        },
        "xaxis": {
         "anchor": "y",
         "domain": [
          0,
          1
         ],
         "title": {
          "text": "value"
         }
        },
        "yaxis": {
         "anchor": "x",
         "domain": [
          0,
          1
         ],
         "title": {
          "text": "Maschine"
         }
        }
       }
      }
     },
     "metadata": {},
     "output_type": "display_data"
    }
   ],
   "source": [
    "df[\"Maschine\"].value_counts().plot(kind=\"bar\", orientation=\"h\")"
   ]
  },
  {
   "cell_type": "markdown",
   "id": "ba23320c",
   "metadata": {},
   "source": [
    "<span style=\"color:#FF5F00\"><b>AUFGABE:</b></span><br>\n",
    "Stellen Sie selbstständig ein Säulen- oder Balkendiagramm für das nominale Merkmal ```Produkt``` dar. Was fällt Ihnen auf?"
   ]
  },
  {
   "cell_type": "code",
   "execution_count": 132,
   "id": "eb0e4c66",
   "metadata": {},
   "outputs": [
    {
     "data": {
      "application/vnd.plotly.v1+json": {
       "config": {
        "plotlyServerURL": "https://plot.ly"
       },
       "data": [
        {
         "hovertemplate": "variable=count<br>Produkt=%{x}<br>value=%{y}<extra></extra>",
         "legendgroup": "count",
         "marker": {
          "color": "#636efa",
          "pattern": {
           "shape": ""
          }
         },
         "name": "count",
         "orientation": "v",
         "showlegend": true,
         "textposition": "auto",
         "type": "bar",
         "x": [
          "Y",
          "X",
          "Z"
         ],
         "xaxis": "x",
         "y": {
          "bdata": "HQLKAQEA",
          "dtype": "i2"
         },
         "yaxis": "y"
        }
       ],
       "layout": {
        "barmode": "relative",
        "legend": {
         "title": {
          "text": "variable"
         },
         "tracegroupgap": 0
        },
        "template": {
         "data": {
          "bar": [
           {
            "error_x": {
             "color": "#2a3f5f"
            },
            "error_y": {
             "color": "#2a3f5f"
            },
            "marker": {
             "line": {
              "color": "#E5ECF6",
              "width": 0.5
             },
             "pattern": {
              "fillmode": "overlay",
              "size": 10,
              "solidity": 0.2
             }
            },
            "type": "bar"
           }
          ],
          "barpolar": [
           {
            "marker": {
             "line": {
              "color": "#E5ECF6",
              "width": 0.5
             },
             "pattern": {
              "fillmode": "overlay",
              "size": 10,
              "solidity": 0.2
             }
            },
            "type": "barpolar"
           }
          ],
          "carpet": [
           {
            "aaxis": {
             "endlinecolor": "#2a3f5f",
             "gridcolor": "white",
             "linecolor": "white",
             "minorgridcolor": "white",
             "startlinecolor": "#2a3f5f"
            },
            "baxis": {
             "endlinecolor": "#2a3f5f",
             "gridcolor": "white",
             "linecolor": "white",
             "minorgridcolor": "white",
             "startlinecolor": "#2a3f5f"
            },
            "type": "carpet"
           }
          ],
          "choropleth": [
           {
            "colorbar": {
             "outlinewidth": 0,
             "ticks": ""
            },
            "type": "choropleth"
           }
          ],
          "contour": [
           {
            "colorbar": {
             "outlinewidth": 0,
             "ticks": ""
            },
            "colorscale": [
             [
              0,
              "#0d0887"
             ],
             [
              0.1111111111111111,
              "#46039f"
             ],
             [
              0.2222222222222222,
              "#7201a8"
             ],
             [
              0.3333333333333333,
              "#9c179e"
             ],
             [
              0.4444444444444444,
              "#bd3786"
             ],
             [
              0.5555555555555556,
              "#d8576b"
             ],
             [
              0.6666666666666666,
              "#ed7953"
             ],
             [
              0.7777777777777778,
              "#fb9f3a"
             ],
             [
              0.8888888888888888,
              "#fdca26"
             ],
             [
              1,
              "#f0f921"
             ]
            ],
            "type": "contour"
           }
          ],
          "contourcarpet": [
           {
            "colorbar": {
             "outlinewidth": 0,
             "ticks": ""
            },
            "type": "contourcarpet"
           }
          ],
          "heatmap": [
           {
            "colorbar": {
             "outlinewidth": 0,
             "ticks": ""
            },
            "colorscale": [
             [
              0,
              "#0d0887"
             ],
             [
              0.1111111111111111,
              "#46039f"
             ],
             [
              0.2222222222222222,
              "#7201a8"
             ],
             [
              0.3333333333333333,
              "#9c179e"
             ],
             [
              0.4444444444444444,
              "#bd3786"
             ],
             [
              0.5555555555555556,
              "#d8576b"
             ],
             [
              0.6666666666666666,
              "#ed7953"
             ],
             [
              0.7777777777777778,
              "#fb9f3a"
             ],
             [
              0.8888888888888888,
              "#fdca26"
             ],
             [
              1,
              "#f0f921"
             ]
            ],
            "type": "heatmap"
           }
          ],
          "histogram": [
           {
            "marker": {
             "pattern": {
              "fillmode": "overlay",
              "size": 10,
              "solidity": 0.2
             }
            },
            "type": "histogram"
           }
          ],
          "histogram2d": [
           {
            "colorbar": {
             "outlinewidth": 0,
             "ticks": ""
            },
            "colorscale": [
             [
              0,
              "#0d0887"
             ],
             [
              0.1111111111111111,
              "#46039f"
             ],
             [
              0.2222222222222222,
              "#7201a8"
             ],
             [
              0.3333333333333333,
              "#9c179e"
             ],
             [
              0.4444444444444444,
              "#bd3786"
             ],
             [
              0.5555555555555556,
              "#d8576b"
             ],
             [
              0.6666666666666666,
              "#ed7953"
             ],
             [
              0.7777777777777778,
              "#fb9f3a"
             ],
             [
              0.8888888888888888,
              "#fdca26"
             ],
             [
              1,
              "#f0f921"
             ]
            ],
            "type": "histogram2d"
           }
          ],
          "histogram2dcontour": [
           {
            "colorbar": {
             "outlinewidth": 0,
             "ticks": ""
            },
            "colorscale": [
             [
              0,
              "#0d0887"
             ],
             [
              0.1111111111111111,
              "#46039f"
             ],
             [
              0.2222222222222222,
              "#7201a8"
             ],
             [
              0.3333333333333333,
              "#9c179e"
             ],
             [
              0.4444444444444444,
              "#bd3786"
             ],
             [
              0.5555555555555556,
              "#d8576b"
             ],
             [
              0.6666666666666666,
              "#ed7953"
             ],
             [
              0.7777777777777778,
              "#fb9f3a"
             ],
             [
              0.8888888888888888,
              "#fdca26"
             ],
             [
              1,
              "#f0f921"
             ]
            ],
            "type": "histogram2dcontour"
           }
          ],
          "mesh3d": [
           {
            "colorbar": {
             "outlinewidth": 0,
             "ticks": ""
            },
            "type": "mesh3d"
           }
          ],
          "parcoords": [
           {
            "line": {
             "colorbar": {
              "outlinewidth": 0,
              "ticks": ""
             }
            },
            "type": "parcoords"
           }
          ],
          "pie": [
           {
            "automargin": true,
            "type": "pie"
           }
          ],
          "scatter": [
           {
            "fillpattern": {
             "fillmode": "overlay",
             "size": 10,
             "solidity": 0.2
            },
            "type": "scatter"
           }
          ],
          "scatter3d": [
           {
            "line": {
             "colorbar": {
              "outlinewidth": 0,
              "ticks": ""
             }
            },
            "marker": {
             "colorbar": {
              "outlinewidth": 0,
              "ticks": ""
             }
            },
            "type": "scatter3d"
           }
          ],
          "scattercarpet": [
           {
            "marker": {
             "colorbar": {
              "outlinewidth": 0,
              "ticks": ""
             }
            },
            "type": "scattercarpet"
           }
          ],
          "scattergeo": [
           {
            "marker": {
             "colorbar": {
              "outlinewidth": 0,
              "ticks": ""
             }
            },
            "type": "scattergeo"
           }
          ],
          "scattergl": [
           {
            "marker": {
             "colorbar": {
              "outlinewidth": 0,
              "ticks": ""
             }
            },
            "type": "scattergl"
           }
          ],
          "scattermap": [
           {
            "marker": {
             "colorbar": {
              "outlinewidth": 0,
              "ticks": ""
             }
            },
            "type": "scattermap"
           }
          ],
          "scattermapbox": [
           {
            "marker": {
             "colorbar": {
              "outlinewidth": 0,
              "ticks": ""
             }
            },
            "type": "scattermapbox"
           }
          ],
          "scatterpolar": [
           {
            "marker": {
             "colorbar": {
              "outlinewidth": 0,
              "ticks": ""
             }
            },
            "type": "scatterpolar"
           }
          ],
          "scatterpolargl": [
           {
            "marker": {
             "colorbar": {
              "outlinewidth": 0,
              "ticks": ""
             }
            },
            "type": "scatterpolargl"
           }
          ],
          "scatterternary": [
           {
            "marker": {
             "colorbar": {
              "outlinewidth": 0,
              "ticks": ""
             }
            },
            "type": "scatterternary"
           }
          ],
          "surface": [
           {
            "colorbar": {
             "outlinewidth": 0,
             "ticks": ""
            },
            "colorscale": [
             [
              0,
              "#0d0887"
             ],
             [
              0.1111111111111111,
              "#46039f"
             ],
             [
              0.2222222222222222,
              "#7201a8"
             ],
             [
              0.3333333333333333,
              "#9c179e"
             ],
             [
              0.4444444444444444,
              "#bd3786"
             ],
             [
              0.5555555555555556,
              "#d8576b"
             ],
             [
              0.6666666666666666,
              "#ed7953"
             ],
             [
              0.7777777777777778,
              "#fb9f3a"
             ],
             [
              0.8888888888888888,
              "#fdca26"
             ],
             [
              1,
              "#f0f921"
             ]
            ],
            "type": "surface"
           }
          ],
          "table": [
           {
            "cells": {
             "fill": {
              "color": "#EBF0F8"
             },
             "line": {
              "color": "white"
             }
            },
            "header": {
             "fill": {
              "color": "#C8D4E3"
             },
             "line": {
              "color": "white"
             }
            },
            "type": "table"
           }
          ]
         },
         "layout": {
          "annotationdefaults": {
           "arrowcolor": "#2a3f5f",
           "arrowhead": 0,
           "arrowwidth": 1
          },
          "autotypenumbers": "strict",
          "coloraxis": {
           "colorbar": {
            "outlinewidth": 0,
            "ticks": ""
           }
          },
          "colorscale": {
           "diverging": [
            [
             0,
             "#8e0152"
            ],
            [
             0.1,
             "#c51b7d"
            ],
            [
             0.2,
             "#de77ae"
            ],
            [
             0.3,
             "#f1b6da"
            ],
            [
             0.4,
             "#fde0ef"
            ],
            [
             0.5,
             "#f7f7f7"
            ],
            [
             0.6,
             "#e6f5d0"
            ],
            [
             0.7,
             "#b8e186"
            ],
            [
             0.8,
             "#7fbc41"
            ],
            [
             0.9,
             "#4d9221"
            ],
            [
             1,
             "#276419"
            ]
           ],
           "sequential": [
            [
             0,
             "#0d0887"
            ],
            [
             0.1111111111111111,
             "#46039f"
            ],
            [
             0.2222222222222222,
             "#7201a8"
            ],
            [
             0.3333333333333333,
             "#9c179e"
            ],
            [
             0.4444444444444444,
             "#bd3786"
            ],
            [
             0.5555555555555556,
             "#d8576b"
            ],
            [
             0.6666666666666666,
             "#ed7953"
            ],
            [
             0.7777777777777778,
             "#fb9f3a"
            ],
            [
             0.8888888888888888,
             "#fdca26"
            ],
            [
             1,
             "#f0f921"
            ]
           ],
           "sequentialminus": [
            [
             0,
             "#0d0887"
            ],
            [
             0.1111111111111111,
             "#46039f"
            ],
            [
             0.2222222222222222,
             "#7201a8"
            ],
            [
             0.3333333333333333,
             "#9c179e"
            ],
            [
             0.4444444444444444,
             "#bd3786"
            ],
            [
             0.5555555555555556,
             "#d8576b"
            ],
            [
             0.6666666666666666,
             "#ed7953"
            ],
            [
             0.7777777777777778,
             "#fb9f3a"
            ],
            [
             0.8888888888888888,
             "#fdca26"
            ],
            [
             1,
             "#f0f921"
            ]
           ]
          },
          "colorway": [
           "#636efa",
           "#EF553B",
           "#00cc96",
           "#ab63fa",
           "#FFA15A",
           "#19d3f3",
           "#FF6692",
           "#B6E880",
           "#FF97FF",
           "#FECB52"
          ],
          "font": {
           "color": "#2a3f5f"
          },
          "geo": {
           "bgcolor": "white",
           "lakecolor": "white",
           "landcolor": "#E5ECF6",
           "showlakes": true,
           "showland": true,
           "subunitcolor": "white"
          },
          "hoverlabel": {
           "align": "left"
          },
          "hovermode": "closest",
          "mapbox": {
           "style": "light"
          },
          "paper_bgcolor": "white",
          "plot_bgcolor": "#E5ECF6",
          "polar": {
           "angularaxis": {
            "gridcolor": "white",
            "linecolor": "white",
            "ticks": ""
           },
           "bgcolor": "#E5ECF6",
           "radialaxis": {
            "gridcolor": "white",
            "linecolor": "white",
            "ticks": ""
           }
          },
          "scene": {
           "xaxis": {
            "backgroundcolor": "#E5ECF6",
            "gridcolor": "white",
            "gridwidth": 2,
            "linecolor": "white",
            "showbackground": true,
            "ticks": "",
            "zerolinecolor": "white"
           },
           "yaxis": {
            "backgroundcolor": "#E5ECF6",
            "gridcolor": "white",
            "gridwidth": 2,
            "linecolor": "white",
            "showbackground": true,
            "ticks": "",
            "zerolinecolor": "white"
           },
           "zaxis": {
            "backgroundcolor": "#E5ECF6",
            "gridcolor": "white",
            "gridwidth": 2,
            "linecolor": "white",
            "showbackground": true,
            "ticks": "",
            "zerolinecolor": "white"
           }
          },
          "shapedefaults": {
           "line": {
            "color": "#2a3f5f"
           }
          },
          "ternary": {
           "aaxis": {
            "gridcolor": "white",
            "linecolor": "white",
            "ticks": ""
           },
           "baxis": {
            "gridcolor": "white",
            "linecolor": "white",
            "ticks": ""
           },
           "bgcolor": "#E5ECF6",
           "caxis": {
            "gridcolor": "white",
            "linecolor": "white",
            "ticks": ""
           }
          },
          "title": {
           "x": 0.05
          },
          "xaxis": {
           "automargin": true,
           "gridcolor": "white",
           "linecolor": "white",
           "ticks": "",
           "title": {
            "standoff": 15
           },
           "zerolinecolor": "white",
           "zerolinewidth": 2
          },
          "yaxis": {
           "automargin": true,
           "gridcolor": "white",
           "linecolor": "white",
           "ticks": "",
           "title": {
            "standoff": 15
           },
           "zerolinecolor": "white",
           "zerolinewidth": 2
          }
         }
        },
        "title": {
         "text": "Anzahl von Produkten (absolute Häufigkeit)"
        },
        "xaxis": {
         "anchor": "y",
         "domain": [
          0,
          1
         ],
         "title": {
          "text": "Produkt"
         }
        },
        "yaxis": {
         "anchor": "x",
         "domain": [
          0,
          1
         ],
         "title": {
          "text": "Anzahl"
         }
        }
       }
      }
     },
     "metadata": {},
     "output_type": "display_data"
    }
   ],
   "source": [
    "# Erstelle Diagramm von absoluten Häufigkeiten von Produkten analog zu den oberen Beispielen\n",
    "plot = df[\"Produkt\"].value_counts().plot(kind=\"bar\", title=\"Anzahl von Produkten (absolute Häufigkeit)\")\n",
    "#* Note: Die Achsen müssen explizit umbenannt werden\n",
    "plot.update_layout(xaxis_title=\"Produkt\", yaxis_title=\"Anzahl\")"
   ]
  },
  {
   "cell_type": "markdown",
   "id": "b9e91c1b",
   "metadata": {},
   "source": [
    "<span style=\"color:#FF5F00\"><b>Stimmt was nicht?</b></span><br>\n",
    "\n",
    "Anders als beim Diagramm mit Maschinen, ist die Verteilung unter Produkten ziemlich ungleich. Das liegt hauptsächlich daran, dass es nur ein Datensatz für `Z`-Produkte gibt."
   ]
  },
  {
   "cell_type": "markdown",
   "id": "568fa645",
   "metadata": {},
   "source": [
    "Widmen wir uns als nächstes den metrischen Merkmalen. Metrische Merkmale kann man in Wertebereiche (englisch _bins_) einteilen und in einem [Histogramm](https://plotly.github.io/plotly.py-docs/generated/plotly.express.histogram.html) visualisieren. Ein Histogramm stellt eine Häufigkeitsverteilung dar, die man mit einigen Eigenschaften charakterisieren kann. Eventuell möchten Sie auf Wikipedia kurz nachschauen, was ein Mittelwert, eine Standardabweichung, ein Median sowie Quantile sind."
   ]
  },
  {
   "cell_type": "markdown",
   "id": "699d8cb3",
   "metadata": {},
   "source": [
    "Ein Histogramm lässt sich mit Plotly ganz einfach darstellen, zum Beispiel für die Drehzahl pro Minute:"
   ]
  },
  {
   "cell_type": "code",
   "execution_count": 133,
   "id": "1a72846e",
   "metadata": {},
   "outputs": [
    {
     "data": {
      "application/vnd.plotly.v1+json": {
       "config": {
        "plotlyServerURL": "https://plot.ly"
       },
       "data": [
        {
         "bingroup": "x",
         "hovertemplate": "variable=Drehzahl / 1/min<br>value=%{x}<br>count=%{y}<extra></extra>",
         "legendgroup": "Drehzahl / 1/min",
         "marker": {
          "color": "#636efa",
          "pattern": {
           "shape": ""
          }
         },
         "name": "Drehzahl / 1/min",
         "orientation": "v",
         "showlegend": true,
         "type": "histogram",
         "x": {
          "bdata": "tQW0BbcFtQW6BbcFtgW2BbcFtgW0BbQFswW0BbcFtgW1BbMFtQW1BbYFtAW2BbkFtQW3BbMFuAWyBbUFsgW2BbYFtQW3BbMFtwWyBbQFtgW1BbMFuAW0BbMFswWzBbYFtAW0BbYFuAWyBbMFtgW0BbUFswW3BbUFtAW1BbMFtgWyBbYFtgWzBbUFsgW2BbYFtQW2BbUFtgW3BbQFtgW0BbkFtwW2BbMFswW2BbYFsgWyBbIFtQW7BbUFtQW2BbUFuAWzBbYFtQW1BbQFtgW0BbAFuAW1BbUFsgW4BbYFtAWzBbMFtwW3BbYFtgW1BbQFsQW1BbQFtwW0BbQFswW0BbQFtgW1BbkFtAWzBbYFtQW1BbcFtAW4BbQFsgW0BbQFswW4BbcFtQW0BbIFswW0BbcFsgW0BbQFtQW0BbgFtAW3BbgFtAWzBboFtQW1BbYFtAW1BbYFuAW3BbMFuAW4BbMFtQW2BbEFtAW2BbIFtgW0BbIFswW1BbUFtQW1BbMFtAW0BbYFuQW2BbUFtQW1BbUFtwW2BbQFtQW3BbUFtQWzBbcFtgW4BbMFtAW2BbUFtwWzBbgFtAW0BbUFtgWzBbQFuAWzBbYFtAW0BbQFtgW0BbMFtAW2BbYFtwW1BbUFtAWzBbQFtQW2BbUFswW1BbUFsQW3BbQFtwW1BbcFtgW5BbYFtgW1BbcFtAWwBbcFswW1BbUFtgWzBbgFtQW0BbYFswW5BbcFswW3BbcFtAWzBbQFtwW1BbcFtQWzBbQFtgW1BbcFtwW0BbYFtAW1BbQFtQWzBbUFtAW2BbcFswWyBbYFswW2BbQFswW0BbQFuAWyBbUFugW2BbYFtgW2BbQFtQWyBbYFtwW1BbYFtgWyBbcFswW1BbMFtQW0BbUFtgW2BbUFtwWzBbMFtQWxBbUFtgW5BbgFuQW1BbQFtQWzBbEFtAW0BbUFswW4BbUFtAW1BbkFtQW3BbUFtQW0BbYFsQW1BbMFtwWwBbQFtgW1BbUFtgW2BbcFtQW1BbIFtwW4BbYFtQW0BbMFuAWyBbYFswW0BbYFtgW1BbcFtwW1BbIFtgW2BbcFtgW0BbQFtQW2BbcFuAW3BbMFtgWxBbYFtQWyBbYFtgWyBbQFtgW3BbcFtAW0BbUFtgW4BbUFsQW4BbcFsgW2BbUFsQW2BbgFtgWyBbgFsgWzBbcFtQW1BbEFswW0BbUFtgW1BbgFtgWxBbMFuQWzBbcFswW0BbYFtwWyBbUFtgW5BbMFsgWyBbUFtwWzBbQFsgW3BbcFtwW4BbgFtAW3BbMFswW1BbMFtgW3BbUFtwW0BbcFuAW0BbgFtwW2BbMFtQW2BbQFswW3BbQFsgW0BbQFtAW2BbIFuAW3BbUFtAW1BbEFtQWyBbUFtAW1BbUFswW3BbkFtgW1BbQFuAW4BbQFtgWzBbcFtAW5BbYFtAW4BbMFtQWxBbYFtAWzBbUFtQW1BbUFsgW3BbcFuAW5BbYFtQW1BbMFtAW2BbMFtgW1BbUFuAW0BbUFsgW4BbMFswW0BbkFtQW2BbIFtQW0BbgFtAW4BbYFsgW0BbYFswWyBbYFtAW2BbUFswW2BbgFtgWzBbYFswW3BbUFtAW1BbYFtQWzBbQFtQW0BbMFtgW4BbMFuAWxBbEFsQW0BbIFtAWzBbUFtAW2BbQFtgW3BbcFtQW2BbcFtAWyBbYFtAW0BbcFuAW4BbcFuAW3BbIFswW0BbcFtwWzBbcFswW1BbQFtAW2BbUFsgWzBbMFtgW0BbYFtgWzBbUFtQW2BbYFtQW4BbEFtwW1BbUFtwW1BbQFtAW4BbUFsgW0BbIFtgW2BbUFtAW1BbMFtQWyBbMFtgW3BbQFswW4BbQFtQW2BbMFtwWzBbYFtQWxBbIFuAW1BbUFuAW1BbcFsQW2BbUFsgW1BbgFtgW2BbUFtAW1BbYFswW5BbQFsgWzBbYFuQW2BbMFsQW0BbMFswW0BbMFugW4BbcFtQW3BbQFtAW1BbEFtAWyBbYFtAW5BbYFswWzBbYFtQW0BbcFtAW0BbQFuAWzBbQFtwW1BbYFtAW0BbUFtQW4BbMFswWyBbgFswW4BbUFtgW2BbUFuwW0BbQFtAW1BbQFtwW1BbEFtAW2BbYFtAWzBbMFtQW1BbQFtAW1BbUFtQW1BbUFtAWzBbcFtAW1BbIFtQW2BbMFsgW0BbMFtQW0BbcFtAW4BbEFtQW3BbYFtwW3BbYFtgW2BbMFuQWzBbQFtgW0BbcFtwW4BbMFtQW0BbIFtAW0BbIFtgW1BbUFtgWxBbYFsgW2BbYFtwW4BbQFtgW0BbYFtAWzBbQFtwW1BbQFtgW3BbYFtQW1BbYFtwW2BbQFsgW2BbYFtgW0BbQFtAWzBbQFtAW2BbUFtAWyBbMFsQW3BbUFsgWyBbIFsgW1BbcFtAW1BbUFsgW3BbsFtwW3BbUFswW1BbEFtQW1BbQFtQW1BbgFuQWzBbUFswW2BbcFtQW3BboFtQW2BbcFtQW2BbIFtAW0BbIFsQW1BbQFtAW3BbIFsgWzBbQFuQW1BbMFugW4BbUFswW1BbgFtgW2BbUFtQW0BbUFtAWyBbQFswWzBbIFtQWxBbcFtQWzBbUFtwW1BbQFtQW2BbMFtwWzBbQFtQW0BbkFsAW1BbUFtwW0BbQFtAW0BbYFtQU=",
          "dtype": "i2"
         },
         "xaxis": "x",
         "yaxis": "y"
        }
       ],
       "layout": {
        "barmode": "relative",
        "legend": {
         "title": {
          "text": "variable"
         },
         "tracegroupgap": 0
        },
        "margin": {
         "t": 60
        },
        "template": {
         "data": {
          "bar": [
           {
            "error_x": {
             "color": "#2a3f5f"
            },
            "error_y": {
             "color": "#2a3f5f"
            },
            "marker": {
             "line": {
              "color": "#E5ECF6",
              "width": 0.5
             },
             "pattern": {
              "fillmode": "overlay",
              "size": 10,
              "solidity": 0.2
             }
            },
            "type": "bar"
           }
          ],
          "barpolar": [
           {
            "marker": {
             "line": {
              "color": "#E5ECF6",
              "width": 0.5
             },
             "pattern": {
              "fillmode": "overlay",
              "size": 10,
              "solidity": 0.2
             }
            },
            "type": "barpolar"
           }
          ],
          "carpet": [
           {
            "aaxis": {
             "endlinecolor": "#2a3f5f",
             "gridcolor": "white",
             "linecolor": "white",
             "minorgridcolor": "white",
             "startlinecolor": "#2a3f5f"
            },
            "baxis": {
             "endlinecolor": "#2a3f5f",
             "gridcolor": "white",
             "linecolor": "white",
             "minorgridcolor": "white",
             "startlinecolor": "#2a3f5f"
            },
            "type": "carpet"
           }
          ],
          "choropleth": [
           {
            "colorbar": {
             "outlinewidth": 0,
             "ticks": ""
            },
            "type": "choropleth"
           }
          ],
          "contour": [
           {
            "colorbar": {
             "outlinewidth": 0,
             "ticks": ""
            },
            "colorscale": [
             [
              0,
              "#0d0887"
             ],
             [
              0.1111111111111111,
              "#46039f"
             ],
             [
              0.2222222222222222,
              "#7201a8"
             ],
             [
              0.3333333333333333,
              "#9c179e"
             ],
             [
              0.4444444444444444,
              "#bd3786"
             ],
             [
              0.5555555555555556,
              "#d8576b"
             ],
             [
              0.6666666666666666,
              "#ed7953"
             ],
             [
              0.7777777777777778,
              "#fb9f3a"
             ],
             [
              0.8888888888888888,
              "#fdca26"
             ],
             [
              1,
              "#f0f921"
             ]
            ],
            "type": "contour"
           }
          ],
          "contourcarpet": [
           {
            "colorbar": {
             "outlinewidth": 0,
             "ticks": ""
            },
            "type": "contourcarpet"
           }
          ],
          "heatmap": [
           {
            "colorbar": {
             "outlinewidth": 0,
             "ticks": ""
            },
            "colorscale": [
             [
              0,
              "#0d0887"
             ],
             [
              0.1111111111111111,
              "#46039f"
             ],
             [
              0.2222222222222222,
              "#7201a8"
             ],
             [
              0.3333333333333333,
              "#9c179e"
             ],
             [
              0.4444444444444444,
              "#bd3786"
             ],
             [
              0.5555555555555556,
              "#d8576b"
             ],
             [
              0.6666666666666666,
              "#ed7953"
             ],
             [
              0.7777777777777778,
              "#fb9f3a"
             ],
             [
              0.8888888888888888,
              "#fdca26"
             ],
             [
              1,
              "#f0f921"
             ]
            ],
            "type": "heatmap"
           }
          ],
          "histogram": [
           {
            "marker": {
             "pattern": {
              "fillmode": "overlay",
              "size": 10,
              "solidity": 0.2
             }
            },
            "type": "histogram"
           }
          ],
          "histogram2d": [
           {
            "colorbar": {
             "outlinewidth": 0,
             "ticks": ""
            },
            "colorscale": [
             [
              0,
              "#0d0887"
             ],
             [
              0.1111111111111111,
              "#46039f"
             ],
             [
              0.2222222222222222,
              "#7201a8"
             ],
             [
              0.3333333333333333,
              "#9c179e"
             ],
             [
              0.4444444444444444,
              "#bd3786"
             ],
             [
              0.5555555555555556,
              "#d8576b"
             ],
             [
              0.6666666666666666,
              "#ed7953"
             ],
             [
              0.7777777777777778,
              "#fb9f3a"
             ],
             [
              0.8888888888888888,
              "#fdca26"
             ],
             [
              1,
              "#f0f921"
             ]
            ],
            "type": "histogram2d"
           }
          ],
          "histogram2dcontour": [
           {
            "colorbar": {
             "outlinewidth": 0,
             "ticks": ""
            },
            "colorscale": [
             [
              0,
              "#0d0887"
             ],
             [
              0.1111111111111111,
              "#46039f"
             ],
             [
              0.2222222222222222,
              "#7201a8"
             ],
             [
              0.3333333333333333,
              "#9c179e"
             ],
             [
              0.4444444444444444,
              "#bd3786"
             ],
             [
              0.5555555555555556,
              "#d8576b"
             ],
             [
              0.6666666666666666,
              "#ed7953"
             ],
             [
              0.7777777777777778,
              "#fb9f3a"
             ],
             [
              0.8888888888888888,
              "#fdca26"
             ],
             [
              1,
              "#f0f921"
             ]
            ],
            "type": "histogram2dcontour"
           }
          ],
          "mesh3d": [
           {
            "colorbar": {
             "outlinewidth": 0,
             "ticks": ""
            },
            "type": "mesh3d"
           }
          ],
          "parcoords": [
           {
            "line": {
             "colorbar": {
              "outlinewidth": 0,
              "ticks": ""
             }
            },
            "type": "parcoords"
           }
          ],
          "pie": [
           {
            "automargin": true,
            "type": "pie"
           }
          ],
          "scatter": [
           {
            "fillpattern": {
             "fillmode": "overlay",
             "size": 10,
             "solidity": 0.2
            },
            "type": "scatter"
           }
          ],
          "scatter3d": [
           {
            "line": {
             "colorbar": {
              "outlinewidth": 0,
              "ticks": ""
             }
            },
            "marker": {
             "colorbar": {
              "outlinewidth": 0,
              "ticks": ""
             }
            },
            "type": "scatter3d"
           }
          ],
          "scattercarpet": [
           {
            "marker": {
             "colorbar": {
              "outlinewidth": 0,
              "ticks": ""
             }
            },
            "type": "scattercarpet"
           }
          ],
          "scattergeo": [
           {
            "marker": {
             "colorbar": {
              "outlinewidth": 0,
              "ticks": ""
             }
            },
            "type": "scattergeo"
           }
          ],
          "scattergl": [
           {
            "marker": {
             "colorbar": {
              "outlinewidth": 0,
              "ticks": ""
             }
            },
            "type": "scattergl"
           }
          ],
          "scattermap": [
           {
            "marker": {
             "colorbar": {
              "outlinewidth": 0,
              "ticks": ""
             }
            },
            "type": "scattermap"
           }
          ],
          "scattermapbox": [
           {
            "marker": {
             "colorbar": {
              "outlinewidth": 0,
              "ticks": ""
             }
            },
            "type": "scattermapbox"
           }
          ],
          "scatterpolar": [
           {
            "marker": {
             "colorbar": {
              "outlinewidth": 0,
              "ticks": ""
             }
            },
            "type": "scatterpolar"
           }
          ],
          "scatterpolargl": [
           {
            "marker": {
             "colorbar": {
              "outlinewidth": 0,
              "ticks": ""
             }
            },
            "type": "scatterpolargl"
           }
          ],
          "scatterternary": [
           {
            "marker": {
             "colorbar": {
              "outlinewidth": 0,
              "ticks": ""
             }
            },
            "type": "scatterternary"
           }
          ],
          "surface": [
           {
            "colorbar": {
             "outlinewidth": 0,
             "ticks": ""
            },
            "colorscale": [
             [
              0,
              "#0d0887"
             ],
             [
              0.1111111111111111,
              "#46039f"
             ],
             [
              0.2222222222222222,
              "#7201a8"
             ],
             [
              0.3333333333333333,
              "#9c179e"
             ],
             [
              0.4444444444444444,
              "#bd3786"
             ],
             [
              0.5555555555555556,
              "#d8576b"
             ],
             [
              0.6666666666666666,
              "#ed7953"
             ],
             [
              0.7777777777777778,
              "#fb9f3a"
             ],
             [
              0.8888888888888888,
              "#fdca26"
             ],
             [
              1,
              "#f0f921"
             ]
            ],
            "type": "surface"
           }
          ],
          "table": [
           {
            "cells": {
             "fill": {
              "color": "#EBF0F8"
             },
             "line": {
              "color": "white"
             }
            },
            "header": {
             "fill": {
              "color": "#C8D4E3"
             },
             "line": {
              "color": "white"
             }
            },
            "type": "table"
           }
          ]
         },
         "layout": {
          "annotationdefaults": {
           "arrowcolor": "#2a3f5f",
           "arrowhead": 0,
           "arrowwidth": 1
          },
          "autotypenumbers": "strict",
          "coloraxis": {
           "colorbar": {
            "outlinewidth": 0,
            "ticks": ""
           }
          },
          "colorscale": {
           "diverging": [
            [
             0,
             "#8e0152"
            ],
            [
             0.1,
             "#c51b7d"
            ],
            [
             0.2,
             "#de77ae"
            ],
            [
             0.3,
             "#f1b6da"
            ],
            [
             0.4,
             "#fde0ef"
            ],
            [
             0.5,
             "#f7f7f7"
            ],
            [
             0.6,
             "#e6f5d0"
            ],
            [
             0.7,
             "#b8e186"
            ],
            [
             0.8,
             "#7fbc41"
            ],
            [
             0.9,
             "#4d9221"
            ],
            [
             1,
             "#276419"
            ]
           ],
           "sequential": [
            [
             0,
             "#0d0887"
            ],
            [
             0.1111111111111111,
             "#46039f"
            ],
            [
             0.2222222222222222,
             "#7201a8"
            ],
            [
             0.3333333333333333,
             "#9c179e"
            ],
            [
             0.4444444444444444,
             "#bd3786"
            ],
            [
             0.5555555555555556,
             "#d8576b"
            ],
            [
             0.6666666666666666,
             "#ed7953"
            ],
            [
             0.7777777777777778,
             "#fb9f3a"
            ],
            [
             0.8888888888888888,
             "#fdca26"
            ],
            [
             1,
             "#f0f921"
            ]
           ],
           "sequentialminus": [
            [
             0,
             "#0d0887"
            ],
            [
             0.1111111111111111,
             "#46039f"
            ],
            [
             0.2222222222222222,
             "#7201a8"
            ],
            [
             0.3333333333333333,
             "#9c179e"
            ],
            [
             0.4444444444444444,
             "#bd3786"
            ],
            [
             0.5555555555555556,
             "#d8576b"
            ],
            [
             0.6666666666666666,
             "#ed7953"
            ],
            [
             0.7777777777777778,
             "#fb9f3a"
            ],
            [
             0.8888888888888888,
             "#fdca26"
            ],
            [
             1,
             "#f0f921"
            ]
           ]
          },
          "colorway": [
           "#636efa",
           "#EF553B",
           "#00cc96",
           "#ab63fa",
           "#FFA15A",
           "#19d3f3",
           "#FF6692",
           "#B6E880",
           "#FF97FF",
           "#FECB52"
          ],
          "font": {
           "color": "#2a3f5f"
          },
          "geo": {
           "bgcolor": "white",
           "lakecolor": "white",
           "landcolor": "#E5ECF6",
           "showlakes": true,
           "showland": true,
           "subunitcolor": "white"
          },
          "hoverlabel": {
           "align": "left"
          },
          "hovermode": "closest",
          "mapbox": {
           "style": "light"
          },
          "paper_bgcolor": "white",
          "plot_bgcolor": "#E5ECF6",
          "polar": {
           "angularaxis": {
            "gridcolor": "white",
            "linecolor": "white",
            "ticks": ""
           },
           "bgcolor": "#E5ECF6",
           "radialaxis": {
            "gridcolor": "white",
            "linecolor": "white",
            "ticks": ""
           }
          },
          "scene": {
           "xaxis": {
            "backgroundcolor": "#E5ECF6",
            "gridcolor": "white",
            "gridwidth": 2,
            "linecolor": "white",
            "showbackground": true,
            "ticks": "",
            "zerolinecolor": "white"
           },
           "yaxis": {
            "backgroundcolor": "#E5ECF6",
            "gridcolor": "white",
            "gridwidth": 2,
            "linecolor": "white",
            "showbackground": true,
            "ticks": "",
            "zerolinecolor": "white"
           },
           "zaxis": {
            "backgroundcolor": "#E5ECF6",
            "gridcolor": "white",
            "gridwidth": 2,
            "linecolor": "white",
            "showbackground": true,
            "ticks": "",
            "zerolinecolor": "white"
           }
          },
          "shapedefaults": {
           "line": {
            "color": "#2a3f5f"
           }
          },
          "ternary": {
           "aaxis": {
            "gridcolor": "white",
            "linecolor": "white",
            "ticks": ""
           },
           "baxis": {
            "gridcolor": "white",
            "linecolor": "white",
            "ticks": ""
           },
           "bgcolor": "#E5ECF6",
           "caxis": {
            "gridcolor": "white",
            "linecolor": "white",
            "ticks": ""
           }
          },
          "title": {
           "x": 0.05
          },
          "xaxis": {
           "automargin": true,
           "gridcolor": "white",
           "linecolor": "white",
           "ticks": "",
           "title": {
            "standoff": 15
           },
           "zerolinecolor": "white",
           "zerolinewidth": 2
          },
          "yaxis": {
           "automargin": true,
           "gridcolor": "white",
           "linecolor": "white",
           "ticks": "",
           "title": {
            "standoff": 15
           },
           "zerolinecolor": "white",
           "zerolinewidth": 2
          }
         }
        },
        "xaxis": {
         "anchor": "y",
         "domain": [
          0,
          1
         ],
         "title": {
          "text": "value"
         }
        },
        "yaxis": {
         "anchor": "x",
         "domain": [
          0,
          1
         ],
         "title": {
          "text": "count"
         }
        }
       }
      }
     },
     "metadata": {},
     "output_type": "display_data"
    }
   ],
   "source": [
    "df[\"Drehzahl / 1/min\"].plot(kind=\"histogram\")"
   ]
  },
  {
   "cell_type": "markdown",
   "id": "3f111abe",
   "metadata": {},
   "source": [
    "<span style=\"color:#FF5F00\"><b>AUFGABE:</b></span><br>\n",
    "Versuchen Sie, mit der Histogramm-Funktion zu spielen: stellen Sie selbständig ein Histogramm von der Stromaufnahme in Ampere dar. Was fällt Ihnen an dieser Verteilung auf?"
   ]
  },
  {
   "cell_type": "code",
   "execution_count": 134,
   "id": "24a76cf1",
   "metadata": {},
   "outputs": [
    {
     "data": {
      "application/vnd.plotly.v1+json": {
       "config": {
        "plotlyServerURL": "https://plot.ly"
       },
       "data": [
        {
         "bingroup": "x",
         "hovertemplate": "variable=Strom / A<br>value=%{x}<br>count=%{y}<extra></extra>",
         "legendgroup": "Strom / A",
         "marker": {
          "color": "#636efa",
          "pattern": {
           "shape": ""
          }
         },
         "name": "Strom / A",
         "orientation": "v",
         "showlegend": true,
         "type": "histogram",
         "x": {
          "bdata": "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",
          "dtype": "f8"
         },
         "xaxis": "x",
         "yaxis": "y"
        }
       ],
       "layout": {
        "barmode": "relative",
        "legend": {
         "title": {
          "text": "variable"
         },
         "tracegroupgap": 0
        },
        "template": {
         "data": {
          "bar": [
           {
            "error_x": {
             "color": "#2a3f5f"
            },
            "error_y": {
             "color": "#2a3f5f"
            },
            "marker": {
             "line": {
              "color": "#E5ECF6",
              "width": 0.5
             },
             "pattern": {
              "fillmode": "overlay",
              "size": 10,
              "solidity": 0.2
             }
            },
            "type": "bar"
           }
          ],
          "barpolar": [
           {
            "marker": {
             "line": {
              "color": "#E5ECF6",
              "width": 0.5
             },
             "pattern": {
              "fillmode": "overlay",
              "size": 10,
              "solidity": 0.2
             }
            },
            "type": "barpolar"
           }
          ],
          "carpet": [
           {
            "aaxis": {
             "endlinecolor": "#2a3f5f",
             "gridcolor": "white",
             "linecolor": "white",
             "minorgridcolor": "white",
             "startlinecolor": "#2a3f5f"
            },
            "baxis": {
             "endlinecolor": "#2a3f5f",
             "gridcolor": "white",
             "linecolor": "white",
             "minorgridcolor": "white",
             "startlinecolor": "#2a3f5f"
            },
            "type": "carpet"
           }
          ],
          "choropleth": [
           {
            "colorbar": {
             "outlinewidth": 0,
             "ticks": ""
            },
            "type": "choropleth"
           }
          ],
          "contour": [
           {
            "colorbar": {
             "outlinewidth": 0,
             "ticks": ""
            },
            "colorscale": [
             [
              0,
              "#0d0887"
             ],
             [
              0.1111111111111111,
              "#46039f"
             ],
             [
              0.2222222222222222,
              "#7201a8"
             ],
             [
              0.3333333333333333,
              "#9c179e"
             ],
             [
              0.4444444444444444,
              "#bd3786"
             ],
             [
              0.5555555555555556,
              "#d8576b"
             ],
             [
              0.6666666666666666,
              "#ed7953"
             ],
             [
              0.7777777777777778,
              "#fb9f3a"
             ],
             [
              0.8888888888888888,
              "#fdca26"
             ],
             [
              1,
              "#f0f921"
             ]
            ],
            "type": "contour"
           }
          ],
          "contourcarpet": [
           {
            "colorbar": {
             "outlinewidth": 0,
             "ticks": ""
            },
            "type": "contourcarpet"
           }
          ],
          "heatmap": [
           {
            "colorbar": {
             "outlinewidth": 0,
             "ticks": ""
            },
            "colorscale": [
             [
              0,
              "#0d0887"
             ],
             [
              0.1111111111111111,
              "#46039f"
             ],
             [
              0.2222222222222222,
              "#7201a8"
             ],
             [
              0.3333333333333333,
              "#9c179e"
             ],
             [
              0.4444444444444444,
              "#bd3786"
             ],
             [
              0.5555555555555556,
              "#d8576b"
             ],
             [
              0.6666666666666666,
              "#ed7953"
             ],
             [
              0.7777777777777778,
              "#fb9f3a"
             ],
             [
              0.8888888888888888,
              "#fdca26"
             ],
             [
              1,
              "#f0f921"
             ]
            ],
            "type": "heatmap"
           }
          ],
          "histogram": [
           {
            "marker": {
             "pattern": {
              "fillmode": "overlay",
              "size": 10,
              "solidity": 0.2
             }
            },
            "type": "histogram"
           }
          ],
          "histogram2d": [
           {
            "colorbar": {
             "outlinewidth": 0,
             "ticks": ""
            },
            "colorscale": [
             [
              0,
              "#0d0887"
             ],
             [
              0.1111111111111111,
              "#46039f"
             ],
             [
              0.2222222222222222,
              "#7201a8"
             ],
             [
              0.3333333333333333,
              "#9c179e"
             ],
             [
              0.4444444444444444,
              "#bd3786"
             ],
             [
              0.5555555555555556,
              "#d8576b"
             ],
             [
              0.6666666666666666,
              "#ed7953"
             ],
             [
              0.7777777777777778,
              "#fb9f3a"
             ],
             [
              0.8888888888888888,
              "#fdca26"
             ],
             [
              1,
              "#f0f921"
             ]
            ],
            "type": "histogram2d"
           }
          ],
          "histogram2dcontour": [
           {
            "colorbar": {
             "outlinewidth": 0,
             "ticks": ""
            },
            "colorscale": [
             [
              0,
              "#0d0887"
             ],
             [
              0.1111111111111111,
              "#46039f"
             ],
             [
              0.2222222222222222,
              "#7201a8"
             ],
             [
              0.3333333333333333,
              "#9c179e"
             ],
             [
              0.4444444444444444,
              "#bd3786"
             ],
             [
              0.5555555555555556,
              "#d8576b"
             ],
             [
              0.6666666666666666,
              "#ed7953"
             ],
             [
              0.7777777777777778,
              "#fb9f3a"
             ],
             [
              0.8888888888888888,
              "#fdca26"
             ],
             [
              1,
              "#f0f921"
             ]
            ],
            "type": "histogram2dcontour"
           }
          ],
          "mesh3d": [
           {
            "colorbar": {
             "outlinewidth": 0,
             "ticks": ""
            },
            "type": "mesh3d"
           }
          ],
          "parcoords": [
           {
            "line": {
             "colorbar": {
              "outlinewidth": 0,
              "ticks": ""
             }
            },
            "type": "parcoords"
           }
          ],
          "pie": [
           {
            "automargin": true,
            "type": "pie"
           }
          ],
          "scatter": [
           {
            "fillpattern": {
             "fillmode": "overlay",
             "size": 10,
             "solidity": 0.2
            },
            "type": "scatter"
           }
          ],
          "scatter3d": [
           {
            "line": {
             "colorbar": {
              "outlinewidth": 0,
              "ticks": ""
             }
            },
            "marker": {
             "colorbar": {
              "outlinewidth": 0,
              "ticks": ""
             }
            },
            "type": "scatter3d"
           }
          ],
          "scattercarpet": [
           {
            "marker": {
             "colorbar": {
              "outlinewidth": 0,
              "ticks": ""
             }
            },
            "type": "scattercarpet"
           }
          ],
          "scattergeo": [
           {
            "marker": {
             "colorbar": {
              "outlinewidth": 0,
              "ticks": ""
             }
            },
            "type": "scattergeo"
           }
          ],
          "scattergl": [
           {
            "marker": {
             "colorbar": {
              "outlinewidth": 0,
              "ticks": ""
             }
            },
            "type": "scattergl"
           }
          ],
          "scattermap": [
           {
            "marker": {
             "colorbar": {
              "outlinewidth": 0,
              "ticks": ""
             }
            },
            "type": "scattermap"
           }
          ],
          "scattermapbox": [
           {
            "marker": {
             "colorbar": {
              "outlinewidth": 0,
              "ticks": ""
             }
            },
            "type": "scattermapbox"
           }
          ],
          "scatterpolar": [
           {
            "marker": {
             "colorbar": {
              "outlinewidth": 0,
              "ticks": ""
             }
            },
            "type": "scatterpolar"
           }
          ],
          "scatterpolargl": [
           {
            "marker": {
             "colorbar": {
              "outlinewidth": 0,
              "ticks": ""
             }
            },
            "type": "scatterpolargl"
           }
          ],
          "scatterternary": [
           {
            "marker": {
             "colorbar": {
              "outlinewidth": 0,
              "ticks": ""
             }
            },
            "type": "scatterternary"
           }
          ],
          "surface": [
           {
            "colorbar": {
             "outlinewidth": 0,
             "ticks": ""
            },
            "colorscale": [
             [
              0,
              "#0d0887"
             ],
             [
              0.1111111111111111,
              "#46039f"
             ],
             [
              0.2222222222222222,
              "#7201a8"
             ],
             [
              0.3333333333333333,
              "#9c179e"
             ],
             [
              0.4444444444444444,
              "#bd3786"
             ],
             [
              0.5555555555555556,
              "#d8576b"
             ],
             [
              0.6666666666666666,
              "#ed7953"
             ],
             [
              0.7777777777777778,
              "#fb9f3a"
             ],
             [
              0.8888888888888888,
              "#fdca26"
             ],
             [
              1,
              "#f0f921"
             ]
            ],
            "type": "surface"
           }
          ],
          "table": [
           {
            "cells": {
             "fill": {
              "color": "#EBF0F8"
             },
             "line": {
              "color": "white"
             }
            },
            "header": {
             "fill": {
              "color": "#C8D4E3"
             },
             "line": {
              "color": "white"
             }
            },
            "type": "table"
           }
          ]
         },
         "layout": {
          "annotationdefaults": {
           "arrowcolor": "#2a3f5f",
           "arrowhead": 0,
           "arrowwidth": 1
          },
          "autotypenumbers": "strict",
          "coloraxis": {
           "colorbar": {
            "outlinewidth": 0,
            "ticks": ""
           }
          },
          "colorscale": {
           "diverging": [
            [
             0,
             "#8e0152"
            ],
            [
             0.1,
             "#c51b7d"
            ],
            [
             0.2,
             "#de77ae"
            ],
            [
             0.3,
             "#f1b6da"
            ],
            [
             0.4,
             "#fde0ef"
            ],
            [
             0.5,
             "#f7f7f7"
            ],
            [
             0.6,
             "#e6f5d0"
            ],
            [
             0.7,
             "#b8e186"
            ],
            [
             0.8,
             "#7fbc41"
            ],
            [
             0.9,
             "#4d9221"
            ],
            [
             1,
             "#276419"
            ]
           ],
           "sequential": [
            [
             0,
             "#0d0887"
            ],
            [
             0.1111111111111111,
             "#46039f"
            ],
            [
             0.2222222222222222,
             "#7201a8"
            ],
            [
             0.3333333333333333,
             "#9c179e"
            ],
            [
             0.4444444444444444,
             "#bd3786"
            ],
            [
             0.5555555555555556,
             "#d8576b"
            ],
            [
             0.6666666666666666,
             "#ed7953"
            ],
            [
             0.7777777777777778,
             "#fb9f3a"
            ],
            [
             0.8888888888888888,
             "#fdca26"
            ],
            [
             1,
             "#f0f921"
            ]
           ],
           "sequentialminus": [
            [
             0,
             "#0d0887"
            ],
            [
             0.1111111111111111,
             "#46039f"
            ],
            [
             0.2222222222222222,
             "#7201a8"
            ],
            [
             0.3333333333333333,
             "#9c179e"
            ],
            [
             0.4444444444444444,
             "#bd3786"
            ],
            [
             0.5555555555555556,
             "#d8576b"
            ],
            [
             0.6666666666666666,
             "#ed7953"
            ],
            [
             0.7777777777777778,
             "#fb9f3a"
            ],
            [
             0.8888888888888888,
             "#fdca26"
            ],
            [
             1,
             "#f0f921"
            ]
           ]
          },
          "colorway": [
           "#636efa",
           "#EF553B",
           "#00cc96",
           "#ab63fa",
           "#FFA15A",
           "#19d3f3",
           "#FF6692",
           "#B6E880",
           "#FF97FF",
           "#FECB52"
          ],
          "font": {
           "color": "#2a3f5f"
          },
          "geo": {
           "bgcolor": "white",
           "lakecolor": "white",
           "landcolor": "#E5ECF6",
           "showlakes": true,
           "showland": true,
           "subunitcolor": "white"
          },
          "hoverlabel": {
           "align": "left"
          },
          "hovermode": "closest",
          "mapbox": {
           "style": "light"
          },
          "paper_bgcolor": "white",
          "plot_bgcolor": "#E5ECF6",
          "polar": {
           "angularaxis": {
            "gridcolor": "white",
            "linecolor": "white",
            "ticks": ""
           },
           "bgcolor": "#E5ECF6",
           "radialaxis": {
            "gridcolor": "white",
            "linecolor": "white",
            "ticks": ""
           }
          },
          "scene": {
           "xaxis": {
            "backgroundcolor": "#E5ECF6",
            "gridcolor": "white",
            "gridwidth": 2,
            "linecolor": "white",
            "showbackground": true,
            "ticks": "",
            "zerolinecolor": "white"
           },
           "yaxis": {
            "backgroundcolor": "#E5ECF6",
            "gridcolor": "white",
            "gridwidth": 2,
            "linecolor": "white",
            "showbackground": true,
            "ticks": "",
            "zerolinecolor": "white"
           },
           "zaxis": {
            "backgroundcolor": "#E5ECF6",
            "gridcolor": "white",
            "gridwidth": 2,
            "linecolor": "white",
            "showbackground": true,
            "ticks": "",
            "zerolinecolor": "white"
           }
          },
          "shapedefaults": {
           "line": {
            "color": "#2a3f5f"
           }
          },
          "ternary": {
           "aaxis": {
            "gridcolor": "white",
            "linecolor": "white",
            "ticks": ""
           },
           "baxis": {
            "gridcolor": "white",
            "linecolor": "white",
            "ticks": ""
           },
           "bgcolor": "#E5ECF6",
           "caxis": {
            "gridcolor": "white",
            "linecolor": "white",
            "ticks": ""
           }
          },
          "title": {
           "x": 0.05
          },
          "xaxis": {
           "automargin": true,
           "gridcolor": "white",
           "linecolor": "white",
           "ticks": "",
           "title": {
            "standoff": 15
           },
           "zerolinecolor": "white",
           "zerolinewidth": 2
          },
          "yaxis": {
           "automargin": true,
           "gridcolor": "white",
           "linecolor": "white",
           "ticks": "",
           "title": {
            "standoff": 15
           },
           "zerolinecolor": "white",
           "zerolinewidth": 2
          }
         }
        },
        "title": {
         "text": "Anzahl von Stromwerten (absolute Häufigkeit)"
        },
        "xaxis": {
         "anchor": "y",
         "domain": [
          0,
          1
         ],
         "title": {
          "text": "Stromwert"
         }
        },
        "yaxis": {
         "anchor": "x",
         "domain": [
          0,
          1
         ],
         "title": {
          "text": "Anzahl"
         }
        }
       }
      }
     },
     "metadata": {},
     "output_type": "display_data"
    }
   ],
   "source": [
    "# Erstelle Diagramm von absoluten Häufigkeiten von Stromwerten wieder analog zu dem oberen Beispiel\n",
    "plot = df[\"Strom / A\"].plot(kind=\"histogram\", title=\"Anzahl von Stromwerten (absolute Häufigkeit)\")\n",
    "plot.update_layout(xaxis_title=\"Stromwert\", yaxis_title=\"Anzahl\")"
   ]
  },
  {
   "cell_type": "markdown",
   "id": "e6cedb33",
   "metadata": {},
   "source": [
    "Vielleicht ist Ihnen aufgefallen, dass sich die Anzahl der Wertebereiche zwischen den beiden Histogrammen unterscheidet. Im Histogramm zur Drehzahl pro Minute gibt es 12 solcher Bereiche, im Histogramm zur Stromaufname in Ampere 24. In Plotly gibt es einen Algorithmus, der die optimale Anzahl und Breite der Wertebereiche automatisch festlegt. Man kann allerdings über das ```nbins```-Argument zumindest die maximale Anzahl der Wertebereiche bestimmen. \n",
    "\n",
    "<span style=\"color:#FF5F00\"><b>AUFGABE:</b></span><br>\n",
    "Setzen Sie das ```nbins```-Argument auf ```100``` und beobachten Sie, wie sich das Histogramm verändert. Fällt Ihnen bei der Häufigkeitsverteilung etwas auf, das Ihnen bei einer kleineren Anzahl von Wertebereichen vielleicht nicht aufgefallen wäre (Stichwort: Ausreißer)? Lohnt sich das Testen einer größeren Anzahl von Wertebereichen oder genügt die Standardeinstellung?"
   ]
  },
  {
   "cell_type": "code",
   "execution_count": 135,
   "id": "ee5dbb7a",
   "metadata": {},
   "outputs": [
    {
     "data": {
      "application/vnd.plotly.v1+json": {
       "config": {
        "plotlyServerURL": "https://plot.ly"
       },
       "data": [
        {
         "bingroup": "x",
         "hovertemplate": "variable=Strom / A<br>value=%{x}<br>count=%{y}<extra></extra>",
         "legendgroup": "Strom / A",
         "marker": {
          "color": "#636efa",
          "pattern": {
           "shape": ""
          }
         },
         "name": "Strom / A",
         "nbinsx": 100,
         "orientation": "v",
         "showlegend": true,
         "type": "histogram",
         "x": {
          "bdata": "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",
          "dtype": "f8"
         },
         "xaxis": "x",
         "yaxis": "y"
        }
       ],
       "layout": {
        "barmode": "relative",
        "legend": {
         "title": {
          "text": "variable"
         },
         "tracegroupgap": 0
        },
        "template": {
         "data": {
          "bar": [
           {
            "error_x": {
             "color": "#2a3f5f"
            },
            "error_y": {
             "color": "#2a3f5f"
            },
            "marker": {
             "line": {
              "color": "#E5ECF6",
              "width": 0.5
             },
             "pattern": {
              "fillmode": "overlay",
              "size": 10,
              "solidity": 0.2
             }
            },
            "type": "bar"
           }
          ],
          "barpolar": [
           {
            "marker": {
             "line": {
              "color": "#E5ECF6",
              "width": 0.5
             },
             "pattern": {
              "fillmode": "overlay",
              "size": 10,
              "solidity": 0.2
             }
            },
            "type": "barpolar"
           }
          ],
          "carpet": [
           {
            "aaxis": {
             "endlinecolor": "#2a3f5f",
             "gridcolor": "white",
             "linecolor": "white",
             "minorgridcolor": "white",
             "startlinecolor": "#2a3f5f"
            },
            "baxis": {
             "endlinecolor": "#2a3f5f",
             "gridcolor": "white",
             "linecolor": "white",
             "minorgridcolor": "white",
             "startlinecolor": "#2a3f5f"
            },
            "type": "carpet"
           }
          ],
          "choropleth": [
           {
            "colorbar": {
             "outlinewidth": 0,
             "ticks": ""
            },
            "type": "choropleth"
           }
          ],
          "contour": [
           {
            "colorbar": {
             "outlinewidth": 0,
             "ticks": ""
            },
            "colorscale": [
             [
              0,
              "#0d0887"
             ],
             [
              0.1111111111111111,
              "#46039f"
             ],
             [
              0.2222222222222222,
              "#7201a8"
             ],
             [
              0.3333333333333333,
              "#9c179e"
             ],
             [
              0.4444444444444444,
              "#bd3786"
             ],
             [
              0.5555555555555556,
              "#d8576b"
             ],
             [
              0.6666666666666666,
              "#ed7953"
             ],
             [
              0.7777777777777778,
              "#fb9f3a"
             ],
             [
              0.8888888888888888,
              "#fdca26"
             ],
             [
              1,
              "#f0f921"
             ]
            ],
            "type": "contour"
           }
          ],
          "contourcarpet": [
           {
            "colorbar": {
             "outlinewidth": 0,
             "ticks": ""
            },
            "type": "contourcarpet"
           }
          ],
          "heatmap": [
           {
            "colorbar": {
             "outlinewidth": 0,
             "ticks": ""
            },
            "colorscale": [
             [
              0,
              "#0d0887"
             ],
             [
              0.1111111111111111,
              "#46039f"
             ],
             [
              0.2222222222222222,
              "#7201a8"
             ],
             [
              0.3333333333333333,
              "#9c179e"
             ],
             [
              0.4444444444444444,
              "#bd3786"
             ],
             [
              0.5555555555555556,
              "#d8576b"
             ],
             [
              0.6666666666666666,
              "#ed7953"
             ],
             [
              0.7777777777777778,
              "#fb9f3a"
             ],
             [
              0.8888888888888888,
              "#fdca26"
             ],
             [
              1,
              "#f0f921"
             ]
            ],
            "type": "heatmap"
           }
          ],
          "histogram": [
           {
            "marker": {
             "pattern": {
              "fillmode": "overlay",
              "size": 10,
              "solidity": 0.2
             }
            },
            "type": "histogram"
           }
          ],
          "histogram2d": [
           {
            "colorbar": {
             "outlinewidth": 0,
             "ticks": ""
            },
            "colorscale": [
             [
              0,
              "#0d0887"
             ],
             [
              0.1111111111111111,
              "#46039f"
             ],
             [
              0.2222222222222222,
              "#7201a8"
             ],
             [
              0.3333333333333333,
              "#9c179e"
             ],
             [
              0.4444444444444444,
              "#bd3786"
             ],
             [
              0.5555555555555556,
              "#d8576b"
             ],
             [
              0.6666666666666666,
              "#ed7953"
             ],
             [
              0.7777777777777778,
              "#fb9f3a"
             ],
             [
              0.8888888888888888,
              "#fdca26"
             ],
             [
              1,
              "#f0f921"
             ]
            ],
            "type": "histogram2d"
           }
          ],
          "histogram2dcontour": [
           {
            "colorbar": {
             "outlinewidth": 0,
             "ticks": ""
            },
            "colorscale": [
             [
              0,
              "#0d0887"
             ],
             [
              0.1111111111111111,
              "#46039f"
             ],
             [
              0.2222222222222222,
              "#7201a8"
             ],
             [
              0.3333333333333333,
              "#9c179e"
             ],
             [
              0.4444444444444444,
              "#bd3786"
             ],
             [
              0.5555555555555556,
              "#d8576b"
             ],
             [
              0.6666666666666666,
              "#ed7953"
             ],
             [
              0.7777777777777778,
              "#fb9f3a"
             ],
             [
              0.8888888888888888,
              "#fdca26"
             ],
             [
              1,
              "#f0f921"
             ]
            ],
            "type": "histogram2dcontour"
           }
          ],
          "mesh3d": [
           {
            "colorbar": {
             "outlinewidth": 0,
             "ticks": ""
            },
            "type": "mesh3d"
           }
          ],
          "parcoords": [
           {
            "line": {
             "colorbar": {
              "outlinewidth": 0,
              "ticks": ""
             }
            },
            "type": "parcoords"
           }
          ],
          "pie": [
           {
            "automargin": true,
            "type": "pie"
           }
          ],
          "scatter": [
           {
            "fillpattern": {
             "fillmode": "overlay",
             "size": 10,
             "solidity": 0.2
            },
            "type": "scatter"
           }
          ],
          "scatter3d": [
           {
            "line": {
             "colorbar": {
              "outlinewidth": 0,
              "ticks": ""
             }
            },
            "marker": {
             "colorbar": {
              "outlinewidth": 0,
              "ticks": ""
             }
            },
            "type": "scatter3d"
           }
          ],
          "scattercarpet": [
           {
            "marker": {
             "colorbar": {
              "outlinewidth": 0,
              "ticks": ""
             }
            },
            "type": "scattercarpet"
           }
          ],
          "scattergeo": [
           {
            "marker": {
             "colorbar": {
              "outlinewidth": 0,
              "ticks": ""
             }
            },
            "type": "scattergeo"
           }
          ],
          "scattergl": [
           {
            "marker": {
             "colorbar": {
              "outlinewidth": 0,
              "ticks": ""
             }
            },
            "type": "scattergl"
           }
          ],
          "scattermap": [
           {
            "marker": {
             "colorbar": {
              "outlinewidth": 0,
              "ticks": ""
             }
            },
            "type": "scattermap"
           }
          ],
          "scattermapbox": [
           {
            "marker": {
             "colorbar": {
              "outlinewidth": 0,
              "ticks": ""
             }
            },
            "type": "scattermapbox"
           }
          ],
          "scatterpolar": [
           {
            "marker": {
             "colorbar": {
              "outlinewidth": 0,
              "ticks": ""
             }
            },
            "type": "scatterpolar"
           }
          ],
          "scatterpolargl": [
           {
            "marker": {
             "colorbar": {
              "outlinewidth": 0,
              "ticks": ""
             }
            },
            "type": "scatterpolargl"
           }
          ],
          "scatterternary": [
           {
            "marker": {
             "colorbar": {
              "outlinewidth": 0,
              "ticks": ""
             }
            },
            "type": "scatterternary"
           }
          ],
          "surface": [
           {
            "colorbar": {
             "outlinewidth": 0,
             "ticks": ""
            },
            "colorscale": [
             [
              0,
              "#0d0887"
             ],
             [
              0.1111111111111111,
              "#46039f"
             ],
             [
              0.2222222222222222,
              "#7201a8"
             ],
             [
              0.3333333333333333,
              "#9c179e"
             ],
             [
              0.4444444444444444,
              "#bd3786"
             ],
             [
              0.5555555555555556,
              "#d8576b"
             ],
             [
              0.6666666666666666,
              "#ed7953"
             ],
             [
              0.7777777777777778,
              "#fb9f3a"
             ],
             [
              0.8888888888888888,
              "#fdca26"
             ],
             [
              1,
              "#f0f921"
             ]
            ],
            "type": "surface"
           }
          ],
          "table": [
           {
            "cells": {
             "fill": {
              "color": "#EBF0F8"
             },
             "line": {
              "color": "white"
             }
            },
            "header": {
             "fill": {
              "color": "#C8D4E3"
             },
             "line": {
              "color": "white"
             }
            },
            "type": "table"
           }
          ]
         },
         "layout": {
          "annotationdefaults": {
           "arrowcolor": "#2a3f5f",
           "arrowhead": 0,
           "arrowwidth": 1
          },
          "autotypenumbers": "strict",
          "coloraxis": {
           "colorbar": {
            "outlinewidth": 0,
            "ticks": ""
           }
          },
          "colorscale": {
           "diverging": [
            [
             0,
             "#8e0152"
            ],
            [
             0.1,
             "#c51b7d"
            ],
            [
             0.2,
             "#de77ae"
            ],
            [
             0.3,
             "#f1b6da"
            ],
            [
             0.4,
             "#fde0ef"
            ],
            [
             0.5,
             "#f7f7f7"
            ],
            [
             0.6,
             "#e6f5d0"
            ],
            [
             0.7,
             "#b8e186"
            ],
            [
             0.8,
             "#7fbc41"
            ],
            [
             0.9,
             "#4d9221"
            ],
            [
             1,
             "#276419"
            ]
           ],
           "sequential": [
            [
             0,
             "#0d0887"
            ],
            [
             0.1111111111111111,
             "#46039f"
            ],
            [
             0.2222222222222222,
             "#7201a8"
            ],
            [
             0.3333333333333333,
             "#9c179e"
            ],
            [
             0.4444444444444444,
             "#bd3786"
            ],
            [
             0.5555555555555556,
             "#d8576b"
            ],
            [
             0.6666666666666666,
             "#ed7953"
            ],
            [
             0.7777777777777778,
             "#fb9f3a"
            ],
            [
             0.8888888888888888,
             "#fdca26"
            ],
            [
             1,
             "#f0f921"
            ]
           ],
           "sequentialminus": [
            [
             0,
             "#0d0887"
            ],
            [
             0.1111111111111111,
             "#46039f"
            ],
            [
             0.2222222222222222,
             "#7201a8"
            ],
            [
             0.3333333333333333,
             "#9c179e"
            ],
            [
             0.4444444444444444,
             "#bd3786"
            ],
            [
             0.5555555555555556,
             "#d8576b"
            ],
            [
             0.6666666666666666,
             "#ed7953"
            ],
            [
             0.7777777777777778,
             "#fb9f3a"
            ],
            [
             0.8888888888888888,
             "#fdca26"
            ],
            [
             1,
             "#f0f921"
            ]
           ]
          },
          "colorway": [
           "#636efa",
           "#EF553B",
           "#00cc96",
           "#ab63fa",
           "#FFA15A",
           "#19d3f3",
           "#FF6692",
           "#B6E880",
           "#FF97FF",
           "#FECB52"
          ],
          "font": {
           "color": "#2a3f5f"
          },
          "geo": {
           "bgcolor": "white",
           "lakecolor": "white",
           "landcolor": "#E5ECF6",
           "showlakes": true,
           "showland": true,
           "subunitcolor": "white"
          },
          "hoverlabel": {
           "align": "left"
          },
          "hovermode": "closest",
          "mapbox": {
           "style": "light"
          },
          "paper_bgcolor": "white",
          "plot_bgcolor": "#E5ECF6",
          "polar": {
           "angularaxis": {
            "gridcolor": "white",
            "linecolor": "white",
            "ticks": ""
           },
           "bgcolor": "#E5ECF6",
           "radialaxis": {
            "gridcolor": "white",
            "linecolor": "white",
            "ticks": ""
           }
          },
          "scene": {
           "xaxis": {
            "backgroundcolor": "#E5ECF6",
            "gridcolor": "white",
            "gridwidth": 2,
            "linecolor": "white",
            "showbackground": true,
            "ticks": "",
            "zerolinecolor": "white"
           },
           "yaxis": {
            "backgroundcolor": "#E5ECF6",
            "gridcolor": "white",
            "gridwidth": 2,
            "linecolor": "white",
            "showbackground": true,
            "ticks": "",
            "zerolinecolor": "white"
           },
           "zaxis": {
            "backgroundcolor": "#E5ECF6",
            "gridcolor": "white",
            "gridwidth": 2,
            "linecolor": "white",
            "showbackground": true,
            "ticks": "",
            "zerolinecolor": "white"
           }
          },
          "shapedefaults": {
           "line": {
            "color": "#2a3f5f"
           }
          },
          "ternary": {
           "aaxis": {
            "gridcolor": "white",
            "linecolor": "white",
            "ticks": ""
           },
           "baxis": {
            "gridcolor": "white",
            "linecolor": "white",
            "ticks": ""
           },
           "bgcolor": "#E5ECF6",
           "caxis": {
            "gridcolor": "white",
            "linecolor": "white",
            "ticks": ""
           }
          },
          "title": {
           "x": 0.05
          },
          "xaxis": {
           "automargin": true,
           "gridcolor": "white",
           "linecolor": "white",
           "ticks": "",
           "title": {
            "standoff": 15
           },
           "zerolinecolor": "white",
           "zerolinewidth": 2
          },
          "yaxis": {
           "automargin": true,
           "gridcolor": "white",
           "linecolor": "white",
           "ticks": "",
           "title": {
            "standoff": 15
           },
           "zerolinecolor": "white",
           "zerolinewidth": 2
          }
         }
        },
        "title": {
         "text": "Anzahl von Stromwerten (absolute Häufigkeit)"
        },
        "xaxis": {
         "anchor": "y",
         "domain": [
          0,
          1
         ],
         "title": {
          "text": "Stromwert"
         }
        },
        "yaxis": {
         "anchor": "x",
         "domain": [
          0,
          1
         ],
         "title": {
          "text": "Anzahl"
         }
        }
       }
      }
     },
     "metadata": {},
     "output_type": "display_data"
    }
   ],
   "source": [
    "# Erstelle Diagramm von absoluten Häufigkeiten von Stromwerten wieder analog zu dem oberen Beispiel\n",
    "plot = df[\"Strom / A\"].plot(kind=\"histogram\", title=\"Anzahl von Stromwerten (absolute Häufigkeit)\", nbins=100)\n",
    "plot.update_layout(xaxis_title=\"Stromwert\", yaxis_title=\"Anzahl\")"
   ]
  },
  {
   "cell_type": "markdown",
   "id": "a562cd55",
   "metadata": {},
   "source": [
    "<span style=\"color:#FF5F00\"><b>Stimmt was nicht?</b></span><br>\n",
    "\n",
    "Das Diagramm zeigt natürlicherweise eine feinere Verteilung von Stromwerten. Dabei wird es auch auffällig, dass in Bereichen mit relativ konstanten Werten doch Wertspitzen oder Ausreißer gibt. Ob diese für weitere Analyse verwendet werden sollen, hängt eigentlich davon ab, wie genau der Überblick über die Messwerte sein soll. In diesem Fall sind die Ausreißer anscheinend nicht extrem beeinflussend, wenn sie erst bei relativ großer Anzahl von Bins vorkommen."
   ]
  },
  {
   "cell_type": "markdown",
   "id": "14e91bc7",
   "metadata": {},
   "source": [
    "<span style=\"color:#FF5F00\"><b>AUFGABE:</b></span><br>\n",
    "Zuletzt wollen wir uns noch anschauen, wie wir relative anstatt absolute Häufigkeiten angeben können. Nutzen Sie hierfür das ```histnorm```-Argument und setzen es auf ```\"probability\"```:"
   ]
  },
  {
   "cell_type": "code",
   "execution_count": 136,
   "id": "e043711f",
   "metadata": {},
   "outputs": [
    {
     "data": {
      "application/vnd.plotly.v1+json": {
       "config": {
        "plotlyServerURL": "https://plot.ly"
       },
       "data": [
        {
         "bingroup": "x",
         "histnorm": "probability",
         "hovertemplate": "variable=Strom / A<br>value=%{x}<br>probability=%{y}<extra></extra>",
         "legendgroup": "Strom / A",
         "marker": {
          "color": "#636efa",
          "pattern": {
           "shape": ""
          }
         },
         "name": "Strom / A",
         "nbinsx": 100,
         "orientation": "v",
         "showlegend": true,
         "type": "histogram",
         "x": {
          "bdata": "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",
          "dtype": "f8"
         },
         "xaxis": "x",
         "yaxis": "y"
        }
       ],
       "layout": {
        "barmode": "relative",
        "legend": {
         "title": {
          "text": "variable"
         },
         "tracegroupgap": 0
        },
        "template": {
         "data": {
          "bar": [
           {
            "error_x": {
             "color": "#2a3f5f"
            },
            "error_y": {
             "color": "#2a3f5f"
            },
            "marker": {
             "line": {
              "color": "#E5ECF6",
              "width": 0.5
             },
             "pattern": {
              "fillmode": "overlay",
              "size": 10,
              "solidity": 0.2
             }
            },
            "type": "bar"
           }
          ],
          "barpolar": [
           {
            "marker": {
             "line": {
              "color": "#E5ECF6",
              "width": 0.5
             },
             "pattern": {
              "fillmode": "overlay",
              "size": 10,
              "solidity": 0.2
             }
            },
            "type": "barpolar"
           }
          ],
          "carpet": [
           {
            "aaxis": {
             "endlinecolor": "#2a3f5f",
             "gridcolor": "white",
             "linecolor": "white",
             "minorgridcolor": "white",
             "startlinecolor": "#2a3f5f"
            },
            "baxis": {
             "endlinecolor": "#2a3f5f",
             "gridcolor": "white",
             "linecolor": "white",
             "minorgridcolor": "white",
             "startlinecolor": "#2a3f5f"
            },
            "type": "carpet"
           }
          ],
          "choropleth": [
           {
            "colorbar": {
             "outlinewidth": 0,
             "ticks": ""
            },
            "type": "choropleth"
           }
          ],
          "contour": [
           {
            "colorbar": {
             "outlinewidth": 0,
             "ticks": ""
            },
            "colorscale": [
             [
              0,
              "#0d0887"
             ],
             [
              0.1111111111111111,
              "#46039f"
             ],
             [
              0.2222222222222222,
              "#7201a8"
             ],
             [
              0.3333333333333333,
              "#9c179e"
             ],
             [
              0.4444444444444444,
              "#bd3786"
             ],
             [
              0.5555555555555556,
              "#d8576b"
             ],
             [
              0.6666666666666666,
              "#ed7953"
             ],
             [
              0.7777777777777778,
              "#fb9f3a"
             ],
             [
              0.8888888888888888,
              "#fdca26"
             ],
             [
              1,
              "#f0f921"
             ]
            ],
            "type": "contour"
           }
          ],
          "contourcarpet": [
           {
            "colorbar": {
             "outlinewidth": 0,
             "ticks": ""
            },
            "type": "contourcarpet"
           }
          ],
          "heatmap": [
           {
            "colorbar": {
             "outlinewidth": 0,
             "ticks": ""
            },
            "colorscale": [
             [
              0,
              "#0d0887"
             ],
             [
              0.1111111111111111,
              "#46039f"
             ],
             [
              0.2222222222222222,
              "#7201a8"
             ],
             [
              0.3333333333333333,
              "#9c179e"
             ],
             [
              0.4444444444444444,
              "#bd3786"
             ],
             [
              0.5555555555555556,
              "#d8576b"
             ],
             [
              0.6666666666666666,
              "#ed7953"
             ],
             [
              0.7777777777777778,
              "#fb9f3a"
             ],
             [
              0.8888888888888888,
              "#fdca26"
             ],
             [
              1,
              "#f0f921"
             ]
            ],
            "type": "heatmap"
           }
          ],
          "histogram": [
           {
            "marker": {
             "pattern": {
              "fillmode": "overlay",
              "size": 10,
              "solidity": 0.2
             }
            },
            "type": "histogram"
           }
          ],
          "histogram2d": [
           {
            "colorbar": {
             "outlinewidth": 0,
             "ticks": ""
            },
            "colorscale": [
             [
              0,
              "#0d0887"
             ],
             [
              0.1111111111111111,
              "#46039f"
             ],
             [
              0.2222222222222222,
              "#7201a8"
             ],
             [
              0.3333333333333333,
              "#9c179e"
             ],
             [
              0.4444444444444444,
              "#bd3786"
             ],
             [
              0.5555555555555556,
              "#d8576b"
             ],
             [
              0.6666666666666666,
              "#ed7953"
             ],
             [
              0.7777777777777778,
              "#fb9f3a"
             ],
             [
              0.8888888888888888,
              "#fdca26"
             ],
             [
              1,
              "#f0f921"
             ]
            ],
            "type": "histogram2d"
           }
          ],
          "histogram2dcontour": [
           {
            "colorbar": {
             "outlinewidth": 0,
             "ticks": ""
            },
            "colorscale": [
             [
              0,
              "#0d0887"
             ],
             [
              0.1111111111111111,
              "#46039f"
             ],
             [
              0.2222222222222222,
              "#7201a8"
             ],
             [
              0.3333333333333333,
              "#9c179e"
             ],
             [
              0.4444444444444444,
              "#bd3786"
             ],
             [
              0.5555555555555556,
              "#d8576b"
             ],
             [
              0.6666666666666666,
              "#ed7953"
             ],
             [
              0.7777777777777778,
              "#fb9f3a"
             ],
             [
              0.8888888888888888,
              "#fdca26"
             ],
             [
              1,
              "#f0f921"
             ]
            ],
            "type": "histogram2dcontour"
           }
          ],
          "mesh3d": [
           {
            "colorbar": {
             "outlinewidth": 0,
             "ticks": ""
            },
            "type": "mesh3d"
           }
          ],
          "parcoords": [
           {
            "line": {
             "colorbar": {
              "outlinewidth": 0,
              "ticks": ""
             }
            },
            "type": "parcoords"
           }
          ],
          "pie": [
           {
            "automargin": true,
            "type": "pie"
           }
          ],
          "scatter": [
           {
            "fillpattern": {
             "fillmode": "overlay",
             "size": 10,
             "solidity": 0.2
            },
            "type": "scatter"
           }
          ],
          "scatter3d": [
           {
            "line": {
             "colorbar": {
              "outlinewidth": 0,
              "ticks": ""
             }
            },
            "marker": {
             "colorbar": {
              "outlinewidth": 0,
              "ticks": ""
             }
            },
            "type": "scatter3d"
           }
          ],
          "scattercarpet": [
           {
            "marker": {
             "colorbar": {
              "outlinewidth": 0,
              "ticks": ""
             }
            },
            "type": "scattercarpet"
           }
          ],
          "scattergeo": [
           {
            "marker": {
             "colorbar": {
              "outlinewidth": 0,
              "ticks": ""
             }
            },
            "type": "scattergeo"
           }
          ],
          "scattergl": [
           {
            "marker": {
             "colorbar": {
              "outlinewidth": 0,
              "ticks": ""
             }
            },
            "type": "scattergl"
           }
          ],
          "scattermap": [
           {
            "marker": {
             "colorbar": {
              "outlinewidth": 0,
              "ticks": ""
             }
            },
            "type": "scattermap"
           }
          ],
          "scattermapbox": [
           {
            "marker": {
             "colorbar": {
              "outlinewidth": 0,
              "ticks": ""
             }
            },
            "type": "scattermapbox"
           }
          ],
          "scatterpolar": [
           {
            "marker": {
             "colorbar": {
              "outlinewidth": 0,
              "ticks": ""
             }
            },
            "type": "scatterpolar"
           }
          ],
          "scatterpolargl": [
           {
            "marker": {
             "colorbar": {
              "outlinewidth": 0,
              "ticks": ""
             }
            },
            "type": "scatterpolargl"
           }
          ],
          "scatterternary": [
           {
            "marker": {
             "colorbar": {
              "outlinewidth": 0,
              "ticks": ""
             }
            },
            "type": "scatterternary"
           }
          ],
          "surface": [
           {
            "colorbar": {
             "outlinewidth": 0,
             "ticks": ""
            },
            "colorscale": [
             [
              0,
              "#0d0887"
             ],
             [
              0.1111111111111111,
              "#46039f"
             ],
             [
              0.2222222222222222,
              "#7201a8"
             ],
             [
              0.3333333333333333,
              "#9c179e"
             ],
             [
              0.4444444444444444,
              "#bd3786"
             ],
             [
              0.5555555555555556,
              "#d8576b"
             ],
             [
              0.6666666666666666,
              "#ed7953"
             ],
             [
              0.7777777777777778,
              "#fb9f3a"
             ],
             [
              0.8888888888888888,
              "#fdca26"
             ],
             [
              1,
              "#f0f921"
             ]
            ],
            "type": "surface"
           }
          ],
          "table": [
           {
            "cells": {
             "fill": {
              "color": "#EBF0F8"
             },
             "line": {
              "color": "white"
             }
            },
            "header": {
             "fill": {
              "color": "#C8D4E3"
             },
             "line": {
              "color": "white"
             }
            },
            "type": "table"
           }
          ]
         },
         "layout": {
          "annotationdefaults": {
           "arrowcolor": "#2a3f5f",
           "arrowhead": 0,
           "arrowwidth": 1
          },
          "autotypenumbers": "strict",
          "coloraxis": {
           "colorbar": {
            "outlinewidth": 0,
            "ticks": ""
           }
          },
          "colorscale": {
           "diverging": [
            [
             0,
             "#8e0152"
            ],
            [
             0.1,
             "#c51b7d"
            ],
            [
             0.2,
             "#de77ae"
            ],
            [
             0.3,
             "#f1b6da"
            ],
            [
             0.4,
             "#fde0ef"
            ],
            [
             0.5,
             "#f7f7f7"
            ],
            [
             0.6,
             "#e6f5d0"
            ],
            [
             0.7,
             "#b8e186"
            ],
            [
             0.8,
             "#7fbc41"
            ],
            [
             0.9,
             "#4d9221"
            ],
            [
             1,
             "#276419"
            ]
           ],
           "sequential": [
            [
             0,
             "#0d0887"
            ],
            [
             0.1111111111111111,
             "#46039f"
            ],
            [
             0.2222222222222222,
             "#7201a8"
            ],
            [
             0.3333333333333333,
             "#9c179e"
            ],
            [
             0.4444444444444444,
             "#bd3786"
            ],
            [
             0.5555555555555556,
             "#d8576b"
            ],
            [
             0.6666666666666666,
             "#ed7953"
            ],
            [
             0.7777777777777778,
             "#fb9f3a"
            ],
            [
             0.8888888888888888,
             "#fdca26"
            ],
            [
             1,
             "#f0f921"
            ]
           ],
           "sequentialminus": [
            [
             0,
             "#0d0887"
            ],
            [
             0.1111111111111111,
             "#46039f"
            ],
            [
             0.2222222222222222,
             "#7201a8"
            ],
            [
             0.3333333333333333,
             "#9c179e"
            ],
            [
             0.4444444444444444,
             "#bd3786"
            ],
            [
             0.5555555555555556,
             "#d8576b"
            ],
            [
             0.6666666666666666,
             "#ed7953"
            ],
            [
             0.7777777777777778,
             "#fb9f3a"
            ],
            [
             0.8888888888888888,
             "#fdca26"
            ],
            [
             1,
             "#f0f921"
            ]
           ]
          },
          "colorway": [
           "#636efa",
           "#EF553B",
           "#00cc96",
           "#ab63fa",
           "#FFA15A",
           "#19d3f3",
           "#FF6692",
           "#B6E880",
           "#FF97FF",
           "#FECB52"
          ],
          "font": {
           "color": "#2a3f5f"
          },
          "geo": {
           "bgcolor": "white",
           "lakecolor": "white",
           "landcolor": "#E5ECF6",
           "showlakes": true,
           "showland": true,
           "subunitcolor": "white"
          },
          "hoverlabel": {
           "align": "left"
          },
          "hovermode": "closest",
          "mapbox": {
           "style": "light"
          },
          "paper_bgcolor": "white",
          "plot_bgcolor": "#E5ECF6",
          "polar": {
           "angularaxis": {
            "gridcolor": "white",
            "linecolor": "white",
            "ticks": ""
           },
           "bgcolor": "#E5ECF6",
           "radialaxis": {
            "gridcolor": "white",
            "linecolor": "white",
            "ticks": ""
           }
          },
          "scene": {
           "xaxis": {
            "backgroundcolor": "#E5ECF6",
            "gridcolor": "white",
            "gridwidth": 2,
            "linecolor": "white",
            "showbackground": true,
            "ticks": "",
            "zerolinecolor": "white"
           },
           "yaxis": {
            "backgroundcolor": "#E5ECF6",
            "gridcolor": "white",
            "gridwidth": 2,
            "linecolor": "white",
            "showbackground": true,
            "ticks": "",
            "zerolinecolor": "white"
           },
           "zaxis": {
            "backgroundcolor": "#E5ECF6",
            "gridcolor": "white",
            "gridwidth": 2,
            "linecolor": "white",
            "showbackground": true,
            "ticks": "",
            "zerolinecolor": "white"
           }
          },
          "shapedefaults": {
           "line": {
            "color": "#2a3f5f"
           }
          },
          "ternary": {
           "aaxis": {
            "gridcolor": "white",
            "linecolor": "white",
            "ticks": ""
           },
           "baxis": {
            "gridcolor": "white",
            "linecolor": "white",
            "ticks": ""
           },
           "bgcolor": "#E5ECF6",
           "caxis": {
            "gridcolor": "white",
            "linecolor": "white",
            "ticks": ""
           }
          },
          "title": {
           "x": 0.05
          },
          "xaxis": {
           "automargin": true,
           "gridcolor": "white",
           "linecolor": "white",
           "ticks": "",
           "title": {
            "standoff": 15
           },
           "zerolinecolor": "white",
           "zerolinewidth": 2
          },
          "yaxis": {
           "automargin": true,
           "gridcolor": "white",
           "linecolor": "white",
           "ticks": "",
           "title": {
            "standoff": 15
           },
           "zerolinecolor": "white",
           "zerolinewidth": 2
          }
         }
        },
        "title": {
         "text": "Wahrscheinlichkeiten von Stromwerten (relative Häufigkeit)"
        },
        "xaxis": {
         "anchor": "y",
         "domain": [
          0,
          1
         ],
         "title": {
          "text": "Stromwert"
         }
        },
        "yaxis": {
         "anchor": "x",
         "domain": [
          0,
          1
         ],
         "title": {
          "text": "Wahrscheinlichkeit"
         }
        }
       }
      }
     },
     "metadata": {},
     "output_type": "display_data"
    }
   ],
   "source": [
    "# Erstelle Diagramm von relativen Häufigkeiten von Stromwerten wieder analog zu dem oberen Beispiel\n",
    "plot = df[\"Strom / A\"].plot(kind=\"histogram\", title=\"Wahrscheinlichkeiten von Stromwerten (relative Häufigkeit)\", nbins=100, histnorm=\"probability\")\n",
    "plot.update_layout(xaxis_title=\"Stromwert\", yaxis_title=\"Wahrscheinlichkeit\")"
   ]
  },
  {
   "cell_type": "markdown",
   "id": "10fb24fe",
   "metadata": {},
   "source": [
    "Natürlich ergibt es noch Sinn, die anderen Merkmale zu visualisieren. Da Ihnen die Funktionsaufrufe hierfür aber nun bekannt sein sollten, möchten wir an dieser Stelle darauf verzichten. Stattdessen wollen wir unsere Häufigkeitsverteilungen in einigen Kenngrößen zusammenzufassen. Dafür nutzen wir pandas' ```describe()```-Funktion und setzen ```include``` auf ```\"all\"```:"
   ]
  },
  {
   "cell_type": "code",
   "execution_count": 137,
   "id": "ae3ffcab",
   "metadata": {},
   "outputs": [
    {
     "data": {
      "text/html": [
       "<div>\n",
       "<style scoped>\n",
       "    .dataframe tbody tr th:only-of-type {\n",
       "        vertical-align: middle;\n",
       "    }\n",
       "\n",
       "    .dataframe tbody tr th {\n",
       "        vertical-align: top;\n",
       "    }\n",
       "\n",
       "    .dataframe thead th {\n",
       "        text-align: right;\n",
       "    }\n",
       "</style>\n",
       "<table border=\"1\" class=\"dataframe\">\n",
       "  <thead>\n",
       "    <tr style=\"text-align: right;\">\n",
       "      <th></th>\n",
       "      <th>Maschine</th>\n",
       "      <th>Mode</th>\n",
       "      <th>Produkt</th>\n",
       "      <th>Strom / A</th>\n",
       "      <th>Drehmoment / Nm</th>\n",
       "      <th>Drehzahl / 1/min</th>\n",
       "      <th>Temp Umgebung / degC</th>\n",
       "      <th>Temp Umrichter / degC</th>\n",
       "      <th>Temp Werkzeug / degC</th>\n",
       "      <th>Bearbeitungszeit / s</th>\n",
       "    </tr>\n",
       "  </thead>\n",
       "  <tbody>\n",
       "    <tr>\n",
       "      <th>count</th>\n",
       "      <td>1000</td>\n",
       "      <td>999.0</td>\n",
       "      <td>1000</td>\n",
       "      <td>999.000000</td>\n",
       "      <td>1000.000000</td>\n",
       "      <td>1000.000000</td>\n",
       "      <td>1000.000000</td>\n",
       "      <td>1000.000000</td>\n",
       "      <td>1000.000000</td>\n",
       "      <td>1000.000000</td>\n",
       "    </tr>\n",
       "    <tr>\n",
       "      <th>unique</th>\n",
       "      <td>3</td>\n",
       "      <td>3.0</td>\n",
       "      <td>3</td>\n",
       "      <td>NaN</td>\n",
       "      <td>NaN</td>\n",
       "      <td>NaN</td>\n",
       "      <td>NaN</td>\n",
       "      <td>NaN</td>\n",
       "      <td>NaN</td>\n",
       "      <td>NaN</td>\n",
       "    </tr>\n",
       "    <tr>\n",
       "      <th>top</th>\n",
       "      <td>C</td>\n",
       "      <td>2.0</td>\n",
       "      <td>Y</td>\n",
       "      <td>NaN</td>\n",
       "      <td>NaN</td>\n",
       "      <td>NaN</td>\n",
       "      <td>NaN</td>\n",
       "      <td>NaN</td>\n",
       "      <td>NaN</td>\n",
       "      <td>NaN</td>\n",
       "    </tr>\n",
       "    <tr>\n",
       "      <th>freq</th>\n",
       "      <td>416</td>\n",
       "      <td>518.0</td>\n",
       "      <td>541</td>\n",
       "      <td>NaN</td>\n",
       "      <td>NaN</td>\n",
       "      <td>NaN</td>\n",
       "      <td>NaN</td>\n",
       "      <td>NaN</td>\n",
       "      <td>NaN</td>\n",
       "      <td>NaN</td>\n",
       "    </tr>\n",
       "    <tr>\n",
       "      <th>mean</th>\n",
       "      <td>NaN</td>\n",
       "      <td>NaN</td>\n",
       "      <td>NaN</td>\n",
       "      <td>22.501915</td>\n",
       "      <td>48.555380</td>\n",
       "      <td>1460.945000</td>\n",
       "      <td>20.984700</td>\n",
       "      <td>23.750500</td>\n",
       "      <td>95.196400</td>\n",
       "      <td>23.008900</td>\n",
       "    </tr>\n",
       "    <tr>\n",
       "      <th>std</th>\n",
       "      <td>NaN</td>\n",
       "      <td>NaN</td>\n",
       "      <td>NaN</td>\n",
       "      <td>2.520593</td>\n",
       "      <td>3.692908</td>\n",
       "      <td>1.916154</td>\n",
       "      <td>1.374695</td>\n",
       "      <td>1.040876</td>\n",
       "      <td>5.688506</td>\n",
       "      <td>1.970897</td>\n",
       "    </tr>\n",
       "    <tr>\n",
       "      <th>min</th>\n",
       "      <td>NaN</td>\n",
       "      <td>NaN</td>\n",
       "      <td>NaN</td>\n",
       "      <td>18.221000</td>\n",
       "      <td>41.430000</td>\n",
       "      <td>1456.000000</td>\n",
       "      <td>17.300000</td>\n",
       "      <td>20.300000</td>\n",
       "      <td>82.900000</td>\n",
       "      <td>19.900000</td>\n",
       "    </tr>\n",
       "    <tr>\n",
       "      <th>25%</th>\n",
       "      <td>NaN</td>\n",
       "      <td>NaN</td>\n",
       "      <td>NaN</td>\n",
       "      <td>20.435500</td>\n",
       "      <td>45.527500</td>\n",
       "      <td>1460.000000</td>\n",
       "      <td>20.100000</td>\n",
       "      <td>23.075000</td>\n",
       "      <td>90.600000</td>\n",
       "      <td>21.400000</td>\n",
       "    </tr>\n",
       "    <tr>\n",
       "      <th>50%</th>\n",
       "      <td>NaN</td>\n",
       "      <td>NaN</td>\n",
       "      <td>NaN</td>\n",
       "      <td>22.102000</td>\n",
       "      <td>47.515000</td>\n",
       "      <td>1461.000000</td>\n",
       "      <td>21.000000</td>\n",
       "      <td>23.700000</td>\n",
       "      <td>94.000000</td>\n",
       "      <td>22.400000</td>\n",
       "    </tr>\n",
       "    <tr>\n",
       "      <th>75%</th>\n",
       "      <td>NaN</td>\n",
       "      <td>NaN</td>\n",
       "      <td>NaN</td>\n",
       "      <td>24.668000</td>\n",
       "      <td>51.602500</td>\n",
       "      <td>1462.000000</td>\n",
       "      <td>21.900000</td>\n",
       "      <td>24.400000</td>\n",
       "      <td>99.800000</td>\n",
       "      <td>25.300000</td>\n",
       "    </tr>\n",
       "    <tr>\n",
       "      <th>max</th>\n",
       "      <td>NaN</td>\n",
       "      <td>NaN</td>\n",
       "      <td>NaN</td>\n",
       "      <td>29.530000</td>\n",
       "      <td>60.110000</td>\n",
       "      <td>1467.000000</td>\n",
       "      <td>26.000000</td>\n",
       "      <td>27.400000</td>\n",
       "      <td>113.100000</td>\n",
       "      <td>25.300000</td>\n",
       "    </tr>\n",
       "  </tbody>\n",
       "</table>\n",
       "</div>"
      ],
      "text/plain": [
       "       Maschine   Mode Produkt   Strom / A  Drehmoment / Nm  Drehzahl / 1/min  \\\n",
       "count      1000  999.0    1000  999.000000      1000.000000       1000.000000   \n",
       "unique        3    3.0       3         NaN              NaN               NaN   \n",
       "top           C    2.0       Y         NaN              NaN               NaN   \n",
       "freq        416  518.0     541         NaN              NaN               NaN   \n",
       "mean        NaN    NaN     NaN   22.501915        48.555380       1460.945000   \n",
       "std         NaN    NaN     NaN    2.520593         3.692908          1.916154   \n",
       "min         NaN    NaN     NaN   18.221000        41.430000       1456.000000   \n",
       "25%         NaN    NaN     NaN   20.435500        45.527500       1460.000000   \n",
       "50%         NaN    NaN     NaN   22.102000        47.515000       1461.000000   \n",
       "75%         NaN    NaN     NaN   24.668000        51.602500       1462.000000   \n",
       "max         NaN    NaN     NaN   29.530000        60.110000       1467.000000   \n",
       "\n",
       "        Temp Umgebung / degC  Temp Umrichter / degC  Temp Werkzeug / degC  \\\n",
       "count            1000.000000            1000.000000           1000.000000   \n",
       "unique                   NaN                    NaN                   NaN   \n",
       "top                      NaN                    NaN                   NaN   \n",
       "freq                     NaN                    NaN                   NaN   \n",
       "mean               20.984700              23.750500             95.196400   \n",
       "std                 1.374695               1.040876              5.688506   \n",
       "min                17.300000              20.300000             82.900000   \n",
       "25%                20.100000              23.075000             90.600000   \n",
       "50%                21.000000              23.700000             94.000000   \n",
       "75%                21.900000              24.400000             99.800000   \n",
       "max                26.000000              27.400000            113.100000   \n",
       "\n",
       "        Bearbeitungszeit / s  \n",
       "count            1000.000000  \n",
       "unique                   NaN  \n",
       "top                      NaN  \n",
       "freq                     NaN  \n",
       "mean               23.008900  \n",
       "std                 1.970897  \n",
       "min                19.900000  \n",
       "25%                21.400000  \n",
       "50%                22.400000  \n",
       "75%                25.300000  \n",
       "max                25.300000  "
      ]
     },
     "execution_count": 137,
     "metadata": {},
     "output_type": "execute_result"
    }
   ],
   "source": [
    "features = df.describe(include=\"all\")\n",
    "features"
   ]
  },
  {
   "cell_type": "markdown",
   "id": "bfa834d6",
   "metadata": {},
   "source": [
    "Durch diesen Funktionsaufruf werden eine ganze Menge Kenngrößen ausgegeben. Unter ```count``` wird die Anzahl von nicht-fehlenden Werten angegeben (also von Werten, die nicht \"not a number\" bzw. ```NaN``` sind), unter ```unique``` wird die Anzahl der Kategorien bei nominalen und ordinalen Daten angegeben, unter ```top``` der Modus und unter ```freq``` die Häufigkeit des Modus. Während uns ```count``` einen Aufschluss über die Datenqualität gibt, liefern uns ```unique```, ```top``` und ```freq``` eigentlich keine zusätzliche Information im Vergleich zu unserer interaktiven Visualisierung. Interessanter ist die Angabe des arithmetischen Mittels ```mean```, der Standardabweichung ```std```, des Minimums ```min```, des unteren Quartils ```25%```, des mittleres Quartils bzw. Medians ```50%```, des oberen Quartils ```75%``` sowie des Maximums ```max```. Weitere Streuungsmaße wie die Varianz, die Spannweite oder der Interquartilsabstand können bei Bedarf aus diesen Kenngrößen einfach berechnet werden. Sie erinnern sich, dass jedes dieser Lage- und Streuungsmaße bestimmte Vor- und Nachteile aufweist. Eine allgemeine Empfehlung, welches Maß zu bevorzugen ist, kann man daher nicht abgeben."
   ]
  },
  {
   "cell_type": "markdown",
   "id": "b76a53a5",
   "metadata": {},
   "source": [
    "<span style=\"color:#FF5F00\"><b>AUFGABE:</b></span><br>\n",
    "Wählen Sie nun ein metrisches Merkmal aus, bei dem es einen Unterschied ≥ 1 zwischen dem arithmetischen Mittel und dem Median gibt. Überlegen Sie sich, was Gründe für den Unterschied sein könnten. Überprüfen Sie Ihre Vermutungen dann durch eine passende Visualisierung!"
   ]
  },
  {
   "cell_type": "code",
   "execution_count": 138,
   "id": "28dbe3d9",
   "metadata": {},
   "outputs": [
    {
     "name": "stdout",
     "output_type": "stream",
     "text": [
      "[<] Merkmale mit dem Unterschied nicht kleiner 1:\n",
      " |-< Drehmoment / Nm (mean - median = 1.04)\n",
      " |-< Temp Werkzeug / degC (mean - median = 1.196)\n"
     ]
    }
   ],
   "source": [
    "print(\"[<] Merkmale mit dem Unterschied nicht kleiner 1:\")\n",
    "\n",
    "# Liste von Plots zu zeigen\n",
    "plots = []\n",
    "\n",
    "# Ich will nur sicher sein, dass der Unterschied wirklich genügt :)\n",
    "for feature in features:\n",
    "    diff = features[feature][\"mean\"] - features[feature][\"50%\"]\n",
    "    if abs(diff) >= 1:\n",
    "        print(f\" |-< {feature} (mean - median = {round(diff, 3)})\")\n",
    "        plots.append(df[feature].value_counts()\n",
    "                     .plot(kind=\"histogram\",\n",
    "                           title=f\"Relative Häufigkeiten von '{feature}' (Mittelwert viel größer als Median)\")\n",
    "                     .update_layout(xaxis_title=feature,\n",
    "                                    yaxis_title=\"Häufigkeit\"))"
   ]
  },
  {
   "cell_type": "markdown",
   "id": "c39916f3",
   "metadata": {},
   "source": [
    "<span style=\"color:#FF5F00\"><b>Stimmt was nicht?</b></span><br>\n",
    "\n",
    "Dass der Mittelwert größer als das Median um mehr als `1` ist, heißt tatsächlich, das das Median einfach seltener als andere Werte vorkommt. Umgekehrt, wenn das Median häufiger als andere Werte vorkommen würde, wäre der Unterschied kleiner als `1`. Folgende Diagramme stimmen mit der Überlegung überein:"
   ]
  },
  {
   "cell_type": "code",
   "execution_count": 139,
   "id": "952710e0",
   "metadata": {},
   "outputs": [
    {
     "data": {
      "application/vnd.plotly.v1+json": {
       "config": {
        "plotlyServerURL": "https://plot.ly"
       },
       "data": [
        {
         "bingroup": "x",
         "hovertemplate": "variable=count<br>value=%{x}<br>count=%{y}<extra></extra>",
         "legendgroup": "count",
         "marker": {
          "color": "#636efa",
          "pattern": {
           "shape": ""
          }
         },
         "name": "count",
         "orientation": "v",
         "showlegend": true,
         "type": "histogram",
         "x": {
          "bdata": "BgYEBAQEBAQEBAQEBAQEBAQEBAMDAwMDAwMDAwMDAwMDAwMDAwMDAwMDAwMDAwMDAwMDAwMDAwMDAwMDAwMDAwMDAwMDAwICAgICAgICAgICAgICAgICAgICAgICAgICAgICAgICAgICAgICAgICAgICAgICAgICAgICAgICAgICAgICAgICAgICAgICAgICAgICAgICAgICAgICAgICAgICAgICAgICAgICAgICAgICAgICAgICAgICAgICAgICAgICAgICAgICAgICAgICAgICAgICAgICAgICAgICAgICAgICAgICAQEBAQEBAQEBAQEBAQEBAQEBAQEBAQEBAQEBAQEBAQEBAQEBAQEBAQEBAQEBAQEBAQEBAQEBAQEBAQEBAQEBAQEBAQEBAQEBAQEBAQEBAQEBAQEBAQEBAQEBAQEBAQEBAQEBAQEBAQEBAQEBAQEBAQEBAQEBAQEBAQEBAQEBAQEBAQEBAQEBAQEBAQEBAQEBAQEBAQEBAQEBAQEBAQEBAQEBAQEBAQEBAQEBAQEBAQEBAQEBAQEBAQEBAQEBAQEBAQEBAQEBAQEBAQEBAQEBAQEBAQEBAQEBAQEBAQEBAQEBAQEBAQEBAQEBAQEBAQEBAQEBAQEBAQEBAQEBAQEBAQEBAQEBAQEBAQEBAQEBAQEBAQEBAQEBAQEBAQEBAQEBAQEBAQEBAQEBAQEBAQEBAQEBAQEBAQEBAQEBAQEBAQEBAQEBAQEBAQEBAQEBAQEBAQEBAQEBAQEBAQEBAQEBAQEBAQEBAQEBAQEBAQEBAQEBAQEBAQEBAQEBAQEBAQEBAQEBAQEBAQEBAQEBAQEBAQEBAQEBAQEBAQEBAQEBAQEBAQEBAQEBAQEBAQEBAQEBAQEBAQEBAQEBAQEBAQ==",
          "dtype": "i1"
         },
         "xaxis": "x",
         "yaxis": "y"
        }
       ],
       "layout": {
        "barmode": "relative",
        "legend": {
         "title": {
          "text": "variable"
         },
         "tracegroupgap": 0
        },
        "template": {
         "data": {
          "bar": [
           {
            "error_x": {
             "color": "#2a3f5f"
            },
            "error_y": {
             "color": "#2a3f5f"
            },
            "marker": {
             "line": {
              "color": "#E5ECF6",
              "width": 0.5
             },
             "pattern": {
              "fillmode": "overlay",
              "size": 10,
              "solidity": 0.2
             }
            },
            "type": "bar"
           }
          ],
          "barpolar": [
           {
            "marker": {
             "line": {
              "color": "#E5ECF6",
              "width": 0.5
             },
             "pattern": {
              "fillmode": "overlay",
              "size": 10,
              "solidity": 0.2
             }
            },
            "type": "barpolar"
           }
          ],
          "carpet": [
           {
            "aaxis": {
             "endlinecolor": "#2a3f5f",
             "gridcolor": "white",
             "linecolor": "white",
             "minorgridcolor": "white",
             "startlinecolor": "#2a3f5f"
            },
            "baxis": {
             "endlinecolor": "#2a3f5f",
             "gridcolor": "white",
             "linecolor": "white",
             "minorgridcolor": "white",
             "startlinecolor": "#2a3f5f"
            },
            "type": "carpet"
           }
          ],
          "choropleth": [
           {
            "colorbar": {
             "outlinewidth": 0,
             "ticks": ""
            },
            "type": "choropleth"
           }
          ],
          "contour": [
           {
            "colorbar": {
             "outlinewidth": 0,
             "ticks": ""
            },
            "colorscale": [
             [
              0,
              "#0d0887"
             ],
             [
              0.1111111111111111,
              "#46039f"
             ],
             [
              0.2222222222222222,
              "#7201a8"
             ],
             [
              0.3333333333333333,
              "#9c179e"
             ],
             [
              0.4444444444444444,
              "#bd3786"
             ],
             [
              0.5555555555555556,
              "#d8576b"
             ],
             [
              0.6666666666666666,
              "#ed7953"
             ],
             [
              0.7777777777777778,
              "#fb9f3a"
             ],
             [
              0.8888888888888888,
              "#fdca26"
             ],
             [
              1,
              "#f0f921"
             ]
            ],
            "type": "contour"
           }
          ],
          "contourcarpet": [
           {
            "colorbar": {
             "outlinewidth": 0,
             "ticks": ""
            },
            "type": "contourcarpet"
           }
          ],
          "heatmap": [
           {
            "colorbar": {
             "outlinewidth": 0,
             "ticks": ""
            },
            "colorscale": [
             [
              0,
              "#0d0887"
             ],
             [
              0.1111111111111111,
              "#46039f"
             ],
             [
              0.2222222222222222,
              "#7201a8"
             ],
             [
              0.3333333333333333,
              "#9c179e"
             ],
             [
              0.4444444444444444,
              "#bd3786"
             ],
             [
              0.5555555555555556,
              "#d8576b"
             ],
             [
              0.6666666666666666,
              "#ed7953"
             ],
             [
              0.7777777777777778,
              "#fb9f3a"
             ],
             [
              0.8888888888888888,
              "#fdca26"
             ],
             [
              1,
              "#f0f921"
             ]
            ],
            "type": "heatmap"
           }
          ],
          "histogram": [
           {
            "marker": {
             "pattern": {
              "fillmode": "overlay",
              "size": 10,
              "solidity": 0.2
             }
            },
            "type": "histogram"
           }
          ],
          "histogram2d": [
           {
            "colorbar": {
             "outlinewidth": 0,
             "ticks": ""
            },
            "colorscale": [
             [
              0,
              "#0d0887"
             ],
             [
              0.1111111111111111,
              "#46039f"
             ],
             [
              0.2222222222222222,
              "#7201a8"
             ],
             [
              0.3333333333333333,
              "#9c179e"
             ],
             [
              0.4444444444444444,
              "#bd3786"
             ],
             [
              0.5555555555555556,
              "#d8576b"
             ],
             [
              0.6666666666666666,
              "#ed7953"
             ],
             [
              0.7777777777777778,
              "#fb9f3a"
             ],
             [
              0.8888888888888888,
              "#fdca26"
             ],
             [
              1,
              "#f0f921"
             ]
            ],
            "type": "histogram2d"
           }
          ],
          "histogram2dcontour": [
           {
            "colorbar": {
             "outlinewidth": 0,
             "ticks": ""
            },
            "colorscale": [
             [
              0,
              "#0d0887"
             ],
             [
              0.1111111111111111,
              "#46039f"
             ],
             [
              0.2222222222222222,
              "#7201a8"
             ],
             [
              0.3333333333333333,
              "#9c179e"
             ],
             [
              0.4444444444444444,
              "#bd3786"
             ],
             [
              0.5555555555555556,
              "#d8576b"
             ],
             [
              0.6666666666666666,
              "#ed7953"
             ],
             [
              0.7777777777777778,
              "#fb9f3a"
             ],
             [
              0.8888888888888888,
              "#fdca26"
             ],
             [
              1,
              "#f0f921"
             ]
            ],
            "type": "histogram2dcontour"
           }
          ],
          "mesh3d": [
           {
            "colorbar": {
             "outlinewidth": 0,
             "ticks": ""
            },
            "type": "mesh3d"
           }
          ],
          "parcoords": [
           {
            "line": {
             "colorbar": {
              "outlinewidth": 0,
              "ticks": ""
             }
            },
            "type": "parcoords"
           }
          ],
          "pie": [
           {
            "automargin": true,
            "type": "pie"
           }
          ],
          "scatter": [
           {
            "fillpattern": {
             "fillmode": "overlay",
             "size": 10,
             "solidity": 0.2
            },
            "type": "scatter"
           }
          ],
          "scatter3d": [
           {
            "line": {
             "colorbar": {
              "outlinewidth": 0,
              "ticks": ""
             }
            },
            "marker": {
             "colorbar": {
              "outlinewidth": 0,
              "ticks": ""
             }
            },
            "type": "scatter3d"
           }
          ],
          "scattercarpet": [
           {
            "marker": {
             "colorbar": {
              "outlinewidth": 0,
              "ticks": ""
             }
            },
            "type": "scattercarpet"
           }
          ],
          "scattergeo": [
           {
            "marker": {
             "colorbar": {
              "outlinewidth": 0,
              "ticks": ""
             }
            },
            "type": "scattergeo"
           }
          ],
          "scattergl": [
           {
            "marker": {
             "colorbar": {
              "outlinewidth": 0,
              "ticks": ""
             }
            },
            "type": "scattergl"
           }
          ],
          "scattermap": [
           {
            "marker": {
             "colorbar": {
              "outlinewidth": 0,
              "ticks": ""
             }
            },
            "type": "scattermap"
           }
          ],
          "scattermapbox": [
           {
            "marker": {
             "colorbar": {
              "outlinewidth": 0,
              "ticks": ""
             }
            },
            "type": "scattermapbox"
           }
          ],
          "scatterpolar": [
           {
            "marker": {
             "colorbar": {
              "outlinewidth": 0,
              "ticks": ""
             }
            },
            "type": "scatterpolar"
           }
          ],
          "scatterpolargl": [
           {
            "marker": {
             "colorbar": {
              "outlinewidth": 0,
              "ticks": ""
             }
            },
            "type": "scatterpolargl"
           }
          ],
          "scatterternary": [
           {
            "marker": {
             "colorbar": {
              "outlinewidth": 0,
              "ticks": ""
             }
            },
            "type": "scatterternary"
           }
          ],
          "surface": [
           {
            "colorbar": {
             "outlinewidth": 0,
             "ticks": ""
            },
            "colorscale": [
             [
              0,
              "#0d0887"
             ],
             [
              0.1111111111111111,
              "#46039f"
             ],
             [
              0.2222222222222222,
              "#7201a8"
             ],
             [
              0.3333333333333333,
              "#9c179e"
             ],
             [
              0.4444444444444444,
              "#bd3786"
             ],
             [
              0.5555555555555556,
              "#d8576b"
             ],
             [
              0.6666666666666666,
              "#ed7953"
             ],
             [
              0.7777777777777778,
              "#fb9f3a"
             ],
             [
              0.8888888888888888,
              "#fdca26"
             ],
             [
              1,
              "#f0f921"
             ]
            ],
            "type": "surface"
           }
          ],
          "table": [
           {
            "cells": {
             "fill": {
              "color": "#EBF0F8"
             },
             "line": {
              "color": "white"
             }
            },
            "header": {
             "fill": {
              "color": "#C8D4E3"
             },
             "line": {
              "color": "white"
             }
            },
            "type": "table"
           }
          ]
         },
         "layout": {
          "annotationdefaults": {
           "arrowcolor": "#2a3f5f",
           "arrowhead": 0,
           "arrowwidth": 1
          },
          "autotypenumbers": "strict",
          "coloraxis": {
           "colorbar": {
            "outlinewidth": 0,
            "ticks": ""
           }
          },
          "colorscale": {
           "diverging": [
            [
             0,
             "#8e0152"
            ],
            [
             0.1,
             "#c51b7d"
            ],
            [
             0.2,
             "#de77ae"
            ],
            [
             0.3,
             "#f1b6da"
            ],
            [
             0.4,
             "#fde0ef"
            ],
            [
             0.5,
             "#f7f7f7"
            ],
            [
             0.6,
             "#e6f5d0"
            ],
            [
             0.7,
             "#b8e186"
            ],
            [
             0.8,
             "#7fbc41"
            ],
            [
             0.9,
             "#4d9221"
            ],
            [
             1,
             "#276419"
            ]
           ],
           "sequential": [
            [
             0,
             "#0d0887"
            ],
            [
             0.1111111111111111,
             "#46039f"
            ],
            [
             0.2222222222222222,
             "#7201a8"
            ],
            [
             0.3333333333333333,
             "#9c179e"
            ],
            [
             0.4444444444444444,
             "#bd3786"
            ],
            [
             0.5555555555555556,
             "#d8576b"
            ],
            [
             0.6666666666666666,
             "#ed7953"
            ],
            [
             0.7777777777777778,
             "#fb9f3a"
            ],
            [
             0.8888888888888888,
             "#fdca26"
            ],
            [
             1,
             "#f0f921"
            ]
           ],
           "sequentialminus": [
            [
             0,
             "#0d0887"
            ],
            [
             0.1111111111111111,
             "#46039f"
            ],
            [
             0.2222222222222222,
             "#7201a8"
            ],
            [
             0.3333333333333333,
             "#9c179e"
            ],
            [
             0.4444444444444444,
             "#bd3786"
            ],
            [
             0.5555555555555556,
             "#d8576b"
            ],
            [
             0.6666666666666666,
             "#ed7953"
            ],
            [
             0.7777777777777778,
             "#fb9f3a"
            ],
            [
             0.8888888888888888,
             "#fdca26"
            ],
            [
             1,
             "#f0f921"
            ]
           ]
          },
          "colorway": [
           "#636efa",
           "#EF553B",
           "#00cc96",
           "#ab63fa",
           "#FFA15A",
           "#19d3f3",
           "#FF6692",
           "#B6E880",
           "#FF97FF",
           "#FECB52"
          ],
          "font": {
           "color": "#2a3f5f"
          },
          "geo": {
           "bgcolor": "white",
           "lakecolor": "white",
           "landcolor": "#E5ECF6",
           "showlakes": true,
           "showland": true,
           "subunitcolor": "white"
          },
          "hoverlabel": {
           "align": "left"
          },
          "hovermode": "closest",
          "mapbox": {
           "style": "light"
          },
          "paper_bgcolor": "white",
          "plot_bgcolor": "#E5ECF6",
          "polar": {
           "angularaxis": {
            "gridcolor": "white",
            "linecolor": "white",
            "ticks": ""
           },
           "bgcolor": "#E5ECF6",
           "radialaxis": {
            "gridcolor": "white",
            "linecolor": "white",
            "ticks": ""
           }
          },
          "scene": {
           "xaxis": {
            "backgroundcolor": "#E5ECF6",
            "gridcolor": "white",
            "gridwidth": 2,
            "linecolor": "white",
            "showbackground": true,
            "ticks": "",
            "zerolinecolor": "white"
           },
           "yaxis": {
            "backgroundcolor": "#E5ECF6",
            "gridcolor": "white",
            "gridwidth": 2,
            "linecolor": "white",
            "showbackground": true,
            "ticks": "",
            "zerolinecolor": "white"
           },
           "zaxis": {
            "backgroundcolor": "#E5ECF6",
            "gridcolor": "white",
            "gridwidth": 2,
            "linecolor": "white",
            "showbackground": true,
            "ticks": "",
            "zerolinecolor": "white"
           }
          },
          "shapedefaults": {
           "line": {
            "color": "#2a3f5f"
           }
          },
          "ternary": {
           "aaxis": {
            "gridcolor": "white",
            "linecolor": "white",
            "ticks": ""
           },
           "baxis": {
            "gridcolor": "white",
            "linecolor": "white",
            "ticks": ""
           },
           "bgcolor": "#E5ECF6",
           "caxis": {
            "gridcolor": "white",
            "linecolor": "white",
            "ticks": ""
           }
          },
          "title": {
           "x": 0.05
          },
          "xaxis": {
           "automargin": true,
           "gridcolor": "white",
           "linecolor": "white",
           "ticks": "",
           "title": {
            "standoff": 15
           },
           "zerolinecolor": "white",
           "zerolinewidth": 2
          },
          "yaxis": {
           "automargin": true,
           "gridcolor": "white",
           "linecolor": "white",
           "ticks": "",
           "title": {
            "standoff": 15
           },
           "zerolinecolor": "white",
           "zerolinewidth": 2
          }
         }
        },
        "title": {
         "text": "Relative Häufigkeiten von 'Drehmoment / Nm' (Mittelwert viel größer als Median)"
        },
        "xaxis": {
         "anchor": "y",
         "domain": [
          0,
          1
         ],
         "title": {
          "text": "Drehmoment / Nm"
         }
        },
        "yaxis": {
         "anchor": "x",
         "domain": [
          0,
          1
         ],
         "title": {
          "text": "Häufigkeit"
         }
        }
       }
      }
     },
     "metadata": {},
     "output_type": "display_data"
    }
   ],
   "source": [
    "# Das erste Diagramm von gesuchten Merkmalen\n",
    "plots[0]"
   ]
  },
  {
   "cell_type": "code",
   "execution_count": 140,
   "id": "c0a50c23",
   "metadata": {},
   "outputs": [
    {
     "data": {
      "application/vnd.plotly.v1+json": {
       "config": {
        "plotlyServerURL": "https://plot.ly"
       },
       "data": [
        {
         "bingroup": "x",
         "hovertemplate": "variable=count<br>value=%{x}<br>count=%{y}<extra></extra>",
         "legendgroup": "count",
         "marker": {
          "color": "#636efa",
          "pattern": {
           "shape": ""
          }
         },
         "name": "count",
         "orientation": "v",
         "showlegend": true,
         "type": "histogram",
         "x": {
          "bdata": "Dw0MCwsLCwoKCgoJCQkJCAgICAgICAgICAgICAgICAgIBwcHBwcHBwcHBwcHBwcHBwcHBwcHBwcHBwcHBgYGBgYGBgYGBgYGBgYGBgYFBQUFBQUFBQUFBQUFBQUFBQUFBQUFBAQEBAQEBAQEBAQEBAQEBAQEBAQEBAMDAwMDAwMDAwMDAwMDAwMDAwMDAwMDAwMDAwMDAwMDAwMDAwMCAgICAgICAgICAgICAgICAgICAgICAgICAgIBAQEBAQEBAQEBAQEBAQEBAQEBAQEBAQEBAQEBAQEBAQEBAQEBAQEBAQE=",
          "dtype": "i1"
         },
         "xaxis": "x",
         "yaxis": "y"
        }
       ],
       "layout": {
        "barmode": "relative",
        "legend": {
         "title": {
          "text": "variable"
         },
         "tracegroupgap": 0
        },
        "template": {
         "data": {
          "bar": [
           {
            "error_x": {
             "color": "#2a3f5f"
            },
            "error_y": {
             "color": "#2a3f5f"
            },
            "marker": {
             "line": {
              "color": "#E5ECF6",
              "width": 0.5
             },
             "pattern": {
              "fillmode": "overlay",
              "size": 10,
              "solidity": 0.2
             }
            },
            "type": "bar"
           }
          ],
          "barpolar": [
           {
            "marker": {
             "line": {
              "color": "#E5ECF6",
              "width": 0.5
             },
             "pattern": {
              "fillmode": "overlay",
              "size": 10,
              "solidity": 0.2
             }
            },
            "type": "barpolar"
           }
          ],
          "carpet": [
           {
            "aaxis": {
             "endlinecolor": "#2a3f5f",
             "gridcolor": "white",
             "linecolor": "white",
             "minorgridcolor": "white",
             "startlinecolor": "#2a3f5f"
            },
            "baxis": {
             "endlinecolor": "#2a3f5f",
             "gridcolor": "white",
             "linecolor": "white",
             "minorgridcolor": "white",
             "startlinecolor": "#2a3f5f"
            },
            "type": "carpet"
           }
          ],
          "choropleth": [
           {
            "colorbar": {
             "outlinewidth": 0,
             "ticks": ""
            },
            "type": "choropleth"
           }
          ],
          "contour": [
           {
            "colorbar": {
             "outlinewidth": 0,
             "ticks": ""
            },
            "colorscale": [
             [
              0,
              "#0d0887"
             ],
             [
              0.1111111111111111,
              "#46039f"
             ],
             [
              0.2222222222222222,
              "#7201a8"
             ],
             [
              0.3333333333333333,
              "#9c179e"
             ],
             [
              0.4444444444444444,
              "#bd3786"
             ],
             [
              0.5555555555555556,
              "#d8576b"
             ],
             [
              0.6666666666666666,
              "#ed7953"
             ],
             [
              0.7777777777777778,
              "#fb9f3a"
             ],
             [
              0.8888888888888888,
              "#fdca26"
             ],
             [
              1,
              "#f0f921"
             ]
            ],
            "type": "contour"
           }
          ],
          "contourcarpet": [
           {
            "colorbar": {
             "outlinewidth": 0,
             "ticks": ""
            },
            "type": "contourcarpet"
           }
          ],
          "heatmap": [
           {
            "colorbar": {
             "outlinewidth": 0,
             "ticks": ""
            },
            "colorscale": [
             [
              0,
              "#0d0887"
             ],
             [
              0.1111111111111111,
              "#46039f"
             ],
             [
              0.2222222222222222,
              "#7201a8"
             ],
             [
              0.3333333333333333,
              "#9c179e"
             ],
             [
              0.4444444444444444,
              "#bd3786"
             ],
             [
              0.5555555555555556,
              "#d8576b"
             ],
             [
              0.6666666666666666,
              "#ed7953"
             ],
             [
              0.7777777777777778,
              "#fb9f3a"
             ],
             [
              0.8888888888888888,
              "#fdca26"
             ],
             [
              1,
              "#f0f921"
             ]
            ],
            "type": "heatmap"
           }
          ],
          "histogram": [
           {
            "marker": {
             "pattern": {
              "fillmode": "overlay",
              "size": 10,
              "solidity": 0.2
             }
            },
            "type": "histogram"
           }
          ],
          "histogram2d": [
           {
            "colorbar": {
             "outlinewidth": 0,
             "ticks": ""
            },
            "colorscale": [
             [
              0,
              "#0d0887"
             ],
             [
              0.1111111111111111,
              "#46039f"
             ],
             [
              0.2222222222222222,
              "#7201a8"
             ],
             [
              0.3333333333333333,
              "#9c179e"
             ],
             [
              0.4444444444444444,
              "#bd3786"
             ],
             [
              0.5555555555555556,
              "#d8576b"
             ],
             [
              0.6666666666666666,
              "#ed7953"
             ],
             [
              0.7777777777777778,
              "#fb9f3a"
             ],
             [
              0.8888888888888888,
              "#fdca26"
             ],
             [
              1,
              "#f0f921"
             ]
            ],
            "type": "histogram2d"
           }
          ],
          "histogram2dcontour": [
           {
            "colorbar": {
             "outlinewidth": 0,
             "ticks": ""
            },
            "colorscale": [
             [
              0,
              "#0d0887"
             ],
             [
              0.1111111111111111,
              "#46039f"
             ],
             [
              0.2222222222222222,
              "#7201a8"
             ],
             [
              0.3333333333333333,
              "#9c179e"
             ],
             [
              0.4444444444444444,
              "#bd3786"
             ],
             [
              0.5555555555555556,
              "#d8576b"
             ],
             [
              0.6666666666666666,
              "#ed7953"
             ],
             [
              0.7777777777777778,
              "#fb9f3a"
             ],
             [
              0.8888888888888888,
              "#fdca26"
             ],
             [
              1,
              "#f0f921"
             ]
            ],
            "type": "histogram2dcontour"
           }
          ],
          "mesh3d": [
           {
            "colorbar": {
             "outlinewidth": 0,
             "ticks": ""
            },
            "type": "mesh3d"
           }
          ],
          "parcoords": [
           {
            "line": {
             "colorbar": {
              "outlinewidth": 0,
              "ticks": ""
             }
            },
            "type": "parcoords"
           }
          ],
          "pie": [
           {
            "automargin": true,
            "type": "pie"
           }
          ],
          "scatter": [
           {
            "fillpattern": {
             "fillmode": "overlay",
             "size": 10,
             "solidity": 0.2
            },
            "type": "scatter"
           }
          ],
          "scatter3d": [
           {
            "line": {
             "colorbar": {
              "outlinewidth": 0,
              "ticks": ""
             }
            },
            "marker": {
             "colorbar": {
              "outlinewidth": 0,
              "ticks": ""
             }
            },
            "type": "scatter3d"
           }
          ],
          "scattercarpet": [
           {
            "marker": {
             "colorbar": {
              "outlinewidth": 0,
              "ticks": ""
             }
            },
            "type": "scattercarpet"
           }
          ],
          "scattergeo": [
           {
            "marker": {
             "colorbar": {
              "outlinewidth": 0,
              "ticks": ""
             }
            },
            "type": "scattergeo"
           }
          ],
          "scattergl": [
           {
            "marker": {
             "colorbar": {
              "outlinewidth": 0,
              "ticks": ""
             }
            },
            "type": "scattergl"
           }
          ],
          "scattermap": [
           {
            "marker": {
             "colorbar": {
              "outlinewidth": 0,
              "ticks": ""
             }
            },
            "type": "scattermap"
           }
          ],
          "scattermapbox": [
           {
            "marker": {
             "colorbar": {
              "outlinewidth": 0,
              "ticks": ""
             }
            },
            "type": "scattermapbox"
           }
          ],
          "scatterpolar": [
           {
            "marker": {
             "colorbar": {
              "outlinewidth": 0,
              "ticks": ""
             }
            },
            "type": "scatterpolar"
           }
          ],
          "scatterpolargl": [
           {
            "marker": {
             "colorbar": {
              "outlinewidth": 0,
              "ticks": ""
             }
            },
            "type": "scatterpolargl"
           }
          ],
          "scatterternary": [
           {
            "marker": {
             "colorbar": {
              "outlinewidth": 0,
              "ticks": ""
             }
            },
            "type": "scatterternary"
           }
          ],
          "surface": [
           {
            "colorbar": {
             "outlinewidth": 0,
             "ticks": ""
            },
            "colorscale": [
             [
              0,
              "#0d0887"
             ],
             [
              0.1111111111111111,
              "#46039f"
             ],
             [
              0.2222222222222222,
              "#7201a8"
             ],
             [
              0.3333333333333333,
              "#9c179e"
             ],
             [
              0.4444444444444444,
              "#bd3786"
             ],
             [
              0.5555555555555556,
              "#d8576b"
             ],
             [
              0.6666666666666666,
              "#ed7953"
             ],
             [
              0.7777777777777778,
              "#fb9f3a"
             ],
             [
              0.8888888888888888,
              "#fdca26"
             ],
             [
              1,
              "#f0f921"
             ]
            ],
            "type": "surface"
           }
          ],
          "table": [
           {
            "cells": {
             "fill": {
              "color": "#EBF0F8"
             },
             "line": {
              "color": "white"
             }
            },
            "header": {
             "fill": {
              "color": "#C8D4E3"
             },
             "line": {
              "color": "white"
             }
            },
            "type": "table"
           }
          ]
         },
         "layout": {
          "annotationdefaults": {
           "arrowcolor": "#2a3f5f",
           "arrowhead": 0,
           "arrowwidth": 1
          },
          "autotypenumbers": "strict",
          "coloraxis": {
           "colorbar": {
            "outlinewidth": 0,
            "ticks": ""
           }
          },
          "colorscale": {
           "diverging": [
            [
             0,
             "#8e0152"
            ],
            [
             0.1,
             "#c51b7d"
            ],
            [
             0.2,
             "#de77ae"
            ],
            [
             0.3,
             "#f1b6da"
            ],
            [
             0.4,
             "#fde0ef"
            ],
            [
             0.5,
             "#f7f7f7"
            ],
            [
             0.6,
             "#e6f5d0"
            ],
            [
             0.7,
             "#b8e186"
            ],
            [
             0.8,
             "#7fbc41"
            ],
            [
             0.9,
             "#4d9221"
            ],
            [
             1,
             "#276419"
            ]
           ],
           "sequential": [
            [
             0,
             "#0d0887"
            ],
            [
             0.1111111111111111,
             "#46039f"
            ],
            [
             0.2222222222222222,
             "#7201a8"
            ],
            [
             0.3333333333333333,
             "#9c179e"
            ],
            [
             0.4444444444444444,
             "#bd3786"
            ],
            [
             0.5555555555555556,
             "#d8576b"
            ],
            [
             0.6666666666666666,
             "#ed7953"
            ],
            [
             0.7777777777777778,
             "#fb9f3a"
            ],
            [
             0.8888888888888888,
             "#fdca26"
            ],
            [
             1,
             "#f0f921"
            ]
           ],
           "sequentialminus": [
            [
             0,
             "#0d0887"
            ],
            [
             0.1111111111111111,
             "#46039f"
            ],
            [
             0.2222222222222222,
             "#7201a8"
            ],
            [
             0.3333333333333333,
             "#9c179e"
            ],
            [
             0.4444444444444444,
             "#bd3786"
            ],
            [
             0.5555555555555556,
             "#d8576b"
            ],
            [
             0.6666666666666666,
             "#ed7953"
            ],
            [
             0.7777777777777778,
             "#fb9f3a"
            ],
            [
             0.8888888888888888,
             "#fdca26"
            ],
            [
             1,
             "#f0f921"
            ]
           ]
          },
          "colorway": [
           "#636efa",
           "#EF553B",
           "#00cc96",
           "#ab63fa",
           "#FFA15A",
           "#19d3f3",
           "#FF6692",
           "#B6E880",
           "#FF97FF",
           "#FECB52"
          ],
          "font": {
           "color": "#2a3f5f"
          },
          "geo": {
           "bgcolor": "white",
           "lakecolor": "white",
           "landcolor": "#E5ECF6",
           "showlakes": true,
           "showland": true,
           "subunitcolor": "white"
          },
          "hoverlabel": {
           "align": "left"
          },
          "hovermode": "closest",
          "mapbox": {
           "style": "light"
          },
          "paper_bgcolor": "white",
          "plot_bgcolor": "#E5ECF6",
          "polar": {
           "angularaxis": {
            "gridcolor": "white",
            "linecolor": "white",
            "ticks": ""
           },
           "bgcolor": "#E5ECF6",
           "radialaxis": {
            "gridcolor": "white",
            "linecolor": "white",
            "ticks": ""
           }
          },
          "scene": {
           "xaxis": {
            "backgroundcolor": "#E5ECF6",
            "gridcolor": "white",
            "gridwidth": 2,
            "linecolor": "white",
            "showbackground": true,
            "ticks": "",
            "zerolinecolor": "white"
           },
           "yaxis": {
            "backgroundcolor": "#E5ECF6",
            "gridcolor": "white",
            "gridwidth": 2,
            "linecolor": "white",
            "showbackground": true,
            "ticks": "",
            "zerolinecolor": "white"
           },
           "zaxis": {
            "backgroundcolor": "#E5ECF6",
            "gridcolor": "white",
            "gridwidth": 2,
            "linecolor": "white",
            "showbackground": true,
            "ticks": "",
            "zerolinecolor": "white"
           }
          },
          "shapedefaults": {
           "line": {
            "color": "#2a3f5f"
           }
          },
          "ternary": {
           "aaxis": {
            "gridcolor": "white",
            "linecolor": "white",
            "ticks": ""
           },
           "baxis": {
            "gridcolor": "white",
            "linecolor": "white",
            "ticks": ""
           },
           "bgcolor": "#E5ECF6",
           "caxis": {
            "gridcolor": "white",
            "linecolor": "white",
            "ticks": ""
           }
          },
          "title": {
           "x": 0.05
          },
          "xaxis": {
           "automargin": true,
           "gridcolor": "white",
           "linecolor": "white",
           "ticks": "",
           "title": {
            "standoff": 15
           },
           "zerolinecolor": "white",
           "zerolinewidth": 2
          },
          "yaxis": {
           "automargin": true,
           "gridcolor": "white",
           "linecolor": "white",
           "ticks": "",
           "title": {
            "standoff": 15
           },
           "zerolinecolor": "white",
           "zerolinewidth": 2
          }
         }
        },
        "title": {
         "text": "Relative Häufigkeiten von 'Temp Werkzeug / degC' (Mittelwert viel größer als Median)"
        },
        "xaxis": {
         "anchor": "y",
         "domain": [
          0,
          1
         ],
         "title": {
          "text": "Temp Werkzeug / degC"
         }
        },
        "yaxis": {
         "anchor": "x",
         "domain": [
          0,
          1
         ],
         "title": {
          "text": "Häufigkeit"
         }
        }
       }
      }
     },
     "metadata": {},
     "output_type": "display_data"
    }
   ],
   "source": [
    "# Das zweite Diagramm von gesuchten Merkmalen\n",
    "plots[1]"
   ]
  },
  {
   "cell_type": "code",
   "execution_count": 141,
   "id": "dc4d44e4",
   "metadata": {},
   "outputs": [
    {
     "data": {
      "application/vnd.plotly.v1+json": {
       "config": {
        "plotlyServerURL": "https://plot.ly"
       },
       "data": [
        {
         "bingroup": "x",
         "hovertemplate": "variable=count<br>value=%{x}<br>count=%{y}<extra></extra>",
         "legendgroup": "count",
         "marker": {
          "color": "#636efa",
          "pattern": {
           "shape": ""
          }
         },
         "name": "count",
         "orientation": "v",
         "showlegend": true,
         "type": "histogram",
         "x": {
          "bdata": "HAG+AJ0AkABwAEcAKgA=",
          "dtype": "i2"
         },
         "xaxis": "x",
         "yaxis": "y"
        }
       ],
       "layout": {
        "barmode": "relative",
        "legend": {
         "title": {
          "text": "variable"
         },
         "tracegroupgap": 0
        },
        "template": {
         "data": {
          "bar": [
           {
            "error_x": {
             "color": "#2a3f5f"
            },
            "error_y": {
             "color": "#2a3f5f"
            },
            "marker": {
             "line": {
              "color": "#E5ECF6",
              "width": 0.5
             },
             "pattern": {
              "fillmode": "overlay",
              "size": 10,
              "solidity": 0.2
             }
            },
            "type": "bar"
           }
          ],
          "barpolar": [
           {
            "marker": {
             "line": {
              "color": "#E5ECF6",
              "width": 0.5
             },
             "pattern": {
              "fillmode": "overlay",
              "size": 10,
              "solidity": 0.2
             }
            },
            "type": "barpolar"
           }
          ],
          "carpet": [
           {
            "aaxis": {
             "endlinecolor": "#2a3f5f",
             "gridcolor": "white",
             "linecolor": "white",
             "minorgridcolor": "white",
             "startlinecolor": "#2a3f5f"
            },
            "baxis": {
             "endlinecolor": "#2a3f5f",
             "gridcolor": "white",
             "linecolor": "white",
             "minorgridcolor": "white",
             "startlinecolor": "#2a3f5f"
            },
            "type": "carpet"
           }
          ],
          "choropleth": [
           {
            "colorbar": {
             "outlinewidth": 0,
             "ticks": ""
            },
            "type": "choropleth"
           }
          ],
          "contour": [
           {
            "colorbar": {
             "outlinewidth": 0,
             "ticks": ""
            },
            "colorscale": [
             [
              0,
              "#0d0887"
             ],
             [
              0.1111111111111111,
              "#46039f"
             ],
             [
              0.2222222222222222,
              "#7201a8"
             ],
             [
              0.3333333333333333,
              "#9c179e"
             ],
             [
              0.4444444444444444,
              "#bd3786"
             ],
             [
              0.5555555555555556,
              "#d8576b"
             ],
             [
              0.6666666666666666,
              "#ed7953"
             ],
             [
              0.7777777777777778,
              "#fb9f3a"
             ],
             [
              0.8888888888888888,
              "#fdca26"
             ],
             [
              1,
              "#f0f921"
             ]
            ],
            "type": "contour"
           }
          ],
          "contourcarpet": [
           {
            "colorbar": {
             "outlinewidth": 0,
             "ticks": ""
            },
            "type": "contourcarpet"
           }
          ],
          "heatmap": [
           {
            "colorbar": {
             "outlinewidth": 0,
             "ticks": ""
            },
            "colorscale": [
             [
              0,
              "#0d0887"
             ],
             [
              0.1111111111111111,
              "#46039f"
             ],
             [
              0.2222222222222222,
              "#7201a8"
             ],
             [
              0.3333333333333333,
              "#9c179e"
             ],
             [
              0.4444444444444444,
              "#bd3786"
             ],
             [
              0.5555555555555556,
              "#d8576b"
             ],
             [
              0.6666666666666666,
              "#ed7953"
             ],
             [
              0.7777777777777778,
              "#fb9f3a"
             ],
             [
              0.8888888888888888,
              "#fdca26"
             ],
             [
              1,
              "#f0f921"
             ]
            ],
            "type": "heatmap"
           }
          ],
          "histogram": [
           {
            "marker": {
             "pattern": {
              "fillmode": "overlay",
              "size": 10,
              "solidity": 0.2
             }
            },
            "type": "histogram"
           }
          ],
          "histogram2d": [
           {
            "colorbar": {
             "outlinewidth": 0,
             "ticks": ""
            },
            "colorscale": [
             [
              0,
              "#0d0887"
             ],
             [
              0.1111111111111111,
              "#46039f"
             ],
             [
              0.2222222222222222,
              "#7201a8"
             ],
             [
              0.3333333333333333,
              "#9c179e"
             ],
             [
              0.4444444444444444,
              "#bd3786"
             ],
             [
              0.5555555555555556,
              "#d8576b"
             ],
             [
              0.6666666666666666,
              "#ed7953"
             ],
             [
              0.7777777777777778,
              "#fb9f3a"
             ],
             [
              0.8888888888888888,
              "#fdca26"
             ],
             [
              1,
              "#f0f921"
             ]
            ],
            "type": "histogram2d"
           }
          ],
          "histogram2dcontour": [
           {
            "colorbar": {
             "outlinewidth": 0,
             "ticks": ""
            },
            "colorscale": [
             [
              0,
              "#0d0887"
             ],
             [
              0.1111111111111111,
              "#46039f"
             ],
             [
              0.2222222222222222,
              "#7201a8"
             ],
             [
              0.3333333333333333,
              "#9c179e"
             ],
             [
              0.4444444444444444,
              "#bd3786"
             ],
             [
              0.5555555555555556,
              "#d8576b"
             ],
             [
              0.6666666666666666,
              "#ed7953"
             ],
             [
              0.7777777777777778,
              "#fb9f3a"
             ],
             [
              0.8888888888888888,
              "#fdca26"
             ],
             [
              1,
              "#f0f921"
             ]
            ],
            "type": "histogram2dcontour"
           }
          ],
          "mesh3d": [
           {
            "colorbar": {
             "outlinewidth": 0,
             "ticks": ""
            },
            "type": "mesh3d"
           }
          ],
          "parcoords": [
           {
            "line": {
             "colorbar": {
              "outlinewidth": 0,
              "ticks": ""
             }
            },
            "type": "parcoords"
           }
          ],
          "pie": [
           {
            "automargin": true,
            "type": "pie"
           }
          ],
          "scatter": [
           {
            "fillpattern": {
             "fillmode": "overlay",
             "size": 10,
             "solidity": 0.2
            },
            "type": "scatter"
           }
          ],
          "scatter3d": [
           {
            "line": {
             "colorbar": {
              "outlinewidth": 0,
              "ticks": ""
             }
            },
            "marker": {
             "colorbar": {
              "outlinewidth": 0,
              "ticks": ""
             }
            },
            "type": "scatter3d"
           }
          ],
          "scattercarpet": [
           {
            "marker": {
             "colorbar": {
              "outlinewidth": 0,
              "ticks": ""
             }
            },
            "type": "scattercarpet"
           }
          ],
          "scattergeo": [
           {
            "marker": {
             "colorbar": {
              "outlinewidth": 0,
              "ticks": ""
             }
            },
            "type": "scattergeo"
           }
          ],
          "scattergl": [
           {
            "marker": {
             "colorbar": {
              "outlinewidth": 0,
              "ticks": ""
             }
            },
            "type": "scattergl"
           }
          ],
          "scattermap": [
           {
            "marker": {
             "colorbar": {
              "outlinewidth": 0,
              "ticks": ""
             }
            },
            "type": "scattermap"
           }
          ],
          "scattermapbox": [
           {
            "marker": {
             "colorbar": {
              "outlinewidth": 0,
              "ticks": ""
             }
            },
            "type": "scattermapbox"
           }
          ],
          "scatterpolar": [
           {
            "marker": {
             "colorbar": {
              "outlinewidth": 0,
              "ticks": ""
             }
            },
            "type": "scatterpolar"
           }
          ],
          "scatterpolargl": [
           {
            "marker": {
             "colorbar": {
              "outlinewidth": 0,
              "ticks": ""
             }
            },
            "type": "scatterpolargl"
           }
          ],
          "scatterternary": [
           {
            "marker": {
             "colorbar": {
              "outlinewidth": 0,
              "ticks": ""
             }
            },
            "type": "scatterternary"
           }
          ],
          "surface": [
           {
            "colorbar": {
             "outlinewidth": 0,
             "ticks": ""
            },
            "colorscale": [
             [
              0,
              "#0d0887"
             ],
             [
              0.1111111111111111,
              "#46039f"
             ],
             [
              0.2222222222222222,
              "#7201a8"
             ],
             [
              0.3333333333333333,
              "#9c179e"
             ],
             [
              0.4444444444444444,
              "#bd3786"
             ],
             [
              0.5555555555555556,
              "#d8576b"
             ],
             [
              0.6666666666666666,
              "#ed7953"
             ],
             [
              0.7777777777777778,
              "#fb9f3a"
             ],
             [
              0.8888888888888888,
              "#fdca26"
             ],
             [
              1,
              "#f0f921"
             ]
            ],
            "type": "surface"
           }
          ],
          "table": [
           {
            "cells": {
             "fill": {
              "color": "#EBF0F8"
             },
             "line": {
              "color": "white"
             }
            },
            "header": {
             "fill": {
              "color": "#C8D4E3"
             },
             "line": {
              "color": "white"
             }
            },
            "type": "table"
           }
          ]
         },
         "layout": {
          "annotationdefaults": {
           "arrowcolor": "#2a3f5f",
           "arrowhead": 0,
           "arrowwidth": 1
          },
          "autotypenumbers": "strict",
          "coloraxis": {
           "colorbar": {
            "outlinewidth": 0,
            "ticks": ""
           }
          },
          "colorscale": {
           "diverging": [
            [
             0,
             "#8e0152"
            ],
            [
             0.1,
             "#c51b7d"
            ],
            [
             0.2,
             "#de77ae"
            ],
            [
             0.3,
             "#f1b6da"
            ],
            [
             0.4,
             "#fde0ef"
            ],
            [
             0.5,
             "#f7f7f7"
            ],
            [
             0.6,
             "#e6f5d0"
            ],
            [
             0.7,
             "#b8e186"
            ],
            [
             0.8,
             "#7fbc41"
            ],
            [
             0.9,
             "#4d9221"
            ],
            [
             1,
             "#276419"
            ]
           ],
           "sequential": [
            [
             0,
             "#0d0887"
            ],
            [
             0.1111111111111111,
             "#46039f"
            ],
            [
             0.2222222222222222,
             "#7201a8"
            ],
            [
             0.3333333333333333,
             "#9c179e"
            ],
            [
             0.4444444444444444,
             "#bd3786"
            ],
            [
             0.5555555555555556,
             "#d8576b"
            ],
            [
             0.6666666666666666,
             "#ed7953"
            ],
            [
             0.7777777777777778,
             "#fb9f3a"
            ],
            [
             0.8888888888888888,
             "#fdca26"
            ],
            [
             1,
             "#f0f921"
            ]
           ],
           "sequentialminus": [
            [
             0,
             "#0d0887"
            ],
            [
             0.1111111111111111,
             "#46039f"
            ],
            [
             0.2222222222222222,
             "#7201a8"
            ],
            [
             0.3333333333333333,
             "#9c179e"
            ],
            [
             0.4444444444444444,
             "#bd3786"
            ],
            [
             0.5555555555555556,
             "#d8576b"
            ],
            [
             0.6666666666666666,
             "#ed7953"
            ],
            [
             0.7777777777777778,
             "#fb9f3a"
            ],
            [
             0.8888888888888888,
             "#fdca26"
            ],
            [
             1,
             "#f0f921"
            ]
           ]
          },
          "colorway": [
           "#636efa",
           "#EF553B",
           "#00cc96",
           "#ab63fa",
           "#FFA15A",
           "#19d3f3",
           "#FF6692",
           "#B6E880",
           "#FF97FF",
           "#FECB52"
          ],
          "font": {
           "color": "#2a3f5f"
          },
          "geo": {
           "bgcolor": "white",
           "lakecolor": "white",
           "landcolor": "#E5ECF6",
           "showlakes": true,
           "showland": true,
           "subunitcolor": "white"
          },
          "hoverlabel": {
           "align": "left"
          },
          "hovermode": "closest",
          "mapbox": {
           "style": "light"
          },
          "paper_bgcolor": "white",
          "plot_bgcolor": "#E5ECF6",
          "polar": {
           "angularaxis": {
            "gridcolor": "white",
            "linecolor": "white",
            "ticks": ""
           },
           "bgcolor": "#E5ECF6",
           "radialaxis": {
            "gridcolor": "white",
            "linecolor": "white",
            "ticks": ""
           }
          },
          "scene": {
           "xaxis": {
            "backgroundcolor": "#E5ECF6",
            "gridcolor": "white",
            "gridwidth": 2,
            "linecolor": "white",
            "showbackground": true,
            "ticks": "",
            "zerolinecolor": "white"
           },
           "yaxis": {
            "backgroundcolor": "#E5ECF6",
            "gridcolor": "white",
            "gridwidth": 2,
            "linecolor": "white",
            "showbackground": true,
            "ticks": "",
            "zerolinecolor": "white"
           },
           "zaxis": {
            "backgroundcolor": "#E5ECF6",
            "gridcolor": "white",
            "gridwidth": 2,
            "linecolor": "white",
            "showbackground": true,
            "ticks": "",
            "zerolinecolor": "white"
           }
          },
          "shapedefaults": {
           "line": {
            "color": "#2a3f5f"
           }
          },
          "ternary": {
           "aaxis": {
            "gridcolor": "white",
            "linecolor": "white",
            "ticks": ""
           },
           "baxis": {
            "gridcolor": "white",
            "linecolor": "white",
            "ticks": ""
           },
           "bgcolor": "#E5ECF6",
           "caxis": {
            "gridcolor": "white",
            "linecolor": "white",
            "ticks": ""
           }
          },
          "title": {
           "x": 0.05
          },
          "xaxis": {
           "automargin": true,
           "gridcolor": "white",
           "linecolor": "white",
           "ticks": "",
           "title": {
            "standoff": 15
           },
           "zerolinecolor": "white",
           "zerolinewidth": 2
          },
          "yaxis": {
           "automargin": true,
           "gridcolor": "white",
           "linecolor": "white",
           "ticks": "",
           "title": {
            "standoff": 15
           },
           "zerolinecolor": "white",
           "zerolinewidth": 2
          }
         }
        },
        "title": {
         "text": "Relative Häufigkeiten von 'Bearbeitungszeit / s' (Mittelwert wenig größer als Median)"
        },
        "xaxis": {
         "anchor": "y",
         "domain": [
          0,
          1
         ],
         "title": {
          "text": "Bearbeitungszeit / s"
         }
        },
        "yaxis": {
         "anchor": "x",
         "domain": [
          0,
          1
         ],
         "title": {
          "text": "Häufigkeit"
         }
        }
       }
      }
     },
     "metadata": {},
     "output_type": "display_data"
    }
   ],
   "source": [
    "# Zur Überprüfung noch ein Diagram mit gesuchtem Unterschied kleiner als 1\n",
    "feature = \"Bearbeitungszeit / s\"\n",
    "df[feature].value_counts().plot(kind=\"histogram\", title=f\"Relative Häufigkeiten von '{feature}' (Mittelwert wenig größer als Median)\").update_layout(xaxis_title=feature, yaxis_title=\"Häufigkeit\")"
   ]
  },
  {
   "cell_type": "markdown",
   "id": "1932789a",
   "metadata": {},
   "source": [
    "## Korrelationen untersuchen"
   ]
  },
  {
   "cell_type": "markdown",
   "id": "97d3c87f",
   "metadata": {},
   "source": [
    "Wir hoffen, dass wir Sie bereits von den Fähigkeiten von pandas und Plotly für die explorative Datenanalyse überzeugen konnten. Sie haben gesehen, dass es für die Darstellung eines Säulen- oder Balkendiagramms oder eines Histogramms jeweils nur einer einzigen Zeile Code bedarf; auch Lage- und Streuungsmaße können mit nur einer einzigen Zeile Code ausgegeben werden (bzw. drei Zeilen Code, wenn man auch unsere Implementierung für ordinale Merkmale verwenden möchte). Richtig interessant wird es oft aber erst, wenn wir nach weiteren Mustern und Zusammenhängen in den Daten suchen. Dazu müssen wir uns mehr als nur ein Merkmal zur gleichen Zeit anschauen. Wir gehen im Folgenden davon aus, dass wir nach unserer explorativen Analyse noch eine gezielte Analyse zu interessanten Muster und Zusammenhängen planen. Um Aussagen über unsere Stichprobe hinaus treffen zu können, müssen wir unsere Erkenntnisse später auf einem unabhängigen Datensatz testen können und daher an dieser Stelle unsere Daten in einen Explorations- und einen Testdatensatz aufteilen. Wir nutzen dazu eine einfache Randomisierung. Wir wählen also mit der ```sample()```-Funktion einen bestimmten Bruchteil unserer Daten zufällig zum Explorieren aus, zum Beispiel 75% bzw. ```0.75```. Um eine reproduzierbare Aufteilung zu erhalten, fixieren wir zudem den [Startwert des Zufallszahlengenerators](https://de.wikipedia.org/wiki/Seed_key), zum Beispiel auf ```42```:"
   ]
  },
  {
   "cell_type": "code",
   "execution_count": 142,
   "id": "85d45340",
   "metadata": {},
   "outputs": [
    {
     "data": {
      "text/html": [
       "<div>\n",
       "<style scoped>\n",
       "    .dataframe tbody tr th:only-of-type {\n",
       "        vertical-align: middle;\n",
       "    }\n",
       "\n",
       "    .dataframe tbody tr th {\n",
       "        vertical-align: top;\n",
       "    }\n",
       "\n",
       "    .dataframe thead th {\n",
       "        text-align: right;\n",
       "    }\n",
       "</style>\n",
       "<table border=\"1\" class=\"dataframe\">\n",
       "  <thead>\n",
       "    <tr style=\"text-align: right;\">\n",
       "      <th></th>\n",
       "      <th>Maschine</th>\n",
       "      <th>Mode</th>\n",
       "      <th>Produkt</th>\n",
       "      <th>Strom / A</th>\n",
       "      <th>Drehmoment / Nm</th>\n",
       "      <th>Drehzahl / 1/min</th>\n",
       "      <th>Temp Umgebung / degC</th>\n",
       "      <th>Temp Umrichter / degC</th>\n",
       "      <th>Temp Werkzeug / degC</th>\n",
       "      <th>Bearbeitungszeit / s</th>\n",
       "    </tr>\n",
       "  </thead>\n",
       "  <tbody>\n",
       "    <tr>\n",
       "      <th>521</th>\n",
       "      <td>A</td>\n",
       "      <td>1.0</td>\n",
       "      <td>Y</td>\n",
       "      <td>19.328</td>\n",
       "      <td>43.92</td>\n",
       "      <td>1461</td>\n",
       "      <td>22.6</td>\n",
       "      <td>23.5</td>\n",
       "      <td>88.6</td>\n",
       "      <td>25.3</td>\n",
       "    </tr>\n",
       "    <tr>\n",
       "      <th>737</th>\n",
       "      <td>C</td>\n",
       "      <td>1.0</td>\n",
       "      <td>Y</td>\n",
       "      <td>21.265</td>\n",
       "      <td>43.37</td>\n",
       "      <td>1459</td>\n",
       "      <td>19.8</td>\n",
       "      <td>23.0</td>\n",
       "      <td>86.7</td>\n",
       "      <td>25.3</td>\n",
       "    </tr>\n",
       "    <tr>\n",
       "      <th>740</th>\n",
       "      <td>A</td>\n",
       "      <td>1.0</td>\n",
       "      <td>Y</td>\n",
       "      <td>20.198</td>\n",
       "      <td>45.96</td>\n",
       "      <td>1459</td>\n",
       "      <td>19.2</td>\n",
       "      <td>23.2</td>\n",
       "      <td>90.9</td>\n",
       "      <td>25.3</td>\n",
       "    </tr>\n",
       "    <tr>\n",
       "      <th>660</th>\n",
       "      <td>C</td>\n",
       "      <td>3.0</td>\n",
       "      <td>X</td>\n",
       "      <td>25.700</td>\n",
       "      <td>52.28</td>\n",
       "      <td>1462</td>\n",
       "      <td>22.8</td>\n",
       "      <td>25.5</td>\n",
       "      <td>102.4</td>\n",
       "      <td>19.9</td>\n",
       "    </tr>\n",
       "    <tr>\n",
       "      <th>411</th>\n",
       "      <td>C</td>\n",
       "      <td>1.0</td>\n",
       "      <td>Y</td>\n",
       "      <td>21.949</td>\n",
       "      <td>44.61</td>\n",
       "      <td>1464</td>\n",
       "      <td>18.9</td>\n",
       "      <td>22.5</td>\n",
       "      <td>87.9</td>\n",
       "      <td>25.3</td>\n",
       "    </tr>\n",
       "    <tr>\n",
       "      <th>...</th>\n",
       "      <td>...</td>\n",
       "      <td>...</td>\n",
       "      <td>...</td>\n",
       "      <td>...</td>\n",
       "      <td>...</td>\n",
       "      <td>...</td>\n",
       "      <td>...</td>\n",
       "      <td>...</td>\n",
       "      <td>...</td>\n",
       "      <td>...</td>\n",
       "    </tr>\n",
       "    <tr>\n",
       "      <th>641</th>\n",
       "      <td>A</td>\n",
       "      <td>2.0</td>\n",
       "      <td>Y</td>\n",
       "      <td>22.299</td>\n",
       "      <td>50.61</td>\n",
       "      <td>1463</td>\n",
       "      <td>19.8</td>\n",
       "      <td>22.6</td>\n",
       "      <td>97.6</td>\n",
       "      <td>23.8</td>\n",
       "    </tr>\n",
       "    <tr>\n",
       "      <th>915</th>\n",
       "      <td>C</td>\n",
       "      <td>2.0</td>\n",
       "      <td>X</td>\n",
       "      <td>22.801</td>\n",
       "      <td>46.49</td>\n",
       "      <td>1459</td>\n",
       "      <td>20.6</td>\n",
       "      <td>23.2</td>\n",
       "      <td>91.9</td>\n",
       "      <td>21.4</td>\n",
       "    </tr>\n",
       "    <tr>\n",
       "      <th>752</th>\n",
       "      <td>C</td>\n",
       "      <td>3.0</td>\n",
       "      <td>X</td>\n",
       "      <td>26.118</td>\n",
       "      <td>53.16</td>\n",
       "      <td>1462</td>\n",
       "      <td>20.4</td>\n",
       "      <td>22.7</td>\n",
       "      <td>101.1</td>\n",
       "      <td>19.9</td>\n",
       "    </tr>\n",
       "    <tr>\n",
       "      <th>806</th>\n",
       "      <td>A</td>\n",
       "      <td>1.0</td>\n",
       "      <td>Y</td>\n",
       "      <td>20.283</td>\n",
       "      <td>46.11</td>\n",
       "      <td>1461</td>\n",
       "      <td>19.3</td>\n",
       "      <td>23.3</td>\n",
       "      <td>91.0</td>\n",
       "      <td>25.3</td>\n",
       "    </tr>\n",
       "    <tr>\n",
       "      <th>919</th>\n",
       "      <td>B</td>\n",
       "      <td>2.0</td>\n",
       "      <td>X</td>\n",
       "      <td>20.514</td>\n",
       "      <td>45.86</td>\n",
       "      <td>1461</td>\n",
       "      <td>21.5</td>\n",
       "      <td>24.2</td>\n",
       "      <td>91.9</td>\n",
       "      <td>22.4</td>\n",
       "    </tr>\n",
       "  </tbody>\n",
       "</table>\n",
       "<p>750 rows × 10 columns</p>\n",
       "</div>"
      ],
      "text/plain": [
       "    Maschine Mode Produkt  Strom / A  Drehmoment / Nm  Drehzahl / 1/min  \\\n",
       "521        A  1.0       Y     19.328            43.92              1461   \n",
       "737        C  1.0       Y     21.265            43.37              1459   \n",
       "740        A  1.0       Y     20.198            45.96              1459   \n",
       "660        C  3.0       X     25.700            52.28              1462   \n",
       "411        C  1.0       Y     21.949            44.61              1464   \n",
       "..       ...  ...     ...        ...              ...               ...   \n",
       "641        A  2.0       Y     22.299            50.61              1463   \n",
       "915        C  2.0       X     22.801            46.49              1459   \n",
       "752        C  3.0       X     26.118            53.16              1462   \n",
       "806        A  1.0       Y     20.283            46.11              1461   \n",
       "919        B  2.0       X     20.514            45.86              1461   \n",
       "\n",
       "     Temp Umgebung / degC  Temp Umrichter / degC  Temp Werkzeug / degC  \\\n",
       "521                  22.6                   23.5                  88.6   \n",
       "737                  19.8                   23.0                  86.7   \n",
       "740                  19.2                   23.2                  90.9   \n",
       "660                  22.8                   25.5                 102.4   \n",
       "411                  18.9                   22.5                  87.9   \n",
       "..                    ...                    ...                   ...   \n",
       "641                  19.8                   22.6                  97.6   \n",
       "915                  20.6                   23.2                  91.9   \n",
       "752                  20.4                   22.7                 101.1   \n",
       "806                  19.3                   23.3                  91.0   \n",
       "919                  21.5                   24.2                  91.9   \n",
       "\n",
       "     Bearbeitungszeit / s  \n",
       "521                  25.3  \n",
       "737                  25.3  \n",
       "740                  25.3  \n",
       "660                  19.9  \n",
       "411                  25.3  \n",
       "..                    ...  \n",
       "641                  23.8  \n",
       "915                  21.4  \n",
       "752                  19.9  \n",
       "806                  25.3  \n",
       "919                  22.4  \n",
       "\n",
       "[750 rows x 10 columns]"
      ]
     },
     "execution_count": 142,
     "metadata": {},
     "output_type": "execute_result"
    }
   ],
   "source": [
    "import pandas as pd\n",
    "\n",
    "df = pd.read_csv(\"data/machine_data.csv\", delimiter=\";\", decimal=\",\")\n",
    "df[\"Maschine\"] = pd.Categorical(df[\"Maschine\"])\n",
    "df[\"Produkt\"] = pd.Categorical(df[\"Produkt\"])\n",
    "df[\"Mode\"] = pd.Categorical(df[\"Mode\"], ordered=True)\n",
    "\n",
    "exploration_data = df.sample(frac=0.75, random_state=42)\n",
    "exploration_data"
   ]
  },
  {
   "cell_type": "markdown",
   "id": "34488870",
   "metadata": {},
   "source": [
    "### Zusammenhang von Merkmalen\n",
    "\n",
    "Nachdem wir nun einen Explorationsdatensatz erstellt haben, können wir uns den Zusammenhang von Merkmalen für diesen Datensatz anschauen. Hierzu erstellen wir ein [Streudiagramm](https://plotly.github.io/plotly.py-docs/generated/plotly.express.scatter.html), zum Beispiel für die Stromaufnahme in Ampere und das Drehmoment in Newtonmeter:"
   ]
  },
  {
   "cell_type": "code",
   "execution_count": 143,
   "id": "93e46ad5",
   "metadata": {},
   "outputs": [
    {
     "data": {
      "application/vnd.plotly.v1+json": {
       "config": {
        "plotlyServerURL": "https://plot.ly"
       },
       "data": [
        {
         "hovertemplate": "Strom / A=%{x}<br>Drehmoment / Nm=%{y}<extra></extra>",
         "legendgroup": "",
         "marker": {
          "color": "#636efa",
          "symbol": "circle"
         },
         "mode": "markers",
         "name": "",
         "orientation": "v",
         "showlegend": false,
         "type": "scatter",
         "x": {
          "bdata": "hxbZzvdTM0CkcD0K10M1QKabxCCwMjRAMzMzMzOzOUBt5/up8fI1QG8Sg8DKQTdAHVpkO9+vNUB3vp8aL507QB+F61G43jRAx0s3iUHANkB3vp8aL70zQC2yne+nxjZAGQRWDi2yNkCR7Xw/NV40QKAaL90kpjRATmIQWDkUNECDwMqhRXY0QMuhRbbzfTNAhxbZzvezM0Dy0k1iENg5QKjGSzeJwTNAXI/C9SjcMkC+nxov3YQ0QE5iEFg51DNARrbz/dR4OUAtsp3vp2Y3QFyPwvUoXDpAPQrXo3CdM0DXo3A9Cpc5QDeJQWDlUDlAkxgEVg4NNUAbL90kBiE9QA4tsp3vRzdAukkMAitHPEBCYOXQIrs2QJHtfD81PjVAmG4Sg8CqNkAxCKwcWqQ0QM/3U+OlOzdAhetRuB6FNkDZzvdT40U4QB1aZDvfjzZA2c73U+MFN0A9CtejcB01QG3n+6nxEjRAg8DKoUV2NECsHFpkOx86QNv5fmq8FDRA2/l+arxUNEC6SQwCK+czQHsUrkfhOjNAHVpkO99vNkAOLbKd7wc1QBSuR+F69DNACKwcWmRbNUBiEFg5tOg0QIcW2c73EzZARrbz/dTYM0CPwvUoXA83QOkmMQisPDRAIbByaJGNNkCuR+F6FI4zQN0kBoGVgzRAdZMYBFZuNUAIrBxaZJs2QAaBlUOLLDNAd76fGi8dNUDP91PjpdszQJZDi2zn2zZA2c73U+OFNkBYObTIdj42QPyp8dJNwjlA9P3UeOnmOEDByqFFtnM1QCUGgZVDyzNAVOOlm8SgNEB/arx0kzgzQJMYBFYO7TtAPQrXo3CdN0CWQ4ts59s0QLbz/dR4iTVA8tJNYhA4NUC+nxov3UQ1QNejcD0K1zVARIts5/vJPECamZmZmdk5QD81XrpJbDxARrbz/dRYN0Db+X5qvNQ2QMl2vp8aLzxAnu+nxks3OUCuR+F6FM4yQLTIdr6fGjVAx0s3iUGgN0DFILByaLE5QHE9Ctej8DRAnMQgsHJoNED6fmq8dHMzQH0/NV66CTlAwcqhRbZzNEAtsp3vpyY1QKRwPQrXwzRAyXa+nxpvNkD+1HjpJtE2QO58PzVeujlANV66SQxCOkDl0CLb+R43QGiR7Xw/tTRAi2zn+6lRNED2KFyPwhU8QJqZmZmZ+TtAw/UoXI/iO0AnMQisHBo0QC/dJAaBVTpA0SLb+X7KM0ApXI/C9WgzQMuhRbbzXTVAkxgEVg4tNkBt5/up8dI1QBBYObTItjJAH4XrUbi+OUAxCKwcWqQzQPT91HjpZjNASgwCK4e2NkD4U+Olm8Q0QNejcD0KNzZAObTIdr6fN0AEVg4tsv00QMuhRbbzPTRA9ihcj8IVOUAv3SQGgVU6QHe+nxovnTZAAAAAAAAA+H9GtvP91Fg2QIts5/up8TdAoBov3SRmNECmm8QgsFI3QOkmMQisHDVAexSuR+G6O0Dy0k1iENg0QIXrUbgexTRAhetRuB4FNUCuR+F6FO4zQIPAyqFFljNAyXa+nxqvNEBSuB6F65E0QArXo3A96jRAFK5H4XpUNkAlBoGVQws6QDeJQWDlcDpA4XoUrkcBOkBeukkMAus1QIts5/upMTRAfT81XrrpNUDy0k1iELg2QFyPwvUo/DlAL90kBoE1OkB1kxgEVk43QG3n+6nxsjpAGy/dJAZhM0D0/dR46WY4QPp+arx0UzZAH4XrUbjeNUB56SYxCGw5QPT91HjpxjZAYhBYObQoN0D4U+Olm6Q6QH0/NV66aTRA/Knx0k3iNUD+1HjpJvE4QBsv3SQGITVAnMQgsHIIOkCgGi/dJMY0QAaBlUOLjDlADi2yne9nNkBeukkMAgs5QLKd76fG6zRAQmDl0CLbM0BiEFg5tIg2QP7UeOkmMTdA16NwPQqXOUAlBoGVQws6QDm0yHa+vzZArBxaZDufNkBxPQrXoxA2QL6fGi/dZDpAZDvfT43XOUDFILByaHE0QFCNl24S4zVAH4XrUbgeM0D8qfHSTUI7QOOlm8QgUDxA2/l+arzUOUAIrBxaZDs0QNEi2/l+KjpAzczMzMzsNkCe76fGS1czQBBYObTItjpA46WbxCDwO0BGtvP91Bg6QHWTGARWrjRAj8L1KFzvNEBoke18P1U3QHWTGARWLjdA30+Nl25yM0CNl24Sg+A1QAAAAAAA4DZA/Knx0k3iM0A/NV66SUw2QOf7qfHSjTdATDeJQWCFOkD0/dR46YY5QKJFtvP9lDpAJzEIrBzaOUCF61G4HuU5QLByaJHtnDRAnu+nxkuXM0CiRbbz/XQzQCcxCKwcujZATmIQWDnUOEDJdr6fGq82QKjGSzeJgTlAF9nO91NjNkBoke18PzU0QKjGSzeJITNA2/l+aryUOUAX2c73U4M3QAAAAAAA4DVA9P3UeOkGN0B7FK5H4fo5QEoMAiuH9jhAgZVDi2wnN0Dl0CLb+V40QNnO91Pj5TNAH4XrUbg+NUAdWmQ73881QMdLN4lBoDNAwcqhRbaTM0DByqFFtlM4QM/3U+OluzNAhetRuB4lPECcxCCwckgzQEJg5dAiWzNAaJHtfD9VN0AK16NwPWo5QCuHFtnO1zZAEoPAyqHFM0Coxks3iYE1QPT91Hjp5jNAy6FFtvMdNkDNzMzMzIw2QLTIdr6fGjtAF9nO91PjM0Dl0CLb+b42QEjhehSuRzVASOF6FK6HPUCHFtnO93M2QARWDi2yHTVAH4XrUbgeN0CTGARWDm01QN0kBoGVAzlAaJHtfD81OkD6fmq8dDM7QMUgsHJocTZAK4cW2c63NkD2KFyPwpU1QD81XrpJzDlAF9nO91NjOUDNzMzMzIw1QDvfT42XDjVA2c73U+PFNEDZzvdT42U0QIcW2c73Uz1AppvEILDyNUApXI/C9cg2QFK4HoXrMTpA0SLb+X7KNEC8dJMYBFY0QGZmZmZmBjdAlkOLbOcbNEBU46WbxGA1QKJFtvP91DdAbef7qfFSPECgGi/dJIY6QNnO91PjhTNAN4lBYOVwNED+1HjpJvEzQL6fGi/dpDNADi2yne+HNEB/arx0kzgyQPCnxks36TVA/Knx0k3iNECDwMqhRVY1QOOlm8QgEDpAHVpkO98vNUBzaJHtfJ8zQEoMAiuH9jZA001iEFhZNkBMN4lBYAU3QO58PzVeejlAsHJoke1cNkAEVg4tsr04QLKd76fGSzRAlkOLbOdbN0C8dJMYBDY2QIXrUbgeZTxAF9nO91NjOUBvEoPAyqE2QFTjpZvEwDVA9ihcj8I1NEDTTWIQWJk2QKabxCCwkjhAiUFg5dCiN0AX2c73UyM2QJhuEoPAKjpAHVpkO9/vOUDVeOkmMYg0QGQ730+N1zZAy6FFtvO9O0AMAiuHFvk1QAAAAAAAADNASOF6FK5nNEArhxbZznc5QIts5/upcTZACtejcD2KOUDFILByaHE2QB+F61G4PjNAK4cW2c73NUDZzvdT44UzQG8Sg8DKITVA/Knx0k0CNEAzMzMzMzM1QEw3iUFgBTRAI9v5fmp8NEDVeOkmMcg2QBsv3SQGYTZAarx0kxiENECyne+nxos5QOXQItv5njVAKVyPwvUoNEA5tMh2vn84QDEIrBxa5DlAK4cW2c73OUBeukkMAos0QESLbOf7iTNAL90kBoE1OkBiEFg5tCgzQJhuEoPA6jNANV66SQyiM0D2KFyPwjU3QIPAyqFFtjNAAAAAAAAgNkAUrkfhenQ3QClcj8L1qDhAnMQgsHLoOEArhxbZzjc2QLgehetRuDpAiUFg5dBCOUDRItv5fso2QC2yne+npjNADAIrhxa5NEDdJAaBlYM2QFCNl24SAzZAg8DKoUW2MkDXo3A9Cnc2QAaBlUOLDDpAqvHSTWLQNEDdJAaBlaM6QBfZzvdTgzdA/tR46SZxM0CYbhKDwEo5QFyPwvUovDZA2/l+arx0NEDNzMzMzKw4QPCnxks3yTZARIts5/uJNUDZzvdT42U2QBSuR+F69DNAbef7qfEyNUCBlUOLbCc7QHe+nxov/TlADAIrhxYZM0AzMzMzM9MzQPLSTWIQGDpADi2yne8HNUCDwMqhRZY2QESLbOf7KTVArBxaZDvfOUCF61G4HgU3QCGwcmiRbTdAtMh2vp9aM0AUrkfhepQ2QFYOLbKdjzlADAIrhxa5M0BKDAIrhzY2QB1aZDvfTzpAXI/C9Sh8OUCgGi/dJMYyQFK4HoXr0TRAGy/dJAbhNUCLbOf7qfE5QKrx0k1i8DRAi2zn+6kxN0AGgZVDi0w1QKabxCCw0jRAIbByaJENN0CPwvUoXK8zQFpkO99P7ThAx0s3iUFgN0Dy0k1iELg0QDMzMzMzkzhAsp3vp8aLNUB7FK5H4Zo0QArXo3A9ijlA+FPjpZtENUCyne+nxkszQKRwPQrXgzlA5dAi2/n+OEA1XrpJDAI2QGIQWDm0SDZAw/UoXI9iM0Db+X5qvPQ0QJ7vp8ZLVzZAWmQ730+tNkBcj8L1KJw5QKrx0k1iUDRAtvP91HjJOECiRbbz/fQ7QC/dJAaBFTNAbef7qfGyNkA1XrpJDCI2QKrx0k1isDtAmpmZmZl5OkACK4cW2U4zQO58PzVe2jNAf2q8dJM4OkAlBoGVQ4s3QLgehetReDRAzczMzMwMNEBCYOXQIts0QMuhRbbzPTZAWmQ7308tOkD0/dR46YY7QHWTGARW7jZAO99PjZfuMkC28/3UeAk2QHWTGARWDjtAz/dT46V7NUDTTWIQWHk0QLgehetRODVAnu+nxkvXNEAQWDm0yLYzQJhuEoPAajNAPQrXo3BdNUCJQWDl0II2QHE9CtejkDNAi2zn+6mRNkCe76fGS3c0QMl2vp8azzNAukkMAisnN0Boke18PzU0QC2yne+nZjNAMQisHFqEM0AbL90kBiE5QGiR7Xw/NTZAL90kBoFVNkD6fmq8dDM3QPhT46WbhDVAi2zn+6nxOEBoke18P5U8QL6fGi/dxDlA001iEFhZNkDFILByaJEzQBkEVg4t0jlAvp8aL90kNUD2KFyPwlU6QDeJQWDl8DNAJzEIrBy6OUDHSzeJQQA3QCUGgZVDizlA/tR46SbROUC0yHa+n3o1QKAaL90khjRAWmQ730/NM0AIrBxaZFs0QHe+nxovfTRAvp8aL91ENUC0yHa+nzo3QBkEVg4t8jxAUrgehetROkApXI/C9Yg6QCcxCKwcGjZAN4lBYOWwM0AGgZVDiyw1QBkEVg4tsjZATDeJQWAlNUDpJjEIrNw1QM/3U+Ol+zVAXrpJDAIrNkDb+X5qvLQ0QIXrUbgeZThA7FG4HoULNUCoxks3iWEzQPhT46WbZDpA001iEFiZOUA9CtejcF06QOXQItv5XjZADAIrhxa5M0BmZmZmZsY2QClcj8L1qDRAj8L1KFwPNkDdJAaBleMzQFCNl24SAzdAJQaBlUNrNkAlBoGVQys1QGIQWDm0qDVAokW28/1UNkDdJAaBlYM5QEoMAiuHdjRA0SLb+X6KNECTGARWDm08QMHKoUW2EzZAK4cW2c53NEB3vp8aLz03QI/C9Shc7zRA4XoUrkehNkCoxks3iWE0QCuHFtnOVzpAGy/dJAbBPEAv3SQGgXU2QIPAyqFFljVAVg4tsp3vNEBGtvP91Fg2QLKd76fGqztArkfhehQuM0BI4XoUruc2QN9PjZduUjRAVOOlm8QgNUCmm8QgsNI5QC2yne+nRjVAw/UoXI9iNkAxCKwcWuQ2QN0kBoGVIzNAsp3vp8bLN0Bcj8L1KHwzQPYoXI/CdTpA8KfGSzfpNkDufD81Xro5QLx0kxgEVjZA4XoUrkdhNkDD9ShcjyI5QKRwPQrXozNAjZduEoOANUBKDAIrh1Y0QGiR7Xw/dTNAO99PjZfONUAIrBxaZPs2QEjhehSuRzNAppvEILAyM0AzMzMzM9M4QCcxCKwcWjlAgZVDi2xnM0CwcmiR7fw0QFpkO99P7TtADAIrhxa5OECcxCCwcggzQNnO91Pj5ThAAiuHFtnuNkDP91PjpfszQArXo3A9yjZA1XjpJjGoM0Cmm8QgsLI5QAwCK4cWuTNAfT81XrppNEAEVg4tsp02QMuhRbbzXTNAdZMYBFaONEC6SQwCK0c4QESLbOf7yTNArBxaZDtfNkBiEFg5tGg2QAIrhxbZrjlAPzVeuknMNUBg5dAi23k1QFg5tMh2vjRAhxbZzvfTM0BWDi2ynU88QBKDwMqh5TZAqvHSTWLQNEAhsHJokS00QG3n+6nxkjNAsp3vp8brNEDFILByaPEzQLx0kxgEljlA+FPjpZsENkAdWmQ73y88QIts5/upUTNAZDvfT42XNEAIrBxaZBs1QIcW2c738zlAjZduEoPAM0AzMzMzMzM7QEjhehSupzNAO99PjZcuNUDwp8ZLN0k0QDvfT42XLjdAokW28/3UNkC6SQwCK8c2QAAAAAAAoDxAFK5H4XqUNEA9CtejcF00QJHtfD81vjRAYOXQItv5OUDXo3A9Cpc2QNV46SYxyDdAVg4tsp1PN0C0yHa+n3o6QLx0kxgEVjNAKVyPwvWoNEBOYhBYORQ5QFTjpZvEYDRAkxgEVg4NNUDP91Pjpbs2QC2yne+npjtAMzMzMzMzOUDRItv5fqozQGQ730+N1zZAuB6F61E4NEBqvHSTGAQ5QH9qvHSTODVAEFg5tMhWNkBMN4lBYOU5QLpJDAIrxzZAGy/dJAbhNECHFtnO97MyQM/3U+OlmzNARIts5/tJOUBQjZduEkMzQD0K16NwPTZACtejcD1qNUBmZmZmZiY1QKJFtvP99DNAx0s3iUEgN0DXo3A9CnczQPp+arx08zNAYOXQItv5NEDwp8ZLN6k4QEJg5dAiOzVAEFg5tMh2NEBEi2zn+2k5QMl2vp8aLzlAd76fGi9dN0C4HoXrUdg1QGZmZmZmhjNALbKd76fGM0Cyne+nxqs2QARWDi2yfTdAsp3vp8YrNEAAAAAAACA0QGDl0CLb+ThAKVyPwvVoNUCBlUOLbIc4QHNoke18HzRAokW28/30NEBSuB6F67E4QFTjpZvEADlAJQaBlUNLNUBMN4lBYKU0QOOlm8QgkDVAWmQ730/NNUBEi2zn+yk6QAAAAAAA4DhAtvP91HiJNkCsHFpkO185QLByaJHtPDRASOF6FK4nM0AOLbKd7yc2QCuHFtnOFzdA8tJNYhC4OEDVeOkmMWg2QLx0kxgE1jdA7FG4HoXrOUDFILByaNEzQOF6FK5HQTZAZmZmZmZGN0BEi2zn+yk6QD81XrpJLDdArkfhehRuNEAGgZVDi8w0QDEIrBxaJDpAMzMzMzPTNEBYObTIdh44QEjhehSuBzpAeekmMQgsNUCNl24Sg+A0QJZDi2znuzZA5dAi2/leM0ASg8DKoYU2QMHKoUW20zVAH4XrUbi+NkBvEoPAyqEzQMuhRbbz/TRAeekmMQisOUA5tMh2vr87QLByaJHtPDNACtejcD3qOUAj2/l+apw2QFYOLbKdTzdAAAAAAACgM0DJdr6fGs80QOxRuB6FqzNAIbByaJGNOUAAAAAAAMA0QH0/NV66CThAObTIdr4fNUD2KFyPwtUyQKAaL90kxjNAiUFg5dDiM0AX2c73U+MzQDm0yHa+vzlAIbByaJGNNkBYObTIdv40QHE9CtejUDRAjZduEoNgNUDTTWIQWFk6QAAAAAAAYDlAYOXQItuZNkBYObTIdj43QHe+nxovnTNA4XoUrkcBNEBU46WbxCA3QMHKoUW2UzVATmIQWDkUNEAAAAAAAMA2QG8Sg8DKgTdArBxaZDu/M0B9PzVeukk2QBsv3SQG4TVAXrpJDALrOUDfT42XblIzQEjhehSuBzVAAAAAAACgNUAIrBxaZDs3QOxRuB6FyzlAFK5H4Xp0OUAGgZVDi0w2QJMYBFYOzTZAke18PzUeOkCcxCCwckg0QN0kBoGVgzRA",
          "dtype": "f8"
         },
         "xaxis": "x",
         "y": {
          "bdata": "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",
          "dtype": "f8"
         },
         "yaxis": "y"
        }
       ],
       "layout": {
        "legend": {
         "tracegroupgap": 0
        },
        "margin": {
         "t": 60
        },
        "template": {
         "data": {
          "bar": [
           {
            "error_x": {
             "color": "#2a3f5f"
            },
            "error_y": {
             "color": "#2a3f5f"
            },
            "marker": {
             "line": {
              "color": "#E5ECF6",
              "width": 0.5
             },
             "pattern": {
              "fillmode": "overlay",
              "size": 10,
              "solidity": 0.2
             }
            },
            "type": "bar"
           }
          ],
          "barpolar": [
           {
            "marker": {
             "line": {
              "color": "#E5ECF6",
              "width": 0.5
             },
             "pattern": {
              "fillmode": "overlay",
              "size": 10,
              "solidity": 0.2
             }
            },
            "type": "barpolar"
           }
          ],
          "carpet": [
           {
            "aaxis": {
             "endlinecolor": "#2a3f5f",
             "gridcolor": "white",
             "linecolor": "white",
             "minorgridcolor": "white",
             "startlinecolor": "#2a3f5f"
            },
            "baxis": {
             "endlinecolor": "#2a3f5f",
             "gridcolor": "white",
             "linecolor": "white",
             "minorgridcolor": "white",
             "startlinecolor": "#2a3f5f"
            },
            "type": "carpet"
           }
          ],
          "choropleth": [
           {
            "colorbar": {
             "outlinewidth": 0,
             "ticks": ""
            },
            "type": "choropleth"
           }
          ],
          "contour": [
           {
            "colorbar": {
             "outlinewidth": 0,
             "ticks": ""
            },
            "colorscale": [
             [
              0,
              "#0d0887"
             ],
             [
              0.1111111111111111,
              "#46039f"
             ],
             [
              0.2222222222222222,
              "#7201a8"
             ],
             [
              0.3333333333333333,
              "#9c179e"
             ],
             [
              0.4444444444444444,
              "#bd3786"
             ],
             [
              0.5555555555555556,
              "#d8576b"
             ],
             [
              0.6666666666666666,
              "#ed7953"
             ],
             [
              0.7777777777777778,
              "#fb9f3a"
             ],
             [
              0.8888888888888888,
              "#fdca26"
             ],
             [
              1,
              "#f0f921"
             ]
            ],
            "type": "contour"
           }
          ],
          "contourcarpet": [
           {
            "colorbar": {
             "outlinewidth": 0,
             "ticks": ""
            },
            "type": "contourcarpet"
           }
          ],
          "heatmap": [
           {
            "colorbar": {
             "outlinewidth": 0,
             "ticks": ""
            },
            "colorscale": [
             [
              0,
              "#0d0887"
             ],
             [
              0.1111111111111111,
              "#46039f"
             ],
             [
              0.2222222222222222,
              "#7201a8"
             ],
             [
              0.3333333333333333,
              "#9c179e"
             ],
             [
              0.4444444444444444,
              "#bd3786"
             ],
             [
              0.5555555555555556,
              "#d8576b"
             ],
             [
              0.6666666666666666,
              "#ed7953"
             ],
             [
              0.7777777777777778,
              "#fb9f3a"
             ],
             [
              0.8888888888888888,
              "#fdca26"
             ],
             [
              1,
              "#f0f921"
             ]
            ],
            "type": "heatmap"
           }
          ],
          "histogram": [
           {
            "marker": {
             "pattern": {
              "fillmode": "overlay",
              "size": 10,
              "solidity": 0.2
             }
            },
            "type": "histogram"
           }
          ],
          "histogram2d": [
           {
            "colorbar": {
             "outlinewidth": 0,
             "ticks": ""
            },
            "colorscale": [
             [
              0,
              "#0d0887"
             ],
             [
              0.1111111111111111,
              "#46039f"
             ],
             [
              0.2222222222222222,
              "#7201a8"
             ],
             [
              0.3333333333333333,
              "#9c179e"
             ],
             [
              0.4444444444444444,
              "#bd3786"
             ],
             [
              0.5555555555555556,
              "#d8576b"
             ],
             [
              0.6666666666666666,
              "#ed7953"
             ],
             [
              0.7777777777777778,
              "#fb9f3a"
             ],
             [
              0.8888888888888888,
              "#fdca26"
             ],
             [
              1,
              "#f0f921"
             ]
            ],
            "type": "histogram2d"
           }
          ],
          "histogram2dcontour": [
           {
            "colorbar": {
             "outlinewidth": 0,
             "ticks": ""
            },
            "colorscale": [
             [
              0,
              "#0d0887"
             ],
             [
              0.1111111111111111,
              "#46039f"
             ],
             [
              0.2222222222222222,
              "#7201a8"
             ],
             [
              0.3333333333333333,
              "#9c179e"
             ],
             [
              0.4444444444444444,
              "#bd3786"
             ],
             [
              0.5555555555555556,
              "#d8576b"
             ],
             [
              0.6666666666666666,
              "#ed7953"
             ],
             [
              0.7777777777777778,
              "#fb9f3a"
             ],
             [
              0.8888888888888888,
              "#fdca26"
             ],
             [
              1,
              "#f0f921"
             ]
            ],
            "type": "histogram2dcontour"
           }
          ],
          "mesh3d": [
           {
            "colorbar": {
             "outlinewidth": 0,
             "ticks": ""
            },
            "type": "mesh3d"
           }
          ],
          "parcoords": [
           {
            "line": {
             "colorbar": {
              "outlinewidth": 0,
              "ticks": ""
             }
            },
            "type": "parcoords"
           }
          ],
          "pie": [
           {
            "automargin": true,
            "type": "pie"
           }
          ],
          "scatter": [
           {
            "fillpattern": {
             "fillmode": "overlay",
             "size": 10,
             "solidity": 0.2
            },
            "type": "scatter"
           }
          ],
          "scatter3d": [
           {
            "line": {
             "colorbar": {
              "outlinewidth": 0,
              "ticks": ""
             }
            },
            "marker": {
             "colorbar": {
              "outlinewidth": 0,
              "ticks": ""
             }
            },
            "type": "scatter3d"
           }
          ],
          "scattercarpet": [
           {
            "marker": {
             "colorbar": {
              "outlinewidth": 0,
              "ticks": ""
             }
            },
            "type": "scattercarpet"
           }
          ],
          "scattergeo": [
           {
            "marker": {
             "colorbar": {
              "outlinewidth": 0,
              "ticks": ""
             }
            },
            "type": "scattergeo"
           }
          ],
          "scattergl": [
           {
            "marker": {
             "colorbar": {
              "outlinewidth": 0,
              "ticks": ""
             }
            },
            "type": "scattergl"
           }
          ],
          "scattermap": [
           {
            "marker": {
             "colorbar": {
              "outlinewidth": 0,
              "ticks": ""
             }
            },
            "type": "scattermap"
           }
          ],
          "scattermapbox": [
           {
            "marker": {
             "colorbar": {
              "outlinewidth": 0,
              "ticks": ""
             }
            },
            "type": "scattermapbox"
           }
          ],
          "scatterpolar": [
           {
            "marker": {
             "colorbar": {
              "outlinewidth": 0,
              "ticks": ""
             }
            },
            "type": "scatterpolar"
           }
          ],
          "scatterpolargl": [
           {
            "marker": {
             "colorbar": {
              "outlinewidth": 0,
              "ticks": ""
             }
            },
            "type": "scatterpolargl"
           }
          ],
          "scatterternary": [
           {
            "marker": {
             "colorbar": {
              "outlinewidth": 0,
              "ticks": ""
             }
            },
            "type": "scatterternary"
           }
          ],
          "surface": [
           {
            "colorbar": {
             "outlinewidth": 0,
             "ticks": ""
            },
            "colorscale": [
             [
              0,
              "#0d0887"
             ],
             [
              0.1111111111111111,
              "#46039f"
             ],
             [
              0.2222222222222222,
              "#7201a8"
             ],
             [
              0.3333333333333333,
              "#9c179e"
             ],
             [
              0.4444444444444444,
              "#bd3786"
             ],
             [
              0.5555555555555556,
              "#d8576b"
             ],
             [
              0.6666666666666666,
              "#ed7953"
             ],
             [
              0.7777777777777778,
              "#fb9f3a"
             ],
             [
              0.8888888888888888,
              "#fdca26"
             ],
             [
              1,
              "#f0f921"
             ]
            ],
            "type": "surface"
           }
          ],
          "table": [
           {
            "cells": {
             "fill": {
              "color": "#EBF0F8"
             },
             "line": {
              "color": "white"
             }
            },
            "header": {
             "fill": {
              "color": "#C8D4E3"
             },
             "line": {
              "color": "white"
             }
            },
            "type": "table"
           }
          ]
         },
         "layout": {
          "annotationdefaults": {
           "arrowcolor": "#2a3f5f",
           "arrowhead": 0,
           "arrowwidth": 1
          },
          "autotypenumbers": "strict",
          "coloraxis": {
           "colorbar": {
            "outlinewidth": 0,
            "ticks": ""
           }
          },
          "colorscale": {
           "diverging": [
            [
             0,
             "#8e0152"
            ],
            [
             0.1,
             "#c51b7d"
            ],
            [
             0.2,
             "#de77ae"
            ],
            [
             0.3,
             "#f1b6da"
            ],
            [
             0.4,
             "#fde0ef"
            ],
            [
             0.5,
             "#f7f7f7"
            ],
            [
             0.6,
             "#e6f5d0"
            ],
            [
             0.7,
             "#b8e186"
            ],
            [
             0.8,
             "#7fbc41"
            ],
            [
             0.9,
             "#4d9221"
            ],
            [
             1,
             "#276419"
            ]
           ],
           "sequential": [
            [
             0,
             "#0d0887"
            ],
            [
             0.1111111111111111,
             "#46039f"
            ],
            [
             0.2222222222222222,
             "#7201a8"
            ],
            [
             0.3333333333333333,
             "#9c179e"
            ],
            [
             0.4444444444444444,
             "#bd3786"
            ],
            [
             0.5555555555555556,
             "#d8576b"
            ],
            [
             0.6666666666666666,
             "#ed7953"
            ],
            [
             0.7777777777777778,
             "#fb9f3a"
            ],
            [
             0.8888888888888888,
             "#fdca26"
            ],
            [
             1,
             "#f0f921"
            ]
           ],
           "sequentialminus": [
            [
             0,
             "#0d0887"
            ],
            [
             0.1111111111111111,
             "#46039f"
            ],
            [
             0.2222222222222222,
             "#7201a8"
            ],
            [
             0.3333333333333333,
             "#9c179e"
            ],
            [
             0.4444444444444444,
             "#bd3786"
            ],
            [
             0.5555555555555556,
             "#d8576b"
            ],
            [
             0.6666666666666666,
             "#ed7953"
            ],
            [
             0.7777777777777778,
             "#fb9f3a"
            ],
            [
             0.8888888888888888,
             "#fdca26"
            ],
            [
             1,
             "#f0f921"
            ]
           ]
          },
          "colorway": [
           "#636efa",
           "#EF553B",
           "#00cc96",
           "#ab63fa",
           "#FFA15A",
           "#19d3f3",
           "#FF6692",
           "#B6E880",
           "#FF97FF",
           "#FECB52"
          ],
          "font": {
           "color": "#2a3f5f"
          },
          "geo": {
           "bgcolor": "white",
           "lakecolor": "white",
           "landcolor": "#E5ECF6",
           "showlakes": true,
           "showland": true,
           "subunitcolor": "white"
          },
          "hoverlabel": {
           "align": "left"
          },
          "hovermode": "closest",
          "mapbox": {
           "style": "light"
          },
          "paper_bgcolor": "white",
          "plot_bgcolor": "#E5ECF6",
          "polar": {
           "angularaxis": {
            "gridcolor": "white",
            "linecolor": "white",
            "ticks": ""
           },
           "bgcolor": "#E5ECF6",
           "radialaxis": {
            "gridcolor": "white",
            "linecolor": "white",
            "ticks": ""
           }
          },
          "scene": {
           "xaxis": {
            "backgroundcolor": "#E5ECF6",
            "gridcolor": "white",
            "gridwidth": 2,
            "linecolor": "white",
            "showbackground": true,
            "ticks": "",
            "zerolinecolor": "white"
           },
           "yaxis": {
            "backgroundcolor": "#E5ECF6",
            "gridcolor": "white",
            "gridwidth": 2,
            "linecolor": "white",
            "showbackground": true,
            "ticks": "",
            "zerolinecolor": "white"
           },
           "zaxis": {
            "backgroundcolor": "#E5ECF6",
            "gridcolor": "white",
            "gridwidth": 2,
            "linecolor": "white",
            "showbackground": true,
            "ticks": "",
            "zerolinecolor": "white"
           }
          },
          "shapedefaults": {
           "line": {
            "color": "#2a3f5f"
           }
          },
          "ternary": {
           "aaxis": {
            "gridcolor": "white",
            "linecolor": "white",
            "ticks": ""
           },
           "baxis": {
            "gridcolor": "white",
            "linecolor": "white",
            "ticks": ""
           },
           "bgcolor": "#E5ECF6",
           "caxis": {
            "gridcolor": "white",
            "linecolor": "white",
            "ticks": ""
           }
          },
          "title": {
           "x": 0.05
          },
          "xaxis": {
           "automargin": true,
           "gridcolor": "white",
           "linecolor": "white",
           "ticks": "",
           "title": {
            "standoff": 15
           },
           "zerolinecolor": "white",
           "zerolinewidth": 2
          },
          "yaxis": {
           "automargin": true,
           "gridcolor": "white",
           "linecolor": "white",
           "ticks": "",
           "title": {
            "standoff": 15
           },
           "zerolinecolor": "white",
           "zerolinewidth": 2
          }
         }
        },
        "xaxis": {
         "anchor": "y",
         "domain": [
          0,
          1
         ],
         "title": {
          "text": "Strom / A"
         }
        },
        "yaxis": {
         "anchor": "x",
         "domain": [
          0,
          1
         ],
         "title": {
          "text": "Drehmoment / Nm"
         }
        }
       }
      }
     },
     "metadata": {},
     "output_type": "display_data"
    }
   ],
   "source": [
    "exploration_data.plot(kind=\"scatter\", x=\"Strom / A\", y=\"Drehmoment / Nm\")"
   ]
  },
  {
   "cell_type": "markdown",
   "id": "3b894e69",
   "metadata": {},
   "source": [
    "Für die Maschinen müssen wir den Code etwas umständlicher formulieren, da sich die Plot-Funktion mit kategorischen Variablen etwas schwer tun kann..."
   ]
  },
  {
   "cell_type": "code",
   "execution_count": 144,
   "id": "2b890af8",
   "metadata": {},
   "outputs": [
    {
     "name": "stderr",
     "output_type": "stream",
     "text": [
      "/tmp/ipykernel_3460/335390244.py:2: FutureWarning:\n",
      "\n",
      "The default of observed=False is deprecated and will be changed to True in a future version of pandas. Pass observed=False to retain current behavior or observed=True to adopt the future default and silence this warning.\n",
      "\n"
     ]
    },
    {
     "data": {
      "image/png": "[encoded data removed]",
      "text/plain": [
       "<Figure size 640x480 with 1 Axes>"
      ]
     },
     "metadata": {},
     "output_type": "display_data"
    }
   ],
   "source": [
    "import matplotlib.pyplot as plt\n",
    "groups = exploration_data.groupby('Maschine')\n",
    "\n",
    "fig, ax = plt.subplots()\n",
    "for name, group in groups:\n",
    "    ax.plot(group['Strom / A'], group['Drehmoment / Nm'], marker='o', linestyle='', ms=12, label=name)\n",
    "_ = ax.legend()"
   ]
  },
  {
   "cell_type": "markdown",
   "id": "8c52b2ed",
   "metadata": {},
   "source": [
    "<span style=\"color:#FF5F00\"><b>AUFGABE:</b></span><br>Die beiden Streudiagramme zeigen, dass sich die drei geraden Linien durch die verschiedenen Maschinen ergeben. Testen Sie als nächstes den Zusammenhang zwischen der Stromaufnahme in Ampere und der Werkzeug-Temperatur in °Celsius. Was können Sie erkennen?"
   ]
  },
  {
   "cell_type": "code",
   "execution_count": 145,
   "id": "aa3e5496",
   "metadata": {},
   "outputs": [
    {
     "data": {
      "image/png": "[encoded data removed]",
      "text/plain": [
       "<Figure size 640x480 with 1 Axes>"
      ]
     },
     "metadata": {},
     "output_type": "display_data"
    }
   ],
   "source": [
    "# Erstelle zusammengesetztes Diagramm von Werkzeugtemperaturen und Stromaufnahme analog zu dem oberen Beispiel\n",
    "fig, ax = plt.subplots()\n",
    "for name, group in groups:\n",
    "    ax.plot(group[\"Strom / A\"], group[\"Temp Werkzeug / degC\"], marker=\"o\", linestyle=\"\", ms=12, label=name)\n",
    "    ax.set_xlabel(\"Strom / A\")\n",
    "    ax.set_ylabel(\"Temp Werkzeug / degC\")\n",
    "\n",
    "_ = ax.legend()"
   ]
  },
  {
   "cell_type": "markdown",
   "id": "1ca0c6c9",
   "metadata": {},
   "source": [
    "<span style=\"color:#FF5F00\"><b>Stimmt was nicht?</b></span><br>\n",
    "\n",
    "Die Temperaturwerte zeigen einen direkten Zusammenhang mit den Werten von Drehzahlen und Stromaufnahmen, was eigentlich der Realität entspricht."
   ]
  },
  {
   "cell_type": "markdown",
   "id": "4ce78555",
   "metadata": {},
   "source": [
    "Um Ihnen eine bessere Intuition über die Größe und Richtung eines Zusammenhangs zu geben, haben wir eine Auswahl an Streudiagrammen mit unterschiedlichen Zusammenhängen zusammengestellt. Versuchen Sie, die unten aufgeführten Zusammenhänge einzuschätzen. Ist der folgende Zusammenhang groß oder klein, positiv oder negativ?\n",
    "\n",
    "<img src=\"./img/corr_10.svg\" height=200>\n",
    "\n",
    "<span style=\"color:#FF5F00\"><b>Hmm...</b></span><br>\n",
    "\n",
    "Bei diesem Diagram ist die Korrelation eher hoch (_0.9 bis 1.0_)"
   ]
  },
  {
   "cell_type": "markdown",
   "id": "b4b7d7a6",
   "metadata": {},
   "source": [
    "Wie sieht es bei dem nächsten Zusammenhang aus?\n",
    "\n",
    "<img src=\"./img/corr_-10.svg\" height=200>\n",
    "\n",
    "<span style=\"color:#FF5F00\"><b>Hmm...</b></span><br>\n",
    "\n",
    "Bei diesem Diagram ist die Korrelation umgekehrt niedrig (_-0.9 bis -1.0_)"
   ]
  },
  {
   "cell_type": "markdown",
   "id": "5cc03013",
   "metadata": {},
   "source": [
    "Überlegen Sie, wie ein Streudiagramm aussehen würde, wenn es keinen Zusammenhang zwischen den Merkmalen gäbe. Beschreiben Sie dann den folgenden Zusammenhang:\n",
    "\n",
    "<img src=\"./img/corr_00.svg\" height=200>\n",
    "\n",
    "<span style=\"color:#FF5F00\"><b>Hmm...</b></span><br>\n",
    "\n",
    "Bei diesem Diagram ist die Korrelation ziemlich tricky. Meine Abschätzung wäre -0.3 bis 0.3."
   ]
  },
  {
   "cell_type": "markdown",
   "id": "010ce112",
   "metadata": {},
   "source": [
    "Schätzen Sie zum Schluss noch diesen Zusammenhang ein:\n",
    "\n",
    "<img src=\"./img/corr_08.svg\" height=200>\n",
    "\n",
    "<span style=\"color:#FF5F00\"><b>Hmm...</b></span><br>\n",
    "\n",
    "Bei diesem Diagram ist die Korrelation eher gering (_0.2 bis 0.4_)"
   ]
  },
  {
   "cell_type": "markdown",
   "id": "72e07aba",
   "metadata": {},
   "source": [
    "Möchten Sie Ihre Intuition über die Größe von Zusammenhängen (mit dem Korrelationskoeffizienten nach Pearson) noch weiter ausbauen, empfehlen wir Ihnen das Online-Spiel [Guess the Correlation](http://guessthecorrelation.com/). "
   ]
  },
  {
   "cell_type": "markdown",
   "id": "ca6434ad",
   "metadata": {},
   "source": [
    "## Korrelationen und Transformationen"
   ]
  },
  {
   "cell_type": "markdown",
   "id": "f11af625",
   "metadata": {},
   "source": [
    "Mit dem besseren Verständnis über die Stärke und Richtung von Zusammenhängen können wir uns nun direkt die Korrelationskoeffizienten nach Pearson für unsere metrischen Merkmale anschauen. Dazu benutzen wir die ```corr()```-Funktion (zur Bestimmung der Korrelationen) in Verbindung mit ```\"plt.imshow\"``` (kurz für _image show_) und passenden Farben (```\"RdBu_r\"```) zur Erstellung einer [Heatmap](https://plotly.github.io/plotly.py-docs/generated/plotly.express.imshow.html). Versuchen Sie, sich anhand der Farben und Ihrem Wissen über den Pearsons Correlation einen Reim aus der Matrix zu machen:"
   ]
  },
  {
   "cell_type": "code",
   "execution_count": 146,
   "id": "6276737b",
   "metadata": {},
   "outputs": [
    {
     "data": {
      "image/png": "[encoded data removed]",
      "text/plain": [
       "<Figure size 640x480 with 1 Axes>"
      ]
     },
     "metadata": {},
     "output_type": "display_data"
    }
   ],
   "source": [
    "# Habe numeric_only parameter hinzugefügt, weil die corr-Funktion sich über Produktnamen gemeckert hat\n",
    "corr = exploration_data.corr(numeric_only=True)\n",
    "plt.imshow(corr, cmap=\"RdBu_r\")\n",
    "# Die X-Achse kann auch beschriftet werden :)\n",
    "plt.xticks(range(len(corr)), corr.columns, rotation=90)\n",
    "_ = plt.yticks(range(len(corr)), corr.index)"
   ]
  },
  {
   "cell_type": "markdown",
   "id": "f5dfd8b3",
   "metadata": {},
   "source": [
    "Die Matrix ist etwas schwer zu lesen und es ist mühsam, die Label ordentlich an die Achsen zu schreiben. Dankenswerterweise gibt es unzählige Möglichkeiten, mit ```pandas``` und den zugehörigen Visualisierungsbibliotheken wie z.B. ```plotly```, ```matplotlib``` und ```seaborn``` ansprechende Visualisierungen zu gestalten. Die Kunst liegt vor allem darin, die Bibliotheken auseinander zu halten und die richtige auszuwählen, z.B. um eine geclusterte Heatmap zu erzeugen:"
   ]
  },
  {
   "cell_type": "code",
   "execution_count": 147,
   "id": "967b2c7a",
   "metadata": {},
   "outputs": [
    {
     "data": {
      "text/html": [
       "<style type=\"text/css\">\n",
       "#T_c7fd5_row0_col0, #T_c7fd5_row1_col1, #T_c7fd5_row2_col2, #T_c7fd5_row3_col3, #T_c7fd5_row4_col4, #T_c7fd5_row5_col5, #T_c7fd5_row6_col6 {\n",
       "  background-color: #b40426;\n",
       "  color: #f1f1f1;\n",
       "}\n",
       "#T_c7fd5_row0_col1 {\n",
       "  background-color: #ca3b37;\n",
       "  color: #f1f1f1;\n",
       "}\n",
       "#T_c7fd5_row0_col2 {\n",
       "  background-color: #3c4ec2;\n",
       "  color: #f1f1f1;\n",
       "}\n",
       "#T_c7fd5_row0_col3, #T_c7fd5_row0_col6, #T_c7fd5_row1_col2, #T_c7fd5_row6_col0, #T_c7fd5_row6_col1, #T_c7fd5_row6_col2, #T_c7fd5_row6_col4, #T_c7fd5_row6_col5 {\n",
       "  background-color: #3b4cc0;\n",
       "  color: #f1f1f1;\n",
       "}\n",
       "#T_c7fd5_row0_col4 {\n",
       "  background-color: #a3c2fe;\n",
       "  color: #000000;\n",
       "}\n",
       "#T_c7fd5_row0_col5 {\n",
       "  background-color: #cc403a;\n",
       "  color: #f1f1f1;\n",
       "}\n",
       "#T_c7fd5_row1_col0 {\n",
       "  background-color: #c83836;\n",
       "  color: #f1f1f1;\n",
       "}\n",
       "#T_c7fd5_row1_col3 {\n",
       "  background-color: #3e51c5;\n",
       "  color: #f1f1f1;\n",
       "}\n",
       "#T_c7fd5_row1_col4 {\n",
       "  background-color: #9fbfff;\n",
       "  color: #000000;\n",
       "}\n",
       "#T_c7fd5_row1_col5, #T_c7fd5_row5_col1 {\n",
       "  background-color: #b8122a;\n",
       "  color: #f1f1f1;\n",
       "}\n",
       "#T_c7fd5_row1_col6 {\n",
       "  background-color: #4a63d3;\n",
       "  color: #f1f1f1;\n",
       "}\n",
       "#T_c7fd5_row2_col0 {\n",
       "  background-color: #b5cdfa;\n",
       "  color: #000000;\n",
       "}\n",
       "#T_c7fd5_row2_col1 {\n",
       "  background-color: #a7c5fe;\n",
       "  color: #000000;\n",
       "}\n",
       "#T_c7fd5_row2_col3 {\n",
       "  background-color: #536edd;\n",
       "  color: #f1f1f1;\n",
       "}\n",
       "#T_c7fd5_row2_col4 {\n",
       "  background-color: #6e90f2;\n",
       "  color: #f1f1f1;\n",
       "}\n",
       "#T_c7fd5_row2_col5 {\n",
       "  background-color: #adc9fd;\n",
       "  color: #000000;\n",
       "}\n",
       "#T_c7fd5_row2_col6 {\n",
       "  background-color: #b3cdfb;\n",
       "  color: #000000;\n",
       "}\n",
       "#T_c7fd5_row3_col0 {\n",
       "  background-color: #aac7fd;\n",
       "  color: #000000;\n",
       "}\n",
       "#T_c7fd5_row3_col1 {\n",
       "  background-color: #a1c0ff;\n",
       "  color: #000000;\n",
       "}\n",
       "#T_c7fd5_row3_col2, #T_c7fd5_row4_col2 {\n",
       "  background-color: #465ecf;\n",
       "  color: #f1f1f1;\n",
       "}\n",
       "#T_c7fd5_row3_col4 {\n",
       "  background-color: #f5c0a7;\n",
       "  color: #000000;\n",
       "}\n",
       "#T_c7fd5_row3_col5 {\n",
       "  background-color: #bbd1f8;\n",
       "  color: #000000;\n",
       "}\n",
       "#T_c7fd5_row3_col6 {\n",
       "  background-color: #bad0f8;\n",
       "  color: #000000;\n",
       "}\n",
       "#T_c7fd5_row4_col0 {\n",
       "  background-color: #dcdddd;\n",
       "  color: #000000;\n",
       "}\n",
       "#T_c7fd5_row4_col1 {\n",
       "  background-color: #d2dbe8;\n",
       "  color: #000000;\n",
       "}\n",
       "#T_c7fd5_row4_col3 {\n",
       "  background-color: #f2cab5;\n",
       "  color: #000000;\n",
       "}\n",
       "#T_c7fd5_row4_col5 {\n",
       "  background-color: #efcfbf;\n",
       "  color: #000000;\n",
       "}\n",
       "#T_c7fd5_row4_col6 {\n",
       "  background-color: #93b5fe;\n",
       "  color: #000000;\n",
       "}\n",
       "#T_c7fd5_row5_col0 {\n",
       "  background-color: #cb3e38;\n",
       "  color: #f1f1f1;\n",
       "}\n",
       "#T_c7fd5_row5_col2 {\n",
       "  background-color: #4055c8;\n",
       "  color: #f1f1f1;\n",
       "}\n",
       "#T_c7fd5_row5_col3 {\n",
       "  background-color: #6180e9;\n",
       "  color: #f1f1f1;\n",
       "}\n",
       "#T_c7fd5_row5_col4 {\n",
       "  background-color: #cfdaea;\n",
       "  color: #000000;\n",
       "}\n",
       "#T_c7fd5_row5_col6 {\n",
       "  background-color: #4961d2;\n",
       "  color: #f1f1f1;\n",
       "}\n",
       "#T_c7fd5_row6_col3 {\n",
       "  background-color: #506bda;\n",
       "  color: #f1f1f1;\n",
       "}\n",
       "</style>\n",
       "<table id=\"T_c7fd5\">\n",
       "  <thead>\n",
       "    <tr>\n",
       "      <th class=\"blank level0\" >&nbsp;</th>\n",
       "      <th id=\"T_c7fd5_level0_col0\" class=\"col_heading level0 col0\" >Strom / A</th>\n",
       "      <th id=\"T_c7fd5_level0_col1\" class=\"col_heading level0 col1\" >Drehmoment / Nm</th>\n",
       "      <th id=\"T_c7fd5_level0_col2\" class=\"col_heading level0 col2\" >Drehzahl / 1/min</th>\n",
       "      <th id=\"T_c7fd5_level0_col3\" class=\"col_heading level0 col3\" >Temp Umgebung / degC</th>\n",
       "      <th id=\"T_c7fd5_level0_col4\" class=\"col_heading level0 col4\" >Temp Umrichter / degC</th>\n",
       "      <th id=\"T_c7fd5_level0_col5\" class=\"col_heading level0 col5\" >Temp Werkzeug / degC</th>\n",
       "      <th id=\"T_c7fd5_level0_col6\" class=\"col_heading level0 col6\" >Bearbeitungszeit / s</th>\n",
       "    </tr>\n",
       "  </thead>\n",
       "  <tbody>\n",
       "    <tr>\n",
       "      <th id=\"T_c7fd5_level0_row0\" class=\"row_heading level0 row0\" >Strom / A</th>\n",
       "      <td id=\"T_c7fd5_row0_col0\" class=\"data row0 col0\" >1.000000</td>\n",
       "      <td id=\"T_c7fd5_row0_col1\" class=\"data row0 col1\" >0.908122</td>\n",
       "      <td id=\"T_c7fd5_row0_col2\" class=\"data row0 col2\" >-0.000045</td>\n",
       "      <td id=\"T_c7fd5_row0_col3\" class=\"data row0 col3\" >-0.049613</td>\n",
       "      <td id=\"T_c7fd5_row0_col4\" class=\"data row0 col4\" >0.209184</td>\n",
       "      <td id=\"T_c7fd5_row0_col5\" class=\"data row0 col5\" >0.898679</td>\n",
       "      <td id=\"T_c7fd5_row0_col6\" class=\"data row0 col6\" >-0.573392</td>\n",
       "    </tr>\n",
       "    <tr>\n",
       "      <th id=\"T_c7fd5_level0_row1\" class=\"row_heading level0 row1\" >Drehmoment / Nm</th>\n",
       "      <td id=\"T_c7fd5_row1_col0\" class=\"data row1 col0\" >0.908122</td>\n",
       "      <td id=\"T_c7fd5_row1_col1\" class=\"data row1 col1\" >1.000000</td>\n",
       "      <td id=\"T_c7fd5_row1_col2\" class=\"data row1 col2\" >-0.006215</td>\n",
       "      <td id=\"T_c7fd5_row1_col3\" class=\"data row1 col3\" >-0.034505</td>\n",
       "      <td id=\"T_c7fd5_row1_col4\" class=\"data row1 col4\" >0.194446</td>\n",
       "      <td id=\"T_c7fd5_row1_col5\" class=\"data row1 col5\" >0.981825</td>\n",
       "      <td id=\"T_c7fd5_row1_col6\" class=\"data row1 col6\" >-0.492981</td>\n",
       "    </tr>\n",
       "    <tr>\n",
       "      <th id=\"T_c7fd5_level0_row2\" class=\"row_heading level0 row2\" >Drehzahl / 1/min</th>\n",
       "      <td id=\"T_c7fd5_row2_col0\" class=\"data row2 col0\" >-0.000045</td>\n",
       "      <td id=\"T_c7fd5_row2_col1\" class=\"data row2 col1\" >-0.006215</td>\n",
       "      <td id=\"T_c7fd5_row2_col2\" class=\"data row2 col2\" >1.000000</td>\n",
       "      <td id=\"T_c7fd5_row2_col3\" class=\"data row2 col3\" >0.035159</td>\n",
       "      <td id=\"T_c7fd5_row2_col4\" class=\"data row2 col4\" >0.034131</td>\n",
       "      <td id=\"T_c7fd5_row2_col5\" class=\"data row2 col5\" >0.014837</td>\n",
       "      <td id=\"T_c7fd5_row2_col6\" class=\"data row2 col6\" >-0.007918</td>\n",
       "    </tr>\n",
       "    <tr>\n",
       "      <th id=\"T_c7fd5_level0_row3\" class=\"row_heading level0 row3\" >Temp Umgebung / degC</th>\n",
       "      <td id=\"T_c7fd5_row3_col0\" class=\"data row3 col0\" >-0.049613</td>\n",
       "      <td id=\"T_c7fd5_row3_col1\" class=\"data row3 col1\" >-0.034505</td>\n",
       "      <td id=\"T_c7fd5_row3_col2\" class=\"data row3 col2\" >0.035159</td>\n",
       "      <td id=\"T_c7fd5_row3_col3\" class=\"data row3 col3\" >1.000000</td>\n",
       "      <td id=\"T_c7fd5_row3_col4\" class=\"data row3 col4\" >0.585495</td>\n",
       "      <td id=\"T_c7fd5_row3_col5\" class=\"data row3 col5\" >0.077946</td>\n",
       "      <td id=\"T_c7fd5_row3_col6\" class=\"data row3 col6\" >0.024696</td>\n",
       "    </tr>\n",
       "    <tr>\n",
       "      <th id=\"T_c7fd5_level0_row4\" class=\"row_heading level0 row4\" >Temp Umrichter / degC</th>\n",
       "      <td id=\"T_c7fd5_row4_col0\" class=\"data row4 col0\" >0.209184</td>\n",
       "      <td id=\"T_c7fd5_row4_col1\" class=\"data row4 col1\" >0.194446</td>\n",
       "      <td id=\"T_c7fd5_row4_col2\" class=\"data row4 col2\" >0.034131</td>\n",
       "      <td id=\"T_c7fd5_row4_col3\" class=\"data row4 col3\" >0.585495</td>\n",
       "      <td id=\"T_c7fd5_row4_col4\" class=\"data row4 col4\" >1.000000</td>\n",
       "      <td id=\"T_c7fd5_row4_col5\" class=\"data row4 col5\" >0.369361</td>\n",
       "      <td id=\"T_c7fd5_row4_col6\" class=\"data row4 col6\" >-0.152718</td>\n",
       "    </tr>\n",
       "    <tr>\n",
       "      <th id=\"T_c7fd5_level0_row5\" class=\"row_heading level0 row5\" >Temp Werkzeug / degC</th>\n",
       "      <td id=\"T_c7fd5_row5_col0\" class=\"data row5 col0\" >0.898679</td>\n",
       "      <td id=\"T_c7fd5_row5_col1\" class=\"data row5 col1\" >0.981825</td>\n",
       "      <td id=\"T_c7fd5_row5_col2\" class=\"data row5 col2\" >0.014837</td>\n",
       "      <td id=\"T_c7fd5_row5_col3\" class=\"data row5 col3\" >0.077946</td>\n",
       "      <td id=\"T_c7fd5_row5_col4\" class=\"data row5 col4\" >0.369361</td>\n",
       "      <td id=\"T_c7fd5_row5_col5\" class=\"data row5 col5\" >1.000000</td>\n",
       "      <td id=\"T_c7fd5_row5_col6\" class=\"data row5 col6\" >-0.496322</td>\n",
       "    </tr>\n",
       "    <tr>\n",
       "      <th id=\"T_c7fd5_level0_row6\" class=\"row_heading level0 row6\" >Bearbeitungszeit / s</th>\n",
       "      <td id=\"T_c7fd5_row6_col0\" class=\"data row6 col0\" >-0.573392</td>\n",
       "      <td id=\"T_c7fd5_row6_col1\" class=\"data row6 col1\" >-0.492981</td>\n",
       "      <td id=\"T_c7fd5_row6_col2\" class=\"data row6 col2\" >-0.007918</td>\n",
       "      <td id=\"T_c7fd5_row6_col3\" class=\"data row6 col3\" >0.024696</td>\n",
       "      <td id=\"T_c7fd5_row6_col4\" class=\"data row6 col4\" >-0.152718</td>\n",
       "      <td id=\"T_c7fd5_row6_col5\" class=\"data row6 col5\" >-0.496322</td>\n",
       "      <td id=\"T_c7fd5_row6_col6\" class=\"data row6 col6\" >1.000000</td>\n",
       "    </tr>\n",
       "  </tbody>\n",
       "</table>\n"
      ],
      "text/plain": [
       "<pandas.io.formats.style.Styler at 0x7f9f2972f430>"
      ]
     },
     "execution_count": 147,
     "metadata": {},
     "output_type": "execute_result"
    }
   ],
   "source": [
    "corr.style.background_gradient(cmap ='coolwarm')"
   ]
  },
  {
   "cell_type": "markdown",
   "id": "95bfe4d6",
   "metadata": {},
   "source": [
    "Deckt sich die berechnete Korrelation mit Ihren Erkenntnissen aus den Streudiagrammen? Fallen Ihnen noch weitere interessante Zusammenhänge auf? Manchmal ergeben sich interessante Zusammenhänge erst, wenn man verschiedene Merkmale miteinander kombiniert. So können wir zum Beispiel die Spannung aus der Drehzahl, dem Drehmoment und der Stromstärke [berechnen](https://en.wikipedia.org/wiki/Electric_motor). Lassen Sie uns hierzu eine neue Spalte in unserer Tabelle anlegen:"
   ]
  },
  {
   "cell_type": "code",
   "execution_count": 148,
   "id": "c24fd3f2",
   "metadata": {},
   "outputs": [],
   "source": [
    "exploration_data[\"Spannung / V\"] = (2 * 3.14 / 60 * exploration_data[\"Drehzahl / 1/min\"] *\n",
    "exploration_data[\"Drehmoment / Nm\"] / exploration_data[\"Strom / A\"])"
   ]
  },
  {
   "cell_type": "markdown",
   "id": "828a1941",
   "metadata": {},
   "source": [
    "Nun können wir die Korrelationskoeffizienten nach Pearson für unser neues Merkmal noch einmal darstellen:"
   ]
  },
  {
   "cell_type": "code",
   "execution_count": 149,
   "id": "7dcddf9d",
   "metadata": {},
   "outputs": [
    {
     "data": {
      "text/html": [
       "<style type=\"text/css\">\n",
       "#T_e37e2_row0_col0, #T_e37e2_row1_col1, #T_e37e2_row2_col2, #T_e37e2_row3_col3, #T_e37e2_row4_col4, #T_e37e2_row5_col5, #T_e37e2_row6_col6 {\n",
       "  background-color: #b40426;\n",
       "  color: #f1f1f1;\n",
       "}\n",
       "#T_e37e2_row0_col1 {\n",
       "  background-color: #ca3b37;\n",
       "  color: #f1f1f1;\n",
       "}\n",
       "#T_e37e2_row0_col2 {\n",
       "  background-color: #3c4ec2;\n",
       "  color: #f1f1f1;\n",
       "}\n",
       "#T_e37e2_row0_col3, #T_e37e2_row0_col6, #T_e37e2_row1_col2, #T_e37e2_row6_col0, #T_e37e2_row6_col1, #T_e37e2_row6_col2, #T_e37e2_row6_col4, #T_e37e2_row6_col5 {\n",
       "  background-color: #3b4cc0;\n",
       "  color: #f1f1f1;\n",
       "}\n",
       "#T_e37e2_row0_col4 {\n",
       "  background-color: #a3c2fe;\n",
       "  color: #000000;\n",
       "}\n",
       "#T_e37e2_row0_col5 {\n",
       "  background-color: #cc403a;\n",
       "  color: #f1f1f1;\n",
       "}\n",
       "#T_e37e2_row1_col0 {\n",
       "  background-color: #c83836;\n",
       "  color: #f1f1f1;\n",
       "}\n",
       "#T_e37e2_row1_col3 {\n",
       "  background-color: #3e51c5;\n",
       "  color: #f1f1f1;\n",
       "}\n",
       "#T_e37e2_row1_col4 {\n",
       "  background-color: #9fbfff;\n",
       "  color: #000000;\n",
       "}\n",
       "#T_e37e2_row1_col5, #T_e37e2_row5_col1 {\n",
       "  background-color: #b8122a;\n",
       "  color: #f1f1f1;\n",
       "}\n",
       "#T_e37e2_row1_col6 {\n",
       "  background-color: #4a63d3;\n",
       "  color: #f1f1f1;\n",
       "}\n",
       "#T_e37e2_row2_col0 {\n",
       "  background-color: #b5cdfa;\n",
       "  color: #000000;\n",
       "}\n",
       "#T_e37e2_row2_col1 {\n",
       "  background-color: #a7c5fe;\n",
       "  color: #000000;\n",
       "}\n",
       "#T_e37e2_row2_col3 {\n",
       "  background-color: #536edd;\n",
       "  color: #f1f1f1;\n",
       "}\n",
       "#T_e37e2_row2_col4 {\n",
       "  background-color: #6e90f2;\n",
       "  color: #f1f1f1;\n",
       "}\n",
       "#T_e37e2_row2_col5 {\n",
       "  background-color: #adc9fd;\n",
       "  color: #000000;\n",
       "}\n",
       "#T_e37e2_row2_col6 {\n",
       "  background-color: #b3cdfb;\n",
       "  color: #000000;\n",
       "}\n",
       "#T_e37e2_row3_col0 {\n",
       "  background-color: #aac7fd;\n",
       "  color: #000000;\n",
       "}\n",
       "#T_e37e2_row3_col1 {\n",
       "  background-color: #a1c0ff;\n",
       "  color: #000000;\n",
       "}\n",
       "#T_e37e2_row3_col2, #T_e37e2_row4_col2 {\n",
       "  background-color: #465ecf;\n",
       "  color: #f1f1f1;\n",
       "}\n",
       "#T_e37e2_row3_col4 {\n",
       "  background-color: #f5c0a7;\n",
       "  color: #000000;\n",
       "}\n",
       "#T_e37e2_row3_col5 {\n",
       "  background-color: #bbd1f8;\n",
       "  color: #000000;\n",
       "}\n",
       "#T_e37e2_row3_col6 {\n",
       "  background-color: #bad0f8;\n",
       "  color: #000000;\n",
       "}\n",
       "#T_e37e2_row4_col0 {\n",
       "  background-color: #dcdddd;\n",
       "  color: #000000;\n",
       "}\n",
       "#T_e37e2_row4_col1 {\n",
       "  background-color: #d2dbe8;\n",
       "  color: #000000;\n",
       "}\n",
       "#T_e37e2_row4_col3 {\n",
       "  background-color: #f2cab5;\n",
       "  color: #000000;\n",
       "}\n",
       "#T_e37e2_row4_col5 {\n",
       "  background-color: #efcfbf;\n",
       "  color: #000000;\n",
       "}\n",
       "#T_e37e2_row4_col6 {\n",
       "  background-color: #93b5fe;\n",
       "  color: #000000;\n",
       "}\n",
       "#T_e37e2_row5_col0 {\n",
       "  background-color: #cb3e38;\n",
       "  color: #f1f1f1;\n",
       "}\n",
       "#T_e37e2_row5_col2 {\n",
       "  background-color: #4055c8;\n",
       "  color: #f1f1f1;\n",
       "}\n",
       "#T_e37e2_row5_col3 {\n",
       "  background-color: #6180e9;\n",
       "  color: #f1f1f1;\n",
       "}\n",
       "#T_e37e2_row5_col4 {\n",
       "  background-color: #cfdaea;\n",
       "  color: #000000;\n",
       "}\n",
       "#T_e37e2_row5_col6 {\n",
       "  background-color: #4961d2;\n",
       "  color: #f1f1f1;\n",
       "}\n",
       "#T_e37e2_row6_col3 {\n",
       "  background-color: #506bda;\n",
       "  color: #f1f1f1;\n",
       "}\n",
       "</style>\n",
       "<table id=\"T_e37e2\">\n",
       "  <thead>\n",
       "    <tr>\n",
       "      <th class=\"blank level0\" >&nbsp;</th>\n",
       "      <th id=\"T_e37e2_level0_col0\" class=\"col_heading level0 col0\" >Strom / A</th>\n",
       "      <th id=\"T_e37e2_level0_col1\" class=\"col_heading level0 col1\" >Drehmoment / Nm</th>\n",
       "      <th id=\"T_e37e2_level0_col2\" class=\"col_heading level0 col2\" >Drehzahl / 1/min</th>\n",
       "      <th id=\"T_e37e2_level0_col3\" class=\"col_heading level0 col3\" >Temp Umgebung / degC</th>\n",
       "      <th id=\"T_e37e2_level0_col4\" class=\"col_heading level0 col4\" >Temp Umrichter / degC</th>\n",
       "      <th id=\"T_e37e2_level0_col5\" class=\"col_heading level0 col5\" >Temp Werkzeug / degC</th>\n",
       "      <th id=\"T_e37e2_level0_col6\" class=\"col_heading level0 col6\" >Bearbeitungszeit / s</th>\n",
       "    </tr>\n",
       "  </thead>\n",
       "  <tbody>\n",
       "    <tr>\n",
       "      <th id=\"T_e37e2_level0_row0\" class=\"row_heading level0 row0\" >Strom / A</th>\n",
       "      <td id=\"T_e37e2_row0_col0\" class=\"data row0 col0\" >1.000000</td>\n",
       "      <td id=\"T_e37e2_row0_col1\" class=\"data row0 col1\" >0.908122</td>\n",
       "      <td id=\"T_e37e2_row0_col2\" class=\"data row0 col2\" >-0.000045</td>\n",
       "      <td id=\"T_e37e2_row0_col3\" class=\"data row0 col3\" >-0.049613</td>\n",
       "      <td id=\"T_e37e2_row0_col4\" class=\"data row0 col4\" >0.209184</td>\n",
       "      <td id=\"T_e37e2_row0_col5\" class=\"data row0 col5\" >0.898679</td>\n",
       "      <td id=\"T_e37e2_row0_col6\" class=\"data row0 col6\" >-0.573392</td>\n",
       "    </tr>\n",
       "    <tr>\n",
       "      <th id=\"T_e37e2_level0_row1\" class=\"row_heading level0 row1\" >Drehmoment / Nm</th>\n",
       "      <td id=\"T_e37e2_row1_col0\" class=\"data row1 col0\" >0.908122</td>\n",
       "      <td id=\"T_e37e2_row1_col1\" class=\"data row1 col1\" >1.000000</td>\n",
       "      <td id=\"T_e37e2_row1_col2\" class=\"data row1 col2\" >-0.006215</td>\n",
       "      <td id=\"T_e37e2_row1_col3\" class=\"data row1 col3\" >-0.034505</td>\n",
       "      <td id=\"T_e37e2_row1_col4\" class=\"data row1 col4\" >0.194446</td>\n",
       "      <td id=\"T_e37e2_row1_col5\" class=\"data row1 col5\" >0.981825</td>\n",
       "      <td id=\"T_e37e2_row1_col6\" class=\"data row1 col6\" >-0.492981</td>\n",
       "    </tr>\n",
       "    <tr>\n",
       "      <th id=\"T_e37e2_level0_row2\" class=\"row_heading level0 row2\" >Drehzahl / 1/min</th>\n",
       "      <td id=\"T_e37e2_row2_col0\" class=\"data row2 col0\" >-0.000045</td>\n",
       "      <td id=\"T_e37e2_row2_col1\" class=\"data row2 col1\" >-0.006215</td>\n",
       "      <td id=\"T_e37e2_row2_col2\" class=\"data row2 col2\" >1.000000</td>\n",
       "      <td id=\"T_e37e2_row2_col3\" class=\"data row2 col3\" >0.035159</td>\n",
       "      <td id=\"T_e37e2_row2_col4\" class=\"data row2 col4\" >0.034131</td>\n",
       "      <td id=\"T_e37e2_row2_col5\" class=\"data row2 col5\" >0.014837</td>\n",
       "      <td id=\"T_e37e2_row2_col6\" class=\"data row2 col6\" >-0.007918</td>\n",
       "    </tr>\n",
       "    <tr>\n",
       "      <th id=\"T_e37e2_level0_row3\" class=\"row_heading level0 row3\" >Temp Umgebung / degC</th>\n",
       "      <td id=\"T_e37e2_row3_col0\" class=\"data row3 col0\" >-0.049613</td>\n",
       "      <td id=\"T_e37e2_row3_col1\" class=\"data row3 col1\" >-0.034505</td>\n",
       "      <td id=\"T_e37e2_row3_col2\" class=\"data row3 col2\" >0.035159</td>\n",
       "      <td id=\"T_e37e2_row3_col3\" class=\"data row3 col3\" >1.000000</td>\n",
       "      <td id=\"T_e37e2_row3_col4\" class=\"data row3 col4\" >0.585495</td>\n",
       "      <td id=\"T_e37e2_row3_col5\" class=\"data row3 col5\" >0.077946</td>\n",
       "      <td id=\"T_e37e2_row3_col6\" class=\"data row3 col6\" >0.024696</td>\n",
       "    </tr>\n",
       "    <tr>\n",
       "      <th id=\"T_e37e2_level0_row4\" class=\"row_heading level0 row4\" >Temp Umrichter / degC</th>\n",
       "      <td id=\"T_e37e2_row4_col0\" class=\"data row4 col0\" >0.209184</td>\n",
       "      <td id=\"T_e37e2_row4_col1\" class=\"data row4 col1\" >0.194446</td>\n",
       "      <td id=\"T_e37e2_row4_col2\" class=\"data row4 col2\" >0.034131</td>\n",
       "      <td id=\"T_e37e2_row4_col3\" class=\"data row4 col3\" >0.585495</td>\n",
       "      <td id=\"T_e37e2_row4_col4\" class=\"data row4 col4\" >1.000000</td>\n",
       "      <td id=\"T_e37e2_row4_col5\" class=\"data row4 col5\" >0.369361</td>\n",
       "      <td id=\"T_e37e2_row4_col6\" class=\"data row4 col6\" >-0.152718</td>\n",
       "    </tr>\n",
       "    <tr>\n",
       "      <th id=\"T_e37e2_level0_row5\" class=\"row_heading level0 row5\" >Temp Werkzeug / degC</th>\n",
       "      <td id=\"T_e37e2_row5_col0\" class=\"data row5 col0\" >0.898679</td>\n",
       "      <td id=\"T_e37e2_row5_col1\" class=\"data row5 col1\" >0.981825</td>\n",
       "      <td id=\"T_e37e2_row5_col2\" class=\"data row5 col2\" >0.014837</td>\n",
       "      <td id=\"T_e37e2_row5_col3\" class=\"data row5 col3\" >0.077946</td>\n",
       "      <td id=\"T_e37e2_row5_col4\" class=\"data row5 col4\" >0.369361</td>\n",
       "      <td id=\"T_e37e2_row5_col5\" class=\"data row5 col5\" >1.000000</td>\n",
       "      <td id=\"T_e37e2_row5_col6\" class=\"data row5 col6\" >-0.496322</td>\n",
       "    </tr>\n",
       "    <tr>\n",
       "      <th id=\"T_e37e2_level0_row6\" class=\"row_heading level0 row6\" >Bearbeitungszeit / s</th>\n",
       "      <td id=\"T_e37e2_row6_col0\" class=\"data row6 col0\" >-0.573392</td>\n",
       "      <td id=\"T_e37e2_row6_col1\" class=\"data row6 col1\" >-0.492981</td>\n",
       "      <td id=\"T_e37e2_row6_col2\" class=\"data row6 col2\" >-0.007918</td>\n",
       "      <td id=\"T_e37e2_row6_col3\" class=\"data row6 col3\" >0.024696</td>\n",
       "      <td id=\"T_e37e2_row6_col4\" class=\"data row6 col4\" >-0.152718</td>\n",
       "      <td id=\"T_e37e2_row6_col5\" class=\"data row6 col5\" >-0.496322</td>\n",
       "      <td id=\"T_e37e2_row6_col6\" class=\"data row6 col6\" >1.000000</td>\n",
       "    </tr>\n",
       "  </tbody>\n",
       "</table>\n"
      ],
      "text/plain": [
       "<pandas.io.formats.style.Styler at 0x7f9f297a64a0>"
      ]
     },
     "execution_count": 149,
     "metadata": {},
     "output_type": "execute_result"
    }
   ],
   "source": [
    "# Muss wieder numeric_only parameter hinzufügen, weil die corr-Funktion sich über Produktnamen meckert\n",
    "hatcorr = exploration_data.corr(numeric_only=True)\n",
    "corr.style.background_gradient(cmap ='coolwarm')"
   ]
  },
  {
   "cell_type": "markdown",
   "id": "57ae4acc",
   "metadata": {},
   "source": [
    "Ergeben sich durch unser neues Merkmal neue interessante Zusammenhänge? Versuchen Sie nun selbst, eine Hypothese darüber aufzustellen, welche Merkmalskombination interessante Zusammenhänge zeigen könnte. Ohne Wissen über mechatronische Systeme erwarten wir natürlich nicht, dass Ihre Hypothese plausibel ist. Für unsere Zwecke würde daher auch die Hypothese genügen, dass sich durch die Multiplikation oder Division zweier beliebiger Merkmale möglicherweise ein neues interessantes Merkmal ergeben könnte. \n",
    "\n",
    "<span style=\"color:#FF5F00\"><b>AUFGABE:</b></span><br>\n",
    "Legen Sie in der Tabelle dann eine neue Spalte für Ihr Merkmal an und lassen Sie sich die Korrelationskoeffizienten nach Pearson in einer Heatmap ausgeben. Nicht-benötige Spalten können Sie bei Bedarf mit ```del exploration_data[\"...\"]``` löschen, indem sie ```...``` durch den Spaltennamen ersetzen. Achtung - solche Befehle können Sie offensichtlich nicht wiederholt ausfüllen."
   ]
  },
  {
   "cell_type": "code",
   "execution_count": null,
   "id": "e6df38f6",
   "metadata": {},
   "outputs": [
    {
     "data": {
      "image/png": "[encoded data removed]",
      "text/plain": [
       "<Figure size 640x480 with 1 Axes>"
      ]
     },
     "metadata": {},
     "output_type": "display_data"
    }
   ],
   "source": [
    "# del exploration_data[\"Arbeit / J\"]\n",
    "\n",
    "# (elektrische) Leistung P = U * I\n",
    "exploration_data[\"Leistung / W\"] = exploration_data[\"Strom / A\"] * exploration_data[\"Spannung / V\"]\n",
    "# Arbeit A = P * t\n",
    "exploration_data[\"Bearbeitungsarbeit / J\"] = exploration_data[\"Leistung / W\"] * exploration_data[\"Bearbeitungszeit / s\"]\n",
    "\n",
    "corr = exploration_data.corr(numeric_only=True)\n",
    "plt.imshow(corr, cmap=\"RdBu_r\")\n",
    "\n",
    "plt.xticks(range(len(corr)), corr.columns, rotation=90)\n",
    "_ = plt.yticks(range(len(corr)), corr.index)"
   ]
  },
  {
   "cell_type": "markdown",
   "id": "02993568",
   "metadata": {},
   "source": [
    "**Prima!**\n",
    "Sie haben mit dieser Übung einiges erreicht. Sie können nun sowohl Säulen- oder Balkendiagramme, Histogramme, Streudiagramme als auch Heatmaps in Plotly visualisieren, um einen Datensatz zu erkunden - alles in jeweils nur einer einzigen Zeile Code. Sie haben zudem die wichtigsten Funktionsargumente kennengelernt und haben einige davon auch selbst angepasst. Dass Sie auch eigene Hypothesen aufstellen und testen können, eröffnet Ihnen die Möglichkeit, Ihre eigenen Annahmen auch ohne eine gezielte Datenanalyse auf die Probe zu stellen. "
   ]
  }
 ],
 "metadata": {
  "kernelspec": {
   "display_name": "wikisy",
   "language": "python",
   "name": "python3"
  },
  "language_info": {
   "codemirror_mode": {
    "name": "ipython",
    "version": 3
   },
   "file_extension": ".py",
   "mimetype": "text/x-python",
   "name": "python",
   "nbconvert_exporter": "python",
   "pygments_lexer": "ipython3",
   "version": "3.10.18"
  }
 },
 "nbformat": 4,
 "nbformat_minor": 5
}
